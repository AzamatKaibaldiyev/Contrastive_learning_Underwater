{
 "cells": [
  {
   "cell_type": "code",
   "execution_count": 3,
   "id": "f4f34fd9",
   "metadata": {},
   "outputs": [
    {
     "name": "stderr",
     "output_type": "stream",
     "text": [
      "[rank: 0] Global seed set to 42\n"
     ]
    },
    {
     "name": "stdout",
     "output_type": "stream",
     "text": [
      "Device: cuda:0\n",
      "Number of workers: 64\n"
     ]
    },
    {
     "data": {
      "text/plain": [
       "<Figure size 640x480 with 0 Axes>"
      ]
     },
     "metadata": {},
     "output_type": "display_data"
    }
   ],
   "source": [
    "#import os\n",
    "#os.environ['CUDA_LAUNCH_BLOCKING'] = 1\n",
    "\n",
    "\n",
    "## Standard libraries\n",
    "import os\n",
    "from copy import deepcopy\n",
    "\n",
    "## Imports for plotting\n",
    "import matplotlib.pyplot as plt\n",
    "plt.set_cmap('viridis')\n",
    "%matplotlib inline\n",
    "#from IPython.display import set_matplotlib_formats\n",
    "#set_matplotlib_formats('svg', 'pdf') # For export\n",
    "import matplotlib\n",
    "matplotlib.rcParams['lines.linewidth'] = 0 #2.0\n",
    "#import seaborn as sns\n",
    "#sns.set()\n",
    "\n",
    "## tqdm for loading bars\n",
    "from tqdm.notebook import tqdm\n",
    "\n",
    "## PyTorch\n",
    "import torch\n",
    "import torch.nn as nn\n",
    "import torch.nn.functional as F\n",
    "import torch.utils.data as data\n",
    "import torch.optim as optim\n",
    "\n",
    "## Torchvision\n",
    "import torchvision\n",
    "from torchvision import transforms\n",
    "import numpy as np\n",
    "from PIL import Image\n",
    "\n",
    "# PyTorch Lightning\n",
    "import pytorch_lightning as pl\n",
    "#try:\n",
    "#    import pytorch_lightning as pl\n",
    "#except ModuleNotFoundError: # Google Colab does not have PyTorch Lightning installed by default. Hence, we do it here if necessary\n",
    "#    !pip install --quiet pytorch-lightning>=1.4\n",
    "#    import pytorch_lightning as pl\n",
    "from pytorch_lightning.callbacks import LearningRateMonitor, ModelCheckpoint\n",
    "\n",
    "# Import tensorboard\n",
    "%load_ext tensorboard\n",
    "\n",
    "# Path to the folder where the datasets are/should be downloaded (e.g. CIFAR10)\n",
    "#DATASET_PATH = \"../data\"\n",
    "# Path to the folder where the pretrained models are saved\n",
    "#CHECKPOINT_PATH = '/home/azamat.kaibaldiyev/Tasmania_ohara_labels/checkpoints_images/'\n",
    "CHECKPOINT_PATH = '/home/azamat.kaibaldiyev/Tasmania_ohara_labels/checkpoints_Ohara_all_images/'\n",
    "\n",
    "# In this notebook, we use data loaders with heavier computational processing. It is recommended to use as many\n",
    "# workers as possible in a data loader, which corresponds to the number of CPU cores\n",
    "NUM_WORKERS = os.cpu_count()\n",
    "\n",
    "# Setting the seed\n",
    "pl.seed_everything(42)\n",
    "\n",
    "# Ensure that all operations are deterministic on GPU (if used) for reproducibility\n",
    "torch.backends.cudnn.deterministic = True\n",
    "torch.backends.cudnn.benchmark = False\n",
    "\n",
    "device = torch.device(\"cuda:0\") if torch.cuda.is_available() else torch.device(\"cpu\")\n",
    "print(\"Device:\", device)\n",
    "print(\"Number of workers:\", NUM_WORKERS)"
   ]
  },
  {
   "cell_type": "code",
   "execution_count": 5,
   "id": "b64da277",
   "metadata": {},
   "outputs": [
    {
     "name": "stdout",
     "output_type": "stream",
     "text": [
      "36663\n"
     ]
    },
    {
     "data": {
      "text/plain": [
       "['Tasmania_ohara_labels/Ohara_images_from_prof/i20081006_231255_gtif/PR_20081006_231732_335_LC16.tif',\n",
       " 'Tasmania_ohara_labels/Ohara_images_from_prof/i20081006_231255_gtif/PR_20081006_231733_335_LC16.tif',\n",
       " 'Tasmania_ohara_labels/Ohara_images_from_prof/i20081006_231255_gtif/PR_20081006_231734_340_LC16.tif',\n",
       " 'Tasmania_ohara_labels/Ohara_images_from_prof/i20081006_231255_gtif/PR_20081006_231735_340_LC16.tif',\n",
       " 'Tasmania_ohara_labels/Ohara_images_from_prof/i20081006_231255_gtif/PR_20081006_231736_340_LC16.tif',\n",
       " 'Tasmania_ohara_labels/Ohara_images_from_prof/i20081006_231255_gtif/PR_20081006_231737_341_LC16.tif',\n",
       " 'Tasmania_ohara_labels/Ohara_images_from_prof/i20081006_231255_gtif/PR_20081006_231738_341_LC16.tif']"
      ]
     },
     "execution_count": 5,
     "metadata": {},
     "output_type": "execute_result"
    }
   ],
   "source": [
    "#all images: from professor\n",
    "import glob\n",
    "imgs = sorted(glob.glob('Tasmania_ohara_labels/Ohara_images_from_prof/*/*'))\n",
    "print(len(imgs))\n",
    "imgs[:7]"
   ]
  },
  {
   "cell_type": "code",
   "execution_count": 27,
   "id": "40b04b79",
   "metadata": {},
   "outputs": [
    {
     "data": {
      "text/plain": [
       "array([[[24, 22, 19, ...,  4,  1,  0],\n",
       "        [28, 27, 25, ...,  3,  2,  1],\n",
       "        [13, 17, 20, ...,  2,  4,  5],\n",
       "        ...,\n",
       "        [18, 19, 20, ...,  8,  5,  2],\n",
       "        [11,  9,  7, ...,  6,  2,  1],\n",
       "        [18, 14,  9, ...,  6,  1,  0]],\n",
       "\n",
       "       [[ 0,  0,  0, ...,  0,  0,  0],\n",
       "        [ 0,  0,  1, ...,  0,  0,  0],\n",
       "        [ 2,  2,  1, ...,  0,  0,  0],\n",
       "        ...,\n",
       "        [ 2,  1,  1, ...,  0,  0,  0],\n",
       "        [ 2,  2,  0, ...,  0,  0,  0],\n",
       "        [ 3,  2,  0, ...,  0,  0,  0]],\n",
       "\n",
       "       [[18, 16, 12, ...,  0,  0,  0],\n",
       "        [14, 11,  8, ...,  0,  0,  0],\n",
       "        [10,  7,  5, ...,  0,  0,  0],\n",
       "        ...,\n",
       "        [12,  9,  7, ...,  1,  3,  5],\n",
       "        [ 9, 11, 11, ...,  0,  1,  2],\n",
       "        [ 6, 12, 16, ...,  0,  0,  0]]], dtype=uint8)"
      ]
     },
     "execution_count": 27,
     "metadata": {},
     "output_type": "execute_result"
    }
   ],
   "source": [
    "rasterio.open('Tasmania_ohara_labels/Ohara_images_from_prof/i20081007_224547_gtif/PR_20081007_230308_119_LC16.tif').read()"
   ]
  },
  {
   "cell_type": "code",
   "execution_count": 28,
   "id": "b74a8f65",
   "metadata": {},
   "outputs": [
    {
     "name": "stdout",
     "output_type": "stream",
     "text": [
      "2497\n"
     ]
    },
    {
     "data": {
      "text/plain": [
       "['Tasmania_ohara_labels/i20081007_224547_cv_RGB/PR_20081007_230308_119_LC16.png',\n",
       " 'Tasmania_ohara_labels/i20081007_224547_cv_RGB/PR_20081007_230318_117_LC16.png',\n",
       " 'Tasmania_ohara_labels/i20081007_224547_cv_RGB/PR_20081007_230320_121_LC16.png',\n",
       " 'Tasmania_ohara_labels/i20081007_224547_cv_RGB/PR_20081007_230327_121_LC16.png',\n",
       " 'Tasmania_ohara_labels/i20081007_224547_cv_RGB/PR_20081007_230328_123_LC16.png',\n",
       " 'Tasmania_ohara_labels/i20081007_224547_cv_RGB/PR_20081007_230329_122_LC16.png',\n",
       " 'Tasmania_ohara_labels/i20081007_224547_cv_RGB/PR_20081007_230332_121_LC16.png']"
      ]
     },
     "execution_count": 28,
     "metadata": {},
     "output_type": "execute_result"
    }
   ],
   "source": [
    "import glob\n",
    "imgs = sorted(glob.glob('Tasmania_ohara_labels/i20081007_224547_cv_RGB/*'))\n",
    "print(len(imgs))\n",
    "imgs[:7]"
   ]
  },
  {
   "cell_type": "code",
   "execution_count": 29,
   "id": "363145cd",
   "metadata": {},
   "outputs": [
    {
     "data": {
      "text/plain": [
       "array([[[24,  0, 14, ...,  0,  0,  2],\n",
       "        [ 0,  0,  5, ...,  0,  0,  0],\n",
       "        [ 0,  0,  0, ...,  0,  0,  0],\n",
       "        ...,\n",
       "        [ 0,  3,  1, ...,  0,  0,  0],\n",
       "        [ 0,  0,  0, ...,  0,  0,  0],\n",
       "        [21,  0,  0, ...,  0,  3,  0]],\n",
       "\n",
       "       [[ 0,  3,  1, ...,  0,  0,  0],\n",
       "        [ 0,  0,  0, ...,  0,  0,  0],\n",
       "        [ 5,  0,  0, ...,  0,  0,  0],\n",
       "        ...,\n",
       "        [ 0,  0,  0, ...,  0,  0,  0],\n",
       "        [26,  4,  2, ...,  4,  6,  8],\n",
       "        [13,  6, 33, ...,  0,  0,  0]],\n",
       "\n",
       "       [[ 0,  0,  0, ...,  4,  0,  0],\n",
       "        [26,  4,  2, ...,  4,  6,  8],\n",
       "        [ 3,  6, 33, ...,  0,  0,  0],\n",
       "        ...,\n",
       "        [14,  4, 10, ...,  0,  2,  4],\n",
       "        [ 0,  2,  1, ...,  0,  0,  0],\n",
       "        [ 0,  0,  0, ...,  0,  0,  0]]], dtype=uint8)"
      ]
     },
     "execution_count": 29,
     "metadata": {},
     "output_type": "execute_result"
    }
   ],
   "source": [
    "import PIL\n",
    "np.array(PIL.Image.open(imgs[0])).reshape((3, 1024, 1360))"
   ]
  },
  {
   "cell_type": "code",
   "execution_count": 4,
   "id": "7d72976b",
   "metadata": {},
   "outputs": [
    {
     "name": "stdout",
     "output_type": "stream",
     "text": [
      "11278\n"
     ]
    },
    {
     "data": {
      "text/plain": [
       "['Tasmania_ohara_labels/Ohara_all_images_labels/image_labels/PR_20081007_230307_118_LC16.png',\n",
       " 'Tasmania_ohara_labels/Ohara_all_images_labels/image_labels/PR_20081007_230308_119_LC16.png',\n",
       " 'Tasmania_ohara_labels/Ohara_all_images_labels/image_labels/PR_20081007_230309_117_LC16.png',\n",
       " 'Tasmania_ohara_labels/Ohara_all_images_labels/image_labels/PR_20081007_230310_116_LC16.png',\n",
       " 'Tasmania_ohara_labels/Ohara_all_images_labels/image_labels/PR_20081007_230311_116_LC16.png',\n",
       " 'Tasmania_ohara_labels/Ohara_all_images_labels/image_labels/PR_20081007_230312_116_LC16.png',\n",
       " 'Tasmania_ohara_labels/Ohara_all_images_labels/image_labels/PR_20081007_230313_115_LC16.png']"
      ]
     },
     "execution_count": 4,
     "metadata": {},
     "output_type": "execute_result"
    }
   ],
   "source": [
    "\n",
    "import glob\n",
    "imgs = sorted(glob.glob('Tasmania_ohara_labels/Ohara_all_images_labels/image_labels/*'))\n",
    "print(len(imgs))\n",
    "imgs[:7]"
   ]
  },
  {
   "cell_type": "raw",
   "id": "5211489c",
   "metadata": {},
   "source": [
    "import os\n",
    "\n",
    "filesRename = imgs\n",
    "folder = r\"Tasmania_ohara_labels/Ohara_all_images_labels/image_labels/\"\n",
    "\n",
    "# Iterate\n",
    "for file in filesRename:\n",
    "    # Checking if the file is present in the list\n",
    "    os.rename(file, file+'.png')\n",
    "\n"
   ]
  },
  {
   "cell_type": "code",
   "execution_count": 6,
   "id": "013a8ced",
   "metadata": {},
   "outputs": [
    {
     "data": {
      "text/html": [
       "<div>\n",
       "<style scoped>\n",
       "    .dataframe tbody tr th:only-of-type {\n",
       "        vertical-align: middle;\n",
       "    }\n",
       "\n",
       "    .dataframe tbody tr th {\n",
       "        vertical-align: top;\n",
       "    }\n",
       "\n",
       "    .dataframe thead th {\n",
       "        text-align: right;\n",
       "    }\n",
       "</style>\n",
       "<table border=\"1\" class=\"dataframe\">\n",
       "  <thead>\n",
       "    <tr style=\"text-align: right;\">\n",
       "      <th></th>\n",
       "      <th>Pose identifier</th>\n",
       "      <th>timestamp</th>\n",
       "      <th>Latitude</th>\n",
       "      <th>Longitude</th>\n",
       "      <th>X position (North)</th>\n",
       "      <th>Y position (East)</th>\n",
       "      <th>Z position (Depth)</th>\n",
       "      <th>X-axis Euler angle</th>\n",
       "      <th>Y-axis Euler angle</th>\n",
       "      <th>Z-axis Euler angle</th>\n",
       "      <th>Left image name</th>\n",
       "      <th>Right image name</th>\n",
       "      <th>Vehicle altitude</th>\n",
       "      <th>Approx. bounding image radius</th>\n",
       "      <th>Likely trajectory cross-over point</th>\n",
       "    </tr>\n",
       "  </thead>\n",
       "  <tbody>\n",
       "    <tr>\n",
       "      <th>11273</th>\n",
       "      <td>24650</td>\n",
       "      <td>1.223432e+09</td>\n",
       "      <td>-43.083210</td>\n",
       "      <td>147.974083</td>\n",
       "      <td>149.661403</td>\n",
       "      <td>-49.113566</td>\n",
       "      <td>32.423133</td>\n",
       "      <td>0.020202</td>\n",
       "      <td>-0.002820</td>\n",
       "      <td>1.265366</td>\n",
       "      <td>PR_20081008_021101_665_LC16.png</td>\n",
       "      <td>PR_20081008_021101_665_RM16.png</td>\n",
       "      <td>1.950</td>\n",
       "      <td>0.659772</td>\n",
       "      <td>0</td>\n",
       "    </tr>\n",
       "    <tr>\n",
       "      <th>11274</th>\n",
       "      <td>24652</td>\n",
       "      <td>1.223432e+09</td>\n",
       "      <td>-43.083207</td>\n",
       "      <td>147.974081</td>\n",
       "      <td>150.015155</td>\n",
       "      <td>-49.238257</td>\n",
       "      <td>32.383773</td>\n",
       "      <td>0.011275</td>\n",
       "      <td>0.009641</td>\n",
       "      <td>1.413536</td>\n",
       "      <td>PR_20081008_021102_664_LC16.png</td>\n",
       "      <td>PR_20081008_021102_664_RM16.png</td>\n",
       "      <td>2.050</td>\n",
       "      <td>0.693607</td>\n",
       "      <td>0</td>\n",
       "    </tr>\n",
       "    <tr>\n",
       "      <th>11275</th>\n",
       "      <td>24654</td>\n",
       "      <td>1.223432e+09</td>\n",
       "      <td>-43.083204</td>\n",
       "      <td>147.974080</td>\n",
       "      <td>150.373901</td>\n",
       "      <td>-49.343201</td>\n",
       "      <td>32.374147</td>\n",
       "      <td>0.010260</td>\n",
       "      <td>0.003011</td>\n",
       "      <td>1.521798</td>\n",
       "      <td>PR_20081008_021103_664_LC16.png</td>\n",
       "      <td>PR_20081008_021103_664_RM16.png</td>\n",
       "      <td>2.042</td>\n",
       "      <td>0.690900</td>\n",
       "      <td>0</td>\n",
       "    </tr>\n",
       "    <tr>\n",
       "      <th>11276</th>\n",
       "      <td>24656</td>\n",
       "      <td>1.223432e+09</td>\n",
       "      <td>-43.083200</td>\n",
       "      <td>147.974079</td>\n",
       "      <td>150.759128</td>\n",
       "      <td>-49.428537</td>\n",
       "      <td>32.362804</td>\n",
       "      <td>0.018431</td>\n",
       "      <td>-0.003524</td>\n",
       "      <td>1.529485</td>\n",
       "      <td>PR_20081008_021104_665_LC16.png</td>\n",
       "      <td>PR_20081008_021104_665_RM16.png</td>\n",
       "      <td>2.000</td>\n",
       "      <td>0.676689</td>\n",
       "      <td>0</td>\n",
       "    </tr>\n",
       "    <tr>\n",
       "      <th>11277</th>\n",
       "      <td>24658</td>\n",
       "      <td>1.223432e+09</td>\n",
       "      <td>-43.083197</td>\n",
       "      <td>147.974077</td>\n",
       "      <td>151.154256</td>\n",
       "      <td>-49.575250</td>\n",
       "      <td>32.360743</td>\n",
       "      <td>0.021910</td>\n",
       "      <td>0.006140</td>\n",
       "      <td>1.460616</td>\n",
       "      <td>PR_20081008_021105_662_LC16.png</td>\n",
       "      <td>PR_20081008_021105_662_RM16.png</td>\n",
       "      <td>2.087</td>\n",
       "      <td>0.706125</td>\n",
       "      <td>0</td>\n",
       "    </tr>\n",
       "  </tbody>\n",
       "</table>\n",
       "</div>"
      ],
      "text/plain": [
       "       Pose identifier     timestamp   Latitude   Longitude  \\\n",
       "11273            24650  1.223432e+09 -43.083210  147.974083   \n",
       "11274            24652  1.223432e+09 -43.083207  147.974081   \n",
       "11275            24654  1.223432e+09 -43.083204  147.974080   \n",
       "11276            24656  1.223432e+09 -43.083200  147.974079   \n",
       "11277            24658  1.223432e+09 -43.083197  147.974077   \n",
       "\n",
       "       X position (North)  Y position (East)  Z position (Depth)  \\\n",
       "11273          149.661403         -49.113566           32.423133   \n",
       "11274          150.015155         -49.238257           32.383773   \n",
       "11275          150.373901         -49.343201           32.374147   \n",
       "11276          150.759128         -49.428537           32.362804   \n",
       "11277          151.154256         -49.575250           32.360743   \n",
       "\n",
       "       X-axis Euler angle  Y-axis Euler angle  Z-axis Euler angle  \\\n",
       "11273            0.020202           -0.002820            1.265366   \n",
       "11274            0.011275            0.009641            1.413536   \n",
       "11275            0.010260            0.003011            1.521798   \n",
       "11276            0.018431           -0.003524            1.529485   \n",
       "11277            0.021910            0.006140            1.460616   \n",
       "\n",
       "                       Left image name                 Right image name  \\\n",
       "11273  PR_20081008_021101_665_LC16.png  PR_20081008_021101_665_RM16.png   \n",
       "11274  PR_20081008_021102_664_LC16.png  PR_20081008_021102_664_RM16.png   \n",
       "11275  PR_20081008_021103_664_LC16.png  PR_20081008_021103_664_RM16.png   \n",
       "11276  PR_20081008_021104_665_LC16.png  PR_20081008_021104_665_RM16.png   \n",
       "11277  PR_20081008_021105_662_LC16.png  PR_20081008_021105_662_RM16.png   \n",
       "\n",
       "       Vehicle altitude  Approx. bounding image radius  \\\n",
       "11273             1.950                       0.659772   \n",
       "11274             2.050                       0.693607   \n",
       "11275             2.042                       0.690900   \n",
       "11276             2.000                       0.676689   \n",
       "11277             2.087                       0.706125   \n",
       "\n",
       "       Likely trajectory cross-over point  \n",
       "11273                                   0  \n",
       "11274                                   0  \n",
       "11275                                   0  \n",
       "11276                                   0  \n",
       "11277                                   0  "
      ]
     },
     "execution_count": 6,
     "metadata": {},
     "output_type": "execute_result"
    }
   ],
   "source": [
    "import pandas as pd\n",
    "stereo_data_cols_names = ['Pose identifier', 'timestamp', 'Latitude', 'Longitude', 'X position (North)',\n",
    "                         'Y position (East)', 'Z position (Depth)','X-axis Euler angle', 'Y-axis Euler angle',\n",
    "                         'Z-axis Euler angle', 'Left image name', 'Right image name', 'Vehicle altitude', \n",
    "                         'Approx. bounding image radius', 'Likely trajectory cross-over point']\n",
    "df_coords =  pd.read_csv('Tasmania_ohara_labels/stereo_pose_est.data',skiprows = np.arange(57),sep = \"\\t\",\n",
    "                    names = stereo_data_cols_names)\n",
    "df_coords['Left image name'] = df_coords['Left image name'].str.strip()\n",
    "df_coords['Right image name'] = df_coords['Right image name'].str.strip()\n",
    "df_coords[-5:]\n"
   ]
  },
  {
   "cell_type": "code",
   "execution_count": 18,
   "id": "d4ed64ef",
   "metadata": {},
   "outputs": [
    {
     "data": {
      "text/plain": [
       "<matplotlib.legend.Legend at 0x7f9882bbf3d0>"
      ]
     },
     "execution_count": 18,
     "metadata": {},
     "output_type": "execute_result"
    },
    {
     "data": {
      "image/png": "[encoded data removed]",
      "text/plain": [
       "<Figure size 640x480 with 1 Axes>"
      ]
     },
     "metadata": {},
     "output_type": "display_data"
    }
   ],
   "source": [
    "dim = 4460\n",
    "plt.scatter(df_coords['Latitude'][:dim],df_coords['Longitude'][:dim], label = 'Train',s=2)\n",
    "plt.scatter(df_coords['Latitude'][dim:],df_coords['Longitude'][dim:], label = 'Test',s=2)\n",
    "plt.legend()"
   ]
  },
  {
   "cell_type": "code",
   "execution_count": 17,
   "id": "9b08ae4e",
   "metadata": {},
   "outputs": [
    {
     "data": {
      "text/plain": [
       "<matplotlib.legend.Legend at 0x7f988303d900>"
      ]
     },
     "execution_count": 17,
     "metadata": {},
     "output_type": "execute_result"
    },
    {
     "data": {
      "image/png": "[encoded data removed]",
      "text/plain": [
       "<Figure size 640x480 with 1 Axes>"
      ]
     },
     "metadata": {},
     "output_type": "display_data"
    }
   ],
   "source": [
    "plt.scatter(df_coords['Latitude'][train_set_indexes],df_coords['Longitude'][train_set_indexes], label = 'Train', s= 2)\n",
    "plt.scatter(df_coords['Latitude'][test_set_indexes],df_coords['Longitude'][test_set_indexes], label = 'Test', s = 2)\n",
    "plt.legend()"
   ]
  },
  {
   "cell_type": "code",
   "execution_count": null,
   "id": "6a25712b",
   "metadata": {},
   "outputs": [],
   "source": [
    "df_merged_images['Left image name'] = df_merged_images['Left image name'].str.split('/').str[-1]\n",
    "df_coords['Left image name'] = df_coords['Left image name'].str.split('.').str[0]+'.tif'"
   ]
  },
  {
   "cell_type": "code",
   "execution_count": 27,
   "id": "a2857687",
   "metadata": {},
   "outputs": [
    {
     "data": {
      "text/plain": [
       "Text(0, 0.5, 'Number of instances')"
      ]
     },
     "execution_count": 27,
     "metadata": {},
     "output_type": "execute_result"
    },
    {
     "data": {
      "image/png": "[encoded data removed]",
      "text/plain": [
       "<Figure size 400x300 with 1 Axes>"
      ]
     },
     "metadata": {},
     "output_type": "display_data"
    }
   ],
   "source": [
    "fig = plt.figure(figsize = (4,3))\n",
    "ax = fig.add_axes([0,0,1,1])\n",
    "classes = [1,2,3,4,5,6,7,8]\n",
    "ax.bar(classes,np.bincount(pd.merge(df_merged_images, df_coords[:dim], on = 'Left image name')['cluster_id']))\n",
    "plt.xticks(rotation='vertical')\n",
    "plt.title('Train Dataset Class distribution')\n",
    "plt.xlabel(\"Class label\")\n",
    "plt.ylabel(\"Number of instances\")\n",
    "#plt.show()\n",
    "#plt.savefig('Images_thesis/Ohara_distribution.png',format=\"png\", dpi=resolution_value, bbox_inches='tight')"
   ]
  },
  {
   "cell_type": "code",
   "execution_count": 28,
   "id": "b5b66e23",
   "metadata": {},
   "outputs": [
    {
     "data": {
      "text/plain": [
       "Text(0, 0.5, 'Number of instances')"
      ]
     },
     "execution_count": 28,
     "metadata": {},
     "output_type": "execute_result"
    },
    {
     "data": {
      "image/png": "[encoded data removed]",
      "text/plain": [
       "<Figure size 400x300 with 1 Axes>"
      ]
     },
     "metadata": {},
     "output_type": "display_data"
    }
   ],
   "source": [
    "fig = plt.figure(figsize = (4,3))\n",
    "ax = fig.add_axes([0,0,1,1])\n",
    "classes = [1,2,3,4,5,6,7,8]\n",
    "ax.bar(classes,np.bincount(pd.merge(df_merged_images, df_coords[dim:], on = 'Left image name')['cluster_id']))\n",
    "plt.xticks(rotation='vertical')\n",
    "plt.title('Test Dataset Class distribution')\n",
    "plt.xlabel(\"Class label\")\n",
    "plt.ylabel(\"Number of instances\")\n",
    "#plt.show()\n",
    "#plt.savefig('Images_thesis/Ohara_distribution.png',format=\"png\", dpi=resolution_value, bbox_inches='tight')"
   ]
  },
  {
   "cell_type": "raw",
   "id": "a32f5b0d",
   "metadata": {},
   "source": [
    "from sklearn.model_selection import ShuffleSplit\n",
    "rs = ShuffleSplit(n_splits=1, test_size=.1, random_state=0)\n",
    "for i, (train_index, test_index) in enumerate(rs.split(dataset)):\n",
    "    print(f\"Fold {i}:\")\n",
    "    print(f\"  Train: index={train_index}\")\n",
    "    print(f\"  Test:  index={test_index}\")"
   ]
  },
  {
   "cell_type": "code",
   "execution_count": 9,
   "id": "646cfeb2",
   "metadata": {},
   "outputs": [
    {
     "name": "stdout",
     "output_type": "stream",
     "text": [
      "9870\n",
      "1097\n"
     ]
    }
   ],
   "source": [
    "# with open('files_remove_indices/Ohara_images_11000_labels_train_set_indexes.npy', 'wb') as f:\n",
    "#     np.save(f, train_index)\n",
    "\n",
    "# with open('files_remove_indices/Ohara_images_11000_labels_test_set_indexes.npy', 'wb') as f:\n",
    "#     np.save(f, test_index)\n",
    "\n",
    "with open('files_remove_indices/Ohara_images_11000_labels_train_set_indexes.npy', 'rb') as f:\n",
    "    train_set_indexes = np.load(f)\n",
    "\n",
    "with open('files_remove_indices/Ohara_images_11000_labels_test_set_indexes.npy', 'rb') as f:\n",
    "    test_set_indexes = np.load(f)\n",
    "    \n",
    "print(len(train_set_indexes))\n",
    "print(len(test_set_indexes))"
   ]
  },
  {
   "cell_type": "code",
   "execution_count": 43,
   "id": "a95f1e05",
   "metadata": {},
   "outputs": [
    {
     "data": {
      "text/html": [
       "<div>\n",
       "<style scoped>\n",
       "    .dataframe tbody tr th:only-of-type {\n",
       "        vertical-align: middle;\n",
       "    }\n",
       "\n",
       "    .dataframe tbody tr th {\n",
       "        vertical-align: top;\n",
       "    }\n",
       "\n",
       "    .dataframe thead th {\n",
       "        text-align: right;\n",
       "    }\n",
       "</style>\n",
       "<table border=\"1\" class=\"dataframe\">\n",
       "  <thead>\n",
       "    <tr style=\"text-align: right;\">\n",
       "      <th></th>\n",
       "      <th>row_id</th>\n",
       "      <th>timestamp</th>\n",
       "      <th>Left image name</th>\n",
       "      <th>Right image name</th>\n",
       "      <th>cluster_id</th>\n",
       "    </tr>\n",
       "  </thead>\n",
       "  <tbody>\n",
       "    <tr>\n",
       "      <th>10965</th>\n",
       "      <td>11276</td>\n",
       "      <td>1.223432e+09</td>\n",
       "      <td>PR_20081008_021104_665_LC16.tif</td>\n",
       "      <td>PR_20081008_021104_665_RM16.png</td>\n",
       "      <td>6</td>\n",
       "    </tr>\n",
       "    <tr>\n",
       "      <th>10966</th>\n",
       "      <td>11277</td>\n",
       "      <td>1.223432e+09</td>\n",
       "      <td>PR_20081008_021105_662_LC16.tif</td>\n",
       "      <td>PR_20081008_021105_662_RM16.png</td>\n",
       "      <td>6</td>\n",
       "    </tr>\n",
       "  </tbody>\n",
       "</table>\n",
       "</div>"
      ],
      "text/plain": [
       "       row_id     timestamp                  Left image name  \\\n",
       "10965   11276  1.223432e+09  PR_20081008_021104_665_LC16.tif   \n",
       "10966   11277  1.223432e+09  PR_20081008_021105_662_LC16.tif   \n",
       "\n",
       "                      Right image name  cluster_id  \n",
       "10965  PR_20081008_021104_665_RM16.png           6  \n",
       "10966  PR_20081008_021105_662_RM16.png           6  "
      ]
     },
     "execution_count": 43,
     "metadata": {},
     "output_type": "execute_result"
    }
   ],
   "source": [
    "import pandas as pd\n",
    "df_labels =  pd.read_csv('Tasmania_ohara_labels/image_labels.data',skiprows = np.arange(15),sep = \"\\t\")\n",
    "                    #names = ['row_id','timestamp','left_image','right_image','cluster_id'], )\n",
    "df_labels.rename(columns = {'left_image':'Left image name', 'right_image':'Right image name'}, inplace = True)\n",
    "df_labels['Left image name'] = df_labels['Left image name'].str.split('.').str[0].str.strip()+'.tif'\n",
    "df_labels['Right image name'] = df_labels['Right image name'].str.strip()\n",
    "df_labels[-2:]"
   ]
  },
  {
   "cell_type": "code",
   "execution_count": 44,
   "id": "7e5f4129",
   "metadata": {},
   "outputs": [
    {
     "data": {
      "text/html": [
       "<div>\n",
       "<style scoped>\n",
       "    .dataframe tbody tr th:only-of-type {\n",
       "        vertical-align: middle;\n",
       "    }\n",
       "\n",
       "    .dataframe tbody tr th {\n",
       "        vertical-align: top;\n",
       "    }\n",
       "\n",
       "    .dataframe thead th {\n",
       "        text-align: right;\n",
       "    }\n",
       "</style>\n",
       "<table border=\"1\" class=\"dataframe\">\n",
       "  <thead>\n",
       "    <tr style=\"text-align: right;\">\n",
       "      <th></th>\n",
       "      <th>Left image name</th>\n",
       "    </tr>\n",
       "  </thead>\n",
       "  <tbody>\n",
       "    <tr>\n",
       "      <th>36661</th>\n",
       "      <td>PR_20081010_000331_192_LC16.tif</td>\n",
       "    </tr>\n",
       "    <tr>\n",
       "      <th>36662</th>\n",
       "      <td>PR_20081010_000332_192_LC16.tif</td>\n",
       "    </tr>\n",
       "  </tbody>\n",
       "</table>\n",
       "</div>"
      ],
      "text/plain": [
       "                       Left image name\n",
       "36661  PR_20081010_000331_192_LC16.tif\n",
       "36662  PR_20081010_000332_192_LC16.tif"
      ]
     },
     "execution_count": 44,
     "metadata": {},
     "output_type": "execute_result"
    }
   ],
   "source": [
    "df_images = pd.DataFrame(imgs, columns =['Left image name'])\n",
    "df_images['Left image name'] = df_images['Left image name'].str.split('/').str[-1]\n",
    "df_images[-2:]"
   ]
  },
  {
   "cell_type": "code",
   "execution_count": 45,
   "id": "95691ff8",
   "metadata": {},
   "outputs": [
    {
     "data": {
      "text/html": [
       "<div>\n",
       "<style scoped>\n",
       "    .dataframe tbody tr th:only-of-type {\n",
       "        vertical-align: middle;\n",
       "    }\n",
       "\n",
       "    .dataframe tbody tr th {\n",
       "        vertical-align: top;\n",
       "    }\n",
       "\n",
       "    .dataframe thead th {\n",
       "        text-align: right;\n",
       "    }\n",
       "</style>\n",
       "<table border=\"1\" class=\"dataframe\">\n",
       "  <thead>\n",
       "    <tr style=\"text-align: right;\">\n",
       "      <th></th>\n",
       "      <th>row_id</th>\n",
       "      <th>timestamp</th>\n",
       "      <th>Left image name</th>\n",
       "      <th>Right image name</th>\n",
       "      <th>cluster_id</th>\n",
       "    </tr>\n",
       "  </thead>\n",
       "  <tbody>\n",
       "    <tr>\n",
       "      <th>10965</th>\n",
       "      <td>11276</td>\n",
       "      <td>1.223432e+09</td>\n",
       "      <td>Tasmania_ohara_labels/Ohara_images_from_prof/i...</td>\n",
       "      <td>PR_20081008_021104_665_RM16.png</td>\n",
       "      <td>5</td>\n",
       "    </tr>\n",
       "    <tr>\n",
       "      <th>10966</th>\n",
       "      <td>11277</td>\n",
       "      <td>1.223432e+09</td>\n",
       "      <td>Tasmania_ohara_labels/Ohara_images_from_prof/i...</td>\n",
       "      <td>PR_20081008_021105_662_RM16.png</td>\n",
       "      <td>5</td>\n",
       "    </tr>\n",
       "  </tbody>\n",
       "</table>\n",
       "</div>"
      ],
      "text/plain": [
       "       row_id     timestamp  \\\n",
       "10965   11276  1.223432e+09   \n",
       "10966   11277  1.223432e+09   \n",
       "\n",
       "                                         Left image name  \\\n",
       "10965  Tasmania_ohara_labels/Ohara_images_from_prof/i...   \n",
       "10966  Tasmania_ohara_labels/Ohara_images_from_prof/i...   \n",
       "\n",
       "                      Right image name  cluster_id  \n",
       "10965  PR_20081008_021104_665_RM16.png           5  \n",
       "10966  PR_20081008_021105_662_RM16.png           5  "
      ]
     },
     "execution_count": 45,
     "metadata": {},
     "output_type": "execute_result"
    }
   ],
   "source": [
    "df_merged_images = pd.merge(df_labels, df_images, on = 'Left image name')\n",
    "df_merged_images['Left image name'] = 'Tasmania_ohara_labels/Ohara_images_from_prof/i20081007_224547_gtif/'+df_merged_images['Left image name']\n",
    "df_merged_images['cluster_id'] = df_merged_images['cluster_id'].replace([1, 2, 3 ,4,5, 6, 7, 8], [0, 1, 2, 3 ,4,5, 6, 7])\n",
    "df_merged_images[-2:]"
   ]
  },
  {
   "cell_type": "code",
   "execution_count": 37,
   "id": "253e01df",
   "metadata": {},
   "outputs": [
    {
     "name": "stdout",
     "output_type": "stream",
     "text": [
      "36663\n"
     ]
    },
    {
     "ename": "NameError",
     "evalue": "name 'train_set_indexes' is not defined",
     "output_type": "error",
     "traceback": [
      "\u001b[0;31m---------------------------------------------------------------------------\u001b[0m",
      "\u001b[0;31mNameError\u001b[0m                                 Traceback (most recent call last)",
      "Cell \u001b[0;32mIn[37], line 99\u001b[0m\n\u001b[1;32m     96\u001b[0m \u001b[38;5;28mprint\u001b[39m(\u001b[38;5;28mlen\u001b[39m(dataset))\n\u001b[1;32m     97\u001b[0m dataset_len \u001b[38;5;241m=\u001b[39m\u001b[38;5;28mlen\u001b[39m(dataset)\n\u001b[0;32m---> 99\u001b[0m train_dataset \u001b[38;5;241m=\u001b[39m torch\u001b[38;5;241m.\u001b[39mutils\u001b[38;5;241m.\u001b[39mdata\u001b[38;5;241m.\u001b[39mSubset(dataset, \u001b[43mtrain_set_indexes\u001b[49m)\n\u001b[1;32m    100\u001b[0m test_dataset \u001b[38;5;241m=\u001b[39m torch\u001b[38;5;241m.\u001b[39mutils\u001b[38;5;241m.\u001b[39mdata\u001b[38;5;241m.\u001b[39mSubset(dataset, test_set_indexes)\n\u001b[1;32m    101\u001b[0m \u001b[38;5;28mprint\u001b[39m(\u001b[38;5;28mlen\u001b[39m(train_dataset))\n",
      "\u001b[0;31mNameError\u001b[0m: name 'train_set_indexes' is not defined"
     ]
    }
   ],
   "source": [
    "from PIL import Image\n",
    "from torch.utils.data import Dataset, DataLoader\n",
    "import glob\n",
    "import rasterio\n",
    "dataset_path = 'Tasmania_ohara_labels/Ohara_images_from_prof/*/'\n",
    "dataset_path_with_labels = 'Tasmania_ohara_labels/Ohara_all_images_labels/image_labels/'\n",
    "\n",
    "\n",
    "\n",
    "class SwedishDataset(Dataset):\n",
    "    def __init__(self,  transform  = None, dataset_path = None, remove_list = None, labels = False):\n",
    "        self.imgs_path = dataset_path\n",
    "        self.file_list_dem = sorted(glob.glob(self.imgs_path + \"*\"))\n",
    "        if labels:\n",
    "            self.file_list_dem = df_merged_images['Left image name']\n",
    "\n",
    "        self.transform = transform\n",
    "        self.labels = labels\n",
    "        \n",
    "    def __len__(self):\n",
    "        return len(self.file_list_dem)\n",
    "\n",
    "          \n",
    "    def __getitem__(self, idx):\n",
    "        img_path_dem = self.file_list_dem[idx]\n",
    "        # open method used to open different extension image file\n",
    "        img_raster_dem = Image.open(img_path_dem)\n",
    "        if self.labels:\n",
    "            label = int(df_merged_images['cluster_id'][idx])\n",
    "        else:\n",
    "            label = 'no_label'\n",
    "\n",
    "\n",
    "        if self.transform:\n",
    "            img_raster_dem = self.transform(img_raster_dem)\n",
    "        \n",
    "        \n",
    "        return [img_raster_dem, label]\n",
    "    \n",
    "    \n",
    "    \n",
    "    \n",
    "    \n",
    "def normalize_input_for_dem(test_iter):\n",
    "    #test_iter = torch.from_numpy(test_iter)\n",
    "    input_images = test_iter.float()\n",
    "    #maxv = 822\n",
    "    #minv = -37\n",
    "    batch_size = input_images.shape[0]\n",
    "    cmin = torch.amin(input_images,(1,2)).reshape((batch_size,1,1))\n",
    "    cmax = torch.amax(input_images,(1,2)).reshape((batch_size,1,1))\n",
    "    return (input_images-cmin)/(cmax-cmin) #(input_images-minv)/(maxv-minv) #(input_images-cmin)/(cmax-cmin)\n",
    "\n",
    "class Normalize_range01:\n",
    "    #bring to range 0 to 1\n",
    "\n",
    "    def __init__(self, p=1):\n",
    "        self.p = 1\n",
    "\n",
    "    def __call__(self, x):\n",
    "        result = normalize_input_for_dem(x)\n",
    "        return result\n",
    "\n",
    "    def __repr__(self):\n",
    "        return \"custom augmentation\"\n",
    "    \n",
    "class ContrastiveTransformations(object):\n",
    "\n",
    "    def __init__(self, base_transforms, n_views=2):\n",
    "        self.base_transforms = base_transforms\n",
    "        self.n_views = n_views\n",
    "\n",
    "    def __call__(self, x):\n",
    "        return [self.base_transforms(x) for i in range(self.n_views)]\n",
    "    \n",
    "    \n",
    "\n",
    "\n",
    "contrast_transforms = transforms.Compose([transforms.ToTensor(),\n",
    "                                          transforms.Resize(size = 100),\n",
    "                                          #Normalize_range01(),\n",
    "                                          #transforms.ToPILImage(), \n",
    "                                          #transforms.RandomHorizontalFlip(),\n",
    "                                          transforms.RandomResizedCrop(size=100),\n",
    "                                          #transforms.RandomApply([transforms.ColorJitter(brightness=0.5, contrast=0.5, saturation=0.5, hue=0.1)], p=0.8),\n",
    "                                          #transforms.RandomGrayscale(p=0.2),\n",
    "                                          #transforms.GaussianBlur(kernel_size=9),\n",
    "                                          #transforms.ToTensor(),\n",
    "                                          transforms.Normalize((0.5,), (0.5,))\n",
    "                                         ])\n",
    "\n",
    "from torch.utils.data import random_split\n",
    "import math\n",
    "dataset = SwedishDataset(transform = ContrastiveTransformations(contrast_transforms, n_views = 2), dataset_path = dataset_path)\n",
    "\n",
    "print(len(dataset))\n",
    "dataset_len =len(dataset)\n",
    "\n",
    "train_dataset = torch.utils.data.Subset(dataset, train_set_indexes)\n",
    "test_dataset = torch.utils.data.Subset(dataset, test_set_indexes)\n",
    "print(len(train_dataset))\n",
    "print(len(test_dataset))\n",
    "\n",
    "#print(dataset[4][0][0].shape)\n",
    "#dataset[4][1].shape\n"
   ]
  },
  {
   "cell_type": "code",
   "execution_count": 10,
   "id": "8f57770e",
   "metadata": {},
   "outputs": [
    {
     "name": "stderr",
     "output_type": "stream",
     "text": [
      "/home/azamat.kaibaldiyev/miniconda3/envs/contrastive_env/lib/python3.10/site-packages/torchvision/transforms/functional.py:1603: UserWarning: The default value of the antialias parameter of all the resizing transforms (Resize(), RandomResizedCrop(), etc.) will change from None to True in v0.17, in order to be consistent across the PIL and Tensor backends. To suppress this warning, directly pass antialias=True (recommended, future default), antialias=None (current default, which means False for Tensors and True for PIL), or antialias=False (only works on Tensors - PIL will still use antialiasing). This also applies if you are using the inference transforms from the models weights: update the call to weights.transforms(antialias=True).\n",
      "  warnings.warn(\n"
     ]
    },
    {
     "data": {
      "text/plain": [
       "torch.Size([3, 100, 100])"
      ]
     },
     "execution_count": 10,
     "metadata": {},
     "output_type": "execute_result"
    }
   ],
   "source": [
    "dataset[0][0][0].shape"
   ]
  },
  {
   "cell_type": "code",
   "execution_count": 11,
   "id": "c810faf0",
   "metadata": {},
   "outputs": [
    {
     "data": {
      "text/plain": [
       "<matplotlib.image.AxesImage at 0x7f41e0f53340>"
      ]
     },
     "execution_count": 11,
     "metadata": {},
     "output_type": "execute_result"
    },
    {
     "data": {
      "image/png": "[encoded data removed]",
      "text/plain": [
       "<Figure size 640x480 with 1 Axes>"
      ]
     },
     "metadata": {},
     "output_type": "display_data"
    }
   ],
   "source": [
    "plt.imshow(dataset[0][0][0][0])"
   ]
  },
  {
   "cell_type": "code",
   "execution_count": 12,
   "id": "5801571b",
   "metadata": {},
   "outputs": [
    {
     "data": {
      "text/plain": [
       "[tensor([[[-0.8992, -0.8975, -0.8983,  ..., -0.8644, -0.8668, -0.8711],\n",
       "          [-0.9155, -0.9020, -0.8879,  ..., -0.8640, -0.8586, -0.8589],\n",
       "          [-0.9213, -0.9051, -0.8898,  ..., -0.8738, -0.8731, -0.8748],\n",
       "          ...,\n",
       "          [-0.8886, -0.8924, -0.8956,  ..., -0.9006, -0.8844, -0.8662],\n",
       "          [-0.8816, -0.8888, -0.8936,  ..., -0.8938, -0.8816, -0.8667],\n",
       "          [-0.9030, -0.8900, -0.8804,  ..., -0.8810, -0.8777, -0.8739]],\n",
       " \n",
       "         [[-0.9221, -0.9179, -0.9137,  ..., -0.8849, -0.8871, -0.8902],\n",
       "          [-0.9181, -0.9168, -0.9152,  ..., -0.8956, -0.8908, -0.8869],\n",
       "          [-0.9085, -0.9088, -0.9100,  ..., -0.9072, -0.8982, -0.8871],\n",
       "          ...,\n",
       "          [-0.9093, -0.9153, -0.9181,  ..., -0.9164, -0.9095, -0.9009],\n",
       "          [-0.8984, -0.9039, -0.9070,  ..., -0.9133, -0.9072, -0.9020],\n",
       "          [-0.8991, -0.9062, -0.9114,  ..., -0.9096, -0.9125, -0.9187]],\n",
       " \n",
       "         [[-0.8221, -0.8223, -0.8257,  ..., -0.8272, -0.8256, -0.8216],\n",
       "          [-0.8356, -0.8293, -0.8257,  ..., -0.8293, -0.8295, -0.8275],\n",
       "          [-0.8415, -0.8335, -0.8265,  ..., -0.8306, -0.8271, -0.8214],\n",
       "          ...,\n",
       "          [-0.8361, -0.8272, -0.8191,  ..., -0.8442, -0.8341, -0.8263],\n",
       "          [-0.8227, -0.8227, -0.8217,  ..., -0.8365, -0.8424, -0.8526],\n",
       "          [-0.8122, -0.8220, -0.8346,  ..., -0.8277, -0.8311, -0.8345]]]),\n",
       " tensor([[[-0.8493, -0.8599, -0.8709,  ..., -0.9033, -0.9003, -0.8806],\n",
       "          [-0.8405, -0.8500, -0.8543,  ..., -0.8960, -0.8928, -0.8825],\n",
       "          [-0.8272, -0.8361, -0.8353,  ..., -0.8871, -0.8846, -0.8839],\n",
       "          ...,\n",
       "          [-0.9049, -0.9160, -0.9185,  ..., -0.8956, -0.9042, -0.9123],\n",
       "          [-0.8865, -0.9046, -0.9043,  ..., -0.9047, -0.9054, -0.9009],\n",
       "          [-0.8648, -0.8926, -0.8903,  ..., -0.9148, -0.9053, -0.8902]],\n",
       " \n",
       "         [[-0.8902, -0.9011, -0.9202,  ..., -0.9133, -0.9205, -0.9274],\n",
       "          [-0.8877, -0.8937, -0.9014,  ..., -0.9085, -0.9109, -0.9137],\n",
       "          [-0.8818, -0.8842, -0.8812,  ..., -0.9012, -0.8989, -0.8981],\n",
       "          ...,\n",
       "          [-0.9090, -0.9069, -0.9038,  ..., -0.8982, -0.8909, -0.8959],\n",
       "          [-0.9084, -0.9067, -0.9058,  ..., -0.8961, -0.8960, -0.9041],\n",
       "          [-0.9073, -0.9063, -0.9091,  ..., -0.8922, -0.8996, -0.9112]],\n",
       " \n",
       "         [[-0.8027, -0.8273, -0.8402,  ..., -0.8275, -0.8380, -0.8243],\n",
       "          [-0.7963, -0.8068, -0.8118,  ..., -0.8324, -0.8268, -0.8165],\n",
       "          [-0.7852, -0.7850, -0.7819,  ..., -0.8338, -0.8157, -0.8098],\n",
       "          ...,\n",
       "          [-0.8503, -0.8316, -0.8290,  ..., -0.8386, -0.8265, -0.8280],\n",
       "          [-0.8391, -0.8409, -0.8436,  ..., -0.8371, -0.8281, -0.8289],\n",
       "          [-0.8242, -0.8499, -0.8600,  ..., -0.8339, -0.8308, -0.8295]]])]"
      ]
     },
     "execution_count": 12,
     "metadata": {},
     "output_type": "execute_result"
    }
   ],
   "source": [
    "dataset[0][0]"
   ]
  },
  {
   "cell_type": "markdown",
   "id": "9b63d012",
   "metadata": {},
   "source": [
    "# Model"
   ]
  },
  {
   "cell_type": "code",
   "execution_count": 11,
   "id": "270540d8",
   "metadata": {},
   "outputs": [
    {
     "name": "stdout",
     "output_type": "stream",
     "text": [
      "\u001b[34m\u001b[1mwandb\u001b[0m: Appending key for api.wandb.ai to your netrc file: /home/azamat.kaibaldiyev/.netrc\r\n"
     ]
    }
   ],
   "source": [
    "!wandb login --relogin \"40706c6c21e200af3bdb3840883f22e665e74441\""
   ]
  },
  {
   "cell_type": "code",
   "execution_count": 12,
   "id": "51ce4170",
   "metadata": {},
   "outputs": [
    {
     "name": "stderr",
     "output_type": "stream",
     "text": [
      "Failed to detect the name of this notebook, you can set it manually with the WANDB_NOTEBOOK_NAME environment variable to enable code saving.\n",
      "\u001b[34m\u001b[1mwandb\u001b[0m: Currently logged in as: \u001b[33mkaibaldiyev\u001b[0m (\u001b[33mself-sup-segm\u001b[0m). Use \u001b[1m`wandb login --relogin`\u001b[0m to force relogin\n"
     ]
    },
    {
     "data": {
      "text/html": [
       "wandb version 0.15.2 is available!  To upgrade, please run:\n",
       " $ pip install wandb --upgrade"
      ],
      "text/plain": [
       "<IPython.core.display.HTML object>"
      ]
     },
     "metadata": {},
     "output_type": "display_data"
    },
    {
     "data": {
      "text/html": [
       "Tracking run with wandb version 0.14.2"
      ],
      "text/plain": [
       "<IPython.core.display.HTML object>"
      ]
     },
     "metadata": {},
     "output_type": "display_data"
    },
    {
     "data": {
      "text/html": [
       "Run data is saved locally in <code>/baie/nfs-cluster-1/data2/home/azamat.kaibaldiyev/wandb/run-20230516_165709-7fdn22lq</code>"
      ],
      "text/plain": [
       "<IPython.core.display.HTML object>"
      ]
     },
     "metadata": {},
     "output_type": "display_data"
    },
    {
     "data": {
      "text/html": [
       "Syncing run <strong><a href='https://wandb.ai/self-sup-segm/Contrastive_SimCLR_Ohara/runs/7fdn22lq' target=\"_blank\">scarlet-thunder-31</a></strong> to <a href='https://wandb.ai/self-sup-segm/Contrastive_SimCLR_Ohara' target=\"_blank\">Weights & Biases</a> (<a href='https://wandb.me/run' target=\"_blank\">docs</a>)<br/>"
      ],
      "text/plain": [
       "<IPython.core.display.HTML object>"
      ]
     },
     "metadata": {},
     "output_type": "display_data"
    },
    {
     "data": {
      "text/html": [
       " View project at <a href='https://wandb.ai/self-sup-segm/Contrastive_SimCLR_Ohara' target=\"_blank\">https://wandb.ai/self-sup-segm/Contrastive_SimCLR_Ohara</a>"
      ],
      "text/plain": [
       "<IPython.core.display.HTML object>"
      ]
     },
     "metadata": {},
     "output_type": "display_data"
    },
    {
     "data": {
      "text/html": [
       " View run at <a href='https://wandb.ai/self-sup-segm/Contrastive_SimCLR_Ohara/runs/7fdn22lq' target=\"_blank\">https://wandb.ai/self-sup-segm/Contrastive_SimCLR_Ohara/runs/7fdn22lq</a>"
      ],
      "text/plain": [
       "<IPython.core.display.HTML object>"
      ]
     },
     "metadata": {},
     "output_type": "display_data"
    },
    {
     "data": {
      "text/html": [
       "<button onClick=\"this.nextSibling.style.display='block';this.style.display='none';\">Display W&B run</button><iframe src='https://wandb.ai/self-sup-segm/Contrastive_SimCLR_Ohara/runs/7fdn22lq?jupyter=true' style='border:none;width:100%;height:420px;display:none;'></iframe>"
      ],
      "text/plain": [
       "<wandb.sdk.wandb_run.Run at 0x7f109f0c0040>"
      ]
     },
     "execution_count": 12,
     "metadata": {},
     "output_type": "execute_result"
    }
   ],
   "source": [
    "import wandb\n",
    "import random\n",
    "from sklearn.metrics import classification_report\n",
    "\n",
    "epochs = 300\n",
    "lr = 1e-5\n",
    "#wandb.init(settings=wandb.Settings(start_method=\"fork\"))\n",
    "# start a new wandb run to track this script\n",
    "wandb.init(\n",
    "    # set the wandb project where this run will be logged\n",
    "    project=\"Contrastive_SimCLR_Ohara\",\n",
    "    \n",
    "    # track hyperparameters and run metadata\n",
    "    config={\n",
    "    \"learning_rate\": lr,\n",
    "    \"architecture\": \"SimCLR\",\n",
    "    \"dataset\": \"Ohara_dataset_images\",\n",
    "    \"epochs\": epochs,\n",
    "    }\n",
    ")"
   ]
  },
  {
   "cell_type": "code",
   "execution_count": 13,
   "id": "4a3781b2",
   "metadata": {},
   "outputs": [],
   "source": [
    "class SimCLR(pl.LightningModule):\n",
    "\n",
    "    def __init__(self, hidden_dim, lr, temperature, weight_decay, max_epochs=500):\n",
    "        super().__init__()\n",
    "        self.save_hyperparameters()\n",
    "        assert self.hparams.temperature > 0.0, 'The temperature must be a positive float!'\n",
    "        # Base model f(.)\n",
    "        self.convnet = torchvision.models.resnet18(num_classes=4*hidden_dim)  # Output of last linear layer\n",
    "        #model = torchvision.models.resnet18()\n",
    "        num_input_channel = 3\n",
    "        self.convnet.conv1 = nn.Conv2d(num_input_channel, 64, kernel_size=7, stride=2, padding=3,bias=False)\n",
    "        # The MLP for g(.) consists of Linear->ReLU->Linear\n",
    "        self.convnet.fc = nn.Sequential(\n",
    "            self.convnet.fc,  # Linear(ResNet output, 4*hidden_dim)\n",
    "            nn.ReLU(inplace=True),\n",
    "            nn.Linear(4*hidden_dim, hidden_dim)\n",
    "        )\n",
    "\n",
    "    def configure_optimizers(self):\n",
    "        optimizer = optim.AdamW(self.parameters(),\n",
    "                                lr=self.hparams.lr,\n",
    "                                weight_decay=self.hparams.weight_decay)\n",
    "        lr_scheduler = optim.lr_scheduler.CosineAnnealingLR(optimizer,\n",
    "                                                            T_max=self.hparams.max_epochs,\n",
    "                                                            eta_min=self.hparams.lr/50)\n",
    "        return [optimizer], [lr_scheduler]\n",
    "\n",
    "    def info_nce_loss(self, batch, mode='train'):\n",
    "        imgs, _ = batch\n",
    "        imgs = torch.cat(imgs, dim=0)\n",
    "\n",
    "        # Encode all images\n",
    "        feats = self.convnet(imgs)\n",
    "        # Calculate cosine similarity\n",
    "        cos_sim = F.cosine_similarity(feats[:,None,:], feats[None,:,:], dim=-1)\n",
    "        # Mask out cosine similarity to itself\n",
    "        self_mask = torch.eye(cos_sim.shape[0], dtype=torch.bool, device=cos_sim.device)\n",
    "        cos_sim.masked_fill_(self_mask, -9e15)\n",
    "        # Find positive example -> batch_size//2 away from the original example\n",
    "        pos_mask = self_mask.roll(shifts=cos_sim.shape[0]//2, dims=0)\n",
    "        # InfoNCE loss\n",
    "        cos_sim = cos_sim / self.hparams.temperature\n",
    "        nll = -cos_sim[pos_mask] + torch.logsumexp(cos_sim, dim=-1)\n",
    "        nll = nll.mean()\n",
    "\n",
    "        # Logging loss\n",
    "        self.log(mode+'_loss', nll)\n",
    "        wandb.log({'SimCLR_'+mode+'_loss':nll})\n",
    "        # Get ranking position of positive example\n",
    "        comb_sim = torch.cat([cos_sim[pos_mask][:,None],  # First position positive example\n",
    "                              cos_sim.masked_fill(pos_mask, -9e15)],\n",
    "                             dim=-1)\n",
    "        sim_argsort = comb_sim.argsort(dim=-1, descending=True).argmin(dim=-1)\n",
    "        # Logging ranking metrics\n",
    "        wandb.log({'SimCLR_'+mode+'_acc_top1':(sim_argsort == 0).float().mean()})\n",
    "        wandb.log({'SimCLR_'+mode+'_acc_top5':(sim_argsort < 5).float().mean()})\n",
    "        wandb.log({'SimCLR_'+mode+'_acc_mean_pos': 1+sim_argsort.float().mean()})\n",
    "        \n",
    "        self.log(mode+'_acc_top1', (sim_argsort == 0).float().mean())\n",
    "        self.log(mode+'_acc_top5', (sim_argsort < 5).float().mean())\n",
    "        self.log(mode+'_acc_mean_pos', 1+sim_argsort.float().mean())\n",
    "\n",
    "        return nll\n",
    "\n",
    "    def training_step(self, batch, batch_idx):\n",
    "        return self.info_nce_loss(batch, mode='train')\n",
    "\n",
    "    def validation_step(self, batch, batch_idx):\n",
    "        self.info_nce_loss(batch, mode='val')\n",
    "        \n",
    "    def forward(self, x):\n",
    "        return self.convnet(x)\n",
    "        \n",
    "    "
   ]
  },
  {
   "cell_type": "code",
   "execution_count": 14,
   "id": "3bc27b1a",
   "metadata": {},
   "outputs": [],
   "source": [
    "def train_simclr(batch_size, max_epochs=500, **kwargs):\n",
    "    trainer = pl.Trainer(log_every_n_steps=10, default_root_dir=os.path.join(CHECKPOINT_PATH, 'SimCLR'),\n",
    "                         accelerator=\"gpu\" if str(device).startswith(\"cuda\") else \"cpu\",\n",
    "                         devices=1,\n",
    "                         max_epochs=max_epochs,\n",
    "                         callbacks=[ModelCheckpoint(save_weights_only=True, mode='max', monitor='val_acc_top5'),\n",
    "                                    LearningRateMonitor('epoch')])\n",
    "    trainer.logger._default_hp_metric = None # Optional logging argument that we don't need\n",
    "\n",
    "    # Check whether pretrained model exists. If yes, load it and skip training\n",
    "    pretrained_filename = os.path.join(CHECKPOINT_PATH, 'SimCLR.ckpt')\n",
    "    if os.path.isfile(pretrained_filename):\n",
    "        print(f'Found pretrained model at {pretrained_filename}, loading...')\n",
    "        model = SimCLR.load_from_checkpoint(pretrained_filename) # Automatically loads the model with the saved hyperparameters\n",
    "    else:\n",
    "        train_loader = data.DataLoader(train_dataset, batch_size=batch_size, shuffle=True,\n",
    "                                       drop_last=True, pin_memory=True, num_workers=2)\n",
    "        val_loader = data.DataLoader(test_dataset, batch_size=batch_size, shuffle=False,\n",
    "                                     drop_last=False, pin_memory=True, num_workers=2)\n",
    "        pl.seed_everything(42) # To be reproducable\n",
    "        model = SimCLR(max_epochs=max_epochs, **kwargs)\n",
    "        trainer.fit(model, train_loader, val_loader)\n",
    "        model = SimCLR.load_from_checkpoint(trainer.checkpoint_callback.best_model_path) # Load best checkpoint after training\n",
    "\n",
    "    return model"
   ]
  },
  {
   "cell_type": "code",
   "execution_count": 15,
   "id": "87ec1e20",
   "metadata": {},
   "outputs": [
    {
     "name": "stderr",
     "output_type": "stream",
     "text": [
      "/home/azamat.kaibaldiyev/miniconda3/envs/contrastive_env/lib/python3.10/site-packages/lightning_fabric/plugins/environments/slurm.py:166: PossibleUserWarning: The `srun` command is available on your system but is not used. HINT: If your intention is to run Lightning on SLURM, prepend your python command with `srun` like so: srun python /home/azamat.kaibaldiyev/miniconda3/envs/contrastive ...\n",
      "  rank_zero_warn(\n",
      "GPU available: True (cuda), used: True\n",
      "TPU available: False, using: 0 TPU cores\n",
      "IPU available: False, using: 0 IPUs\n",
      "HPU available: False, using: 0 HPUs\n",
      "[rank: 0] Global seed set to 42\n",
      "/home/azamat.kaibaldiyev/miniconda3/envs/contrastive_env/lib/python3.10/site-packages/lightning_fabric/plugins/environments/slurm.py:166: PossibleUserWarning: The `srun` command is available on your system but is not used. HINT: If your intention is to run Lightning on SLURM, prepend your python command with `srun` like so: srun python /home/azamat.kaibaldiyev/miniconda3/envs/contrastive ...\n",
      "  rank_zero_warn(\n",
      "You are using a CUDA device ('NVIDIA A100-PCIE-40GB MIG 2g.10gb') that has Tensor Cores. To properly utilize them, you should set `torch.set_float32_matmul_precision('medium' | 'high')` which will trade-off precision for performance. For more details, read https://pytorch.org/docs/stable/generated/torch.set_float32_matmul_precision.html#torch.set_float32_matmul_precision\n",
      "LOCAL_RANK: 0 - CUDA_VISIBLE_DEVICES: [0]\n",
      "\n",
      "  | Name    | Type   | Params\n",
      "-----------------------------------\n",
      "0 | convnet | ResNet | 11.5 M\n",
      "-----------------------------------\n",
      "11.5 M    Trainable params\n",
      "0         Non-trainable params\n",
      "11.5 M    Total params\n",
      "46.019    Total estimated model params size (MB)\n"
     ]
    },
    {
     "data": {
      "application/vnd.jupyter.widget-view+json": {
       "model_id": "",
       "version_major": 2,
       "version_minor": 0
      },
      "text/plain": [
       "Sanity Checking: 0it [00:00, ?it/s]"
      ]
     },
     "metadata": {},
     "output_type": "display_data"
    },
    {
     "name": "stderr",
     "output_type": "stream",
     "text": [
      "/home/azamat.kaibaldiyev/miniconda3/envs/contrastive_env/lib/python3.10/site-packages/pytorch_lightning/trainer/connectors/data_connector.py:224: PossibleUserWarning: The dataloader, val_dataloader 0, does not have many workers which may be a bottleneck. Consider increasing the value of the `num_workers` argument` (try 64 which is the number of cpus on this machine) in the `DataLoader` init to improve performance.\n",
      "  rank_zero_warn(\n",
      "/home/azamat.kaibaldiyev/miniconda3/envs/contrastive_env/lib/python3.10/site-packages/torchvision/transforms/functional.py:1603: UserWarning: The default value of the antialias parameter of all the resizing transforms (Resize(), RandomResizedCrop(), etc.) will change from None to True in v0.17, in order to be consistent across the PIL and Tensor backends. To suppress this warning, directly pass antialias=True (recommended, future default), antialias=None (current default, which means False for Tensors and True for PIL), or antialias=False (only works on Tensors - PIL will still use antialiasing). This also applies if you are using the inference transforms from the models weights: update the call to weights.transforms(antialias=True).\n",
      "  warnings.warn(\n",
      "/home/azamat.kaibaldiyev/miniconda3/envs/contrastive_env/lib/python3.10/site-packages/pytorch_lightning/utilities/data.py:84: UserWarning: Trying to infer the `batch_size` from an ambiguous collection. The batch size we found is 250. To avoid any miscalculations, use `self.log(..., batch_size=batch_size)`.\n",
      "  warning_cache.warn(\n",
      "/home/azamat.kaibaldiyev/miniconda3/envs/contrastive_env/lib/python3.10/site-packages/pytorch_lightning/trainer/connectors/data_connector.py:224: PossibleUserWarning: The dataloader, train_dataloader, does not have many workers which may be a bottleneck. Consider increasing the value of the `num_workers` argument` (try 64 which is the number of cpus on this machine) in the `DataLoader` init to improve performance.\n",
      "  rank_zero_warn(\n",
      "/home/azamat.kaibaldiyev/miniconda3/envs/contrastive_env/lib/python3.10/site-packages/pytorch_lightning/trainer/trainer.py:1609: PossibleUserWarning: The number of training batches (8) is smaller than the logging interval Trainer(log_every_n_steps=10). Set a lower value for log_every_n_steps if you want to see logs for the training epoch.\n",
      "  rank_zero_warn(\n"
     ]
    },
    {
     "data": {
      "application/vnd.jupyter.widget-view+json": {
       "model_id": "7d44b4e674dd4758a987d834c9484156",
       "version_major": 2,
       "version_minor": 0
      },
      "text/plain": [
       "Training: 0it [00:00, ?it/s]"
      ]
     },
     "metadata": {},
     "output_type": "display_data"
    },
    {
     "name": "stderr",
     "output_type": "stream",
     "text": [
      "/home/azamat.kaibaldiyev/miniconda3/envs/contrastive_env/lib/python3.10/site-packages/torchvision/transforms/functional.py:1603: UserWarning: The default value of the antialias parameter of all the resizing transforms (Resize(), RandomResizedCrop(), etc.) will change from None to True in v0.17, in order to be consistent across the PIL and Tensor backends. To suppress this warning, directly pass antialias=True (recommended, future default), antialias=None (current default, which means False for Tensors and True for PIL), or antialias=False (only works on Tensors - PIL will still use antialiasing). This also applies if you are using the inference transforms from the models weights: update the call to weights.transforms(antialias=True).\n",
      "  warnings.warn(\n",
      "/home/azamat.kaibaldiyev/miniconda3/envs/contrastive_env/lib/python3.10/site-packages/torchvision/transforms/functional.py:1603: UserWarning: The default value of the antialias parameter of all the resizing transforms (Resize(), RandomResizedCrop(), etc.) will change from None to True in v0.17, in order to be consistent across the PIL and Tensor backends. To suppress this warning, directly pass antialias=True (recommended, future default), antialias=None (current default, which means False for Tensors and True for PIL), or antialias=False (only works on Tensors - PIL will still use antialiasing). This also applies if you are using the inference transforms from the models weights: update the call to weights.transforms(antialias=True).\n",
      "  warnings.warn(\n"
     ]
    },
    {
     "data": {
      "application/vnd.jupyter.widget-view+json": {
       "model_id": "",
       "version_major": 2,
       "version_minor": 0
      },
      "text/plain": [
       "Validation: 0it [00:00, ?it/s]"
      ]
     },
     "metadata": {},
     "output_type": "display_data"
    },
    {
     "name": "stderr",
     "output_type": "stream",
     "text": [
      "/home/azamat.kaibaldiyev/miniconda3/envs/contrastive_env/lib/python3.10/site-packages/torchvision/transforms/functional.py:1603: UserWarning: The default value of the antialias parameter of all the resizing transforms (Resize(), RandomResizedCrop(), etc.) will change from None to True in v0.17, in order to be consistent across the PIL and Tensor backends. To suppress this warning, directly pass antialias=True (recommended, future default), antialias=None (current default, which means False for Tensors and True for PIL), or antialias=False (only works on Tensors - PIL will still use antialiasing). This also applies if you are using the inference transforms from the models weights: update the call to weights.transforms(antialias=True).\n",
      "  warnings.warn(\n",
      "/home/azamat.kaibaldiyev/miniconda3/envs/contrastive_env/lib/python3.10/site-packages/torchvision/transforms/functional.py:1603: UserWarning: The default value of the antialias parameter of all the resizing transforms (Resize(), RandomResizedCrop(), etc.) will change from None to True in v0.17, in order to be consistent across the PIL and Tensor backends. To suppress this warning, directly pass antialias=True (recommended, future default), antialias=None (current default, which means False for Tensors and True for PIL), or antialias=False (only works on Tensors - PIL will still use antialiasing). This also applies if you are using the inference transforms from the models weights: update the call to weights.transforms(antialias=True).\n",
      "  warnings.warn(\n",
      "/home/azamat.kaibaldiyev/miniconda3/envs/contrastive_env/lib/python3.10/site-packages/torchvision/transforms/functional.py:1603: UserWarning: The default value of the antialias parameter of all the resizing transforms (Resize(), RandomResizedCrop(), etc.) will change from None to True in v0.17, in order to be consistent across the PIL and Tensor backends. To suppress this warning, directly pass antialias=True (recommended, future default), antialias=None (current default, which means False for Tensors and True for PIL), or antialias=False (only works on Tensors - PIL will still use antialiasing). This also applies if you are using the inference transforms from the models weights: update the call to weights.transforms(antialias=True).\n",
      "  warnings.warn(\n"
     ]
    },
    {
     "data": {
      "application/vnd.jupyter.widget-view+json": {
       "model_id": "",
       "version_major": 2,
       "version_minor": 0
      },
      "text/plain": [
       "Validation: 0it [00:00, ?it/s]"
      ]
     },
     "metadata": {},
     "output_type": "display_data"
    },
    {
     "name": "stderr",
     "output_type": "stream",
     "text": [
      "/home/azamat.kaibaldiyev/miniconda3/envs/contrastive_env/lib/python3.10/site-packages/torchvision/transforms/functional.py:1603: UserWarning: The default value of the antialias parameter of all the resizing transforms (Resize(), RandomResizedCrop(), etc.) will change from None to True in v0.17, in order to be consistent across the PIL and Tensor backends. To suppress this warning, directly pass antialias=True (recommended, future default), antialias=None (current default, which means False for Tensors and True for PIL), or antialias=False (only works on Tensors - PIL will still use antialiasing). This also applies if you are using the inference transforms from the models weights: update the call to weights.transforms(antialias=True).\n",
      "  warnings.warn(\n",
      "`Trainer.fit` stopped: `max_epochs=2` reached.\n"
     ]
    }
   ],
   "source": [
    "simclr_model = train_simclr(batch_size=256,\n",
    "                            hidden_dim=128,\n",
    "                            lr=5e-4,\n",
    "                            temperature=0.07,\n",
    "                            weight_decay=1e-4,\n",
    "                            max_epochs=2)"
   ]
  },
  {
   "cell_type": "markdown",
   "id": "0de77727",
   "metadata": {},
   "source": [
    "# Downstream Task"
   ]
  },
  {
   "cell_type": "code",
   "execution_count": 12,
   "id": "914260b5",
   "metadata": {},
   "outputs": [
    {
     "name": "stdout",
     "output_type": "stream",
     "text": [
      "\u001b[34m\u001b[1mwandb\u001b[0m: Appending key for api.wandb.ai to your netrc file: /home/azamat.kaibaldiyev/.netrc\r\n"
     ]
    }
   ],
   "source": [
    "!wandb login --relogin \"40706c6c21e200af3bdb3840883f22e665e74441\""
   ]
  },
  {
   "cell_type": "code",
   "execution_count": 46,
   "id": "25d2f4a8",
   "metadata": {},
   "outputs": [
    {
     "name": "stderr",
     "output_type": "stream",
     "text": [
      "Failed to detect the name of this notebook, you can set it manually with the WANDB_NOTEBOOK_NAME environment variable to enable code saving.\n",
      "\u001b[34m\u001b[1mwandb\u001b[0m: Currently logged in as: \u001b[33mkaibaldiyev\u001b[0m (\u001b[33mself-sup-segm\u001b[0m). Use \u001b[1m`wandb login --relogin`\u001b[0m to force relogin\n"
     ]
    },
    {
     "data": {
      "text/html": [
       "wandb version 0.15.3 is available!  To upgrade, please run:\n",
       " $ pip install wandb --upgrade"
      ],
      "text/plain": [
       "<IPython.core.display.HTML object>"
      ]
     },
     "metadata": {},
     "output_type": "display_data"
    },
    {
     "data": {
      "text/html": [
       "Tracking run with wandb version 0.14.2"
      ],
      "text/plain": [
       "<IPython.core.display.HTML object>"
      ]
     },
     "metadata": {},
     "output_type": "display_data"
    },
    {
     "data": {
      "text/html": [
       "Run data is saved locally in <code>/baie/nfs-cluster-1/data2/home/azamat.kaibaldiyev/wandb/run-20230519_130901-251io9nz</code>"
      ],
      "text/plain": [
       "<IPython.core.display.HTML object>"
      ]
     },
     "metadata": {},
     "output_type": "display_data"
    },
    {
     "data": {
      "text/html": [
       "Syncing run <strong><a href='https://wandb.ai/self-sup-segm/Contrastive_SimCLR_Ohara/runs/251io9nz' target=\"_blank\">helpful-night-40</a></strong> to <a href='https://wandb.ai/self-sup-segm/Contrastive_SimCLR_Ohara' target=\"_blank\">Weights & Biases</a> (<a href='https://wandb.me/run' target=\"_blank\">docs</a>)<br/>"
      ],
      "text/plain": [
       "<IPython.core.display.HTML object>"
      ]
     },
     "metadata": {},
     "output_type": "display_data"
    },
    {
     "data": {
      "text/html": [
       " View project at <a href='https://wandb.ai/self-sup-segm/Contrastive_SimCLR_Ohara' target=\"_blank\">https://wandb.ai/self-sup-segm/Contrastive_SimCLR_Ohara</a>"
      ],
      "text/plain": [
       "<IPython.core.display.HTML object>"
      ]
     },
     "metadata": {},
     "output_type": "display_data"
    },
    {
     "data": {
      "text/html": [
       " View run at <a href='https://wandb.ai/self-sup-segm/Contrastive_SimCLR_Ohara/runs/251io9nz' target=\"_blank\">https://wandb.ai/self-sup-segm/Contrastive_SimCLR_Ohara/runs/251io9nz</a>"
      ],
      "text/plain": [
       "<IPython.core.display.HTML object>"
      ]
     },
     "metadata": {},
     "output_type": "display_data"
    },
    {
     "data": {
      "text/html": [
       "<button onClick=\"this.nextSibling.style.display='block';this.style.display='none';\">Display W&B run</button><iframe src='https://wandb.ai/self-sup-segm/Contrastive_SimCLR_Ohara/runs/251io9nz?jupyter=true' style='border:none;width:100%;height:420px;display:none;'></iframe>"
      ],
      "text/plain": [
       "<wandb.sdk.wandb_run.Run at 0x7f8d2df83460>"
      ]
     },
     "execution_count": 46,
     "metadata": {},
     "output_type": "execute_result"
    }
   ],
   "source": [
    "import wandb\n",
    "import random\n",
    "from sklearn.metrics import classification_report\n",
    "\n",
    "epochs = 300\n",
    "lr = 1e-5\n",
    "#wandb.init(settings=wandb.Settings(start_method=\"fork\"))\n",
    "# start a new wandb run to track this script\n",
    "wandb.init(\n",
    "    # set the wandb project where this run will be logged\n",
    "    project=\"Contrastive_SimCLR_Ohara\",\n",
    "    \n",
    "    # track hyperparameters and run metadata\n",
    "    config={\n",
    "    \"learning_rate\": lr,\n",
    "    \"architecture\": \"Downstream_Logreg\",\n",
    "    \"dataset\": \"Ohara_dataset_images_36000\",\n",
    "    \"epochs\": epochs,\n",
    "    }\n",
    ")"
   ]
  },
  {
   "cell_type": "code",
   "execution_count": 47,
   "id": "05a949a6",
   "metadata": {},
   "outputs": [],
   "source": [
    "class LogisticRegression(pl.LightningModule):\n",
    "\n",
    "    def __init__(self, feature_dim, num_classes, lr, weight_decay, max_epochs=300):\n",
    "        super().__init__()\n",
    "        self.save_hyperparameters()\n",
    "        # Mapping from representation h to classes\n",
    "        #self.model = nn.Linear(feature_dim, num_classes)\n",
    "        self.model = nn.Sequential(\n",
    "                        nn.Linear(feature_dim, num_classes),\n",
    "                      )\n",
    "        \n",
    "\n",
    "    def forward(self, x):\n",
    "        return self.model(x)\n",
    "\n",
    "    def configure_optimizers(self):\n",
    "        optimizer = optim.AdamW(self.parameters(),\n",
    "                                lr=self.hparams.lr,\n",
    "                                weight_decay=self.hparams.weight_decay)\n",
    "        lr_scheduler = optim.lr_scheduler.MultiStepLR(optimizer,\n",
    "                                                      milestones=[int(self.hparams.max_epochs*0.6),\n",
    "                                                                  int(self.hparams.max_epochs*0.8)],\n",
    "                                                      gamma=0.1)\n",
    "        return [optimizer], [lr_scheduler]\n",
    "\n",
    "    def _calculate_loss(self, batch, mode='train'):\n",
    "        #criterion = F.cross_entropy()\n",
    "        \n",
    "        feats, labels = batch\n",
    "        preds = self.model(feats)\n",
    "        #print('preds', preds)\n",
    "        #print('labels:', labels)\n",
    "        loss = F.cross_entropy(preds, labels)\n",
    "        acc = (preds.argmax(dim=-1) == labels).float().mean()\n",
    "        wandb.log({'Downstream_' + mode+'_loss': loss})\n",
    "        wandb.log({'Downstream_' + mode+'_acc': acc})\n",
    "        \n",
    "        lightning_optimizer = self.optimizers()  # self = your model\n",
    "        current_lr = lightning_optimizer.optimizer.param_groups[0]['lr']\n",
    "        wandb.log({'Downstream_' + mode+'_learningrate': current_lr})\n",
    "\n",
    "        self.log(mode + '_loss', loss)\n",
    "        self.log(mode + '_acc', acc)\n",
    "        return loss\n",
    "\n",
    "    def training_step(self, batch, batch_idx):\n",
    "        return self._calculate_loss(batch, mode='train')\n",
    "\n",
    "    def validation_step(self, batch, batch_idx):\n",
    "        self._calculate_loss(batch, mode='val')\n",
    "\n",
    "    def test_step(self, batch, batch_idx):\n",
    "        self._calculate_loss(batch, mode='test')"
   ]
  },
  {
   "cell_type": "code",
   "execution_count": 52,
   "id": "2ac59279",
   "metadata": {},
   "outputs": [
    {
     "name": "stdout",
     "output_type": "stream",
     "text": [
      "9870\n",
      "1097\n"
     ]
    }
   ],
   "source": [
    "\n",
    "with open('files_remove_indices/Ohara_images_11000_labels_train_set_indexes.npy', 'rb') as f:\n",
    "    train_set_indexes_labels = np.load(f)\n",
    "\n",
    "with open('files_remove_indices/Ohara_images_11000_labels_test_set_indexes.npy', 'rb') as f:\n",
    "    test_set_indexes_labels = np.load(f)\n",
    "    \n",
    "print(len(train_set_indexes_labels))\n",
    "print(len(test_set_indexes_labels))"
   ]
  },
  {
   "cell_type": "code",
   "execution_count": 48,
   "id": "461c6c28",
   "metadata": {},
   "outputs": [
    {
     "name": "stdout",
     "output_type": "stream",
     "text": [
      "10967\n",
      "Number of training examples: 4460\n",
      "Number of test examples: 6507\n"
     ]
    }
   ],
   "source": [
    "img_transforms = transforms.Compose([transforms.ToTensor(),\n",
    "                                     transforms.Resize(size = (100,100)),\n",
    "                                     #Normalize_range01(),\n",
    "                                     transforms.Normalize((0.5,), (0.5,))])\n",
    "\n",
    "dataset = SwedishDataset(transform = img_transforms , dataset_path=dataset_path_with_labels ,labels = True)\n",
    "\n",
    "#For random split\n",
    "# train_dataset = torch.utils.data.Subset(dataset, train_set_indexes_labels)\n",
    "# test_dataset = torch.utils.data.Subset(dataset, test_set_indexes_labels)\n",
    "\n",
    "#For different lines\n",
    "train_dataset = torch.utils.data.Subset(dataset, np.arange(dim))\n",
    "test_dataset = torch.utils.data.Subset(dataset, np.arange(dim, len(dataset)))\n",
    "\n",
    "print(len(dataset))\n",
    "print(\"Number of training examples:\", len(train_dataset))\n",
    "print(\"Number of test examples:\", len(test_dataset))"
   ]
  },
  {
   "cell_type": "code",
   "execution_count": 49,
   "id": "03b79a00",
   "metadata": {},
   "outputs": [
    {
     "name": "stderr",
     "output_type": "stream",
     "text": [
      "/home/azamat.kaibaldiyev/miniconda3/envs/contrastive_env/lib/python3.10/site-packages/torchvision/transforms/functional.py:1603: UserWarning: The default value of the antialias parameter of all the resizing transforms (Resize(), RandomResizedCrop(), etc.) will change from None to True in v0.17, in order to be consistent across the PIL and Tensor backends. To suppress this warning, directly pass antialias=True (recommended, future default), antialias=None (current default, which means False for Tensors and True for PIL), or antialias=False (only works on Tensors - PIL will still use antialiasing). This also applies if you are using the inference transforms from the models weights: update the call to weights.transforms(antialias=True).\n",
      "  warnings.warn(\n"
     ]
    },
    {
     "data": {
      "text/plain": [
       "[tensor([[[-0.8320, -0.8689, -0.9053,  ..., -0.9666, -0.9564, -0.8854],\n",
       "          [-0.8600, -0.8950, -0.9362,  ..., -0.9547, -0.7547, -0.7574],\n",
       "          [-0.8910, -0.9758, -0.8612,  ..., -0.6243, -0.8294, -0.7730],\n",
       "          ...,\n",
       "          [-0.9048, -0.9422, -0.9588,  ..., -0.8929, -0.9237, -0.9557],\n",
       "          [-0.9788, -0.8982, -0.9328,  ..., -0.9093, -0.8997, -0.8712],\n",
       "          [-0.8296, -0.9461, -0.9176,  ..., -0.7916, -0.9594, -0.9248]],\n",
       " \n",
       "         [[-1.0000, -1.0000, -1.0000,  ..., -1.0000, -1.0000, -0.8853],\n",
       "          [-0.9765, -1.0000, -1.0000,  ..., -1.0000, -0.8728, -0.9969],\n",
       "          [-1.0000, -1.0000, -1.0000,  ..., -0.7867, -0.9266, -0.9835],\n",
       "          ...,\n",
       "          [-1.0000, -1.0000, -1.0000,  ..., -1.0000, -1.0000, -1.0000],\n",
       "          [-1.0000, -1.0000, -1.0000,  ..., -1.0000, -1.0000, -1.0000],\n",
       "          [-0.9792, -1.0000, -0.9834,  ..., -0.9985, -1.0000, -0.9976]],\n",
       " \n",
       "         [[-0.9473, -0.9677, -0.9834,  ..., -1.0000, -1.0000, -0.8396],\n",
       "          [-0.9914, -0.9989, -0.9978,  ..., -1.0000, -0.8245, -0.9788],\n",
       "          [-1.0000, -1.0000, -1.0000,  ..., -0.8686, -0.7256, -0.8957],\n",
       "          ...,\n",
       "          [-0.9685, -0.9857, -0.9180,  ..., -0.9627, -0.9866, -1.0000],\n",
       "          [-0.9349, -0.9790, -0.9064,  ..., -0.9653, -0.9779, -0.9956],\n",
       "          [-0.9685, -0.9357, -0.9014,  ..., -0.9916, -0.9909, -0.9435]]]),\n",
       " 5]"
      ]
     },
     "execution_count": 49,
     "metadata": {},
     "output_type": "execute_result"
    }
   ],
   "source": [
    "dataset[0]"
   ]
  },
  {
   "cell_type": "code",
   "execution_count": 50,
   "id": "eb552625",
   "metadata": {},
   "outputs": [
    {
     "data": {
      "text/plain": [
       "torch.Size([3, 100, 100])"
      ]
     },
     "execution_count": 50,
     "metadata": {},
     "output_type": "execute_result"
    }
   ],
   "source": [
    "dataset[0][0].shape"
   ]
  },
  {
   "cell_type": "code",
   "execution_count": 51,
   "id": "30cca8c0",
   "metadata": {},
   "outputs": [],
   "source": [
    "@torch.no_grad()\n",
    "def prepare_data_features(model, dataset):\n",
    "    # Prepare model\n",
    "    network = deepcopy(model.convnet)\n",
    "    network.fc = nn.Identity()  # Removing projection head g(.)\n",
    "    network.eval()\n",
    "    network.to(device)\n",
    "\n",
    "    # Encode all images\n",
    "    data_loader = data.DataLoader(dataset, batch_size=32, num_workers=NUM_WORKERS, shuffle=False, drop_last=False)\n",
    "    feats, labels = [], []\n",
    "    for batch_imgs, batch_labels in tqdm(data_loader):\n",
    "        batch_imgs = batch_imgs.to(device)\n",
    "        batch_feats = network(batch_imgs)\n",
    "        feats.append(batch_feats.detach().cpu())\n",
    "        labels.append(batch_labels)\n",
    "\n",
    "    feats = torch.cat(feats, dim=0)\n",
    "    labels = torch.cat(labels, dim=0)\n",
    "\n",
    "    # Sort images by labels\n",
    "    #labels, idxs = labels.sort()\n",
    "    #feats = feats[idxs]\n",
    "    #mycode\n",
    "    feats = torch.squeeze(feats)\n",
    "    labels = torch.squeeze(labels)\n",
    "\n",
    "    return data.TensorDataset(feats, labels)"
   ]
  },
  {
   "cell_type": "code",
   "execution_count": 52,
   "id": "c1bdea8c",
   "metadata": {},
   "outputs": [],
   "source": [
    "class SimCLR(pl.LightningModule):\n",
    "\n",
    "    def __init__(self, hidden_dim, lr, temperature, weight_decay, max_epochs=500):\n",
    "        super().__init__()\n",
    "        self.save_hyperparameters()\n",
    "        assert self.hparams.temperature > 0.0, 'The temperature must be a positive float!'\n",
    "        # Base model f(.)\n",
    "        self.convnet = torchvision.models.resnet18(num_classes=4*hidden_dim)  # Output of last linear layer\n",
    "        #model = torchvision.models.resnet18()\n",
    "        num_input_channel = 3\n",
    "        self.convnet.conv1 = nn.Conv2d(num_input_channel, 64, kernel_size=7, stride=2, padding=3,bias=False)\n",
    "        # The MLP for g(.) consists of Linear->ReLU->Linear\n",
    "        self.convnet.fc = nn.Sequential(\n",
    "            self.convnet.fc,  # Linear(ResNet output, 4*hidden_dim)\n",
    "            nn.ReLU(inplace=True),\n",
    "            nn.Linear(4*hidden_dim, hidden_dim)\n",
    "        )\n",
    "\n",
    "    def configure_optimizers(self):\n",
    "        optimizer = optim.AdamW(self.parameters(),\n",
    "                                lr=self.hparams.lr,\n",
    "                                weight_decay=self.hparams.weight_decay)\n",
    "        lr_scheduler = optim.lr_scheduler.CosineAnnealingLR(optimizer,\n",
    "                                                            T_max=self.hparams.max_epochs,\n",
    "                                                            eta_min=self.hparams.lr/50)\n",
    "        return [optimizer], [lr_scheduler]\n",
    "\n",
    "    def info_nce_loss(self, batch, mode='train'):\n",
    "        imgs, _ = batch\n",
    "        imgs = torch.cat(imgs, dim=0)\n",
    "\n",
    "        # Encode all images\n",
    "        feats = self.convnet(imgs)\n",
    "        # Calculate cosine similarity\n",
    "        cos_sim = F.cosine_similarity(feats[:,None,:], feats[None,:,:], dim=-1)\n",
    "        # Mask out cosine similarity to itself\n",
    "        self_mask = torch.eye(cos_sim.shape[0], dtype=torch.bool, device=cos_sim.device)\n",
    "        cos_sim.masked_fill_(self_mask, -9e15)\n",
    "        # Find positive example -> batch_size//2 away from the original example\n",
    "        pos_mask = self_mask.roll(shifts=cos_sim.shape[0]//2, dims=0)\n",
    "        # InfoNCE loss\n",
    "        cos_sim = cos_sim / self.hparams.temperature\n",
    "        nll = -cos_sim[pos_mask] + torch.logsumexp(cos_sim, dim=-1)\n",
    "        nll = nll.mean()\n",
    "\n",
    "        # Logging loss\n",
    "        self.log(mode+'_loss', nll)\n",
    "        # Get ranking position of positive example\n",
    "        comb_sim = torch.cat([cos_sim[pos_mask][:,None],  # First position positive example\n",
    "                              cos_sim.masked_fill(pos_mask, -9e15)],\n",
    "                             dim=-1)\n",
    "        sim_argsort = comb_sim.argsort(dim=-1, descending=True).argmin(dim=-1)\n",
    "        # Logging ranking metrics\n",
    "     \n",
    "        self.log(mode+'_acc_top1', (sim_argsort == 0).float().mean())\n",
    "        self.log(mode+'_acc_top5', (sim_argsort < 5).float().mean())\n",
    "        self.log(mode+'_acc_mean_pos', 1+sim_argsort.float().mean())\n",
    "\n",
    "        return nll\n",
    "\n",
    "    def training_step(self, batch, batch_idx):\n",
    "        return self.info_nce_loss(batch, mode='train')\n",
    "\n",
    "    def validation_step(self, batch, batch_idx):\n",
    "        self.info_nce_loss(batch, mode='val')\n",
    "        \n",
    "    def forward(self, x):\n",
    "        return self.convnet(x)\n",
    "        \n",
    "    "
   ]
  },
  {
   "cell_type": "code",
   "execution_count": 56,
   "id": "adef05c6",
   "metadata": {},
   "outputs": [
    {
     "name": "stdout",
     "output_type": "stream",
     "text": [
      "'epoch=31-step=2048.ckpt'\n",
      "  File: Tasmania_ohara_labels/checkpoints_Ohara_all_images/SimCLR/lightning_logs/version_1365846\n",
      "  Size: 122       \tBlocks: 0          IO Block: 1048576 directory\n",
      "Device: 2fh/47d\tInode: 214748487475  Links: 3\n",
      "Access: (0755/drwxr-xr-x)  Uid: (13862/azamat.kaibaldiyev)   Gid: (13862/ UNKNOWN)\n",
      "Access: 2023-05-19 11:51:28.118801430 +0200\n",
      "Modify: 2023-05-19 02:13:41.673065018 +0200\n",
      "Change: 2023-05-19 02:13:41.673065018 +0200\n",
      " Birth: -\n"
     ]
    }
   ],
   "source": [
    "!ls Tasmania_ohara_labels/checkpoints_Ohara_all_images/SimCLR/lightning_logs/version_1365846/checkpoints\n",
    "!stat Tasmania_ohara_labels/checkpoints_Ohara_all_images/SimCLR/lightning_logs/version_1365846"
   ]
  },
  {
   "cell_type": "code",
   "execution_count": 57,
   "id": "02602701",
   "metadata": {
    "scrolled": true
   },
   "outputs": [
    {
     "data": {
      "text/plain": [
       "SimCLR(\n",
       "  (convnet): ResNet(\n",
       "    (conv1): Conv2d(3, 64, kernel_size=(7, 7), stride=(2, 2), padding=(3, 3), bias=False)\n",
       "    (bn1): BatchNorm2d(64, eps=1e-05, momentum=0.1, affine=True, track_running_stats=True)\n",
       "    (relu): ReLU(inplace=True)\n",
       "    (maxpool): MaxPool2d(kernel_size=3, stride=2, padding=1, dilation=1, ceil_mode=False)\n",
       "    (layer1): Sequential(\n",
       "      (0): BasicBlock(\n",
       "        (conv1): Conv2d(64, 64, kernel_size=(3, 3), stride=(1, 1), padding=(1, 1), bias=False)\n",
       "        (bn1): BatchNorm2d(64, eps=1e-05, momentum=0.1, affine=True, track_running_stats=True)\n",
       "        (relu): ReLU(inplace=True)\n",
       "        (conv2): Conv2d(64, 64, kernel_size=(3, 3), stride=(1, 1), padding=(1, 1), bias=False)\n",
       "        (bn2): BatchNorm2d(64, eps=1e-05, momentum=0.1, affine=True, track_running_stats=True)\n",
       "      )\n",
       "      (1): BasicBlock(\n",
       "        (conv1): Conv2d(64, 64, kernel_size=(3, 3), stride=(1, 1), padding=(1, 1), bias=False)\n",
       "        (bn1): BatchNorm2d(64, eps=1e-05, momentum=0.1, affine=True, track_running_stats=True)\n",
       "        (relu): ReLU(inplace=True)\n",
       "        (conv2): Conv2d(64, 64, kernel_size=(3, 3), stride=(1, 1), padding=(1, 1), bias=False)\n",
       "        (bn2): BatchNorm2d(64, eps=1e-05, momentum=0.1, affine=True, track_running_stats=True)\n",
       "      )\n",
       "    )\n",
       "    (layer2): Sequential(\n",
       "      (0): BasicBlock(\n",
       "        (conv1): Conv2d(64, 128, kernel_size=(3, 3), stride=(2, 2), padding=(1, 1), bias=False)\n",
       "        (bn1): BatchNorm2d(128, eps=1e-05, momentum=0.1, affine=True, track_running_stats=True)\n",
       "        (relu): ReLU(inplace=True)\n",
       "        (conv2): Conv2d(128, 128, kernel_size=(3, 3), stride=(1, 1), padding=(1, 1), bias=False)\n",
       "        (bn2): BatchNorm2d(128, eps=1e-05, momentum=0.1, affine=True, track_running_stats=True)\n",
       "        (downsample): Sequential(\n",
       "          (0): Conv2d(64, 128, kernel_size=(1, 1), stride=(2, 2), bias=False)\n",
       "          (1): BatchNorm2d(128, eps=1e-05, momentum=0.1, affine=True, track_running_stats=True)\n",
       "        )\n",
       "      )\n",
       "      (1): BasicBlock(\n",
       "        (conv1): Conv2d(128, 128, kernel_size=(3, 3), stride=(1, 1), padding=(1, 1), bias=False)\n",
       "        (bn1): BatchNorm2d(128, eps=1e-05, momentum=0.1, affine=True, track_running_stats=True)\n",
       "        (relu): ReLU(inplace=True)\n",
       "        (conv2): Conv2d(128, 128, kernel_size=(3, 3), stride=(1, 1), padding=(1, 1), bias=False)\n",
       "        (bn2): BatchNorm2d(128, eps=1e-05, momentum=0.1, affine=True, track_running_stats=True)\n",
       "      )\n",
       "    )\n",
       "    (layer3): Sequential(\n",
       "      (0): BasicBlock(\n",
       "        (conv1): Conv2d(128, 256, kernel_size=(3, 3), stride=(2, 2), padding=(1, 1), bias=False)\n",
       "        (bn1): BatchNorm2d(256, eps=1e-05, momentum=0.1, affine=True, track_running_stats=True)\n",
       "        (relu): ReLU(inplace=True)\n",
       "        (conv2): Conv2d(256, 256, kernel_size=(3, 3), stride=(1, 1), padding=(1, 1), bias=False)\n",
       "        (bn2): BatchNorm2d(256, eps=1e-05, momentum=0.1, affine=True, track_running_stats=True)\n",
       "        (downsample): Sequential(\n",
       "          (0): Conv2d(128, 256, kernel_size=(1, 1), stride=(2, 2), bias=False)\n",
       "          (1): BatchNorm2d(256, eps=1e-05, momentum=0.1, affine=True, track_running_stats=True)\n",
       "        )\n",
       "      )\n",
       "      (1): BasicBlock(\n",
       "        (conv1): Conv2d(256, 256, kernel_size=(3, 3), stride=(1, 1), padding=(1, 1), bias=False)\n",
       "        (bn1): BatchNorm2d(256, eps=1e-05, momentum=0.1, affine=True, track_running_stats=True)\n",
       "        (relu): ReLU(inplace=True)\n",
       "        (conv2): Conv2d(256, 256, kernel_size=(3, 3), stride=(1, 1), padding=(1, 1), bias=False)\n",
       "        (bn2): BatchNorm2d(256, eps=1e-05, momentum=0.1, affine=True, track_running_stats=True)\n",
       "      )\n",
       "    )\n",
       "    (layer4): Sequential(\n",
       "      (0): BasicBlock(\n",
       "        (conv1): Conv2d(256, 512, kernel_size=(3, 3), stride=(2, 2), padding=(1, 1), bias=False)\n",
       "        (bn1): BatchNorm2d(512, eps=1e-05, momentum=0.1, affine=True, track_running_stats=True)\n",
       "        (relu): ReLU(inplace=True)\n",
       "        (conv2): Conv2d(512, 512, kernel_size=(3, 3), stride=(1, 1), padding=(1, 1), bias=False)\n",
       "        (bn2): BatchNorm2d(512, eps=1e-05, momentum=0.1, affine=True, track_running_stats=True)\n",
       "        (downsample): Sequential(\n",
       "          (0): Conv2d(256, 512, kernel_size=(1, 1), stride=(2, 2), bias=False)\n",
       "          (1): BatchNorm2d(512, eps=1e-05, momentum=0.1, affine=True, track_running_stats=True)\n",
       "        )\n",
       "      )\n",
       "      (1): BasicBlock(\n",
       "        (conv1): Conv2d(512, 512, kernel_size=(3, 3), stride=(1, 1), padding=(1, 1), bias=False)\n",
       "        (bn1): BatchNorm2d(512, eps=1e-05, momentum=0.1, affine=True, track_running_stats=True)\n",
       "        (relu): ReLU(inplace=True)\n",
       "        (conv2): Conv2d(512, 512, kernel_size=(3, 3), stride=(1, 1), padding=(1, 1), bias=False)\n",
       "        (bn2): BatchNorm2d(512, eps=1e-05, momentum=0.1, affine=True, track_running_stats=True)\n",
       "      )\n",
       "    )\n",
       "    (avgpool): AdaptiveAvgPool2d(output_size=(1, 1))\n",
       "    (fc): Sequential(\n",
       "      (0): Linear(in_features=512, out_features=512, bias=True)\n",
       "      (1): ReLU(inplace=True)\n",
       "      (2): Linear(in_features=512, out_features=128, bias=True)\n",
       "    )\n",
       "  )\n",
       ")"
      ]
     },
     "execution_count": 57,
     "metadata": {},
     "output_type": "execute_result"
    }
   ],
   "source": [
    "best_checkpoint = '/home/azamat.kaibaldiyev/Tasmania_ohara_labels/checkpoints_Ohara_all_images/SimCLR/lightning_logs/version_1365846/checkpoints/epoch=31-step=2048.ckpt'\n",
    "simclr_model = SimCLR.load_from_checkpoint(best_checkpoint)\n",
    "\n",
    "# disable randomness, dropout, etc...\n",
    "simclr_model.eval()\n",
    "simclr_model.to(device)"
   ]
  },
  {
   "cell_type": "code",
   "execution_count": 58,
   "id": "3a061a63",
   "metadata": {},
   "outputs": [
    {
     "name": "stderr",
     "output_type": "stream",
     "text": [
      "/home/azamat.kaibaldiyev/miniconda3/envs/contrastive_env/lib/python3.10/site-packages/torch/utils/data/dataloader.py:561: UserWarning: This DataLoader will create 64 worker processes in total. Our suggested max number of worker in current system is 2, which is smaller than what this DataLoader is going to create. Please be aware that excessive worker creation might get DataLoader running slow or even freeze, lower the worker number to avoid potential slowness/freeze if necessary.\n",
      "  warnings.warn(_create_warning_msg(\n"
     ]
    },
    {
     "data": {
      "application/vnd.jupyter.widget-view+json": {
       "model_id": "5c0565932a5c4ec987f7ba2805e7a8e4",
       "version_major": 2,
       "version_minor": 0
      },
      "text/plain": [
       "  0%|          | 0/140 [00:00<?, ?it/s]"
      ]
     },
     "metadata": {},
     "output_type": "display_data"
    },
    {
     "data": {
      "application/vnd.jupyter.widget-view+json": {
       "model_id": "fe7b242c6b88451b9c852066964ee268",
       "version_major": 2,
       "version_minor": 0
      },
      "text/plain": [
       "  0%|          | 0/204 [00:00<?, ?it/s]"
      ]
     },
     "metadata": {},
     "output_type": "display_data"
    }
   ],
   "source": [
    "train_feats_simclr = prepare_data_features(simclr_model, train_dataset)\n",
    "test_feats_simclr = prepare_data_features(simclr_model, test_dataset)"
   ]
  },
  {
   "cell_type": "code",
   "execution_count": 59,
   "id": "8e2e3828",
   "metadata": {},
   "outputs": [
    {
     "data": {
      "text/plain": [
       "torch.Size([512])"
      ]
     },
     "execution_count": 59,
     "metadata": {},
     "output_type": "execute_result"
    }
   ],
   "source": [
    "test_feats_simclr[0][0].shape"
   ]
  },
  {
   "cell_type": "code",
   "execution_count": 60,
   "id": "6852bc4d",
   "metadata": {},
   "outputs": [],
   "source": [
    "def train_logreg(batch_size, train_feats_data, test_feats_data, model_suffix, max_epochs=200, **kwargs):\n",
    "    trainer = pl.Trainer(log_every_n_steps=10, default_root_dir=os.path.join(CHECKPOINT_PATH, \"LogisticRegression\"),\n",
    "                         accelerator=\"gpu\" if str(device).startswith(\"cuda\") else \"cpu\",\n",
    "                         devices=1,\n",
    "                         max_epochs=max_epochs,\n",
    "                         callbacks=[ModelCheckpoint(save_weights_only=True, mode='max', monitor='val_acc'),\n",
    "                                    LearningRateMonitor(\"epoch\")],\n",
    "                         enable_progress_bar=False,\n",
    "                         check_val_every_n_epoch=10)\n",
    "    trainer.logger._default_hp_metric = None\n",
    "\n",
    "    # Data loaders\n",
    "    train_loader = data.DataLoader(train_feats_data, batch_size=batch_size, shuffle=True,\n",
    "                                   drop_last=False, pin_memory=True, num_workers=0)\n",
    "    test_loader = data.DataLoader(test_feats_data, batch_size=batch_size, shuffle=False,\n",
    "                                  drop_last=False, pin_memory=True, num_workers=0)\n",
    "\n",
    "    # Check whether pretrained model exists. If yes, load it and skip training\n",
    "    pretrained_filename = os.path.join(CHECKPOINT_PATH, f\"LogisticRegression_{model_suffix}.ckpt\")\n",
    "    if os.path.isfile(pretrained_filename):\n",
    "        print(f\"Found pretrained model at {pretrained_filename}, loading...\")\n",
    "        model = LogisticRegression.load_from_checkpoint(pretrained_filename)\n",
    "    else:\n",
    "        pl.seed_everything(42)  # To be reproducable\n",
    "        model = LogisticRegression(**kwargs)\n",
    "        trainer.fit(model, train_loader, test_loader)\n",
    "        \n",
    "        print(11111)\n",
    "        print(trainer.checkpoint_callback.best_model_path)\n",
    "        model = LogisticRegression.load_from_checkpoint(trainer.checkpoint_callback.best_model_path)\n",
    "\n",
    "    # Test best model on train and validation set\n",
    "    train_result = trainer.test(model, train_loader, verbose=False)\n",
    "    test_result = trainer.test(model, test_loader, verbose=False)\n",
    "    result = {\"train\": train_result[0][\"test_acc\"], \"test\": test_result[0][\"test_acc\"]}\n",
    "\n",
    "    return model, result"
   ]
  },
  {
   "cell_type": "code",
   "execution_count": 61,
   "id": "cd5d9c81",
   "metadata": {},
   "outputs": [
    {
     "name": "stderr",
     "output_type": "stream",
     "text": [
      "/home/azamat.kaibaldiyev/miniconda3/envs/contrastive_env/lib/python3.10/site-packages/lightning_fabric/plugins/environments/slurm.py:166: PossibleUserWarning: The `srun` command is available on your system but is not used. HINT: If your intention is to run Lightning on SLURM, prepend your python command with `srun` like so: srun python /home/azamat.kaibaldiyev/miniconda3/envs/contrastive ...\n",
      "  rank_zero_warn(\n",
      "GPU available: True (cuda), used: True\n",
      "TPU available: False, using: 0 TPU cores\n",
      "IPU available: False, using: 0 IPUs\n",
      "HPU available: False, using: 0 HPUs\n",
      "[rank: 0] Global seed set to 42\n",
      "/home/azamat.kaibaldiyev/miniconda3/envs/contrastive_env/lib/python3.10/site-packages/lightning_fabric/plugins/environments/slurm.py:166: PossibleUserWarning: The `srun` command is available on your system but is not used. HINT: If your intention is to run Lightning on SLURM, prepend your python command with `srun` like so: srun python /home/azamat.kaibaldiyev/miniconda3/envs/contrastive ...\n",
      "  rank_zero_warn(\n",
      "You are using a CUDA device ('NVIDIA A100-PCIE-40GB MIG 2g.10gb') that has Tensor Cores. To properly utilize them, you should set `torch.set_float32_matmul_precision('medium' | 'high')` which will trade-off precision for performance. For more details, read https://pytorch.org/docs/stable/generated/torch.set_float32_matmul_precision.html#torch.set_float32_matmul_precision\n",
      "LOCAL_RANK: 0 - CUDA_VISIBLE_DEVICES: [0]\n",
      "\n",
      "  | Name  | Type       | Params\n",
      "-------------------------------------\n",
      "0 | model | Sequential | 4.1 K \n",
      "-------------------------------------\n",
      "4.1 K     Trainable params\n",
      "0         Non-trainable params\n",
      "4.1 K     Total params\n",
      "0.016     Total estimated model params size (MB)\n",
      "/home/azamat.kaibaldiyev/miniconda3/envs/contrastive_env/lib/python3.10/site-packages/pytorch_lightning/trainer/connectors/data_connector.py:224: PossibleUserWarning: The dataloader, val_dataloader 0, does not have many workers which may be a bottleneck. Consider increasing the value of the `num_workers` argument` (try 64 which is the number of cpus on this machine) in the `DataLoader` init to improve performance.\n",
      "  rank_zero_warn(\n",
      "/home/azamat.kaibaldiyev/miniconda3/envs/contrastive_env/lib/python3.10/site-packages/pytorch_lightning/trainer/connectors/data_connector.py:224: PossibleUserWarning: The dataloader, train_dataloader, does not have many workers which may be a bottleneck. Consider increasing the value of the `num_workers` argument` (try 64 which is the number of cpus on this machine) in the `DataLoader` init to improve performance.\n",
      "  rank_zero_warn(\n",
      "`Trainer.fit` stopped: `max_epochs=100` reached.\n",
      "You are using a CUDA device ('NVIDIA A100-PCIE-40GB MIG 2g.10gb') that has Tensor Cores. To properly utilize them, you should set `torch.set_float32_matmul_precision('medium' | 'high')` which will trade-off precision for performance. For more details, read https://pytorch.org/docs/stable/generated/torch.set_float32_matmul_precision.html#torch.set_float32_matmul_precision\n",
      "LOCAL_RANK: 0 - CUDA_VISIBLE_DEVICES: [0]\n",
      "/home/azamat.kaibaldiyev/miniconda3/envs/contrastive_env/lib/python3.10/site-packages/pytorch_lightning/trainer/connectors/data_connector.py:488: PossibleUserWarning: Your `test_dataloader`'s sampler has shuffling enabled, it is strongly recommended that you turn shuffling off for val/test/predict dataloaders.\n",
      "  rank_zero_warn(\n",
      "/home/azamat.kaibaldiyev/miniconda3/envs/contrastive_env/lib/python3.10/site-packages/pytorch_lightning/trainer/connectors/data_connector.py:224: PossibleUserWarning: The dataloader, test_dataloader 0, does not have many workers which may be a bottleneck. Consider increasing the value of the `num_workers` argument` (try 64 which is the number of cpus on this machine) in the `DataLoader` init to improve performance.\n",
      "  rank_zero_warn(\n"
     ]
    },
    {
     "name": "stdout",
     "output_type": "stream",
     "text": [
      "11111\n",
      "/home/azamat.kaibaldiyev/Tasmania_ohara_labels/checkpoints_Ohara_all_images/LogisticRegression/lightning_logs/version_1/checkpoints/epoch=99-step=7000.ckpt\n"
     ]
    },
    {
     "name": "stderr",
     "output_type": "stream",
     "text": [
      "You are using a CUDA device ('NVIDIA A100-PCIE-40GB MIG 2g.10gb') that has Tensor Cores. To properly utilize them, you should set `torch.set_float32_matmul_precision('medium' | 'high')` which will trade-off precision for performance. For more details, read https://pytorch.org/docs/stable/generated/torch.set_float32_matmul_precision.html#torch.set_float32_matmul_precision\n",
      "LOCAL_RANK: 0 - CUDA_VISIBLE_DEVICES: [0]\n"
     ]
    }
   ],
   "source": [
    "num_imgs_per_label = 200\n",
    "logreg_model, small_set_results = train_logreg(max_epochs=100,batch_size=64,\n",
    "                                    train_feats_data=train_feats_simclr,\n",
    "                                    test_feats_data=test_feats_simclr,\n",
    "                                    model_suffix=num_imgs_per_label,\n",
    "                                    feature_dim=train_feats_simclr.tensors[0].shape[1],\n",
    "                                    num_classes=8,\n",
    "                                    lr=1e-5,\n",
    "                                    weight_decay=1e-3,)"
   ]
  },
  {
   "cell_type": "code",
   "execution_count": 72,
   "id": "378ee5ca",
   "metadata": {},
   "outputs": [
    {
     "data": {
      "text/plain": [
       "{'train': 0.9161094427108765, 'test': 0.9088423252105713}"
      ]
     },
     "execution_count": 72,
     "metadata": {},
     "output_type": "execute_result"
    }
   ],
   "source": [
    "#SimCLR 36000_11000 images, bs 64, 100 epochs\n",
    "small_set_results"
   ]
  },
  {
   "cell_type": "code",
   "execution_count": 62,
   "id": "9a142514",
   "metadata": {},
   "outputs": [
    {
     "data": {
      "text/plain": [
       "{'train': 0.9103139042854309, 'test': 0.8610727190971375}"
      ]
     },
     "execution_count": 62,
     "metadata": {},
     "output_type": "execute_result"
    }
   ],
   "source": [
    "#SimCLR 36000_11000 images, bs 64, 100 epochs   Different Lines for train and test\n",
    "small_set_results"
   ]
  },
  {
   "cell_type": "code",
   "execution_count": 68,
   "id": "08c18310",
   "metadata": {},
   "outputs": [
    {
     "name": "stdout",
     "output_type": "stream",
     "text": [
      "6507\n",
      "102\n"
     ]
    }
   ],
   "source": [
    "print(len(test_feats_simclr))\n",
    "test_loader = data.DataLoader(test_feats_simclr, batch_size=64, shuffle=False,\n",
    "                                  drop_last=False, pin_memory=True, num_workers=0)\n",
    "print(len(test_loader))"
   ]
  },
  {
   "cell_type": "code",
   "execution_count": 75,
   "id": "66e4d20f",
   "metadata": {},
   "outputs": [],
   "source": [
    "preds_list = []\n",
    "lbl_list = []\n",
    "for batch, lbls in test_loader:\n",
    "    preds = logreg_model(batch)\n",
    "    preds = preds.argmax(dim = -1)\n",
    "    preds_list.append(preds)\n",
    "    lbl_list.append(lbls)"
   ]
  },
  {
   "cell_type": "code",
   "execution_count": 81,
   "id": "20b96ada",
   "metadata": {},
   "outputs": [
    {
     "name": "stdout",
     "output_type": "stream",
     "text": [
      "              precision    recall  f1-score   support\n",
      "\n",
      "     class 1       0.99      0.98      0.98      1560\n",
      "     class 2       0.85      0.94      0.89      2363\n",
      "     class 3       0.00      0.00      0.00         2\n",
      "     class 4       0.67      0.33      0.44        49\n",
      "     class 5       0.84      0.78      0.81       610\n",
      "     class 6       0.87      0.98      0.92       753\n",
      "     class 7       0.70      0.65      0.68       886\n",
      "     class 8       0.58      0.20      0.29       284\n",
      "\n",
      "    accuracy                           0.86      6507\n",
      "   macro avg       0.69      0.61      0.63      6507\n",
      "weighted avg       0.85      0.86      0.85      6507\n",
      "\n"
     ]
    },
    {
     "name": "stderr",
     "output_type": "stream",
     "text": [
      "/home/azamat.kaibaldiyev/miniconda3/envs/contrastive_env/lib/python3.10/site-packages/sklearn/metrics/_classification.py:1344: UndefinedMetricWarning: Precision and F-score are ill-defined and being set to 0.0 in labels with no predicted samples. Use `zero_division` parameter to control this behavior.\n",
      "  _warn_prf(average, modifier, msg_start, len(result))\n",
      "/home/azamat.kaibaldiyev/miniconda3/envs/contrastive_env/lib/python3.10/site-packages/sklearn/metrics/_classification.py:1344: UndefinedMetricWarning: Precision and F-score are ill-defined and being set to 0.0 in labels with no predicted samples. Use `zero_division` parameter to control this behavior.\n",
      "  _warn_prf(average, modifier, msg_start, len(result))\n",
      "/home/azamat.kaibaldiyev/miniconda3/envs/contrastive_env/lib/python3.10/site-packages/sklearn/metrics/_classification.py:1344: UndefinedMetricWarning: Precision and F-score are ill-defined and being set to 0.0 in labels with no predicted samples. Use `zero_division` parameter to control this behavior.\n",
      "  _warn_prf(average, modifier, msg_start, len(result))\n"
     ]
    }
   ],
   "source": [
    "from sklearn.metrics import classification_report\n",
    "y_true = torch.hstack(lbl_list)\n",
    "y_pred = torch.hstack(preds_list)\n",
    "target_names = ['class 1', 'class 2', 'class 3' , 'class 4', 'class 5', 'class 6' ,'class 7', 'class 8']\n",
    "print(classification_report(y_true, y_pred, target_names=target_names))"
   ]
  },
  {
   "cell_type": "markdown",
   "id": "50d0890f",
   "metadata": {},
   "source": [
    "# Retrieving images from aws"
   ]
  },
  {
   "cell_type": "code",
   "execution_count": 9,
   "id": "e732ebf3",
   "metadata": {},
   "outputs": [
    {
     "data": {
      "text/html": [
       "<div>\n",
       "<style scoped>\n",
       "    .dataframe tbody tr th:only-of-type {\n",
       "        vertical-align: middle;\n",
       "    }\n",
       "\n",
       "    .dataframe tbody tr th {\n",
       "        vertical-align: top;\n",
       "    }\n",
       "\n",
       "    .dataframe thead th {\n",
       "        text-align: right;\n",
       "    }\n",
       "</style>\n",
       "<table border=\"1\" class=\"dataframe\">\n",
       "  <thead>\n",
       "    <tr style=\"text-align: right;\">\n",
       "      <th></th>\n",
       "      <th>Unnamed: 0</th>\n",
       "      <th>id</th>\n",
       "      <th>key</th>\n",
       "      <th>path_best</th>\n",
       "      <th>deployment.key</th>\n",
       "      <th>deployment.campaign.key</th>\n",
       "      <th>pose.lon</th>\n",
       "      <th>pose.lat</th>\n",
       "      <th>pose.dep</th>\n",
       "      <th>pose.alt</th>\n",
       "      <th>pose.timestamp</th>\n",
       "    </tr>\n",
       "  </thead>\n",
       "  <tbody>\n",
       "    <tr>\n",
       "      <th>0</th>\n",
       "      <td>0</td>\n",
       "      <td>2203941</td>\n",
       "      <td>PR_20081007_230307_118_LC16</td>\n",
       "      <td>https://s3-ap-southeast-2.amazonaws.com/imos-d...</td>\n",
       "      <td>r20081007_224547_ohara_07_transect</td>\n",
       "      <td>Tasmania200810</td>\n",
       "      <td>147.974697</td>\n",
       "      <td>-43.084549</td>\n",
       "      <td>31.978271</td>\n",
       "      <td>2.235</td>\n",
       "      <td>2008-10-07 23:03:07</td>\n",
       "    </tr>\n",
       "    <tr>\n",
       "      <th>1</th>\n",
       "      <td>1</td>\n",
       "      <td>2203942</td>\n",
       "      <td>PR_20081007_230308_119_LC16</td>\n",
       "      <td>https://s3-ap-southeast-2.amazonaws.com/imos-d...</td>\n",
       "      <td>r20081007_224547_ohara_07_transect</td>\n",
       "      <td>Tasmania200810</td>\n",
       "      <td>147.974697</td>\n",
       "      <td>-43.084551</td>\n",
       "      <td>31.942675</td>\n",
       "      <td>2.268</td>\n",
       "      <td>2008-10-07 23:03:08</td>\n",
       "    </tr>\n",
       "    <tr>\n",
       "      <th>2</th>\n",
       "      <td>2</td>\n",
       "      <td>2203943</td>\n",
       "      <td>PR_20081007_230309_117_LC16</td>\n",
       "      <td>https://s3-ap-southeast-2.amazonaws.com/imos-d...</td>\n",
       "      <td>r20081007_224547_ohara_07_transect</td>\n",
       "      <td>Tasmania200810</td>\n",
       "      <td>147.974698</td>\n",
       "      <td>-43.084551</td>\n",
       "      <td>31.956715</td>\n",
       "      <td>2.190</td>\n",
       "      <td>2008-10-07 23:03:09</td>\n",
       "    </tr>\n",
       "  </tbody>\n",
       "</table>\n",
       "</div>"
      ],
      "text/plain": [
       "   Unnamed: 0       id                          key  \\\n",
       "0           0  2203941  PR_20081007_230307_118_LC16   \n",
       "1           1  2203942  PR_20081007_230308_119_LC16   \n",
       "2           2  2203943  PR_20081007_230309_117_LC16   \n",
       "\n",
       "                                           path_best  \\\n",
       "0  https://s3-ap-southeast-2.amazonaws.com/imos-d...   \n",
       "1  https://s3-ap-southeast-2.amazonaws.com/imos-d...   \n",
       "2  https://s3-ap-southeast-2.amazonaws.com/imos-d...   \n",
       "\n",
       "                       deployment.key deployment.campaign.key    pose.lon  \\\n",
       "0  r20081007_224547_ohara_07_transect          Tasmania200810  147.974697   \n",
       "1  r20081007_224547_ohara_07_transect          Tasmania200810  147.974697   \n",
       "2  r20081007_224547_ohara_07_transect          Tasmania200810  147.974698   \n",
       "\n",
       "    pose.lat   pose.dep  pose.alt       pose.timestamp  \n",
       "0 -43.084549  31.978271     2.235  2008-10-07 23:03:07  \n",
       "1 -43.084551  31.942675     2.268  2008-10-07 23:03:08  \n",
       "2 -43.084551  31.956715     2.190  2008-10-07 23:03:09  "
      ]
     },
     "execution_count": 9,
     "metadata": {},
     "output_type": "execute_result"
    }
   ],
   "source": [
    "df_urls = pd.read_csv('Tasmania_ohara_labels/Ohara_all_images_labels/collection-u1578-Ohara_transect_07_dataset-9702-1987c9e43fa3c96d4373-dataframe.csv')\n",
    "df_urls[:3]"
   ]
  },
  {
   "cell_type": "code",
   "execution_count": 10,
   "id": "7c675cb1",
   "metadata": {},
   "outputs": [
    {
     "data": {
      "text/plain": [
       "'https://s3-ap-southeast-2.amazonaws.com/imos-data/IMOS/AUV/auv_viewer_data/images/Tasmania200810/r20081007_224547_ohara_07_transect/full_res/PR_20081007_230307_118_LC16.jpg'"
      ]
     },
     "execution_count": 10,
     "metadata": {},
     "output_type": "execute_result"
    }
   ],
   "source": [
    "df_urls['path_best'][0]"
   ]
  },
  {
   "cell_type": "code",
   "execution_count": 11,
   "id": "d1bd5118",
   "metadata": {},
   "outputs": [
    {
     "data": {
      "text/plain": [
       "'PR_20081007_230307_118_LC16'"
      ]
     },
     "execution_count": 11,
     "metadata": {},
     "output_type": "execute_result"
    }
   ],
   "source": [
    "df_urls['key'][0]"
   ]
  },
  {
   "cell_type": "code",
   "execution_count": 15,
   "id": "0d7d09cf",
   "metadata": {},
   "outputs": [
    {
     "data": {
      "text/html": [
       "<div>\n",
       "<style scoped>\n",
       "    .dataframe tbody tr th:only-of-type {\n",
       "        vertical-align: middle;\n",
       "    }\n",
       "\n",
       "    .dataframe tbody tr th {\n",
       "        vertical-align: top;\n",
       "    }\n",
       "\n",
       "    .dataframe thead th {\n",
       "        text-align: right;\n",
       "    }\n",
       "</style>\n",
       "<table border=\"1\" class=\"dataframe\">\n",
       "  <thead>\n",
       "    <tr style=\"text-align: right;\">\n",
       "      <th></th>\n",
       "      <th>Unnamed: 0</th>\n",
       "      <th>id</th>\n",
       "      <th>key</th>\n",
       "      <th>path_best</th>\n",
       "      <th>deployment.key</th>\n",
       "      <th>deployment.campaign.key</th>\n",
       "      <th>pose.lon</th>\n",
       "      <th>pose.lat</th>\n",
       "      <th>pose.dep</th>\n",
       "      <th>pose.alt</th>\n",
       "      <th>pose.timestamp</th>\n",
       "    </tr>\n",
       "  </thead>\n",
       "  <tbody>\n",
       "  </tbody>\n",
       "</table>\n",
       "</div>"
      ],
      "text/plain": [
       "Empty DataFrame\n",
       "Columns: [Unnamed: 0, id, key, path_best, deployment.key, deployment.campaign.key, pose.lon, pose.lat, pose.dep, pose.alt, pose.timestamp]\n",
       "Index: []"
      ]
     },
     "execution_count": 15,
     "metadata": {},
     "output_type": "execute_result"
    }
   ],
   "source": [
    "pd.merge(df_in, df_exist, on = 'key')"
   ]
  },
  {
   "cell_type": "code",
   "execution_count": 20,
   "id": "4da48b79",
   "metadata": {},
   "outputs": [
    {
     "data": {
      "text/html": [
       "<div>\n",
       "<style scoped>\n",
       "    .dataframe tbody tr th:only-of-type {\n",
       "        vertical-align: middle;\n",
       "    }\n",
       "\n",
       "    .dataframe tbody tr th {\n",
       "        vertical-align: top;\n",
       "    }\n",
       "\n",
       "    .dataframe thead th {\n",
       "        text-align: right;\n",
       "    }\n",
       "</style>\n",
       "<table border=\"1\" class=\"dataframe\">\n",
       "  <thead>\n",
       "    <tr style=\"text-align: right;\">\n",
       "      <th></th>\n",
       "      <th>index</th>\n",
       "      <th>Unnamed: 0</th>\n",
       "      <th>id</th>\n",
       "      <th>key</th>\n",
       "      <th>path_best</th>\n",
       "      <th>deployment.key</th>\n",
       "      <th>deployment.campaign.key</th>\n",
       "      <th>pose.lon</th>\n",
       "      <th>pose.lat</th>\n",
       "      <th>pose.dep</th>\n",
       "      <th>pose.alt</th>\n",
       "      <th>pose.timestamp</th>\n",
       "    </tr>\n",
       "  </thead>\n",
       "  <tbody>\n",
       "    <tr>\n",
       "      <th>0</th>\n",
       "      <td>6139</td>\n",
       "      <td>6139</td>\n",
       "      <td>2210211</td>\n",
       "      <td>PR_20081008_004737_977_LC16</td>\n",
       "      <td>https://s3-ap-southeast-2.amazonaws.com/imos-d...</td>\n",
       "      <td>r20081007_224547_ohara_07_transect</td>\n",
       "      <td>Tasmania200810</td>\n",
       "      <td>147.991450</td>\n",
       "      <td>-43.078151</td>\n",
       "      <td>66.466946</td>\n",
       "      <td>2.04</td>\n",
       "      <td>2008-10-08 00:47:37</td>\n",
       "    </tr>\n",
       "    <tr>\n",
       "      <th>1</th>\n",
       "      <td>6140</td>\n",
       "      <td>6140</td>\n",
       "      <td>2210212</td>\n",
       "      <td>PR_20081008_004738_978_LC16</td>\n",
       "      <td>https://s3-ap-southeast-2.amazonaws.com/imos-d...</td>\n",
       "      <td>r20081007_224547_ohara_07_transect</td>\n",
       "      <td>Tasmania200810</td>\n",
       "      <td>147.991444</td>\n",
       "      <td>-43.078149</td>\n",
       "      <td>66.458645</td>\n",
       "      <td>2.00</td>\n",
       "      <td>2008-10-08 00:47:38</td>\n",
       "    </tr>\n",
       "    <tr>\n",
       "      <th>2</th>\n",
       "      <td>6141</td>\n",
       "      <td>6141</td>\n",
       "      <td>2210213</td>\n",
       "      <td>PR_20081008_004739_978_LC16</td>\n",
       "      <td>https://s3-ap-southeast-2.amazonaws.com/imos-d...</td>\n",
       "      <td>r20081007_224547_ohara_07_transect</td>\n",
       "      <td>Tasmania200810</td>\n",
       "      <td>147.991442</td>\n",
       "      <td>-43.078147</td>\n",
       "      <td>66.464300</td>\n",
       "      <td>1.96</td>\n",
       "      <td>2008-10-08 00:47:39</td>\n",
       "    </tr>\n",
       "    <tr>\n",
       "      <th>3</th>\n",
       "      <td>6142</td>\n",
       "      <td>6142</td>\n",
       "      <td>2210214</td>\n",
       "      <td>PR_20081008_004740_975_LC16</td>\n",
       "      <td>https://s3-ap-southeast-2.amazonaws.com/imos-d...</td>\n",
       "      <td>r20081007_224547_ohara_07_transect</td>\n",
       "      <td>Tasmania200810</td>\n",
       "      <td>147.991437</td>\n",
       "      <td>-43.078144</td>\n",
       "      <td>66.478516</td>\n",
       "      <td>1.99</td>\n",
       "      <td>2008-10-08 00:47:40</td>\n",
       "    </tr>\n",
       "    <tr>\n",
       "      <th>4</th>\n",
       "      <td>6143</td>\n",
       "      <td>6143</td>\n",
       "      <td>2210215</td>\n",
       "      <td>PR_20081008_004741_975_LC16</td>\n",
       "      <td>https://s3-ap-southeast-2.amazonaws.com/imos-d...</td>\n",
       "      <td>r20081007_224547_ohara_07_transect</td>\n",
       "      <td>Tasmania200810</td>\n",
       "      <td>147.991434</td>\n",
       "      <td>-43.078143</td>\n",
       "      <td>66.481395</td>\n",
       "      <td>1.99</td>\n",
       "      <td>2008-10-08 00:47:41</td>\n",
       "    </tr>\n",
       "    <tr>\n",
       "      <th>...</th>\n",
       "      <td>...</td>\n",
       "      <td>...</td>\n",
       "      <td>...</td>\n",
       "      <td>...</td>\n",
       "      <td>...</td>\n",
       "      <td>...</td>\n",
       "      <td>...</td>\n",
       "      <td>...</td>\n",
       "      <td>...</td>\n",
       "      <td>...</td>\n",
       "      <td>...</td>\n",
       "      <td>...</td>\n",
       "    </tr>\n",
       "    <tr>\n",
       "      <th>5134</th>\n",
       "      <td>11273</td>\n",
       "      <td>11273</td>\n",
       "      <td>2209727</td>\n",
       "      <td>PR_20081008_003933_912_LC16</td>\n",
       "      <td>https://s3-ap-southeast-2.amazonaws.com/imos-d...</td>\n",
       "      <td>r20081007_224547_ohara_07_transect</td>\n",
       "      <td>Tasmania200810</td>\n",
       "      <td>147.994138</td>\n",
       "      <td>-43.078671</td>\n",
       "      <td>72.823555</td>\n",
       "      <td>2.02</td>\n",
       "      <td>2008-10-08 00:39:33</td>\n",
       "    </tr>\n",
       "    <tr>\n",
       "      <th>5135</th>\n",
       "      <td>11274</td>\n",
       "      <td>11274</td>\n",
       "      <td>2209728</td>\n",
       "      <td>PR_20081008_003934_912_LC16</td>\n",
       "      <td>https://s3-ap-southeast-2.amazonaws.com/imos-d...</td>\n",
       "      <td>r20081007_224547_ohara_07_transect</td>\n",
       "      <td>Tasmania200810</td>\n",
       "      <td>147.994133</td>\n",
       "      <td>-43.078671</td>\n",
       "      <td>72.758541</td>\n",
       "      <td>1.98</td>\n",
       "      <td>2008-10-08 00:39:34</td>\n",
       "    </tr>\n",
       "    <tr>\n",
       "      <th>5136</th>\n",
       "      <td>11275</td>\n",
       "      <td>11275</td>\n",
       "      <td>2209729</td>\n",
       "      <td>PR_20081008_003935_910_LC16</td>\n",
       "      <td>https://s3-ap-southeast-2.amazonaws.com/imos-d...</td>\n",
       "      <td>r20081007_224547_ohara_07_transect</td>\n",
       "      <td>Tasmania200810</td>\n",
       "      <td>147.994127</td>\n",
       "      <td>-43.078671</td>\n",
       "      <td>72.685300</td>\n",
       "      <td>2.01</td>\n",
       "      <td>2008-10-08 00:39:35</td>\n",
       "    </tr>\n",
       "    <tr>\n",
       "      <th>5137</th>\n",
       "      <td>11276</td>\n",
       "      <td>11276</td>\n",
       "      <td>2209730</td>\n",
       "      <td>PR_20081008_003936_912_LC16</td>\n",
       "      <td>https://s3-ap-southeast-2.amazonaws.com/imos-d...</td>\n",
       "      <td>r20081007_224547_ohara_07_transect</td>\n",
       "      <td>Tasmania200810</td>\n",
       "      <td>147.994121</td>\n",
       "      <td>-43.078671</td>\n",
       "      <td>72.645459</td>\n",
       "      <td>2.01</td>\n",
       "      <td>2008-10-08 00:39:36</td>\n",
       "    </tr>\n",
       "    <tr>\n",
       "      <th>5138</th>\n",
       "      <td>11277</td>\n",
       "      <td>11277</td>\n",
       "      <td>2209731</td>\n",
       "      <td>PR_20081008_003937_908_LC16</td>\n",
       "      <td>https://s3-ap-southeast-2.amazonaws.com/imos-d...</td>\n",
       "      <td>r20081007_224547_ohara_07_transect</td>\n",
       "      <td>Tasmania200810</td>\n",
       "      <td>147.994115</td>\n",
       "      <td>-43.078671</td>\n",
       "      <td>72.628637</td>\n",
       "      <td>1.98</td>\n",
       "      <td>2008-10-08 00:39:37</td>\n",
       "    </tr>\n",
       "  </tbody>\n",
       "</table>\n",
       "<p>5139 rows × 12 columns</p>\n",
       "</div>"
      ],
      "text/plain": [
       "      index  Unnamed: 0       id                          key  \\\n",
       "0      6139        6139  2210211  PR_20081008_004737_977_LC16   \n",
       "1      6140        6140  2210212  PR_20081008_004738_978_LC16   \n",
       "2      6141        6141  2210213  PR_20081008_004739_978_LC16   \n",
       "3      6142        6142  2210214  PR_20081008_004740_975_LC16   \n",
       "4      6143        6143  2210215  PR_20081008_004741_975_LC16   \n",
       "...     ...         ...      ...                          ...   \n",
       "5134  11273       11273  2209727  PR_20081008_003933_912_LC16   \n",
       "5135  11274       11274  2209728  PR_20081008_003934_912_LC16   \n",
       "5136  11275       11275  2209729  PR_20081008_003935_910_LC16   \n",
       "5137  11276       11276  2209730  PR_20081008_003936_912_LC16   \n",
       "5138  11277       11277  2209731  PR_20081008_003937_908_LC16   \n",
       "\n",
       "                                              path_best  \\\n",
       "0     https://s3-ap-southeast-2.amazonaws.com/imos-d...   \n",
       "1     https://s3-ap-southeast-2.amazonaws.com/imos-d...   \n",
       "2     https://s3-ap-southeast-2.amazonaws.com/imos-d...   \n",
       "3     https://s3-ap-southeast-2.amazonaws.com/imos-d...   \n",
       "4     https://s3-ap-southeast-2.amazonaws.com/imos-d...   \n",
       "...                                                 ...   \n",
       "5134  https://s3-ap-southeast-2.amazonaws.com/imos-d...   \n",
       "5135  https://s3-ap-southeast-2.amazonaws.com/imos-d...   \n",
       "5136  https://s3-ap-southeast-2.amazonaws.com/imos-d...   \n",
       "5137  https://s3-ap-southeast-2.amazonaws.com/imos-d...   \n",
       "5138  https://s3-ap-southeast-2.amazonaws.com/imos-d...   \n",
       "\n",
       "                          deployment.key deployment.campaign.key    pose.lon  \\\n",
       "0     r20081007_224547_ohara_07_transect          Tasmania200810  147.991450   \n",
       "1     r20081007_224547_ohara_07_transect          Tasmania200810  147.991444   \n",
       "2     r20081007_224547_ohara_07_transect          Tasmania200810  147.991442   \n",
       "3     r20081007_224547_ohara_07_transect          Tasmania200810  147.991437   \n",
       "4     r20081007_224547_ohara_07_transect          Tasmania200810  147.991434   \n",
       "...                                  ...                     ...         ...   \n",
       "5134  r20081007_224547_ohara_07_transect          Tasmania200810  147.994138   \n",
       "5135  r20081007_224547_ohara_07_transect          Tasmania200810  147.994133   \n",
       "5136  r20081007_224547_ohara_07_transect          Tasmania200810  147.994127   \n",
       "5137  r20081007_224547_ohara_07_transect          Tasmania200810  147.994121   \n",
       "5138  r20081007_224547_ohara_07_transect          Tasmania200810  147.994115   \n",
       "\n",
       "       pose.lat   pose.dep  pose.alt       pose.timestamp  \n",
       "0    -43.078151  66.466946      2.04  2008-10-08 00:47:37  \n",
       "1    -43.078149  66.458645      2.00  2008-10-08 00:47:38  \n",
       "2    -43.078147  66.464300      1.96  2008-10-08 00:47:39  \n",
       "3    -43.078144  66.478516      1.99  2008-10-08 00:47:40  \n",
       "4    -43.078143  66.481395      1.99  2008-10-08 00:47:41  \n",
       "...         ...        ...       ...                  ...  \n",
       "5134 -43.078671  72.823555      2.02  2008-10-08 00:39:33  \n",
       "5135 -43.078671  72.758541      1.98  2008-10-08 00:39:34  \n",
       "5136 -43.078671  72.685300      2.01  2008-10-08 00:39:35  \n",
       "5137 -43.078671  72.645459      2.01  2008-10-08 00:39:36  \n",
       "5138 -43.078671  72.628637      1.98  2008-10-08 00:39:37  \n",
       "\n",
       "[5139 rows x 12 columns]"
      ]
     },
     "execution_count": 20,
     "metadata": {},
     "output_type": "execute_result"
    }
   ],
   "source": [
    "exist_images = glob.glob('Tasmania_ohara_labels/Ohara_all_images_labels/image_labels/*')\n",
    "df_exist = pd.DataFrame(exist_images, columns =['key'])\n",
    "df_exist['key'] = df_exist['key'].str.split('/').str[-1]\n",
    "#perform outer join\n",
    "outer = df_urls.merge(df_exist, how='outer', indicator=True)\n",
    "#perform anti-join\n",
    "anti_join = outer[(outer._merge=='left_only')].drop('_merge', axis=1)\n",
    "\n",
    "df_in = anti_join.reset_index()\n",
    "df_in"
   ]
  },
  {
   "cell_type": "code",
   "execution_count": 21,
   "id": "cac585e7",
   "metadata": {},
   "outputs": [
    {
     "name": "stdout",
     "output_type": "stream",
     "text": [
      "0\n",
      "0\n",
      "1\n",
      "2\n",
      "3\n",
      "4\n"
     ]
    },
    {
     "ename": "KeyboardInterrupt",
     "evalue": "",
     "output_type": "error",
     "traceback": [
      "\u001b[0;31m---------------------------------------------------------------------------\u001b[0m",
      "\u001b[0;31mKeyboardInterrupt\u001b[0m                         Traceback (most recent call last)",
      "Cell \u001b[0;32mIn[21], line 19\u001b[0m\n\u001b[1;32m     17\u001b[0m \u001b[38;5;28;01mfor\u001b[39;00m i \u001b[38;5;129;01min\u001b[39;00m \u001b[38;5;28mrange\u001b[39m(\u001b[38;5;28mlen\u001b[39m(df_in)):  \n\u001b[1;32m     18\u001b[0m     \u001b[38;5;28mprint\u001b[39m(i)\n\u001b[0;32m---> 19\u001b[0m     \u001b[43msave_image_from_url\u001b[49m\u001b[43m(\u001b[49m\u001b[43mdf_in\u001b[49m\u001b[43m,\u001b[49m\u001b[43m \u001b[49m\u001b[43mi\u001b[49m\u001b[43m)\u001b[49m\n\u001b[1;32m     20\u001b[0m     \u001b[38;5;28;01mif\u001b[39;00m i\u001b[38;5;241m%\u001b[39m\u001b[38;5;241m400\u001b[39m\u001b[38;5;241m==\u001b[39m\u001b[38;5;241m0\u001b[39m:\n\u001b[1;32m     21\u001b[0m         \u001b[38;5;28mprint\u001b[39m(i)\n",
      "Cell \u001b[0;32mIn[21], line 8\u001b[0m, in \u001b[0;36msave_image_from_url\u001b[0;34m(df, idx)\u001b[0m\n\u001b[1;32m      5\u001b[0m path \u001b[38;5;241m=\u001b[39m \u001b[38;5;124m'\u001b[39m\u001b[38;5;124mTasmania_ohara_labels/Ohara_all_images_labels/image_labels/\u001b[39m\u001b[38;5;124m'\u001b[39m\n\u001b[1;32m      6\u001b[0m file_name \u001b[38;5;241m=\u001b[39m path \u001b[38;5;241m+\u001b[39m df[\u001b[38;5;124m'\u001b[39m\u001b[38;5;124mkey\u001b[39m\u001b[38;5;124m'\u001b[39m][idx]\n\u001b[0;32m----> 8\u001b[0m res \u001b[38;5;241m=\u001b[39m \u001b[43mrequests\u001b[49m\u001b[38;5;241;43m.\u001b[39;49m\u001b[43mget\u001b[49m\u001b[43m(\u001b[49m\u001b[43murl\u001b[49m\u001b[43m,\u001b[49m\u001b[43m \u001b[49m\u001b[43mstream\u001b[49m\u001b[43m \u001b[49m\u001b[38;5;241;43m=\u001b[39;49m\u001b[43m \u001b[49m\u001b[38;5;28;43;01mTrue\u001b[39;49;00m\u001b[43m)\u001b[49m\n\u001b[1;32m     10\u001b[0m \u001b[38;5;28;01mif\u001b[39;00m res\u001b[38;5;241m.\u001b[39mstatus_code \u001b[38;5;241m==\u001b[39m \u001b[38;5;241m200\u001b[39m:\n\u001b[1;32m     11\u001b[0m     \u001b[38;5;28;01mwith\u001b[39;00m \u001b[38;5;28mopen\u001b[39m(file_name,\u001b[38;5;124m'\u001b[39m\u001b[38;5;124mwb\u001b[39m\u001b[38;5;124m'\u001b[39m) \u001b[38;5;28;01mas\u001b[39;00m f:\n",
      "File \u001b[0;32m~/miniconda3/envs/contrastive_env/lib/python3.10/site-packages/requests/api.py:73\u001b[0m, in \u001b[0;36mget\u001b[0;34m(url, params, **kwargs)\u001b[0m\n\u001b[1;32m     62\u001b[0m \u001b[38;5;28;01mdef\u001b[39;00m \u001b[38;5;21mget\u001b[39m(url, params\u001b[38;5;241m=\u001b[39m\u001b[38;5;28;01mNone\u001b[39;00m, \u001b[38;5;241m*\u001b[39m\u001b[38;5;241m*\u001b[39mkwargs):\n\u001b[1;32m     63\u001b[0m     \u001b[38;5;124mr\u001b[39m\u001b[38;5;124;03m\"\"\"Sends a GET request.\u001b[39;00m\n\u001b[1;32m     64\u001b[0m \n\u001b[1;32m     65\u001b[0m \u001b[38;5;124;03m    :param url: URL for the new :class:`Request` object.\u001b[39;00m\n\u001b[0;32m   (...)\u001b[0m\n\u001b[1;32m     70\u001b[0m \u001b[38;5;124;03m    :rtype: requests.Response\u001b[39;00m\n\u001b[1;32m     71\u001b[0m \u001b[38;5;124;03m    \"\"\"\u001b[39;00m\n\u001b[0;32m---> 73\u001b[0m     \u001b[38;5;28;01mreturn\u001b[39;00m \u001b[43mrequest\u001b[49m\u001b[43m(\u001b[49m\u001b[38;5;124;43m\"\u001b[39;49m\u001b[38;5;124;43mget\u001b[39;49m\u001b[38;5;124;43m\"\u001b[39;49m\u001b[43m,\u001b[49m\u001b[43m \u001b[49m\u001b[43murl\u001b[49m\u001b[43m,\u001b[49m\u001b[43m \u001b[49m\u001b[43mparams\u001b[49m\u001b[38;5;241;43m=\u001b[39;49m\u001b[43mparams\u001b[49m\u001b[43m,\u001b[49m\u001b[43m \u001b[49m\u001b[38;5;241;43m*\u001b[39;49m\u001b[38;5;241;43m*\u001b[39;49m\u001b[43mkwargs\u001b[49m\u001b[43m)\u001b[49m\n",
      "File \u001b[0;32m~/miniconda3/envs/contrastive_env/lib/python3.10/site-packages/requests/api.py:59\u001b[0m, in \u001b[0;36mrequest\u001b[0;34m(method, url, **kwargs)\u001b[0m\n\u001b[1;32m     55\u001b[0m \u001b[38;5;66;03m# By using the 'with' statement we are sure the session is closed, thus we\u001b[39;00m\n\u001b[1;32m     56\u001b[0m \u001b[38;5;66;03m# avoid leaving sockets open which can trigger a ResourceWarning in some\u001b[39;00m\n\u001b[1;32m     57\u001b[0m \u001b[38;5;66;03m# cases, and look like a memory leak in others.\u001b[39;00m\n\u001b[1;32m     58\u001b[0m \u001b[38;5;28;01mwith\u001b[39;00m sessions\u001b[38;5;241m.\u001b[39mSession() \u001b[38;5;28;01mas\u001b[39;00m session:\n\u001b[0;32m---> 59\u001b[0m     \u001b[38;5;28;01mreturn\u001b[39;00m \u001b[43msession\u001b[49m\u001b[38;5;241;43m.\u001b[39;49m\u001b[43mrequest\u001b[49m\u001b[43m(\u001b[49m\u001b[43mmethod\u001b[49m\u001b[38;5;241;43m=\u001b[39;49m\u001b[43mmethod\u001b[49m\u001b[43m,\u001b[49m\u001b[43m \u001b[49m\u001b[43murl\u001b[49m\u001b[38;5;241;43m=\u001b[39;49m\u001b[43murl\u001b[49m\u001b[43m,\u001b[49m\u001b[43m \u001b[49m\u001b[38;5;241;43m*\u001b[39;49m\u001b[38;5;241;43m*\u001b[39;49m\u001b[43mkwargs\u001b[49m\u001b[43m)\u001b[49m\n",
      "File \u001b[0;32m~/miniconda3/envs/contrastive_env/lib/python3.10/site-packages/requests/sessions.py:587\u001b[0m, in \u001b[0;36mSession.request\u001b[0;34m(self, method, url, params, data, headers, cookies, files, auth, timeout, allow_redirects, proxies, hooks, stream, verify, cert, json)\u001b[0m\n\u001b[1;32m    582\u001b[0m send_kwargs \u001b[38;5;241m=\u001b[39m {\n\u001b[1;32m    583\u001b[0m     \u001b[38;5;124m\"\u001b[39m\u001b[38;5;124mtimeout\u001b[39m\u001b[38;5;124m\"\u001b[39m: timeout,\n\u001b[1;32m    584\u001b[0m     \u001b[38;5;124m\"\u001b[39m\u001b[38;5;124mallow_redirects\u001b[39m\u001b[38;5;124m\"\u001b[39m: allow_redirects,\n\u001b[1;32m    585\u001b[0m }\n\u001b[1;32m    586\u001b[0m send_kwargs\u001b[38;5;241m.\u001b[39mupdate(settings)\n\u001b[0;32m--> 587\u001b[0m resp \u001b[38;5;241m=\u001b[39m \u001b[38;5;28;43mself\u001b[39;49m\u001b[38;5;241;43m.\u001b[39;49m\u001b[43msend\u001b[49m\u001b[43m(\u001b[49m\u001b[43mprep\u001b[49m\u001b[43m,\u001b[49m\u001b[43m \u001b[49m\u001b[38;5;241;43m*\u001b[39;49m\u001b[38;5;241;43m*\u001b[39;49m\u001b[43msend_kwargs\u001b[49m\u001b[43m)\u001b[49m\n\u001b[1;32m    589\u001b[0m \u001b[38;5;28;01mreturn\u001b[39;00m resp\n",
      "File \u001b[0;32m~/miniconda3/envs/contrastive_env/lib/python3.10/site-packages/requests/sessions.py:701\u001b[0m, in \u001b[0;36mSession.send\u001b[0;34m(self, request, **kwargs)\u001b[0m\n\u001b[1;32m    698\u001b[0m start \u001b[38;5;241m=\u001b[39m preferred_clock()\n\u001b[1;32m    700\u001b[0m \u001b[38;5;66;03m# Send the request\u001b[39;00m\n\u001b[0;32m--> 701\u001b[0m r \u001b[38;5;241m=\u001b[39m \u001b[43madapter\u001b[49m\u001b[38;5;241;43m.\u001b[39;49m\u001b[43msend\u001b[49m\u001b[43m(\u001b[49m\u001b[43mrequest\u001b[49m\u001b[43m,\u001b[49m\u001b[43m \u001b[49m\u001b[38;5;241;43m*\u001b[39;49m\u001b[38;5;241;43m*\u001b[39;49m\u001b[43mkwargs\u001b[49m\u001b[43m)\u001b[49m\n\u001b[1;32m    703\u001b[0m \u001b[38;5;66;03m# Total elapsed time of the request (approximately)\u001b[39;00m\n\u001b[1;32m    704\u001b[0m elapsed \u001b[38;5;241m=\u001b[39m preferred_clock() \u001b[38;5;241m-\u001b[39m start\n",
      "File \u001b[0;32m~/miniconda3/envs/contrastive_env/lib/python3.10/site-packages/requests/adapters.py:489\u001b[0m, in \u001b[0;36mHTTPAdapter.send\u001b[0;34m(self, request, stream, timeout, verify, cert, proxies)\u001b[0m\n\u001b[1;32m    487\u001b[0m \u001b[38;5;28;01mtry\u001b[39;00m:\n\u001b[1;32m    488\u001b[0m     \u001b[38;5;28;01mif\u001b[39;00m \u001b[38;5;129;01mnot\u001b[39;00m chunked:\n\u001b[0;32m--> 489\u001b[0m         resp \u001b[38;5;241m=\u001b[39m \u001b[43mconn\u001b[49m\u001b[38;5;241;43m.\u001b[39;49m\u001b[43murlopen\u001b[49m\u001b[43m(\u001b[49m\n\u001b[1;32m    490\u001b[0m \u001b[43m            \u001b[49m\u001b[43mmethod\u001b[49m\u001b[38;5;241;43m=\u001b[39;49m\u001b[43mrequest\u001b[49m\u001b[38;5;241;43m.\u001b[39;49m\u001b[43mmethod\u001b[49m\u001b[43m,\u001b[49m\n\u001b[1;32m    491\u001b[0m \u001b[43m            \u001b[49m\u001b[43murl\u001b[49m\u001b[38;5;241;43m=\u001b[39;49m\u001b[43murl\u001b[49m\u001b[43m,\u001b[49m\n\u001b[1;32m    492\u001b[0m \u001b[43m            \u001b[49m\u001b[43mbody\u001b[49m\u001b[38;5;241;43m=\u001b[39;49m\u001b[43mrequest\u001b[49m\u001b[38;5;241;43m.\u001b[39;49m\u001b[43mbody\u001b[49m\u001b[43m,\u001b[49m\n\u001b[1;32m    493\u001b[0m \u001b[43m            \u001b[49m\u001b[43mheaders\u001b[49m\u001b[38;5;241;43m=\u001b[39;49m\u001b[43mrequest\u001b[49m\u001b[38;5;241;43m.\u001b[39;49m\u001b[43mheaders\u001b[49m\u001b[43m,\u001b[49m\n\u001b[1;32m    494\u001b[0m \u001b[43m            \u001b[49m\u001b[43mredirect\u001b[49m\u001b[38;5;241;43m=\u001b[39;49m\u001b[38;5;28;43;01mFalse\u001b[39;49;00m\u001b[43m,\u001b[49m\n\u001b[1;32m    495\u001b[0m \u001b[43m            \u001b[49m\u001b[43massert_same_host\u001b[49m\u001b[38;5;241;43m=\u001b[39;49m\u001b[38;5;28;43;01mFalse\u001b[39;49;00m\u001b[43m,\u001b[49m\n\u001b[1;32m    496\u001b[0m \u001b[43m            \u001b[49m\u001b[43mpreload_content\u001b[49m\u001b[38;5;241;43m=\u001b[39;49m\u001b[38;5;28;43;01mFalse\u001b[39;49;00m\u001b[43m,\u001b[49m\n\u001b[1;32m    497\u001b[0m \u001b[43m            \u001b[49m\u001b[43mdecode_content\u001b[49m\u001b[38;5;241;43m=\u001b[39;49m\u001b[38;5;28;43;01mFalse\u001b[39;49;00m\u001b[43m,\u001b[49m\n\u001b[1;32m    498\u001b[0m \u001b[43m            \u001b[49m\u001b[43mretries\u001b[49m\u001b[38;5;241;43m=\u001b[39;49m\u001b[38;5;28;43mself\u001b[39;49m\u001b[38;5;241;43m.\u001b[39;49m\u001b[43mmax_retries\u001b[49m\u001b[43m,\u001b[49m\n\u001b[1;32m    499\u001b[0m \u001b[43m            \u001b[49m\u001b[43mtimeout\u001b[49m\u001b[38;5;241;43m=\u001b[39;49m\u001b[43mtimeout\u001b[49m\u001b[43m,\u001b[49m\n\u001b[1;32m    500\u001b[0m \u001b[43m        \u001b[49m\u001b[43m)\u001b[49m\n\u001b[1;32m    502\u001b[0m     \u001b[38;5;66;03m# Send the request.\u001b[39;00m\n\u001b[1;32m    503\u001b[0m     \u001b[38;5;28;01melse\u001b[39;00m:\n\u001b[1;32m    504\u001b[0m         \u001b[38;5;28;01mif\u001b[39;00m \u001b[38;5;28mhasattr\u001b[39m(conn, \u001b[38;5;124m\"\u001b[39m\u001b[38;5;124mproxy_pool\u001b[39m\u001b[38;5;124m\"\u001b[39m):\n",
      "File \u001b[0;32m~/miniconda3/envs/contrastive_env/lib/python3.10/site-packages/urllib3/connectionpool.py:703\u001b[0m, in \u001b[0;36mHTTPConnectionPool.urlopen\u001b[0;34m(self, method, url, body, headers, retries, redirect, assert_same_host, timeout, pool_timeout, release_conn, chunked, body_pos, **response_kw)\u001b[0m\n\u001b[1;32m    700\u001b[0m     \u001b[38;5;28mself\u001b[39m\u001b[38;5;241m.\u001b[39m_prepare_proxy(conn)\n\u001b[1;32m    702\u001b[0m \u001b[38;5;66;03m# Make the request on the httplib connection object.\u001b[39;00m\n\u001b[0;32m--> 703\u001b[0m httplib_response \u001b[38;5;241m=\u001b[39m \u001b[38;5;28;43mself\u001b[39;49m\u001b[38;5;241;43m.\u001b[39;49m\u001b[43m_make_request\u001b[49m\u001b[43m(\u001b[49m\n\u001b[1;32m    704\u001b[0m \u001b[43m    \u001b[49m\u001b[43mconn\u001b[49m\u001b[43m,\u001b[49m\n\u001b[1;32m    705\u001b[0m \u001b[43m    \u001b[49m\u001b[43mmethod\u001b[49m\u001b[43m,\u001b[49m\n\u001b[1;32m    706\u001b[0m \u001b[43m    \u001b[49m\u001b[43murl\u001b[49m\u001b[43m,\u001b[49m\n\u001b[1;32m    707\u001b[0m \u001b[43m    \u001b[49m\u001b[43mtimeout\u001b[49m\u001b[38;5;241;43m=\u001b[39;49m\u001b[43mtimeout_obj\u001b[49m\u001b[43m,\u001b[49m\n\u001b[1;32m    708\u001b[0m \u001b[43m    \u001b[49m\u001b[43mbody\u001b[49m\u001b[38;5;241;43m=\u001b[39;49m\u001b[43mbody\u001b[49m\u001b[43m,\u001b[49m\n\u001b[1;32m    709\u001b[0m \u001b[43m    \u001b[49m\u001b[43mheaders\u001b[49m\u001b[38;5;241;43m=\u001b[39;49m\u001b[43mheaders\u001b[49m\u001b[43m,\u001b[49m\n\u001b[1;32m    710\u001b[0m \u001b[43m    \u001b[49m\u001b[43mchunked\u001b[49m\u001b[38;5;241;43m=\u001b[39;49m\u001b[43mchunked\u001b[49m\u001b[43m,\u001b[49m\n\u001b[1;32m    711\u001b[0m \u001b[43m\u001b[49m\u001b[43m)\u001b[49m\n\u001b[1;32m    713\u001b[0m \u001b[38;5;66;03m# If we're going to release the connection in ``finally:``, then\u001b[39;00m\n\u001b[1;32m    714\u001b[0m \u001b[38;5;66;03m# the response doesn't need to know about the connection. Otherwise\u001b[39;00m\n\u001b[1;32m    715\u001b[0m \u001b[38;5;66;03m# it will also try to release it and we'll have a double-release\u001b[39;00m\n\u001b[1;32m    716\u001b[0m \u001b[38;5;66;03m# mess.\u001b[39;00m\n\u001b[1;32m    717\u001b[0m response_conn \u001b[38;5;241m=\u001b[39m conn \u001b[38;5;28;01mif\u001b[39;00m \u001b[38;5;129;01mnot\u001b[39;00m release_conn \u001b[38;5;28;01melse\u001b[39;00m \u001b[38;5;28;01mNone\u001b[39;00m\n",
      "File \u001b[0;32m~/miniconda3/envs/contrastive_env/lib/python3.10/site-packages/urllib3/connectionpool.py:449\u001b[0m, in \u001b[0;36mHTTPConnectionPool._make_request\u001b[0;34m(self, conn, method, url, timeout, chunked, **httplib_request_kw)\u001b[0m\n\u001b[1;32m    444\u001b[0m             httplib_response \u001b[38;5;241m=\u001b[39m conn\u001b[38;5;241m.\u001b[39mgetresponse()\n\u001b[1;32m    445\u001b[0m         \u001b[38;5;28;01mexcept\u001b[39;00m \u001b[38;5;167;01mBaseException\u001b[39;00m \u001b[38;5;28;01mas\u001b[39;00m e:\n\u001b[1;32m    446\u001b[0m             \u001b[38;5;66;03m# Remove the TypeError from the exception chain in\u001b[39;00m\n\u001b[1;32m    447\u001b[0m             \u001b[38;5;66;03m# Python 3 (including for exceptions like SystemExit).\u001b[39;00m\n\u001b[1;32m    448\u001b[0m             \u001b[38;5;66;03m# Otherwise it looks like a bug in the code.\u001b[39;00m\n\u001b[0;32m--> 449\u001b[0m             \u001b[43msix\u001b[49m\u001b[38;5;241;43m.\u001b[39;49m\u001b[43mraise_from\u001b[49m\u001b[43m(\u001b[49m\u001b[43me\u001b[49m\u001b[43m,\u001b[49m\u001b[43m \u001b[49m\u001b[38;5;28;43;01mNone\u001b[39;49;00m\u001b[43m)\u001b[49m\n\u001b[1;32m    450\u001b[0m \u001b[38;5;28;01mexcept\u001b[39;00m (SocketTimeout, BaseSSLError, SocketError) \u001b[38;5;28;01mas\u001b[39;00m e:\n\u001b[1;32m    451\u001b[0m     \u001b[38;5;28mself\u001b[39m\u001b[38;5;241m.\u001b[39m_raise_timeout(err\u001b[38;5;241m=\u001b[39me, url\u001b[38;5;241m=\u001b[39murl, timeout_value\u001b[38;5;241m=\u001b[39mread_timeout)\n",
      "File \u001b[0;32m<string>:3\u001b[0m, in \u001b[0;36mraise_from\u001b[0;34m(value, from_value)\u001b[0m\n",
      "File \u001b[0;32m~/miniconda3/envs/contrastive_env/lib/python3.10/site-packages/urllib3/connectionpool.py:444\u001b[0m, in \u001b[0;36mHTTPConnectionPool._make_request\u001b[0;34m(self, conn, method, url, timeout, chunked, **httplib_request_kw)\u001b[0m\n\u001b[1;32m    441\u001b[0m \u001b[38;5;28;01mexcept\u001b[39;00m \u001b[38;5;167;01mTypeError\u001b[39;00m:\n\u001b[1;32m    442\u001b[0m     \u001b[38;5;66;03m# Python 3\u001b[39;00m\n\u001b[1;32m    443\u001b[0m     \u001b[38;5;28;01mtry\u001b[39;00m:\n\u001b[0;32m--> 444\u001b[0m         httplib_response \u001b[38;5;241m=\u001b[39m \u001b[43mconn\u001b[49m\u001b[38;5;241;43m.\u001b[39;49m\u001b[43mgetresponse\u001b[49m\u001b[43m(\u001b[49m\u001b[43m)\u001b[49m\n\u001b[1;32m    445\u001b[0m     \u001b[38;5;28;01mexcept\u001b[39;00m \u001b[38;5;167;01mBaseException\u001b[39;00m \u001b[38;5;28;01mas\u001b[39;00m e:\n\u001b[1;32m    446\u001b[0m         \u001b[38;5;66;03m# Remove the TypeError from the exception chain in\u001b[39;00m\n\u001b[1;32m    447\u001b[0m         \u001b[38;5;66;03m# Python 3 (including for exceptions like SystemExit).\u001b[39;00m\n\u001b[1;32m    448\u001b[0m         \u001b[38;5;66;03m# Otherwise it looks like a bug in the code.\u001b[39;00m\n\u001b[1;32m    449\u001b[0m         six\u001b[38;5;241m.\u001b[39mraise_from(e, \u001b[38;5;28;01mNone\u001b[39;00m)\n",
      "File \u001b[0;32m~/miniconda3/envs/contrastive_env/lib/python3.10/http/client.py:1374\u001b[0m, in \u001b[0;36mHTTPConnection.getresponse\u001b[0;34m(self)\u001b[0m\n\u001b[1;32m   1372\u001b[0m \u001b[38;5;28;01mtry\u001b[39;00m:\n\u001b[1;32m   1373\u001b[0m     \u001b[38;5;28;01mtry\u001b[39;00m:\n\u001b[0;32m-> 1374\u001b[0m         \u001b[43mresponse\u001b[49m\u001b[38;5;241;43m.\u001b[39;49m\u001b[43mbegin\u001b[49m\u001b[43m(\u001b[49m\u001b[43m)\u001b[49m\n\u001b[1;32m   1375\u001b[0m     \u001b[38;5;28;01mexcept\u001b[39;00m \u001b[38;5;167;01mConnectionError\u001b[39;00m:\n\u001b[1;32m   1376\u001b[0m         \u001b[38;5;28mself\u001b[39m\u001b[38;5;241m.\u001b[39mclose()\n",
      "File \u001b[0;32m~/miniconda3/envs/contrastive_env/lib/python3.10/http/client.py:318\u001b[0m, in \u001b[0;36mHTTPResponse.begin\u001b[0;34m(self)\u001b[0m\n\u001b[1;32m    316\u001b[0m \u001b[38;5;66;03m# read until we get a non-100 response\u001b[39;00m\n\u001b[1;32m    317\u001b[0m \u001b[38;5;28;01mwhile\u001b[39;00m \u001b[38;5;28;01mTrue\u001b[39;00m:\n\u001b[0;32m--> 318\u001b[0m     version, status, reason \u001b[38;5;241m=\u001b[39m \u001b[38;5;28;43mself\u001b[39;49m\u001b[38;5;241;43m.\u001b[39;49m\u001b[43m_read_status\u001b[49m\u001b[43m(\u001b[49m\u001b[43m)\u001b[49m\n\u001b[1;32m    319\u001b[0m     \u001b[38;5;28;01mif\u001b[39;00m status \u001b[38;5;241m!=\u001b[39m CONTINUE:\n\u001b[1;32m    320\u001b[0m         \u001b[38;5;28;01mbreak\u001b[39;00m\n",
      "File \u001b[0;32m~/miniconda3/envs/contrastive_env/lib/python3.10/http/client.py:279\u001b[0m, in \u001b[0;36mHTTPResponse._read_status\u001b[0;34m(self)\u001b[0m\n\u001b[1;32m    278\u001b[0m \u001b[38;5;28;01mdef\u001b[39;00m \u001b[38;5;21m_read_status\u001b[39m(\u001b[38;5;28mself\u001b[39m):\n\u001b[0;32m--> 279\u001b[0m     line \u001b[38;5;241m=\u001b[39m \u001b[38;5;28mstr\u001b[39m(\u001b[38;5;28;43mself\u001b[39;49m\u001b[38;5;241;43m.\u001b[39;49m\u001b[43mfp\u001b[49m\u001b[38;5;241;43m.\u001b[39;49m\u001b[43mreadline\u001b[49m\u001b[43m(\u001b[49m\u001b[43m_MAXLINE\u001b[49m\u001b[43m \u001b[49m\u001b[38;5;241;43m+\u001b[39;49m\u001b[43m \u001b[49m\u001b[38;5;241;43m1\u001b[39;49m\u001b[43m)\u001b[49m, \u001b[38;5;124m\"\u001b[39m\u001b[38;5;124miso-8859-1\u001b[39m\u001b[38;5;124m\"\u001b[39m)\n\u001b[1;32m    280\u001b[0m     \u001b[38;5;28;01mif\u001b[39;00m \u001b[38;5;28mlen\u001b[39m(line) \u001b[38;5;241m>\u001b[39m _MAXLINE:\n\u001b[1;32m    281\u001b[0m         \u001b[38;5;28;01mraise\u001b[39;00m LineTooLong(\u001b[38;5;124m\"\u001b[39m\u001b[38;5;124mstatus line\u001b[39m\u001b[38;5;124m\"\u001b[39m)\n",
      "File \u001b[0;32m~/miniconda3/envs/contrastive_env/lib/python3.10/socket.py:705\u001b[0m, in \u001b[0;36mSocketIO.readinto\u001b[0;34m(self, b)\u001b[0m\n\u001b[1;32m    703\u001b[0m \u001b[38;5;28;01mwhile\u001b[39;00m \u001b[38;5;28;01mTrue\u001b[39;00m:\n\u001b[1;32m    704\u001b[0m     \u001b[38;5;28;01mtry\u001b[39;00m:\n\u001b[0;32m--> 705\u001b[0m         \u001b[38;5;28;01mreturn\u001b[39;00m \u001b[38;5;28;43mself\u001b[39;49m\u001b[38;5;241;43m.\u001b[39;49m\u001b[43m_sock\u001b[49m\u001b[38;5;241;43m.\u001b[39;49m\u001b[43mrecv_into\u001b[49m\u001b[43m(\u001b[49m\u001b[43mb\u001b[49m\u001b[43m)\u001b[49m\n\u001b[1;32m    706\u001b[0m     \u001b[38;5;28;01mexcept\u001b[39;00m timeout:\n\u001b[1;32m    707\u001b[0m         \u001b[38;5;28mself\u001b[39m\u001b[38;5;241m.\u001b[39m_timeout_occurred \u001b[38;5;241m=\u001b[39m \u001b[38;5;28;01mTrue\u001b[39;00m\n",
      "File \u001b[0;32m~/miniconda3/envs/contrastive_env/lib/python3.10/ssl.py:1274\u001b[0m, in \u001b[0;36mSSLSocket.recv_into\u001b[0;34m(self, buffer, nbytes, flags)\u001b[0m\n\u001b[1;32m   1270\u001b[0m     \u001b[38;5;28;01mif\u001b[39;00m flags \u001b[38;5;241m!=\u001b[39m \u001b[38;5;241m0\u001b[39m:\n\u001b[1;32m   1271\u001b[0m         \u001b[38;5;28;01mraise\u001b[39;00m \u001b[38;5;167;01mValueError\u001b[39;00m(\n\u001b[1;32m   1272\u001b[0m           \u001b[38;5;124m\"\u001b[39m\u001b[38;5;124mnon-zero flags not allowed in calls to recv_into() on \u001b[39m\u001b[38;5;132;01m%s\u001b[39;00m\u001b[38;5;124m\"\u001b[39m \u001b[38;5;241m%\u001b[39m\n\u001b[1;32m   1273\u001b[0m           \u001b[38;5;28mself\u001b[39m\u001b[38;5;241m.\u001b[39m\u001b[38;5;18m__class__\u001b[39m)\n\u001b[0;32m-> 1274\u001b[0m     \u001b[38;5;28;01mreturn\u001b[39;00m \u001b[38;5;28;43mself\u001b[39;49m\u001b[38;5;241;43m.\u001b[39;49m\u001b[43mread\u001b[49m\u001b[43m(\u001b[49m\u001b[43mnbytes\u001b[49m\u001b[43m,\u001b[49m\u001b[43m \u001b[49m\u001b[43mbuffer\u001b[49m\u001b[43m)\u001b[49m\n\u001b[1;32m   1275\u001b[0m \u001b[38;5;28;01melse\u001b[39;00m:\n\u001b[1;32m   1276\u001b[0m     \u001b[38;5;28;01mreturn\u001b[39;00m \u001b[38;5;28msuper\u001b[39m()\u001b[38;5;241m.\u001b[39mrecv_into(buffer, nbytes, flags)\n",
      "File \u001b[0;32m~/miniconda3/envs/contrastive_env/lib/python3.10/ssl.py:1130\u001b[0m, in \u001b[0;36mSSLSocket.read\u001b[0;34m(self, len, buffer)\u001b[0m\n\u001b[1;32m   1128\u001b[0m \u001b[38;5;28;01mtry\u001b[39;00m:\n\u001b[1;32m   1129\u001b[0m     \u001b[38;5;28;01mif\u001b[39;00m buffer \u001b[38;5;129;01mis\u001b[39;00m \u001b[38;5;129;01mnot\u001b[39;00m \u001b[38;5;28;01mNone\u001b[39;00m:\n\u001b[0;32m-> 1130\u001b[0m         \u001b[38;5;28;01mreturn\u001b[39;00m \u001b[38;5;28;43mself\u001b[39;49m\u001b[38;5;241;43m.\u001b[39;49m\u001b[43m_sslobj\u001b[49m\u001b[38;5;241;43m.\u001b[39;49m\u001b[43mread\u001b[49m\u001b[43m(\u001b[49m\u001b[38;5;28;43mlen\u001b[39;49m\u001b[43m,\u001b[49m\u001b[43m \u001b[49m\u001b[43mbuffer\u001b[49m\u001b[43m)\u001b[49m\n\u001b[1;32m   1131\u001b[0m     \u001b[38;5;28;01melse\u001b[39;00m:\n\u001b[1;32m   1132\u001b[0m         \u001b[38;5;28;01mreturn\u001b[39;00m \u001b[38;5;28mself\u001b[39m\u001b[38;5;241m.\u001b[39m_sslobj\u001b[38;5;241m.\u001b[39mread(\u001b[38;5;28mlen\u001b[39m)\n",
      "\u001b[0;31mKeyboardInterrupt\u001b[0m: "
     ]
    }
   ],
   "source": [
    "import requests # request img from web\n",
    "import shutil # save img locally\n",
    "def save_image_from_url(df, idx):\n",
    "    url = df['path_best'][idx] \n",
    "    path = 'Tasmania_ohara_labels/Ohara_all_images_labels/image_labels/'\n",
    "    file_name = path + df['key'][idx]\n",
    "\n",
    "    res = requests.get(url, stream = True)\n",
    "\n",
    "    if res.status_code == 200:\n",
    "        with open(file_name,'wb') as f:\n",
    "            shutil.copyfileobj(res.raw, f)\n",
    "        #print('Image sucessfully Downloaded: ',file_name)\n",
    "    else:\n",
    "        print('Image Couldn\\'t be retrieved')\n",
    "        \n",
    "for i in range(len(df_in)):  \n",
    "    save_image_from_url(df_in, i)\n",
    "    if i%400==0:\n",
    "        print(i)"
   ]
  },
  {
   "cell_type": "raw",
   "id": "d1a48d0e",
   "metadata": {},
   "source": [
    "from PIL import Image\n",
    "  \n",
    "# open method used to open different extension image file\n",
    "im = Image.open(r'Tasmania_ohara_labels/Ohara_all_images_labels/image_labels/PR_20081007_230307_118_LC16')\n",
    "# This method will show image in any image viewer \n",
    "im"
   ]
  },
  {
   "cell_type": "code",
   "execution_count": null,
   "id": "6614bf6e",
   "metadata": {},
   "outputs": [],
   "source": []
  }
 ],
 "metadata": {
  "kernelspec": {
   "display_name": "Python 3 (ipykernel)",
   "language": "python",
   "name": "python3"
  },
  "language_info": {
   "codemirror_mode": {
    "name": "ipython",
    "version": 3
   },
   "file_extension": ".py",
   "mimetype": "text/x-python",
   "name": "python",
   "nbconvert_exporter": "python",
   "pygments_lexer": "ipython3",
   "version": "3.10.9"
  }
 },
 "nbformat": 4,
 "nbformat_minor": 5
}
