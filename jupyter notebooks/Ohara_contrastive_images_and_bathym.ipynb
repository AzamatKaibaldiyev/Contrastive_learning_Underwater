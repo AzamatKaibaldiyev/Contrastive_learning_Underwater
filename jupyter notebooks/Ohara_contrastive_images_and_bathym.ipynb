{
 "cells": [
  {
   "cell_type": "code",
   "execution_count": 3,
   "id": "f4f34fd9",
   "metadata": {},
   "outputs": [
    {
     "name": "stderr",
     "output_type": "stream",
     "text": [
      "[rank: 0] Global seed set to 42\n"
     ]
    },
    {
     "name": "stdout",
     "output_type": "stream",
     "text": [
      "The tensorboard extension is already loaded. To reload it, use:\n",
      "  %reload_ext tensorboard\n",
      "Device: cuda:0\n",
      "Number of workers: 64\n"
     ]
    },
    {
     "data": {
      "text/plain": [
       "<Figure size 640x480 with 0 Axes>"
      ]
     },
     "metadata": {},
     "output_type": "display_data"
    }
   ],
   "source": [
    "#import os\n",
    "#os.environ['CUDA_LAUNCH_BLOCKING'] = 1\n",
    "\n",
    "\n",
    "## Standard libraries\n",
    "import os\n",
    "from copy import deepcopy\n",
    "\n",
    "## Imports for plotting\n",
    "import matplotlib.pyplot as plt\n",
    "plt.set_cmap('viridis')\n",
    "%matplotlib inline\n",
    "#from IPython.display import set_matplotlib_formats\n",
    "#set_matplotlib_formats('svg', 'pdf') # For export\n",
    "import matplotlib\n",
    "matplotlib.rcParams['lines.linewidth'] = 0 #2.0\n",
    "#import seaborn as sns\n",
    "#sns.set()\n",
    "\n",
    "## tqdm for loading bars\n",
    "from tqdm.notebook import tqdm\n",
    "\n",
    "## PyTorch\n",
    "import torch\n",
    "import torch.nn as nn\n",
    "import torch.nn.functional as F\n",
    "import torch.utils.data as data\n",
    "import torch.optim as optim\n",
    "\n",
    "## Torchvision\n",
    "import torchvision\n",
    "from torchvision import transforms\n",
    "import numpy as np\n",
    "from PIL import Image\n",
    "\n",
    "# PyTorch Lightning\n",
    "import pytorch_lightning as pl\n",
    "#try:\n",
    "#    import pytorch_lightning as pl\n",
    "#except ModuleNotFoundError: # Google Colab does not have PyTorch Lightning installed by default. Hence, we do it here if necessary\n",
    "#    !pip install --quiet pytorch-lightning>=1.4\n",
    "#    import pytorch_lightning as pl\n",
    "from pytorch_lightning.callbacks import LearningRateMonitor, ModelCheckpoint\n",
    "\n",
    "# Import tensorboard\n",
    "%load_ext tensorboard\n",
    "\n",
    "# Path to the folder where the datasets are/should be downloaded (e.g. CIFAR10)\n",
    "#DATASET_PATH = \"../data\"\n",
    "# Path to the folder where the pretrained models are saved\n",
    "#CHECKPOINT_PATH = '/home/azamat.kaibaldiyev/Tasmania_ohara_labels/checkpoints_images/'\n",
    "CHECKPOINT_PATH = '/home/azamat.kaibaldiyev/Tasmania_ohara_labels/checkpoints_Ohara_images_and_bathym/'\n",
    "\n",
    "# In this notebook, we use data loaders with heavier computational processing. It is recommended to use as many\n",
    "# workers as possible in a data loader, which corresponds to the number of CPU cores\n",
    "NUM_WORKERS = os.cpu_count()\n",
    "\n",
    "# Setting the seed\n",
    "pl.seed_everything(42)\n",
    "\n",
    "# Ensure that all operations are deterministic on GPU (if used) for reproducibility\n",
    "torch.backends.cudnn.deterministic = True\n",
    "torch.backends.cudnn.benchmark = False\n",
    "\n",
    "device = torch.device(\"cuda:0\") if torch.cuda.is_available() else torch.device(\"cpu\")\n",
    "print(\"Device:\", device)\n",
    "print(\"Number of workers:\", NUM_WORKERS)"
   ]
  },
  {
   "cell_type": "code",
   "execution_count": 78,
   "id": "b64da277",
   "metadata": {},
   "outputs": [
    {
     "name": "stdout",
     "output_type": "stream",
     "text": [
      "36663\n"
     ]
    },
    {
     "data": {
      "text/plain": [
       "['Tasmania_ohara_labels/Ohara_images_from_prof/i20081006_231255_gtif/PR_20081006_231732_335_LC16.tif',\n",
       " 'Tasmania_ohara_labels/Ohara_images_from_prof/i20081006_231255_gtif/PR_20081006_231733_335_LC16.tif']"
      ]
     },
     "execution_count": 78,
     "metadata": {},
     "output_type": "execute_result"
    }
   ],
   "source": [
    "#all images: from professor\n",
    "import glob\n",
    "imgs = sorted(glob.glob('Tasmania_ohara_labels/Ohara_images_from_prof/*/*'))\n",
    "print(len(imgs))\n",
    "imgs[:2]"
   ]
  },
  {
   "cell_type": "code",
   "execution_count": 79,
   "id": "6a14a813",
   "metadata": {},
   "outputs": [
    {
     "name": "stdout",
     "output_type": "stream",
     "text": [
      "20547\n"
     ]
    },
    {
     "data": {
      "text/plain": [
       "['Tasmania_ohara_labels/Ohara_images_from_prof_2/i20081007_033355_gtif/PR_20081007_034607_700_LC16.tif',\n",
       " 'Tasmania_ohara_labels/Ohara_images_from_prof_2/i20081007_033355_gtif/PR_20081007_034608_701_LC16.tif']"
      ]
     },
     "execution_count": 79,
     "metadata": {},
     "output_type": "execute_result"
    }
   ],
   "source": [
    "import glob\n",
    "imgs_new = sorted(glob.glob('Tasmania_ohara_labels/Ohara_images_from_prof_2/*/*'))\n",
    "print(len(imgs_new))\n",
    "imgs_new[:2]"
   ]
  },
  {
   "cell_type": "code",
   "execution_count": 80,
   "id": "a798ad3b",
   "metadata": {},
   "outputs": [
    {
     "name": "stdout",
     "output_type": "stream",
     "text": [
      "57210\n"
     ]
    }
   ],
   "source": [
    "imgs = imgs+imgs_new\n",
    "print(len(imgs))"
   ]
  },
  {
   "cell_type": "raw",
   "id": "cf7a34f5",
   "metadata": {},
   "source": [
    "\n",
    "import glob\n",
    "imgs = sorted(glob.glob('Tasmania_ohara_labels/Ohara_all_images_labels/image_labels/*'))\n",
    "print(len(imgs))\n",
    "imgs[:7]"
   ]
  },
  {
   "cell_type": "code",
   "execution_count": 4,
   "id": "583802f0",
   "metadata": {},
   "outputs": [
    {
     "name": "stdout",
     "output_type": "stream",
     "text": [
      "100652\n",
      "10967\n"
     ]
    }
   ],
   "source": [
    "bathym =  sorted(glob.glob('Tasmania_ohara_labels/cropped_dems_32/*'))\n",
    "print(len(bathym))\n",
    "bathym_labels =  sorted(glob.glob('Tasmania_ohara_labels/cropped_dems_32_with_labels/*'))\n",
    "print(len(bathym_labels))"
   ]
  },
  {
   "cell_type": "code",
   "execution_count": 4,
   "id": "ace8a0d7",
   "metadata": {},
   "outputs": [
    {
     "data": {
      "text/plain": [
       "['Tasmania_ohara_labels/cropped_dems_16/ohara_col1008_row12672.tif',\n",
       " 'Tasmania_ohara_labels/cropped_dems_16/ohara_col1008_row12688.tif',\n",
       " 'Tasmania_ohara_labels/cropped_dems_16/ohara_col1008_row12704.tif',\n",
       " 'Tasmania_ohara_labels/cropped_dems_16/ohara_col1008_row12720.tif']"
      ]
     },
     "execution_count": 4,
     "metadata": {},
     "output_type": "execute_result"
    }
   ],
   "source": [
    "bathym[:4]"
   ]
  },
  {
   "cell_type": "code",
   "execution_count": 5,
   "id": "e8117749",
   "metadata": {},
   "outputs": [
    {
     "data": {
      "text/plain": [
       "['Tasmania_ohara_labels/cropped_dems_16_with_labels/img0_label5.tiff',\n",
       " 'Tasmania_ohara_labels/cropped_dems_16_with_labels/img0_label6.tiff',\n",
       " 'Tasmania_ohara_labels/cropped_dems_16_with_labels/img10000_label4.tiff',\n",
       " 'Tasmania_ohara_labels/cropped_dems_16_with_labels/img10001_label6.tiff']"
      ]
     },
     "execution_count": 5,
     "metadata": {},
     "output_type": "execute_result"
    }
   ],
   "source": [
    "bathym_labels[:4]"
   ]
  },
  {
   "cell_type": "code",
   "execution_count": 5,
   "id": "2d194c9e",
   "metadata": {},
   "outputs": [
    {
     "name": "stdout",
     "output_type": "stream",
     "text": [
      "57210\n"
     ]
    }
   ],
   "source": [
    "bathym_imgs =  sorted(glob.glob('Tasmania_ohara_labels/cropped_dems_16_imgs_100/*'))\n",
    "print(len(bathym_imgs))\n"
   ]
  },
  {
   "cell_type": "code",
   "execution_count": 30,
   "id": "8beacf5a",
   "metadata": {},
   "outputs": [
    {
     "name": "stdout",
     "output_type": "stream",
     "text": [
      "yes\n",
      "-3.4028235e+38\n"
     ]
    }
   ],
   "source": [
    "nan_val = np.array(Image.open(bathym_imgs[34000]))[0][0]\n",
    "if nan_val in np.array(Image.open(bathym_imgs[34000])):\n",
    "    print('yes')\n",
    "    print(nan_val)"
   ]
  },
  {
   "cell_type": "raw",
   "id": "dfd135a9",
   "metadata": {},
   "source": [
    "nan_val = np.array(Image.open(bathym_imgs[34000]))[0][0]\n",
    "print(nan_val)\n",
    "remove_bath_paths = []\n",
    "for path in bathym_imgs:\n",
    "    if nan_val in np.array(Image.open(path)):\n",
    "        remove_bath_paths.append(path)\n",
    "print(len(remove_bath_paths))"
   ]
  },
  {
   "cell_type": "code",
   "execution_count": 32,
   "id": "ea11c33a",
   "metadata": {},
   "outputs": [
    {
     "name": "stdout",
     "output_type": "stream",
     "text": [
      "3523\n"
     ]
    }
   ],
   "source": [
    "print(len(remove_bath_paths))"
   ]
  },
  {
   "cell_type": "code",
   "execution_count": 6,
   "id": "9183638f",
   "metadata": {},
   "outputs": [
    {
     "name": "stdout",
     "output_type": "stream",
     "text": [
      "3523\n"
     ]
    }
   ],
   "source": [
    "# Python program to store list to JSON file\n",
    "import json\n",
    "\n",
    "# def write_list(a_list):\n",
    "#     print(\"Started writing list data into a json file\")\n",
    "#     with open(\"files_remove_indices/Remove_paths_with_nan_dem16.json\", \"w\") as fp:\n",
    "#         json.dump(a_list, fp)\n",
    "#         print(\"Done writing JSON data into .json file\")\n",
    "# write_list(remove_bath_paths)\n",
    "\n",
    "# Read list to memory\n",
    "def read_list():\n",
    "    # for reading also binary mode is important\n",
    "    with open('files_remove_indices/Remove_paths_with_nan_dem16.json', 'rb') as fp:\n",
    "        n_list = json.load(fp)\n",
    "        return n_list\n",
    "\n",
    "# assume you have the following list\n",
    "remove_bath_paths = read_list()\n",
    "print(len(remove_bath_paths))"
   ]
  },
  {
   "cell_type": "code",
   "execution_count": 7,
   "id": "e2314b17",
   "metadata": {},
   "outputs": [
    {
     "name": "stdout",
     "output_type": "stream",
     "text": [
      "53687\n"
     ]
    }
   ],
   "source": [
    "bathym_imgs_stay = [ele for ele in bathym_imgs if ele not in remove_bath_paths]\n",
    "print(len(bathym_imgs_stay))"
   ]
  },
  {
   "cell_type": "code",
   "execution_count": 8,
   "id": "6fbc8657",
   "metadata": {},
   "outputs": [
    {
     "name": "stdout",
     "output_type": "stream",
     "text": [
      "53687\n"
     ]
    }
   ],
   "source": [
    "stay_idxs_imgs = [i for i,ele in enumerate(bathym_imgs) if ele not in remove_bath_paths]\n",
    "print(len(stay_idxs_imgs))"
   ]
  },
  {
   "cell_type": "code",
   "execution_count": 9,
   "id": "72f7f592",
   "metadata": {},
   "outputs": [
    {
     "name": "stdout",
     "output_type": "stream",
     "text": [
      "53687\n"
     ]
    }
   ],
   "source": [
    "imgs_to_stay= [ele for i, ele in enumerate(imgs) if i in stay_idxs_imgs]\n",
    "print(len(imgs_to_stay))"
   ]
  },
  {
   "cell_type": "code",
   "execution_count": 45,
   "id": "ad5d4aba",
   "metadata": {},
   "outputs": [
    {
     "ename": "NameError",
     "evalue": "name 'bathym' is not defined",
     "output_type": "error",
     "traceback": [
      "\u001b[0;31m---------------------------------------------------------------------------\u001b[0m",
      "\u001b[0;31mNameError\u001b[0m                                 Traceback (most recent call last)",
      "Cell \u001b[0;32mIn[45], line 1\u001b[0m\n\u001b[0;32m----> 1\u001b[0m bathym_and_imgs_path \u001b[38;5;241m=\u001b[39m (\u001b[43mbathym\u001b[49m\u001b[38;5;241m+\u001b[39m\u001b[38;5;28mlist\u001b[39m(\u001b[38;5;28mzip\u001b[39m(bathym_imgs_stay,imgs_to_stay[:\u001b[38;5;28mlen\u001b[39m(bathym_imgs_stay)])))\n\u001b[1;32m      2\u001b[0m bathym_and_imgs_path[\u001b[38;5;241m-\u001b[39m\u001b[38;5;241m3\u001b[39m:]\n",
      "\u001b[0;31mNameError\u001b[0m: name 'bathym' is not defined"
     ]
    }
   ],
   "source": [
    "bathym_and_imgs_path = (bathym+list(zip(bathym_imgs_stay,imgs_to_stay[:len(bathym_imgs_stay)])))\n",
    "bathym_and_imgs_path[-3:]"
   ]
  },
  {
   "cell_type": "code",
   "execution_count": 11,
   "id": "5ee0d525",
   "metadata": {},
   "outputs": [
    {
     "name": "stdout",
     "output_type": "stream",
     "text": [
      "53687\n"
     ]
    },
    {
     "data": {
      "text/plain": [
       "[('Tasmania_ohara_labels/cropped_dems_16_imgs_100/PR_20081014_072452_820_LC16.tif',\n",
       "  'Tasmania_ohara_labels/Ohara_images_from_prof_2/i20081014_052323_gtif/PR_20081014_072452_820_LC16.tif'),\n",
       " ('Tasmania_ohara_labels/cropped_dems_16_imgs_100/PR_20081014_072453_817_LC16.tif',\n",
       "  'Tasmania_ohara_labels/Ohara_images_from_prof_2/i20081014_052323_gtif/PR_20081014_072453_817_LC16.tif'),\n",
       " ('Tasmania_ohara_labels/cropped_dems_16_imgs_100/PR_20081014_072454_816_LC16.tif',\n",
       "  'Tasmania_ohara_labels/Ohara_images_from_prof_2/i20081014_052323_gtif/PR_20081014_072454_816_LC16.tif')]"
      ]
     },
     "execution_count": 11,
     "metadata": {},
     "output_type": "execute_result"
    }
   ],
   "source": [
    "bathym_and_imgs_path = list(zip(bathym_imgs_stay,imgs_to_stay[:len(bathym_imgs_stay)]))\n",
    "print(len(bathym_and_imgs_path))\n",
    "bathym_and_imgs_path[-3:]\n"
   ]
  },
  {
   "cell_type": "code",
   "execution_count": 43,
   "id": "f2d325e6",
   "metadata": {},
   "outputs": [
    {
     "data": {
      "text/plain": [
       "('Tasmania_ohara_labels/cropped_dems_16_imgs_100/PR_20081008_234322_688_LC16.tif',\n",
       " 'Tasmania_ohara_labels/Ohara_images_from_prof/i20081008_224114_gtif/PR_20081008_234322_688_LC16.tif')"
      ]
     },
     "execution_count": 43,
     "metadata": {},
     "output_type": "execute_result"
    }
   ],
   "source": [
    "bathym_and_imgs_path"
   ]
  },
  {
   "cell_type": "raw",
   "id": "a15b8bb4",
   "metadata": {},
   "source": [
    "import os\n",
    "\n",
    "filesRename = bathym\n",
    "\n",
    "# Iterate\n",
    "for file in filesRename:\n",
    "    # Checking if the file is present in the list\n",
    "    os.rename(file, file+'.tif')\n",
    "\n"
   ]
  },
  {
   "cell_type": "raw",
   "id": "a7ec9fca",
   "metadata": {},
   "source": [
    "from sklearn.model_selection import ShuffleSplit\n",
    "rs = ShuffleSplit(n_splits=1, test_size=.1, random_state=0)\n",
    "for i, (train_index, test_index) in enumerate(rs.split(dataset)):\n",
    "    print(f\"Fold {i}:\")\n",
    "    print(f\"  Train: index={train_index}\")\n",
    "    print(f\"  Test:  index={test_index}\")"
   ]
  },
  {
   "cell_type": "markdown",
   "id": "13cd0fc4",
   "metadata": {},
   "source": [
    "from sklearn.model_selection import ShuffleSplit\n",
    "rs = ShuffleSplit(n_splits=1, test_size=.1, random_state=0)\n",
    "for i, (train_index, test_index) in enumerate(rs.split(dataset)):\n",
    "    print(f\"Fold {i}:\")\n",
    "    print(f\"  Train: index={train_index}\")\n",
    "    print(f\"  Test:  index={test_index}\")"
   ]
  },
  {
   "cell_type": "code",
   "execution_count": 7,
   "id": "646cfeb2",
   "metadata": {},
   "outputs": [
    {
     "name": "stdout",
     "output_type": "stream",
     "text": [
      "119884\n",
      "13321\n"
     ]
    }
   ],
   "source": [
    "# with open('files_remove_indices/Ohara_dems_and_images_137000_labels_train_set_indexes.npy', 'wb') as f:\n",
    "#     np.save(f, train_index)\n",
    "\n",
    "# with open('files_remove_indices/Ohara_dems_and_images_137000_labels_test_set_indexes.npy', 'wb') as f:\n",
    "#     np.save(f, test_index)\n",
    "\n",
    "with open('files_remove_indices/Ohara_dems_and_images_137000_labels_train_set_indexes.npy', 'rb') as f:\n",
    "    train_set_indexes = np.load(f)\n",
    "\n",
    "with open('files_remove_indices/Ohara_dems_and_images_137000_labels_test_set_indexes.npy', 'rb') as f:\n",
    "    test_set_indexes = np.load(f)\n",
    "    \n",
    "print(len(train_set_indexes))\n",
    "print(len(test_set_indexes))"
   ]
  },
  {
   "cell_type": "code",
   "execution_count": 2,
   "id": "7d9d1590",
   "metadata": {},
   "outputs": [
    {
     "ename": "NameError",
     "evalue": "name 'imgs' is not defined",
     "output_type": "error",
     "traceback": [
      "\u001b[0;31m---------------------------------------------------------------------------\u001b[0m",
      "\u001b[0;31mNameError\u001b[0m                                 Traceback (most recent call last)",
      "Cell \u001b[0;32mIn[2], line 110\u001b[0m\n\u001b[1;32m    108\u001b[0m \u001b[38;5;28;01mfrom\u001b[39;00m \u001b[38;5;21;01mtorch\u001b[39;00m\u001b[38;5;21;01m.\u001b[39;00m\u001b[38;5;21;01mutils\u001b[39;00m\u001b[38;5;21;01m.\u001b[39;00m\u001b[38;5;21;01mdata\u001b[39;00m \u001b[38;5;28;01mimport\u001b[39;00m random_split\n\u001b[1;32m    109\u001b[0m \u001b[38;5;28;01mimport\u001b[39;00m \u001b[38;5;21;01mmath\u001b[39;00m\n\u001b[0;32m--> 110\u001b[0m dataset_path \u001b[38;5;241m=\u001b[39m \u001b[43mimgs\u001b[49m\u001b[38;5;66;03m# bathym_and_imgs_path\u001b[39;00m\n\u001b[1;32m    111\u001b[0m dataset \u001b[38;5;241m=\u001b[39m SwedishDataset(transform \u001b[38;5;241m=\u001b[39m ContrastiveTransformations(contrast_transforms, n_views \u001b[38;5;241m=\u001b[39m \u001b[38;5;241m2\u001b[39m), dataset_path \u001b[38;5;241m=\u001b[39m dataset_path)\n\u001b[1;32m    113\u001b[0m \u001b[38;5;28mprint\u001b[39m(\u001b[38;5;28mlen\u001b[39m(dataset))\n",
      "\u001b[0;31mNameError\u001b[0m: name 'imgs' is not defined"
     ]
    }
   ],
   "source": [
    "from PIL import Image\n",
    "from torch.utils.data import Dataset, DataLoader\n",
    "import glob\n",
    "import rasterio\n",
    "\n",
    "dem_size = 32\n",
    "\n",
    "class SwedishDataset(Dataset):\n",
    "    def __init__(self,  transform  = None, dataset_path = None, remove_list = None, labels = False):\n",
    "        self.imgs_path = dataset_path\n",
    "        \n",
    "        if labels:\n",
    "            self.file_list_dem = df_merged_images['Left image name']\n",
    "\n",
    "        self.transform = transform\n",
    "        self.labels = labels\n",
    "        \n",
    "    def __len__(self):\n",
    "        return len(self.imgs_path)\n",
    "\n",
    "          \n",
    "    def __getitem__(self, idx):\n",
    "        img_path_dem = self.imgs_path[idx]\n",
    "        if len(img_path_dem)==2:\n",
    "            dem_raster = Image.open(img_path_dem[0])\n",
    "            img_raster = np.array(Image.open(img_path_dem[1]))[:,:,0]\n",
    "            dem_raster = dem_transforms(dem_raster)\n",
    "            img_raster = img_transforms(img_raster)\n",
    "            img_raster_dem = [dem_raster, img_raster]\n",
    "        else:\n",
    "            img_raster_dem = Image.open(img_path_dem)\n",
    "            img_raster_dem = self.transform(img_raster_dem)\n",
    "        if self.labels:\n",
    "            label = int(df_merged_images['cluster_id'][idx])\n",
    "        else:\n",
    "            label = 'no_label'\n",
    "        \n",
    "        return [img_raster_dem, label]\n",
    "    \n",
    "\n",
    "def normalize_input_for_dem(test_iter):\n",
    "    #test_iter = torch.from_numpy(test_iter)\n",
    "    input_images = test_iter.float()\n",
    "    maxv = 104\n",
    "    minv = 5\n",
    "#     batch_size = input_images.shape[0]\n",
    "#     cmin = torch.amin(input_images,(1,2)).reshape((batch_size,1,1))\n",
    "#     cmax = torch.amax(input_images,(1,2)).reshape((batch_size,1,1))\n",
    "    return (input_images-minv)/(maxv-minv) #(input_images-cmin)/(cmax-cmin)\n",
    "\n",
    "class Normalize_range01:\n",
    "    #bring to range 0 to 1\n",
    "\n",
    "    def __init__(self, p=1):\n",
    "        self.p = 1\n",
    "\n",
    "    def __call__(self, x):\n",
    "        result = normalize_input_for_dem(x)\n",
    "        return result\n",
    "\n",
    "    def __repr__(self):\n",
    "        return \"custom augmentation\"\n",
    "\n",
    "    \n",
    "class ContrastiveTransformations(object):\n",
    "\n",
    "    def __init__(self, base_transforms, n_views=2):\n",
    "        self.base_transforms = base_transforms\n",
    "        self.n_views = n_views\n",
    "\n",
    "    def __call__(self, x):\n",
    "        return [self.base_transforms(x) for i in range(self.n_views)]\n",
    "    \n",
    "    \n",
    "\n",
    "\n",
    "contrast_transforms = transforms.Compose([transforms.ToTensor(),\n",
    "                                          Normalize_range01(),\n",
    "                                          transforms.Resize(size = dem_size),\n",
    "                                          #Normalize_range01(),\n",
    "                                          #transforms.ToPILImage(), \n",
    "                                          #transforms.RandomHorizontalFlip(),\n",
    "                                          transforms.RandomResizedCrop(size=dem_size),\n",
    "                                          #transforms.RandomApply([transforms.ColorJitter(brightness=0.5, contrast=0.5, saturation=0.5, hue=0.1)], p=0.8),\n",
    "                                          #transforms.RandomGrayscale(p=0.2),\n",
    "                                          #transforms.GaussianBlur(kernel_size=9),\n",
    "                                          #transforms.ToTensor(),\n",
    "                                          #transforms.Normalize((0.5,), (0.5,))\n",
    "                                          \n",
    "                                         ])\n",
    "\n",
    "dem_transforms = transforms.Compose([transforms.ToTensor(),\n",
    "                                    Normalize_range01(),\n",
    "                                    transforms.Resize(size = dem_size),\n",
    "                                    transforms.RandomResizedCrop(size=dem_size),\n",
    "                                    #transforms.Normalize((0.5,), (0.5,))\n",
    "                                    #Normalize_range01()\n",
    "                                    ])\n",
    "\n",
    "img_transforms = transforms.Compose([transforms.ToTensor(),\n",
    "                                     transforms.Resize(size = 100),\n",
    "                                     transforms.RandomResizedCrop(size=dem_size),\n",
    "                                     #transforms.Normalize((0.5,), (0.5,))\n",
    "                                     ])\n",
    "\n",
    "\n",
    "\n",
    "from torch.utils.data import random_split\n",
    "import math\n",
    "dataset_path = imgs# bathym_and_imgs_path\n",
    "dataset = SwedishDataset(transform = ContrastiveTransformations(contrast_transforms, n_views = 2), dataset_path = dataset_path)\n",
    "\n",
    "print(len(dataset))\n",
    "dataset_len =len(dataset)\n",
    "\n",
    "from sklearn.model_selection import ShuffleSplit\n",
    "rs = ShuffleSplit(n_splits=1, test_size=.1, random_state=0)\n",
    "for i, (train_index, test_index) in enumerate(rs.split(dataset)):\n",
    "    print(f\"Fold {i}:\")\n",
    "    print(f\"  Train: index={train_index}\")\n",
    "    print(f\"  Test:  index={test_index}\")\n",
    "\n",
    "train_set_indexes = train_index\n",
    "test_set_indexes = test_index\n",
    "\n",
    "train_dataset = torch.utils.data.Subset(dataset, train_set_indexes)\n",
    "test_dataset = torch.utils.data.Subset(dataset, test_set_indexes)\n",
    "\n",
    "print(len(train_dataset))\n",
    "print(len(test_dataset))"
   ]
  },
  {
   "cell_type": "code",
   "execution_count": 81,
   "id": "a95f1e05",
   "metadata": {},
   "outputs": [
    {
     "data": {
      "text/html": [
       "<div>\n",
       "<style scoped>\n",
       "    .dataframe tbody tr th:only-of-type {\n",
       "        vertical-align: middle;\n",
       "    }\n",
       "\n",
       "    .dataframe tbody tr th {\n",
       "        vertical-align: top;\n",
       "    }\n",
       "\n",
       "    .dataframe thead th {\n",
       "        text-align: right;\n",
       "    }\n",
       "</style>\n",
       "<table border=\"1\" class=\"dataframe\">\n",
       "  <thead>\n",
       "    <tr style=\"text-align: right;\">\n",
       "      <th></th>\n",
       "      <th>row_id</th>\n",
       "      <th>timestamp</th>\n",
       "      <th>Left image name</th>\n",
       "      <th>Right image name</th>\n",
       "      <th>cluster_id</th>\n",
       "    </tr>\n",
       "  </thead>\n",
       "  <tbody>\n",
       "    <tr>\n",
       "      <th>10965</th>\n",
       "      <td>11276</td>\n",
       "      <td>1.223432e+09</td>\n",
       "      <td>PR_20081008_021104_665_LC16.tif</td>\n",
       "      <td>PR_20081008_021104_665_RM16.png</td>\n",
       "      <td>6</td>\n",
       "    </tr>\n",
       "    <tr>\n",
       "      <th>10966</th>\n",
       "      <td>11277</td>\n",
       "      <td>1.223432e+09</td>\n",
       "      <td>PR_20081008_021105_662_LC16.tif</td>\n",
       "      <td>PR_20081008_021105_662_RM16.png</td>\n",
       "      <td>6</td>\n",
       "    </tr>\n",
       "  </tbody>\n",
       "</table>\n",
       "</div>"
      ],
      "text/plain": [
       "       row_id     timestamp                  Left image name  \\\n",
       "10965   11276  1.223432e+09  PR_20081008_021104_665_LC16.tif   \n",
       "10966   11277  1.223432e+09  PR_20081008_021105_662_LC16.tif   \n",
       "\n",
       "                      Right image name  cluster_id  \n",
       "10965  PR_20081008_021104_665_RM16.png           6  \n",
       "10966  PR_20081008_021105_662_RM16.png           6  "
      ]
     },
     "execution_count": 81,
     "metadata": {},
     "output_type": "execute_result"
    }
   ],
   "source": [
    "import pandas as pd\n",
    "df_labels =  pd.read_csv('Tasmania_ohara_labels/image_labels.data',skiprows = np.arange(15),sep = \"\\t\")\n",
    "                    #names = ['row_id','timestamp','left_image','right_image','cluster_id'], )\n",
    "df_labels.rename(columns = {'left_image':'Left image name', 'right_image':'Right image name'}, inplace = True)\n",
    "df_labels['Left image name'] = df_labels['Left image name'].str.split('.').str[0].str.strip()+'.tif'\n",
    "df_labels['Right image name'] = df_labels['Right image name'].str.strip()\n",
    "df_labels[-2:]"
   ]
  },
  {
   "cell_type": "code",
   "execution_count": 82,
   "id": "7e5f4129",
   "metadata": {},
   "outputs": [
    {
     "data": {
      "text/html": [
       "<div>\n",
       "<style scoped>\n",
       "    .dataframe tbody tr th:only-of-type {\n",
       "        vertical-align: middle;\n",
       "    }\n",
       "\n",
       "    .dataframe tbody tr th {\n",
       "        vertical-align: top;\n",
       "    }\n",
       "\n",
       "    .dataframe thead th {\n",
       "        text-align: right;\n",
       "    }\n",
       "</style>\n",
       "<table border=\"1\" class=\"dataframe\">\n",
       "  <thead>\n",
       "    <tr style=\"text-align: right;\">\n",
       "      <th></th>\n",
       "      <th>Left image name</th>\n",
       "    </tr>\n",
       "  </thead>\n",
       "  <tbody>\n",
       "    <tr>\n",
       "      <th>57208</th>\n",
       "      <td>PR_20081014_072453_817_LC16.tif</td>\n",
       "    </tr>\n",
       "    <tr>\n",
       "      <th>57209</th>\n",
       "      <td>PR_20081014_072454_816_LC16.tif</td>\n",
       "    </tr>\n",
       "  </tbody>\n",
       "</table>\n",
       "</div>"
      ],
      "text/plain": [
       "                       Left image name\n",
       "57208  PR_20081014_072453_817_LC16.tif\n",
       "57209  PR_20081014_072454_816_LC16.tif"
      ]
     },
     "execution_count": 82,
     "metadata": {},
     "output_type": "execute_result"
    }
   ],
   "source": [
    "df_images = pd.DataFrame(imgs, columns =['Left image name'])\n",
    "df_images['Left image name'] = df_images['Left image name'].str.split('/').str[-1]\n",
    "df_images[-2:]"
   ]
  },
  {
   "cell_type": "code",
   "execution_count": 83,
   "id": "95691ff8",
   "metadata": {},
   "outputs": [
    {
     "data": {
      "text/html": [
       "<div>\n",
       "<style scoped>\n",
       "    .dataframe tbody tr th:only-of-type {\n",
       "        vertical-align: middle;\n",
       "    }\n",
       "\n",
       "    .dataframe tbody tr th {\n",
       "        vertical-align: top;\n",
       "    }\n",
       "\n",
       "    .dataframe thead th {\n",
       "        text-align: right;\n",
       "    }\n",
       "</style>\n",
       "<table border=\"1\" class=\"dataframe\">\n",
       "  <thead>\n",
       "    <tr style=\"text-align: right;\">\n",
       "      <th></th>\n",
       "      <th>row_id</th>\n",
       "      <th>timestamp</th>\n",
       "      <th>Left image name</th>\n",
       "      <th>Right image name</th>\n",
       "      <th>cluster_id</th>\n",
       "    </tr>\n",
       "  </thead>\n",
       "  <tbody>\n",
       "    <tr>\n",
       "      <th>10965</th>\n",
       "      <td>11276</td>\n",
       "      <td>1.223432e+09</td>\n",
       "      <td>Tasmania_ohara_labels/Ohara_images_from_prof/i...</td>\n",
       "      <td>PR_20081008_021104_665_RM16.png</td>\n",
       "      <td>5</td>\n",
       "    </tr>\n",
       "    <tr>\n",
       "      <th>10966</th>\n",
       "      <td>11277</td>\n",
       "      <td>1.223432e+09</td>\n",
       "      <td>Tasmania_ohara_labels/Ohara_images_from_prof/i...</td>\n",
       "      <td>PR_20081008_021105_662_RM16.png</td>\n",
       "      <td>5</td>\n",
       "    </tr>\n",
       "  </tbody>\n",
       "</table>\n",
       "</div>"
      ],
      "text/plain": [
       "       row_id     timestamp  \\\n",
       "10965   11276  1.223432e+09   \n",
       "10966   11277  1.223432e+09   \n",
       "\n",
       "                                         Left image name  \\\n",
       "10965  Tasmania_ohara_labels/Ohara_images_from_prof/i...   \n",
       "10966  Tasmania_ohara_labels/Ohara_images_from_prof/i...   \n",
       "\n",
       "                      Right image name  cluster_id  \n",
       "10965  PR_20081008_021104_665_RM16.png           5  \n",
       "10966  PR_20081008_021105_662_RM16.png           5  "
      ]
     },
     "execution_count": 83,
     "metadata": {},
     "output_type": "execute_result"
    }
   ],
   "source": [
    "df_merged_images = pd.merge(df_labels, df_images, on = 'Left image name')\n",
    "df_merged_images['Left image name'] = 'Tasmania_ohara_labels/Ohara_images_from_prof/i20081007_224547_gtif/'+df_merged_images['Left image name']\n",
    "df_merged_images['cluster_id'] = df_merged_images['cluster_id'].replace([1, 2, 3 ,4,5, 6, 7, 8], [0, 1, 2, 3 ,4,5, 6, 7])\n",
    "df_merged_images[-2:]"
   ]
  },
  {
   "cell_type": "code",
   "execution_count": 4,
   "id": "253e01df",
   "metadata": {},
   "outputs": [
    {
     "ename": "NameError",
     "evalue": "name 'bathym_and_imgs_path' is not defined",
     "output_type": "error",
     "traceback": [
      "\u001b[0;31m---------------------------------------------------------------------------\u001b[0m",
      "\u001b[0;31mNameError\u001b[0m                                 Traceback (most recent call last)",
      "Cell \u001b[0;32mIn[4], line 135\u001b[0m\n\u001b[1;32m    133\u001b[0m \u001b[38;5;28;01mfrom\u001b[39;00m \u001b[38;5;21;01mtorch\u001b[39;00m\u001b[38;5;21;01m.\u001b[39;00m\u001b[38;5;21;01mutils\u001b[39;00m\u001b[38;5;21;01m.\u001b[39;00m\u001b[38;5;21;01mdata\u001b[39;00m \u001b[38;5;28;01mimport\u001b[39;00m random_split\n\u001b[1;32m    134\u001b[0m \u001b[38;5;28;01mimport\u001b[39;00m \u001b[38;5;21;01mmath\u001b[39;00m\n\u001b[0;32m--> 135\u001b[0m dataset_path \u001b[38;5;241m=\u001b[39m \u001b[43mbathym_and_imgs_path\u001b[49m\n\u001b[1;32m    136\u001b[0m dataset \u001b[38;5;241m=\u001b[39m SwedishDataset(transform \u001b[38;5;241m=\u001b[39m ContrastiveTransformations(contrast_transforms, n_views \u001b[38;5;241m=\u001b[39m \u001b[38;5;241m2\u001b[39m), dataset_path \u001b[38;5;241m=\u001b[39m dataset_path)\n\u001b[1;32m    138\u001b[0m \u001b[38;5;28mprint\u001b[39m(\u001b[38;5;28mlen\u001b[39m(dataset))\n",
      "\u001b[0;31mNameError\u001b[0m: name 'bathym_and_imgs_path' is not defined"
     ]
    }
   ],
   "source": [
    "from PIL import Image\n",
    "from torch.utils.data import Dataset, DataLoader\n",
    "import glob\n",
    "import rasterio\n",
    "dataset_path_images = 'Tasmania_ohara_labels/Ohara_images_from_prof/*/'\n",
    "dataset_path_images_labels = 'Tasmania_ohara_labels/Ohara_all_images_labels/image_labels/'\n",
    "\n",
    "dataset_path_bathym = 'Tasmania_ohara_labels/cropped_dems_16/'\n",
    "dataset_path_bathym_labels = 'Tasmania_ohara_labels/cropped_dems_16_with_labels/'\n",
    "\n",
    "# dataset_path_bathym = 'Tasmania_ohara_labels/cropped_dems_32/'\n",
    "# dataset_path_bathym_labels = 'Tasmania_ohara_labels/cropped_dems_32_with_labels/'\n",
    "\n",
    "dem_size = 16\n",
    "\n",
    "class SwedishDataset(Dataset):\n",
    "    def __init__(self,  transform  = None, dataset_path = None, remove_list = None, labels_dems=False,\n",
    "                 labels_imgs = False, for_imgs = False):\n",
    "        \n",
    "        self.imgs_path = sorted(glob.glob(dataset_path+'*'))\n",
    "        if for_imgs:\n",
    "            self.imgs_path = dataset_path\n",
    "        \n",
    "        if labels_imgs:\n",
    "            self.imgs_path = df_merged_images['Left image name']\n",
    "\n",
    "        self.transform = transform\n",
    "        self.labels_imgs = labels_imgs\n",
    "        self.labels_dems = labels_dems\n",
    "        self.for_imgs = for_imgs\n",
    "        \n",
    "    def __len__(self):\n",
    "        return len(self.imgs_path)\n",
    "\n",
    "          \n",
    "    def __getitem__(self, idx):\n",
    "        img_path_dem = self.imgs_path[idx]\n",
    "        if len(img_path_dem)==2:\n",
    "            dem_raster = Image.open(img_path_dem[0])\n",
    "            img_raster = np.array(Image.open(img_path_dem[1]))[:,:,0]\n",
    "            dem_raster = dem_transforms(dem_raster)\n",
    "            img_raster = img_transforms(img_raster)\n",
    "            img_raster_dem = [dem_raster, img_raster]\n",
    "        elif self.for_imgs:\n",
    "            img_raster = np.array(Image.open(img_path_dem))[:,:,0]\n",
    "            img_raster_dem = self.transform(img_raster)\n",
    "        else:\n",
    "            img_raster_dem = Image.open(img_path_dem)\n",
    "            img_raster_dem = self.transform(img_raster_dem)\n",
    "            \n",
    "        \n",
    "        if self.labels_imgs:\n",
    "            label = int(df_merged_images['cluster_id'][idx])\n",
    "        elif self.labels_dems:\n",
    "            label = int(img_path_dem[-6])\n",
    "        else:\n",
    "            label = 'no_label'\n",
    "            \n",
    "#         if self.imgs_path==dataset_path_bathym_labels:\n",
    "#             label = int(self.file_list_dem[idx][-6])\n",
    "        \n",
    "        return [img_raster_dem, label]\n",
    "    \n",
    "    \n",
    "    \n",
    "    \n",
    "    \n",
    "def normalize_input_for_dem(test_iter):\n",
    "    #test_iter = torch.from_numpy(test_iter)\n",
    "    input_images = test_iter.float()\n",
    "    maxv = 104\n",
    "    minv = 5\n",
    "#     batch_size = input_images.shape[0]\n",
    "#     cmin = torch.amin(input_images,(1,2)).reshape((batch_size,1,1))\n",
    "#     cmax = torch.amax(input_images,(1,2)).reshape((batch_size,1,1))\n",
    "    return (input_images-minv)/(maxv-minv) #(input_images-cmin)/(cmax-cmin)\n",
    "\n",
    "class Normalize_range01:\n",
    "    #bring to range 0 to 1\n",
    "\n",
    "    def __init__(self, p=1):\n",
    "        self.p = 1\n",
    "\n",
    "    def __call__(self, x):\n",
    "        result = normalize_input_for_dem(x)\n",
    "        return result\n",
    "\n",
    "    def __repr__(self):\n",
    "        return \"custom augmentation\"\n",
    "    \n",
    "class ContrastiveTransformations(object):\n",
    "\n",
    "    def __init__(self, base_transforms, n_views=2):\n",
    "        self.base_transforms = base_transforms\n",
    "        self.n_views = n_views\n",
    "\n",
    "    def __call__(self, x):\n",
    "        return [self.base_transforms(x) for i in range(self.n_views)]\n",
    "    \n",
    "    \n",
    "\n",
    "\n",
    "contrast_transforms = transforms.Compose([transforms.ToTensor(),\n",
    "                                          Normalize_range01(),\n",
    "                                          transforms.Resize(size = dem_size),\n",
    "                                          #Normalize_range01(),\n",
    "                                          #transforms.ToPILImage(), \n",
    "                                          #transforms.RandomHorizontalFlip(),\n",
    "                                          transforms.RandomResizedCrop(size=dem_size),\n",
    "                                          #transforms.RandomApply([transforms.ColorJitter(brightness=0.5, contrast=0.5, saturation=0.5, hue=0.1)], p=0.8),\n",
    "                                          #transforms.RandomGrayscale(p=0.2),\n",
    "                                          #transforms.GaussianBlur(kernel_size=9),\n",
    "                                          #transforms.ToTensor(),\n",
    "                                          #transforms.Normalize((0.5,), (0.5,))\n",
    "                                          \n",
    "                                         ])\n",
    "\n",
    "dem_transforms = transforms.Compose([transforms.ToTensor(),\n",
    "                                     Normalize_range01(),\n",
    "                                    transforms.Resize(size = dem_size),\n",
    "                                    transforms.RandomResizedCrop(size=dem_size),\n",
    "                                    #transforms.Normalize((0.5,), (0.5,))\n",
    "                                    ])\n",
    "\n",
    "img_transforms = transforms.Compose([transforms.ToTensor(),\n",
    "                                     transforms.Resize(size = 100),\n",
    "                                     transforms.RandomResizedCrop(size=dem_size),\n",
    "                                     #transforms.Normalize((0.5,), (0.5,))\n",
    "                                     ])\n",
    "\n",
    "\n",
    "\n",
    "from torch.utils.data import random_split\n",
    "import math\n",
    "dataset_path = bathym_and_imgs_path\n",
    "dataset = SwedishDataset(transform = ContrastiveTransformations(contrast_transforms, n_views = 2), dataset_path = dataset_path)\n",
    "\n",
    "print(len(dataset))\n",
    "dataset_len =len(dataset)\n",
    "\n",
    "train_dataset = torch.utils.data.Subset(dataset, train_set_indexes)\n",
    "test_dataset = torch.utils.data.Subset(dataset, test_set_indexes)\n",
    "# train_dataset = torch.utils.data.Subset(dataset, np.arange(100))\n",
    "# test_dataset = torch.utils.data.Subset(dataset, np.arange(100))\n",
    "print(len(train_dataset))\n",
    "print(len(test_dataset))\n",
    "\n",
    "#print(dataset[4][0][0].shape)\n",
    "#dataset[4][1].shape\n"
   ]
  },
  {
   "cell_type": "code",
   "execution_count": 9,
   "id": "bfae915a",
   "metadata": {},
   "outputs": [
    {
     "data": {
      "text/plain": [
       "[('Tasmania_ohara_labels/cropped_dems_16_imgs_100/PR_20081010_000331_192_LC16.tif',\n",
       "  'Tasmania_ohara_labels/Ohara_images_from_prof/i20081009_215637_gtif/PR_20081010_000331_192_LC16.tif'),\n",
       " ('Tasmania_ohara_labels/cropped_dems_16_imgs_100/PR_20081010_000332_192_LC16.tif',\n",
       "  'Tasmania_ohara_labels/Ohara_images_from_prof/i20081009_215637_gtif/PR_20081010_000332_192_LC16.tif')]"
      ]
     },
     "execution_count": 9,
     "metadata": {},
     "output_type": "execute_result"
    }
   ],
   "source": [
    "dataset_path[-2:]"
   ]
  },
  {
   "cell_type": "code",
   "execution_count": 10,
   "id": "67180352",
   "metadata": {},
   "outputs": [
    {
     "data": {
      "text/plain": [
       "<matplotlib.image.AxesImage at 0x7f238282ea70>"
      ]
     },
     "execution_count": 10,
     "metadata": {},
     "output_type": "execute_result"
    },
    {
     "data": {
      "image/png": "[encoded data removed]",
      "text/plain": [
       "<Figure size 640x480 with 1 Axes>"
      ]
     },
     "metadata": {},
     "output_type": "display_data"
    }
   ],
   "source": [
    "plt.imshow(np.array(Image.open(dataset_path[-1][1]))[:,:,0])"
   ]
  },
  {
   "cell_type": "code",
   "execution_count": 11,
   "id": "c810faf0",
   "metadata": {},
   "outputs": [
    {
     "name": "stderr",
     "output_type": "stream",
     "text": [
      "/home/azamat.kaibaldiyev/miniconda3/envs/contrastive_env/lib/python3.10/site-packages/torchvision/transforms/functional.py:1603: UserWarning: The default value of the antialias parameter of all the resizing transforms (Resize(), RandomResizedCrop(), etc.) will change from None to True in v0.17, in order to be consistent across the PIL and Tensor backends. To suppress this warning, directly pass antialias=True (recommended, future default), antialias=None (current default, which means False for Tensors and True for PIL), or antialias=False (only works on Tensors - PIL will still use antialiasing). This also applies if you are using the inference transforms from the models weights: update the call to weights.transforms(antialias=True).\n",
      "  warnings.warn(\n"
     ]
    },
    {
     "data": {
      "text/plain": [
       "<matplotlib.image.AxesImage at 0x7f237a00cdc0>"
      ]
     },
     "execution_count": 11,
     "metadata": {},
     "output_type": "execute_result"
    },
    {
     "data": {
      "image/png": "[encoded data removed]",
      "text/plain": [
       "<Figure size 640x480 with 1 Axes>"
      ]
     },
     "metadata": {},
     "output_type": "display_data"
    }
   ],
   "source": [
    "plt.imshow(dataset[0][0][0][0])"
   ]
  },
  {
   "cell_type": "code",
   "execution_count": 27,
   "id": "5801571b",
   "metadata": {},
   "outputs": [
    {
     "data": {
      "text/plain": [
       "[tensor([[[0.4440, 0.4452, 0.4478,  ..., 0.3061, 0.3060, 0.3090],\n",
       "          [0.4503, 0.4505, 0.4512,  ..., 0.3074, 0.3048, 0.3067],\n",
       "          [0.4537, 0.4530, 0.4524,  ..., 0.3072, 0.3034, 0.3043],\n",
       "          ...,\n",
       "          [0.4738, 0.4716, 0.4701,  ..., 0.3964, 0.3916, 0.3899],\n",
       "          [0.4785, 0.4755, 0.4738,  ..., 0.3956, 0.3904, 0.3882],\n",
       "          [0.4837, 0.4809, 0.4794,  ..., 0.3939, 0.3888, 0.3862]]]),\n",
       " tensor([[[0.0134, 0.0091, 0.0472,  ..., 0.1011, 0.1025, 0.1055],\n",
       "          [0.0196, 0.0120, 0.0213,  ..., 0.0796, 0.1142, 0.1019],\n",
       "          [0.0304, 0.0595, 0.0355,  ..., 0.0732, 0.0900, 0.1077],\n",
       "          ...,\n",
       "          [0.0314, 0.0471, 0.0568,  ..., 0.0643, 0.0674, 0.0774],\n",
       "          [0.0434, 0.0364, 0.0403,  ..., 0.0462, 0.0666, 0.0583],\n",
       "          [0.0480, 0.0965, 0.0511,  ..., 0.0554, 0.0522, 0.0701]]])]"
      ]
     },
     "execution_count": 27,
     "metadata": {},
     "output_type": "execute_result"
    }
   ],
   "source": [
    "dataset[-1][0]"
   ]
  },
  {
   "cell_type": "code",
   "execution_count": 23,
   "id": "0030d66f",
   "metadata": {},
   "outputs": [
    {
     "data": {
      "text/plain": [
       "[tensor([[[0.4014, 0.3966, 0.3871,  ..., 0.3402, 0.3417, 0.3425],\n",
       "          [0.4004, 0.3957, 0.3861,  ..., 0.3399, 0.3415, 0.3422],\n",
       "          [0.3948, 0.3899, 0.3803,  ..., 0.3383, 0.3398, 0.3405],\n",
       "          ...,\n",
       "          [0.3743, 0.3713, 0.3654,  ..., 0.3263, 0.3264, 0.3264],\n",
       "          [0.3734, 0.3704, 0.3643,  ..., 0.3268, 0.3268, 0.3268],\n",
       "          [0.3732, 0.3702, 0.3641,  ..., 0.3269, 0.3269, 0.3269]]]),\n",
       " tensor([[[0.1608, 0.1451, 0.1255,  ..., 0.1098, 0.1098, 0.1137],\n",
       "          [0.1529, 0.1412, 0.1294,  ..., 0.1059, 0.1216, 0.1333],\n",
       "          [0.1216, 0.1216, 0.1176,  ..., 0.1059, 0.1294, 0.1490],\n",
       "          ...,\n",
       "          [0.0863, 0.0902, 0.0941,  ..., 0.1020, 0.0980, 0.0941],\n",
       "          [0.0902, 0.0902, 0.0941,  ..., 0.1255, 0.1255, 0.1216],\n",
       "          [0.0863, 0.0902, 0.0902,  ..., 0.1255, 0.1294, 0.1294]]])]"
      ]
     },
     "execution_count": 23,
     "metadata": {},
     "output_type": "execute_result"
    }
   ],
   "source": [
    "dataset[-1][0]"
   ]
  },
  {
   "cell_type": "code",
   "execution_count": 47,
   "id": "7cc6fa10",
   "metadata": {},
   "outputs": [
    {
     "name": "stdout",
     "output_type": "stream",
     "text": [
      "('Tasmania_ohara_labels/cropped_dems_16_imgs_100/PR_20081008_234322_688_LC16.tif', 'Tasmania_ohara_labels/Ohara_images_from_prof/i20081008_224114_gtif/PR_20081008_234322_688_LC16.tif')\n"
     ]
    },
    {
     "data": {
      "text/plain": [
       "[tensor([[[-3.4372e+36, -3.4372e+36, -3.4372e+36,  ..., -3.4372e+36,\n",
       "           -3.4372e+36, -3.4372e+36],\n",
       "          [-3.4372e+36, -3.4372e+36, -3.4372e+36,  ..., -3.4372e+36,\n",
       "           -3.4372e+36, -3.4372e+36],\n",
       "          [-3.4372e+36, -3.4372e+36, -3.4372e+36,  ..., -3.4372e+36,\n",
       "           -3.4372e+36, -3.4372e+36],\n",
       "          ...,\n",
       "          [-3.4372e+36, -3.4372e+36, -3.4372e+36,  ..., -3.4372e+36,\n",
       "           -3.4372e+36, -3.4372e+36],\n",
       "          [-3.4372e+36, -3.4372e+36, -3.4372e+36,  ..., -3.4372e+36,\n",
       "           -3.4372e+36, -3.4372e+36],\n",
       "          [-3.4372e+36, -3.4372e+36, -3.4372e+36,  ..., -3.4372e+36,\n",
       "           -3.4372e+36, -3.4372e+36]]]),\n",
       " tensor([[[0.2007, 0.2807, 0.2881,  ..., 0.4569, 0.4552, 0.4592],\n",
       "          [0.1308, 0.2271, 0.2631,  ..., 0.4571, 0.4946, 0.5895],\n",
       "          [0.1223, 0.2250, 0.2086,  ..., 0.4954, 0.4747, 0.4733],\n",
       "          ...,\n",
       "          [0.3137, 0.3252, 0.3486,  ..., 0.4609, 0.4196, 0.4777],\n",
       "          [0.3653, 0.3619, 0.3374,  ..., 0.4505, 0.4551, 0.4281],\n",
       "          [0.2813, 0.3450, 0.3463,  ..., 0.3969, 0.4133, 0.4513]]])]"
      ]
     },
     "execution_count": 47,
     "metadata": {},
     "output_type": "execute_result"
    }
   ],
   "source": [
    "dataset[130000][0]"
   ]
  },
  {
   "cell_type": "code",
   "execution_count": null,
   "id": "ff93ef8e",
   "metadata": {},
   "outputs": [],
   "source": []
  },
  {
   "cell_type": "markdown",
   "id": "9b63d012",
   "metadata": {},
   "source": [
    "# Model"
   ]
  },
  {
   "cell_type": "code",
   "execution_count": 11,
   "id": "270540d8",
   "metadata": {},
   "outputs": [
    {
     "name": "stdout",
     "output_type": "stream",
     "text": [
      "\u001b[34m\u001b[1mwandb\u001b[0m: Appending key for api.wandb.ai to your netrc file: /home/azamat.kaibaldiyev/.netrc\r\n"
     ]
    }
   ],
   "source": [
    "!wandb login --relogin \"40706c6c21e200af3bdb3840883f22e665e74441\""
   ]
  },
  {
   "cell_type": "code",
   "execution_count": 7,
   "id": "51ce4170",
   "metadata": {},
   "outputs": [
    {
     "name": "stderr",
     "output_type": "stream",
     "text": [
      "Failed to detect the name of this notebook, you can set it manually with the WANDB_NOTEBOOK_NAME environment variable to enable code saving.\n",
      "\u001b[34m\u001b[1mwandb\u001b[0m: Currently logged in as: \u001b[33mkaibaldiyev\u001b[0m (\u001b[33mself-sup-segm\u001b[0m). Use \u001b[1m`wandb login --relogin`\u001b[0m to force relogin\n"
     ]
    },
    {
     "name": "stdout",
     "output_type": "stream",
     "text": [
      "Problem at: /tmp/ipykernel_3098233/888923671.py 9 <module>\n"
     ]
    },
    {
     "ename": "KeyboardInterrupt",
     "evalue": "",
     "output_type": "error",
     "traceback": [
      "\u001b[0;31m---------------------------------------------------------------------------\u001b[0m",
      "\u001b[0;31mKeyboardInterrupt\u001b[0m                         Traceback (most recent call last)",
      "Cell \u001b[0;32mIn[7], line 9\u001b[0m\n\u001b[1;32m      6\u001b[0m lr \u001b[38;5;241m=\u001b[39m \u001b[38;5;241m1e-5\u001b[39m\n\u001b[1;32m      7\u001b[0m \u001b[38;5;66;03m#wandb.init(settings=wandb.Settings(start_method=\"fork\"))\u001b[39;00m\n\u001b[1;32m      8\u001b[0m \u001b[38;5;66;03m# start a new wandb run to track this script\u001b[39;00m\n\u001b[0;32m----> 9\u001b[0m \u001b[43mwandb\u001b[49m\u001b[38;5;241;43m.\u001b[39;49m\u001b[43minit\u001b[49m\u001b[43m(\u001b[49m\n\u001b[1;32m     10\u001b[0m \u001b[43m    \u001b[49m\u001b[38;5;66;43;03m# set the wandb project where this run will be logged\u001b[39;49;00m\n\u001b[1;32m     11\u001b[0m \u001b[43m    \u001b[49m\u001b[43mproject\u001b[49m\u001b[38;5;241;43m=\u001b[39;49m\u001b[38;5;124;43m\"\u001b[39;49m\u001b[38;5;124;43mContrastive_SimCLR_Ohara\u001b[39;49m\u001b[38;5;124;43m\"\u001b[39;49m\u001b[43m,\u001b[49m\n\u001b[1;32m     12\u001b[0m \u001b[43m    \u001b[49m\n\u001b[1;32m     13\u001b[0m \u001b[43m    \u001b[49m\u001b[38;5;66;43;03m# track hyperparameters and run metadata\u001b[39;49;00m\n\u001b[1;32m     14\u001b[0m \u001b[43m    \u001b[49m\u001b[43mconfig\u001b[49m\u001b[38;5;241;43m=\u001b[39;49m\u001b[43m{\u001b[49m\n\u001b[1;32m     15\u001b[0m \u001b[43m    \u001b[49m\u001b[38;5;124;43m\"\u001b[39;49m\u001b[38;5;124;43mlearning_rate\u001b[39;49m\u001b[38;5;124;43m\"\u001b[39;49m\u001b[43m:\u001b[49m\u001b[43m \u001b[49m\u001b[43mlr\u001b[49m\u001b[43m,\u001b[49m\n\u001b[1;32m     16\u001b[0m \u001b[43m    \u001b[49m\u001b[38;5;124;43m\"\u001b[39;49m\u001b[38;5;124;43marchitecture\u001b[39;49m\u001b[38;5;124;43m\"\u001b[39;49m\u001b[43m:\u001b[49m\u001b[43m \u001b[49m\u001b[38;5;124;43m\"\u001b[39;49m\u001b[38;5;124;43mSimCLR\u001b[39;49m\u001b[38;5;124;43m\"\u001b[39;49m\u001b[43m,\u001b[49m\n\u001b[1;32m     17\u001b[0m \u001b[43m    \u001b[49m\u001b[38;5;124;43m\"\u001b[39;49m\u001b[38;5;124;43mdataset\u001b[39;49m\u001b[38;5;124;43m\"\u001b[39;49m\u001b[43m:\u001b[49m\u001b[43m \u001b[49m\u001b[38;5;124;43m\"\u001b[39;49m\u001b[38;5;124;43mOhara_dataset_dems_and_images_137000\u001b[39;49m\u001b[38;5;124;43m\"\u001b[39;49m\u001b[43m,\u001b[49m\n\u001b[1;32m     18\u001b[0m \u001b[43m    \u001b[49m\u001b[38;5;124;43m\"\u001b[39;49m\u001b[38;5;124;43mepochs\u001b[39;49m\u001b[38;5;124;43m\"\u001b[39;49m\u001b[43m:\u001b[49m\u001b[43m \u001b[49m\u001b[43mepochs\u001b[49m\u001b[43m,\u001b[49m\n\u001b[1;32m     19\u001b[0m \u001b[43m    \u001b[49m\u001b[43m}\u001b[49m\n\u001b[1;32m     20\u001b[0m \u001b[43m)\u001b[49m\n",
      "File \u001b[0;32m~/miniconda3/envs/contrastive_env/lib/python3.10/site-packages/wandb/sdk/wandb_init.py:1168\u001b[0m, in \u001b[0;36minit\u001b[0;34m(job_type, dir, config, project, entity, reinit, tags, group, name, notes, magic, config_exclude_keys, config_include_keys, anonymous, mode, allow_val_change, resume, force, tensorboard, sync_tensorboard, monitor_gym, save_code, id, settings)\u001b[0m\n\u001b[1;32m   1166\u001b[0m     \u001b[38;5;28;01massert\u001b[39;00m logger\n\u001b[1;32m   1167\u001b[0m     logger\u001b[38;5;241m.\u001b[39mwarning(\u001b[38;5;124m\"\u001b[39m\u001b[38;5;124minterrupted\u001b[39m\u001b[38;5;124m\"\u001b[39m, exc_info\u001b[38;5;241m=\u001b[39me)\n\u001b[0;32m-> 1168\u001b[0m     \u001b[38;5;28;01mraise\u001b[39;00m e\n\u001b[1;32m   1169\u001b[0m \u001b[38;5;28;01mexcept\u001b[39;00m \u001b[38;5;167;01mException\u001b[39;00m \u001b[38;5;28;01mas\u001b[39;00m e:\n\u001b[1;32m   1170\u001b[0m     error_seen \u001b[38;5;241m=\u001b[39m e\n",
      "File \u001b[0;32m~/miniconda3/envs/contrastive_env/lib/python3.10/site-packages/wandb/sdk/wandb_init.py:1145\u001b[0m, in \u001b[0;36minit\u001b[0;34m(job_type, dir, config, project, entity, reinit, tags, group, name, notes, magic, config_exclude_keys, config_include_keys, anonymous, mode, allow_val_change, resume, force, tensorboard, sync_tensorboard, monitor_gym, save_code, id, settings)\u001b[0m\n\u001b[1;32m   1143\u001b[0m except_exit \u001b[38;5;241m=\u001b[39m wi\u001b[38;5;241m.\u001b[39msettings\u001b[38;5;241m.\u001b[39m_except_exit\n\u001b[1;32m   1144\u001b[0m \u001b[38;5;28;01mtry\u001b[39;00m:\n\u001b[0;32m-> 1145\u001b[0m     run \u001b[38;5;241m=\u001b[39m \u001b[43mwi\u001b[49m\u001b[38;5;241;43m.\u001b[39;49m\u001b[43minit\u001b[49m\u001b[43m(\u001b[49m\u001b[43m)\u001b[49m\n\u001b[1;32m   1146\u001b[0m     except_exit \u001b[38;5;241m=\u001b[39m wi\u001b[38;5;241m.\u001b[39msettings\u001b[38;5;241m.\u001b[39m_except_exit\n\u001b[1;32m   1147\u001b[0m \u001b[38;5;28;01mexcept\u001b[39;00m (\u001b[38;5;167;01mKeyboardInterrupt\u001b[39;00m, \u001b[38;5;167;01mException\u001b[39;00m) \u001b[38;5;28;01mas\u001b[39;00m e:\n",
      "File \u001b[0;32m~/miniconda3/envs/contrastive_env/lib/python3.10/site-packages/wandb/sdk/wandb_init.py:794\u001b[0m, in \u001b[0;36m_WandbInit.init\u001b[0;34m(self)\u001b[0m\n\u001b[1;32m    792\u001b[0m run_start_handle \u001b[38;5;241m=\u001b[39m backend\u001b[38;5;241m.\u001b[39minterface\u001b[38;5;241m.\u001b[39mdeliver_run_start(run_obj)\n\u001b[1;32m    793\u001b[0m \u001b[38;5;66;03m# TODO: add progress to let user know we are doing something\u001b[39;00m\n\u001b[0;32m--> 794\u001b[0m run_start_result \u001b[38;5;241m=\u001b[39m \u001b[43mrun_start_handle\u001b[49m\u001b[38;5;241;43m.\u001b[39;49m\u001b[43mwait\u001b[49m\u001b[43m(\u001b[49m\u001b[43mtimeout\u001b[49m\u001b[38;5;241;43m=\u001b[39;49m\u001b[38;5;241;43m30\u001b[39;49m\u001b[43m)\u001b[49m\n\u001b[1;32m    795\u001b[0m \u001b[38;5;28;01mif\u001b[39;00m run_start_result \u001b[38;5;129;01mis\u001b[39;00m \u001b[38;5;28;01mNone\u001b[39;00m:\n\u001b[1;32m    796\u001b[0m     run_start_handle\u001b[38;5;241m.\u001b[39mabandon()\n",
      "File \u001b[0;32m~/miniconda3/envs/contrastive_env/lib/python3.10/site-packages/wandb/sdk/lib/mailbox.py:283\u001b[0m, in \u001b[0;36mMailboxHandle.wait\u001b[0;34m(self, timeout, on_probe, on_progress, release, cancel)\u001b[0m\n\u001b[1;32m    280\u001b[0m     \u001b[38;5;28;01mif\u001b[39;00m \u001b[38;5;28mself\u001b[39m\u001b[38;5;241m.\u001b[39m_interface\u001b[38;5;241m.\u001b[39m_transport_keepalive_failed():\n\u001b[1;32m    281\u001b[0m         \u001b[38;5;28;01mraise\u001b[39;00m MailboxError(\u001b[38;5;124m\"\u001b[39m\u001b[38;5;124mtransport failed\u001b[39m\u001b[38;5;124m\"\u001b[39m)\n\u001b[0;32m--> 283\u001b[0m found, abandoned \u001b[38;5;241m=\u001b[39m \u001b[38;5;28;43mself\u001b[39;49m\u001b[38;5;241;43m.\u001b[39;49m\u001b[43m_slot\u001b[49m\u001b[38;5;241;43m.\u001b[39;49m\u001b[43m_get_and_clear\u001b[49m\u001b[43m(\u001b[49m\u001b[43mtimeout\u001b[49m\u001b[38;5;241;43m=\u001b[39;49m\u001b[43mwait_timeout\u001b[49m\u001b[43m)\u001b[49m\n\u001b[1;32m    284\u001b[0m \u001b[38;5;28;01mif\u001b[39;00m found:\n\u001b[1;32m    285\u001b[0m     \u001b[38;5;66;03m# Always update progress to 100% when done\u001b[39;00m\n\u001b[1;32m    286\u001b[0m     \u001b[38;5;28;01mif\u001b[39;00m on_progress \u001b[38;5;129;01mand\u001b[39;00m progress_handle \u001b[38;5;129;01mand\u001b[39;00m progress_sent:\n",
      "File \u001b[0;32m~/miniconda3/envs/contrastive_env/lib/python3.10/site-packages/wandb/sdk/lib/mailbox.py:130\u001b[0m, in \u001b[0;36m_MailboxSlot._get_and_clear\u001b[0;34m(self, timeout)\u001b[0m\n\u001b[1;32m    128\u001b[0m \u001b[38;5;28;01mdef\u001b[39;00m \u001b[38;5;21m_get_and_clear\u001b[39m(\u001b[38;5;28mself\u001b[39m, timeout: \u001b[38;5;28mfloat\u001b[39m) \u001b[38;5;241m-\u001b[39m\u001b[38;5;241m>\u001b[39m Tuple[Optional[pb\u001b[38;5;241m.\u001b[39mResult], \u001b[38;5;28mbool\u001b[39m]:\n\u001b[1;32m    129\u001b[0m     found \u001b[38;5;241m=\u001b[39m \u001b[38;5;28;01mNone\u001b[39;00m\n\u001b[0;32m--> 130\u001b[0m     \u001b[38;5;28;01mif\u001b[39;00m \u001b[38;5;28;43mself\u001b[39;49m\u001b[38;5;241;43m.\u001b[39;49m\u001b[43m_wait\u001b[49m\u001b[43m(\u001b[49m\u001b[43mtimeout\u001b[49m\u001b[38;5;241;43m=\u001b[39;49m\u001b[43mtimeout\u001b[49m\u001b[43m)\u001b[49m:\n\u001b[1;32m    131\u001b[0m         \u001b[38;5;28;01mwith\u001b[39;00m \u001b[38;5;28mself\u001b[39m\u001b[38;5;241m.\u001b[39m_lock:\n\u001b[1;32m    132\u001b[0m             found \u001b[38;5;241m=\u001b[39m \u001b[38;5;28mself\u001b[39m\u001b[38;5;241m.\u001b[39m_result\n",
      "File \u001b[0;32m~/miniconda3/envs/contrastive_env/lib/python3.10/site-packages/wandb/sdk/lib/mailbox.py:126\u001b[0m, in \u001b[0;36m_MailboxSlot._wait\u001b[0;34m(self, timeout)\u001b[0m\n\u001b[1;32m    125\u001b[0m \u001b[38;5;28;01mdef\u001b[39;00m \u001b[38;5;21m_wait\u001b[39m(\u001b[38;5;28mself\u001b[39m, timeout: \u001b[38;5;28mfloat\u001b[39m) \u001b[38;5;241m-\u001b[39m\u001b[38;5;241m>\u001b[39m \u001b[38;5;28mbool\u001b[39m:\n\u001b[0;32m--> 126\u001b[0m     \u001b[38;5;28;01mreturn\u001b[39;00m \u001b[38;5;28;43mself\u001b[39;49m\u001b[38;5;241;43m.\u001b[39;49m\u001b[43m_event\u001b[49m\u001b[38;5;241;43m.\u001b[39;49m\u001b[43mwait\u001b[49m\u001b[43m(\u001b[49m\u001b[43mtimeout\u001b[49m\u001b[38;5;241;43m=\u001b[39;49m\u001b[43mtimeout\u001b[49m\u001b[43m)\u001b[49m\n",
      "File \u001b[0;32m~/miniconda3/envs/contrastive_env/lib/python3.10/threading.py:607\u001b[0m, in \u001b[0;36mEvent.wait\u001b[0;34m(self, timeout)\u001b[0m\n\u001b[1;32m    605\u001b[0m signaled \u001b[38;5;241m=\u001b[39m \u001b[38;5;28mself\u001b[39m\u001b[38;5;241m.\u001b[39m_flag\n\u001b[1;32m    606\u001b[0m \u001b[38;5;28;01mif\u001b[39;00m \u001b[38;5;129;01mnot\u001b[39;00m signaled:\n\u001b[0;32m--> 607\u001b[0m     signaled \u001b[38;5;241m=\u001b[39m \u001b[38;5;28;43mself\u001b[39;49m\u001b[38;5;241;43m.\u001b[39;49m\u001b[43m_cond\u001b[49m\u001b[38;5;241;43m.\u001b[39;49m\u001b[43mwait\u001b[49m\u001b[43m(\u001b[49m\u001b[43mtimeout\u001b[49m\u001b[43m)\u001b[49m\n\u001b[1;32m    608\u001b[0m \u001b[38;5;28;01mreturn\u001b[39;00m signaled\n",
      "File \u001b[0;32m~/miniconda3/envs/contrastive_env/lib/python3.10/threading.py:324\u001b[0m, in \u001b[0;36mCondition.wait\u001b[0;34m(self, timeout)\u001b[0m\n\u001b[1;32m    322\u001b[0m \u001b[38;5;28;01melse\u001b[39;00m:\n\u001b[1;32m    323\u001b[0m     \u001b[38;5;28;01mif\u001b[39;00m timeout \u001b[38;5;241m>\u001b[39m \u001b[38;5;241m0\u001b[39m:\n\u001b[0;32m--> 324\u001b[0m         gotit \u001b[38;5;241m=\u001b[39m \u001b[43mwaiter\u001b[49m\u001b[38;5;241;43m.\u001b[39;49m\u001b[43macquire\u001b[49m\u001b[43m(\u001b[49m\u001b[38;5;28;43;01mTrue\u001b[39;49;00m\u001b[43m,\u001b[49m\u001b[43m \u001b[49m\u001b[43mtimeout\u001b[49m\u001b[43m)\u001b[49m\n\u001b[1;32m    325\u001b[0m     \u001b[38;5;28;01melse\u001b[39;00m:\n\u001b[1;32m    326\u001b[0m         gotit \u001b[38;5;241m=\u001b[39m waiter\u001b[38;5;241m.\u001b[39macquire(\u001b[38;5;28;01mFalse\u001b[39;00m)\n",
      "\u001b[0;31mKeyboardInterrupt\u001b[0m: "
     ]
    }
   ],
   "source": [
    "import wandb\n",
    "import random\n",
    "from sklearn.metrics import classification_report\n",
    "\n",
    "epochs = 300\n",
    "lr = 1e-5\n",
    "#wandb.init(settings=wandb.Settings(start_method=\"fork\"))\n",
    "# start a new wandb run to track this script\n",
    "wandb.init(\n",
    "    # set the wandb project where this run will be logged\n",
    "    project=\"Contrastive_SimCLR_Ohara\",\n",
    "    \n",
    "    # track hyperparameters and run metadata\n",
    "    config={\n",
    "    \"learning_rate\": lr,\n",
    "    \"architecture\": \"SimCLR\",\n",
    "    \"dataset\": \"Ohara_dataset_dems_and_images_137000\",\n",
    "    \"epochs\": epochs,\n",
    "    }\n",
    ")"
   ]
  },
  {
   "cell_type": "code",
   "execution_count": 40,
   "id": "4a3781b2",
   "metadata": {},
   "outputs": [],
   "source": [
    "class SimCLR(pl.LightningModule):\n",
    "\n",
    "    def __init__(self, hidden_dim, lr, temperature, weight_decay, max_epochs=500):\n",
    "        super().__init__()\n",
    "        self.save_hyperparameters()\n",
    "        assert self.hparams.temperature > 0.0, 'The temperature must be a positive float!'\n",
    "        # Base model f(.)\n",
    "        self.convnet = torchvision.models.resnet18(num_classes=4*hidden_dim)  # Output of last linear layer\n",
    "        #model = torchvision.models.resnet18()\n",
    "        num_input_channel = 1\n",
    "        self.convnet.conv1 = nn.Conv2d(num_input_channel, 64, kernel_size=7, stride=2, padding=3,bias=False)\n",
    "        # The MLP for g(.) consists of Linear->ReLU->Linear\n",
    "        self.convnet.fc = nn.Sequential(\n",
    "            self.convnet.fc,  # Linear(ResNet output, 4*hidden_dim)\n",
    "            nn.ReLU(inplace=True),\n",
    "            nn.Linear(4*hidden_dim, hidden_dim)\n",
    "        )\n",
    "\n",
    "    def configure_optimizers(self):\n",
    "        optimizer = optim.AdamW(self.parameters(),\n",
    "                                lr=self.hparams.lr,\n",
    "                                weight_decay=self.hparams.weight_decay)\n",
    "        lr_scheduler = optim.lr_scheduler.CosineAnnealingLR(optimizer,\n",
    "                                                            T_max=self.hparams.max_epochs,\n",
    "                                                            eta_min=self.hparams.lr/50)\n",
    "        return [optimizer], [lr_scheduler]\n",
    "\n",
    "    def info_nce_loss(self, batch, mode='train'):\n",
    "        imgs, _ = batch\n",
    "        imgs = torch.cat(imgs, dim=0)\n",
    "\n",
    "        # Encode all images\n",
    "        feats = self.convnet(imgs)\n",
    "        # Calculate cosine similarity\n",
    "        cos_sim = F.cosine_similarity(feats[:,None,:], feats[None,:,:], dim=-1)\n",
    "        # Mask out cosine similarity to itself\n",
    "        self_mask = torch.eye(cos_sim.shape[0], dtype=torch.bool, device=cos_sim.device)\n",
    "        cos_sim.masked_fill_(self_mask, -9e15)\n",
    "        # Find positive example -> batch_size//2 away from the original example\n",
    "        pos_mask = self_mask.roll(shifts=cos_sim.shape[0]//2, dims=0)\n",
    "        # InfoNCE loss\n",
    "        cos_sim = cos_sim / self.hparams.temperature\n",
    "        nll = -cos_sim[pos_mask] + torch.logsumexp(cos_sim, dim=-1)\n",
    "        nll = nll.mean()\n",
    "\n",
    "        # Logging loss\n",
    "        self.log(mode+'_loss', nll)\n",
    "        wandb.log({'SimCLR_'+mode+'_loss':nll})\n",
    "        # Get ranking position of positive example\n",
    "        comb_sim = torch.cat([cos_sim[pos_mask][:,None],  # First position positive example\n",
    "                              cos_sim.masked_fill(pos_mask, -9e15)],\n",
    "                             dim=-1)\n",
    "        sim_argsort = comb_sim.argsort(dim=-1, descending=True).argmin(dim=-1)\n",
    "        # Logging ranking metrics\n",
    "        wandb.log({'SimCLR_'+mode+'_acc_top1':(sim_argsort == 0).float().mean()})\n",
    "        wandb.log({'SimCLR_'+mode+'_acc_top5':(sim_argsort < 5).float().mean()})\n",
    "        wandb.log({'SimCLR_'+mode+'_acc_mean_pos': 1+sim_argsort.float().mean()})\n",
    "        \n",
    "        self.log(mode+'_acc_top1', (sim_argsort == 0).float().mean())\n",
    "        self.log(mode+'_acc_top5', (sim_argsort < 5).float().mean())\n",
    "        self.log(mode+'_acc_mean_pos', 1+sim_argsort.float().mean())\n",
    "\n",
    "        return nll\n",
    "\n",
    "    def training_step(self, batch, batch_idx):\n",
    "        return self.info_nce_loss(batch, mode='train')\n",
    "\n",
    "    def validation_step(self, batch, batch_idx):\n",
    "        self.info_nce_loss(batch, mode='val')\n",
    "        \n",
    "    def forward(self, x):\n",
    "        return self.convnet(x)\n",
    "        \n",
    "    "
   ]
  },
  {
   "cell_type": "code",
   "execution_count": 41,
   "id": "3bc27b1a",
   "metadata": {},
   "outputs": [],
   "source": [
    "def train_simclr(batch_size, max_epochs=500, **kwargs):\n",
    "    trainer = pl.Trainer(log_every_n_steps=10, default_root_dir=os.path.join(CHECKPOINT_PATH, 'SimCLR'),\n",
    "                         accelerator=\"gpu\" if str(device).startswith(\"cuda\") else \"cpu\",\n",
    "                         devices=1,\n",
    "                         max_epochs=max_epochs,\n",
    "                         callbacks=[ModelCheckpoint(save_weights_only=True, mode='max', monitor='val_acc_top5'),\n",
    "                                    LearningRateMonitor('epoch')])\n",
    "    trainer.logger._default_hp_metric = None # Optional logging argument that we don't need\n",
    "\n",
    "    # Check whether pretrained model exists. If yes, load it and skip training\n",
    "    pretrained_filename = os.path.join(CHECKPOINT_PATH, 'SimCLR.ckpt')\n",
    "    if os.path.isfile(pretrained_filename):\n",
    "        print(f'Found pretrained model at {pretrained_filename}, loading...')\n",
    "        model = SimCLR.load_from_checkpoint(pretrained_filename) # Automatically loads the model with the saved hyperparameters\n",
    "    else:\n",
    "        train_loader = data.DataLoader(train_dataset, batch_size=batch_size, shuffle=True,\n",
    "                                       drop_last=True, pin_memory=True, num_workers=2)\n",
    "        val_loader = data.DataLoader(test_dataset, batch_size=batch_size, shuffle=False,\n",
    "                                     drop_last=False, pin_memory=True, num_workers=2)\n",
    "        pl.seed_everything(42) # To be reproducable\n",
    "        model = SimCLR(max_epochs=max_epochs, **kwargs)\n",
    "        trainer.fit(model, train_loader, val_loader)\n",
    "        model = SimCLR.load_from_checkpoint(trainer.checkpoint_callback.best_model_path) # Load best checkpoint after training\n",
    "\n",
    "    return model"
   ]
  },
  {
   "cell_type": "code",
   "execution_count": 42,
   "id": "87ec1e20",
   "metadata": {},
   "outputs": [
    {
     "name": "stderr",
     "output_type": "stream",
     "text": [
      "/home/azamat.kaibaldiyev/miniconda3/envs/contrastive_env/lib/python3.10/site-packages/lightning_fabric/plugins/environments/slurm.py:166: PossibleUserWarning: The `srun` command is available on your system but is not used. HINT: If your intention is to run Lightning on SLURM, prepend your python command with `srun` like so: srun python /home/azamat.kaibaldiyev/miniconda3/envs/contrastive ...\n",
      "  rank_zero_warn(\n",
      "GPU available: True (cuda), used: True\n",
      "TPU available: False, using: 0 TPU cores\n",
      "IPU available: False, using: 0 IPUs\n",
      "HPU available: False, using: 0 HPUs\n",
      "[rank: 0] Global seed set to 42\n",
      "/home/azamat.kaibaldiyev/miniconda3/envs/contrastive_env/lib/python3.10/site-packages/lightning_fabric/plugins/environments/slurm.py:166: PossibleUserWarning: The `srun` command is available on your system but is not used. HINT: If your intention is to run Lightning on SLURM, prepend your python command with `srun` like so: srun python /home/azamat.kaibaldiyev/miniconda3/envs/contrastive ...\n",
      "  rank_zero_warn(\n",
      "You are using a CUDA device ('NVIDIA A100-PCIE-40GB MIG 2g.10gb') that has Tensor Cores. To properly utilize them, you should set `torch.set_float32_matmul_precision('medium' | 'high')` which will trade-off precision for performance. For more details, read https://pytorch.org/docs/stable/generated/torch.set_float32_matmul_precision.html#torch.set_float32_matmul_precision\n",
      "Missing logger folder: /home/azamat.kaibaldiyev/Tasmania_ohara_labels/checkpoints_Ohara_images_and_bathym/SimCLR/lightning_logs\n",
      "LOCAL_RANK: 0 - CUDA_VISIBLE_DEVICES: [0]\n",
      "\n",
      "  | Name    | Type   | Params\n",
      "-----------------------------------\n",
      "0 | convnet | ResNet | 11.5 M\n",
      "-----------------------------------\n",
      "11.5 M    Trainable params\n",
      "0         Non-trainable params\n",
      "11.5 M    Total params\n",
      "45.994    Total estimated model params size (MB)\n"
     ]
    },
    {
     "data": {
      "application/vnd.jupyter.widget-view+json": {
       "model_id": "",
       "version_major": 2,
       "version_minor": 0
      },
      "text/plain": [
       "Sanity Checking: 0it [00:00, ?it/s]"
      ]
     },
     "metadata": {},
     "output_type": "display_data"
    },
    {
     "name": "stderr",
     "output_type": "stream",
     "text": [
      "/home/azamat.kaibaldiyev/miniconda3/envs/contrastive_env/lib/python3.10/site-packages/pytorch_lightning/trainer/connectors/data_connector.py:224: PossibleUserWarning: The dataloader, val_dataloader 0, does not have many workers which may be a bottleneck. Consider increasing the value of the `num_workers` argument` (try 64 which is the number of cpus on this machine) in the `DataLoader` init to improve performance.\n",
      "  rank_zero_warn(\n",
      "/home/azamat.kaibaldiyev/miniconda3/envs/contrastive_env/lib/python3.10/site-packages/torchvision/transforms/functional.py:1603: UserWarning: The default value of the antialias parameter of all the resizing transforms (Resize(), RandomResizedCrop(), etc.) will change from None to True in v0.17, in order to be consistent across the PIL and Tensor backends. To suppress this warning, directly pass antialias=True (recommended, future default), antialias=None (current default, which means False for Tensors and True for PIL), or antialias=False (only works on Tensors - PIL will still use antialiasing). This also applies if you are using the inference transforms from the models weights: update the call to weights.transforms(antialias=True).\n",
      "  warnings.warn(\n",
      "/home/azamat.kaibaldiyev/miniconda3/envs/contrastive_env/lib/python3.10/site-packages/torchvision/transforms/functional.py:1603: UserWarning: The default value of the antialias parameter of all the resizing transforms (Resize(), RandomResizedCrop(), etc.) will change from None to True in v0.17, in order to be consistent across the PIL and Tensor backends. To suppress this warning, directly pass antialias=True (recommended, future default), antialias=None (current default, which means False for Tensors and True for PIL), or antialias=False (only works on Tensors - PIL will still use antialiasing). This also applies if you are using the inference transforms from the models weights: update the call to weights.transforms(antialias=True).\n",
      "  warnings.warn(\n",
      "/home/azamat.kaibaldiyev/miniconda3/envs/contrastive_env/lib/python3.10/site-packages/pytorch_lightning/utilities/data.py:84: UserWarning: Trying to infer the `batch_size` from an ambiguous collection. The batch size we found is 512. To avoid any miscalculations, use `self.log(..., batch_size=batch_size)`.\n",
      "  warning_cache.warn(\n",
      "/home/azamat.kaibaldiyev/miniconda3/envs/contrastive_env/lib/python3.10/site-packages/pytorch_lightning/trainer/connectors/data_connector.py:224: PossibleUserWarning: The dataloader, train_dataloader, does not have many workers which may be a bottleneck. Consider increasing the value of the `num_workers` argument` (try 64 which is the number of cpus on this machine) in the `DataLoader` init to improve performance.\n",
      "  rank_zero_warn(\n"
     ]
    },
    {
     "data": {
      "application/vnd.jupyter.widget-view+json": {
       "model_id": "6c02f1b211f14707b2d513483be68a7c",
       "version_major": 2,
       "version_minor": 0
      },
      "text/plain": [
       "Training: 0it [00:00, ?it/s]"
      ]
     },
     "metadata": {},
     "output_type": "display_data"
    },
    {
     "name": "stderr",
     "output_type": "stream",
     "text": [
      "/home/azamat.kaibaldiyev/miniconda3/envs/contrastive_env/lib/python3.10/site-packages/torchvision/transforms/functional.py:1603: UserWarning: The default value of the antialias parameter of all the resizing transforms (Resize(), RandomResizedCrop(), etc.) will change from None to True in v0.17, in order to be consistent across the PIL and Tensor backends. To suppress this warning, directly pass antialias=True (recommended, future default), antialias=None (current default, which means False for Tensors and True for PIL), or antialias=False (only works on Tensors - PIL will still use antialiasing). This also applies if you are using the inference transforms from the models weights: update the call to weights.transforms(antialias=True).\n",
      "  warnings.warn(\n",
      "/home/azamat.kaibaldiyev/miniconda3/envs/contrastive_env/lib/python3.10/site-packages/torchvision/transforms/functional.py:1603: UserWarning: The default value of the antialias parameter of all the resizing transforms (Resize(), RandomResizedCrop(), etc.) will change from None to True in v0.17, in order to be consistent across the PIL and Tensor backends. To suppress this warning, directly pass antialias=True (recommended, future default), antialias=None (current default, which means False for Tensors and True for PIL), or antialias=False (only works on Tensors - PIL will still use antialiasing). This also applies if you are using the inference transforms from the models weights: update the call to weights.transforms(antialias=True).\n",
      "  warnings.warn(\n"
     ]
    },
    {
     "data": {
      "application/vnd.jupyter.widget-view+json": {
       "model_id": "",
       "version_major": 2,
       "version_minor": 0
      },
      "text/plain": [
       "Validation: 0it [00:00, ?it/s]"
      ]
     },
     "metadata": {},
     "output_type": "display_data"
    },
    {
     "name": "stderr",
     "output_type": "stream",
     "text": [
      "/home/azamat.kaibaldiyev/miniconda3/envs/contrastive_env/lib/python3.10/site-packages/torchvision/transforms/functional.py:1603: UserWarning: The default value of the antialias parameter of all the resizing transforms (Resize(), RandomResizedCrop(), etc.) will change from None to True in v0.17, in order to be consistent across the PIL and Tensor backends. To suppress this warning, directly pass antialias=True (recommended, future default), antialias=None (current default, which means False for Tensors and True for PIL), or antialias=False (only works on Tensors - PIL will still use antialiasing). This also applies if you are using the inference transforms from the models weights: update the call to weights.transforms(antialias=True).\n",
      "  warnings.warn(\n",
      "/home/azamat.kaibaldiyev/miniconda3/envs/contrastive_env/lib/python3.10/site-packages/torchvision/transforms/functional.py:1603: UserWarning: The default value of the antialias parameter of all the resizing transforms (Resize(), RandomResizedCrop(), etc.) will change from None to True in v0.17, in order to be consistent across the PIL and Tensor backends. To suppress this warning, directly pass antialias=True (recommended, future default), antialias=None (current default, which means False for Tensors and True for PIL), or antialias=False (only works on Tensors - PIL will still use antialiasing). This also applies if you are using the inference transforms from the models weights: update the call to weights.transforms(antialias=True).\n",
      "  warnings.warn(\n",
      "/home/azamat.kaibaldiyev/miniconda3/envs/contrastive_env/lib/python3.10/site-packages/pytorch_lightning/utilities/data.py:84: UserWarning: Trying to infer the `batch_size` from an ambiguous collection. The batch size we found is 420. To avoid any miscalculations, use `self.log(..., batch_size=batch_size)`.\n",
      "  warning_cache.warn(\n",
      "/home/azamat.kaibaldiyev/miniconda3/envs/contrastive_env/lib/python3.10/site-packages/torchvision/transforms/functional.py:1603: UserWarning: The default value of the antialias parameter of all the resizing transforms (Resize(), RandomResizedCrop(), etc.) will change from None to True in v0.17, in order to be consistent across the PIL and Tensor backends. To suppress this warning, directly pass antialias=True (recommended, future default), antialias=None (current default, which means False for Tensors and True for PIL), or antialias=False (only works on Tensors - PIL will still use antialiasing). This also applies if you are using the inference transforms from the models weights: update the call to weights.transforms(antialias=True).\n",
      "  warnings.warn(\n",
      "/home/azamat.kaibaldiyev/miniconda3/envs/contrastive_env/lib/python3.10/site-packages/torchvision/transforms/functional.py:1603: UserWarning: The default value of the antialias parameter of all the resizing transforms (Resize(), RandomResizedCrop(), etc.) will change from None to True in v0.17, in order to be consistent across the PIL and Tensor backends. To suppress this warning, directly pass antialias=True (recommended, future default), antialias=None (current default, which means False for Tensors and True for PIL), or antialias=False (only works on Tensors - PIL will still use antialiasing). This also applies if you are using the inference transforms from the models weights: update the call to weights.transforms(antialias=True).\n",
      "  warnings.warn(\n",
      "/home/azamat.kaibaldiyev/miniconda3/envs/contrastive_env/lib/python3.10/site-packages/pytorch_lightning/trainer/call.py:48: UserWarning: Detected KeyboardInterrupt, attempting graceful shutdown...\n",
      "  rank_zero_warn(\"Detected KeyboardInterrupt, attempting graceful shutdown...\")\n"
     ]
    }
   ],
   "source": [
    "simclr_model = train_simclr(batch_size=512,\n",
    "                            hidden_dim=128,\n",
    "                            lr=5e-4,\n",
    "                            temperature=0.07,\n",
    "                            weight_decay=1e-4,\n",
    "                            max_epochs=2)"
   ]
  },
  {
   "cell_type": "markdown",
   "id": "0de77727",
   "metadata": {},
   "source": [
    "# Downstream Task"
   ]
  },
  {
   "cell_type": "code",
   "execution_count": 12,
   "id": "914260b5",
   "metadata": {},
   "outputs": [
    {
     "name": "stdout",
     "output_type": "stream",
     "text": [
      "\u001b[34m\u001b[1mwandb\u001b[0m: Appending key for api.wandb.ai to your netrc file: /home/azamat.kaibaldiyev/.netrc\r\n"
     ]
    }
   ],
   "source": [
    "!wandb login --relogin \"40706c6c21e200af3bdb3840883f22e665e74441\""
   ]
  },
  {
   "cell_type": "code",
   "execution_count": 99,
   "id": "25d2f4a8",
   "metadata": {},
   "outputs": [
    {
     "data": {
      "text/html": [
       "Finishing last run (ID:tjp9p640) before initializing another..."
      ],
      "text/plain": [
       "<IPython.core.display.HTML object>"
      ]
     },
     "metadata": {},
     "output_type": "display_data"
    },
    {
     "data": {
      "text/html": [
       "Waiting for W&B process to finish... <strong style=\"color:green\">(success).</strong>"
      ],
      "text/plain": [
       "<IPython.core.display.HTML object>"
      ]
     },
     "metadata": {},
     "output_type": "display_data"
    },
    {
     "data": {
      "text/html": [
       "<style>\n",
       "    table.wandb td:nth-child(1) { padding: 0 10px; text-align: left ; width: auto;} td:nth-child(2) {text-align: left ; width: 100%}\n",
       "    .wandb-row { display: flex; flex-direction: row; flex-wrap: wrap; justify-content: flex-start; width: 100% }\n",
       "    .wandb-col { display: flex; flex-direction: column; flex-basis: 100%; flex: 1; padding: 10px; }\n",
       "    </style>\n",
       "<div class=\"wandb-row\"><div class=\"wandb-col\"><h3>Run history:</h3><br/><table class=\"wandb\"><tr><td>Downstream_test_acc</td><td>▃▃▃▅▄▃▅▃▅█▄▂▂▇▄▇▅▂▅▇▄▃▄▆▄▁▂▂▃▅▅▂▅▄▅▆▂▅▂▃</td></tr><tr><td>Downstream_test_learningrate</td><td>▁▁▁▁▁▁▁▁▁▁▁▁▁▁▁▁▁▁▁▁▁▁▁▁▁▁▁▁▁▁▁▁▁▁▁▁▁▁▁▁</td></tr><tr><td>Downstream_test_loss</td><td>▇▄▄▄▄▆▂▅▃▁▆▆▇▃▄▄▃▆▄▂▅▅▅▂▆▅█▇▄▄▃▆▄▅▄▄▆▅▇▅</td></tr><tr><td>Downstream_train_acc</td><td>▁▂▂▄▃▆▅▄▅▅▇▄▆▆▆█▆▆▅▆▆▇▇▇▇▅▆▆▇▆█▆▇▇▆▆▇▆▆▇</td></tr><tr><td>Downstream_train_learningrate</td><td>██████████████████▂▂▂▂▂▂▂▂▂▂▂▂▂▂▂▂▂▂▁▁▁▁</td></tr><tr><td>Downstream_train_loss</td><td>█▇▇▆▇▅▅▅▄▄▃▄▄▂▃▂▃▃▃▂▃▁▂▂▂▄▂▂▂▂▁▃▁▂▃▂▂▂▂▁</td></tr><tr><td>Downstream_val_acc</td><td>▂▂▅▁▄▅▇▆▇▆▇▅▆▇█▇██▇▅▆▇▇▇█▆▇▅▇▇▇▇▇▆▇▅▅▇▇▆</td></tr><tr><td>Downstream_val_learningrate</td><td>████████████████▂▂▂▂▂▂▂▂▂▂▂▂▂▂▂▂▂▂▁▁▁▁▁▁</td></tr><tr><td>Downstream_val_loss</td><td>██▆█▇▅▅▅▃▃▃▄▄▂▂▂▁▁▁▃▃▂▁▂▁▂▁▃▂▂▁▂▁▂▁▃▃▂▁▂</td></tr></table><br/></div><div class=\"wandb-col\"><h3>Run summary:</h3><br/><table class=\"wandb\"><tr><td>Downstream_test_acc</td><td>0.8913</td></tr><tr><td>Downstream_test_learningrate</td><td>0.0</td></tr><tr><td>Downstream_test_loss</td><td>0.61354</td></tr><tr><td>Downstream_train_acc</td><td>0.82927</td></tr><tr><td>Downstream_train_learningrate</td><td>0.0</td></tr><tr><td>Downstream_train_loss</td><td>0.61557</td></tr><tr><td>Downstream_val_acc</td><td>0.8913</td></tr><tr><td>Downstream_val_learningrate</td><td>0.0</td></tr><tr><td>Downstream_val_loss</td><td>0.61302</td></tr></table><br/></div></div>"
      ],
      "text/plain": [
       "<IPython.core.display.HTML object>"
      ]
     },
     "metadata": {},
     "output_type": "display_data"
    },
    {
     "data": {
      "text/html": [
       " View run <strong style=\"color:#cdcd00\">vivid-waterfall-76</strong> at: <a href='https://wandb.ai/self-sup-segm/Contrastive_SimCLR_Ohara/runs/tjp9p640' target=\"_blank\">https://wandb.ai/self-sup-segm/Contrastive_SimCLR_Ohara/runs/tjp9p640</a><br/>Synced 6 W&B file(s), 0 media file(s), 0 artifact file(s) and 0 other file(s)"
      ],
      "text/plain": [
       "<IPython.core.display.HTML object>"
      ]
     },
     "metadata": {},
     "output_type": "display_data"
    },
    {
     "data": {
      "text/html": [
       "Find logs at: <code>./wandb/run-20230528_130544-tjp9p640/logs</code>"
      ],
      "text/plain": [
       "<IPython.core.display.HTML object>"
      ]
     },
     "metadata": {},
     "output_type": "display_data"
    },
    {
     "data": {
      "text/html": [
       "Successfully finished last run (ID:tjp9p640). Initializing new run:<br/>"
      ],
      "text/plain": [
       "<IPython.core.display.HTML object>"
      ]
     },
     "metadata": {},
     "output_type": "display_data"
    },
    {
     "data": {
      "application/vnd.jupyter.widget-view+json": {
       "model_id": "fc3d20d8e8f649a7834f251caf99a1d2",
       "version_major": 2,
       "version_minor": 0
      },
      "text/plain": [
       "VBox(children=(Label(value='Waiting for wandb.init()...\\r'), FloatProgress(value=0.016668208385817708, max=1.0…"
      ]
     },
     "metadata": {},
     "output_type": "display_data"
    },
    {
     "data": {
      "text/html": [
       "wandb version 0.15.3 is available!  To upgrade, please run:\n",
       " $ pip install wandb --upgrade"
      ],
      "text/plain": [
       "<IPython.core.display.HTML object>"
      ]
     },
     "metadata": {},
     "output_type": "display_data"
    },
    {
     "data": {
      "text/html": [
       "Tracking run with wandb version 0.14.2"
      ],
      "text/plain": [
       "<IPython.core.display.HTML object>"
      ]
     },
     "metadata": {},
     "output_type": "display_data"
    },
    {
     "data": {
      "text/html": [
       "Run data is saved locally in <code>/baie/nfs-cluster-1/data2/home/azamat.kaibaldiyev/wandb/run-20230528_131557-v9c82oib</code>"
      ],
      "text/plain": [
       "<IPython.core.display.HTML object>"
      ]
     },
     "metadata": {},
     "output_type": "display_data"
    },
    {
     "data": {
      "text/html": [
       "Syncing run <strong><a href='https://wandb.ai/self-sup-segm/Contrastive_SimCLR_Ohara/runs/v9c82oib' target=\"_blank\">blooming-lion-77</a></strong> to <a href='https://wandb.ai/self-sup-segm/Contrastive_SimCLR_Ohara' target=\"_blank\">Weights & Biases</a> (<a href='https://wandb.me/run' target=\"_blank\">docs</a>)<br/>"
      ],
      "text/plain": [
       "<IPython.core.display.HTML object>"
      ]
     },
     "metadata": {},
     "output_type": "display_data"
    },
    {
     "data": {
      "text/html": [
       " View project at <a href='https://wandb.ai/self-sup-segm/Contrastive_SimCLR_Ohara' target=\"_blank\">https://wandb.ai/self-sup-segm/Contrastive_SimCLR_Ohara</a>"
      ],
      "text/plain": [
       "<IPython.core.display.HTML object>"
      ]
     },
     "metadata": {},
     "output_type": "display_data"
    },
    {
     "data": {
      "text/html": [
       " View run at <a href='https://wandb.ai/self-sup-segm/Contrastive_SimCLR_Ohara/runs/v9c82oib' target=\"_blank\">https://wandb.ai/self-sup-segm/Contrastive_SimCLR_Ohara/runs/v9c82oib</a>"
      ],
      "text/plain": [
       "<IPython.core.display.HTML object>"
      ]
     },
     "metadata": {},
     "output_type": "display_data"
    },
    {
     "data": {
      "text/html": [
       "<button onClick=\"this.nextSibling.style.display='block';this.style.display='none';\">Display W&B run</button><iframe src='https://wandb.ai/self-sup-segm/Contrastive_SimCLR_Ohara/runs/v9c82oib?jupyter=true' style='border:none;width:100%;height:420px;display:none;'></iframe>"
      ],
      "text/plain": [
       "<wandb.sdk.wandb_run.Run at 0x7fc010ae2f20>"
      ]
     },
     "execution_count": 99,
     "metadata": {},
     "output_type": "execute_result"
    }
   ],
   "source": [
    "import wandb\n",
    "import random\n",
    "from sklearn.metrics import classification_report\n",
    "\n",
    "epochs = 300\n",
    "lr = 1e-5\n",
    "#wandb.init(settings=wandb.Settings(start_method=\"fork\"))\n",
    "# start a new wandb run to track this script\n",
    "wandb.init(\n",
    "    # set the wandb project where this run will be logged\n",
    "    project=\"Contrastive_SimCLR_Ohara\",\n",
    "    \n",
    "    # track hyperparameters and run metadata\n",
    "    config={\n",
    "    \"learning_rate\": lr,\n",
    "    \"architecture\": \"Downstream_Logreg\",\n",
    "    \"dataset\": \"Ohara_dataset_images_53000_bath_and_imgs\",\n",
    "    \"epochs\": epochs,\n",
    "    }\n",
    ")"
   ]
  },
  {
   "cell_type": "code",
   "execution_count": 6,
   "id": "05a949a6",
   "metadata": {},
   "outputs": [],
   "source": [
    "class LogisticRegression(pl.LightningModule):\n",
    "\n",
    "    def __init__(self, feature_dim, num_classes, lr, weight_decay, max_epochs=300):\n",
    "        super().__init__()\n",
    "        self.save_hyperparameters()\n",
    "        # Mapping from representation h to classes\n",
    "        #self.model = nn.Linear(feature_dim, num_classes)\n",
    "        self.model = nn.Sequential(\n",
    "                        nn.Linear(feature_dim, num_classes),\n",
    "                      )\n",
    "        \n",
    "\n",
    "    def forward(self, x):\n",
    "        return self.model(x)\n",
    "\n",
    "    def configure_optimizers(self):\n",
    "        optimizer = optim.AdamW(self.parameters(),\n",
    "                                lr=self.hparams.lr,\n",
    "                                weight_decay=self.hparams.weight_decay)\n",
    "        lr_scheduler = optim.lr_scheduler.MultiStepLR(optimizer,\n",
    "                                                      milestones=[int(self.hparams.max_epochs*0.3),\n",
    "                                                                  int(self.hparams.max_epochs*0.6),\n",
    "                                                                  int(self.hparams.max_epochs*0.8)],\n",
    "                                                      gamma=0.1)\n",
    "        return [optimizer], [lr_scheduler]\n",
    "\n",
    "    def _calculate_loss(self, batch, mode='train'):\n",
    "        #criterion = F.cross_entropy()\n",
    "        \n",
    "        feats, labels = batch\n",
    "        preds = self.model(feats)\n",
    "        #print('preds', preds)\n",
    "        #print('labels:', labels)\n",
    "        loss = F.cross_entropy(preds, labels)\n",
    "        acc = (preds.argmax(dim=-1) == labels).float().mean()\n",
    "        wandb.log({'Downstream_' + mode+'_loss': loss})\n",
    "        wandb.log({'Downstream_' + mode+'_acc': acc})\n",
    "        \n",
    "        lightning_optimizer = self.optimizers()  # self = your model\n",
    "        current_lr = lightning_optimizer.optimizer.param_groups[0]['lr']\n",
    "        wandb.log({'Downstream_' + mode+'_learningrate': current_lr})\n",
    "\n",
    "        self.log(mode + '_loss', loss)\n",
    "        self.log(mode + '_acc', acc)\n",
    "        return loss\n",
    "\n",
    "    def training_step(self, batch, batch_idx):\n",
    "        return self._calculate_loss(batch, mode='train')\n",
    "\n",
    "    def validation_step(self, batch, batch_idx):\n",
    "        self._calculate_loss(batch, mode='val')\n",
    "\n",
    "    def test_step(self, batch, batch_idx):\n",
    "        self._calculate_loss(batch, mode='test')"
   ]
  },
  {
   "cell_type": "code",
   "execution_count": 7,
   "id": "2ac59279",
   "metadata": {},
   "outputs": [
    {
     "name": "stdout",
     "output_type": "stream",
     "text": [
      "9321\n",
      "1646\n"
     ]
    }
   ],
   "source": [
    "\n",
    "# with open('files_remove_indices/Ohara_images_11000_labels_train_set_indexes.npy', 'rb') as f:\n",
    "#     train_set_indexes_labels = np.load(f)\n",
    "\n",
    "# with open('files_remove_indices/Ohara_images_11000_labels_test_set_indexes.npy', 'rb') as f:\n",
    "#     test_set_indexes_labels = np.load(f)\n",
    "    \n",
    "    \n",
    "with open('files_remove_indices/Ohara_labels_train_set_indexes.npy', 'rb') as f:\n",
    "    train_set_indexes_labels = np.load(f)\n",
    "\n",
    "with open('files_remove_indices/Ohara_labels_test_set_indexes.npy', 'rb') as f:\n",
    "    test_set_indexes_labels = np.load(f)\n",
    "    \n",
    "\n",
    "    \n",
    "print(len(train_set_indexes_labels))\n",
    "print(len(test_set_indexes_labels))"
   ]
  },
  {
   "cell_type": "code",
   "execution_count": 100,
   "id": "461c6c28",
   "metadata": {},
   "outputs": [
    {
     "name": "stdout",
     "output_type": "stream",
     "text": [
      "10967\n",
      "Number of training examples: 4460\n",
      "Number of test examples: 6507\n"
     ]
    }
   ],
   "source": [
    "#dataset_path_images_labels = 'Tasmania_ohara_labels/Ohara_all_images_labels/image_labels/'\n",
    "dataset_path_bathym_labels = 'Tasmania_ohara_labels/cropped_dems_16_with_labels_correct/'\n",
    "# dataset_path_bathym_labels = 'Tasmania_ohara_labels/cropped_dems_32_with_labels/'\n",
    "\n",
    "#for optical imgages\n",
    "img_transforms = transforms.Compose([transforms.ToTensor(),\n",
    "                                     transforms.Resize(size = (100,100)),\n",
    "                                     ##Normalize_range01(),\n",
    "                                     ##transforms.Normalize((0.5,), (0.5,))\n",
    "                                    ])\n",
    "dataset_path_with_labels= dataset_path_bathym_labels\n",
    "dataset = SwedishDataset(transform = img_transforms , dataset_path=dataset_path_with_labels ,\n",
    "                         labels_imgs = True, labels_dems = True, for_imgs = False)\n",
    "\n",
    "\n",
    "#for dem\n",
    "# img_transforms = transforms.Compose([transforms.ToTensor(),\n",
    "#                                      Normalize_range01(),\n",
    "#                                      ##transforms.Normalize((0.5,), (0.5,))\n",
    "#                                      ])\n",
    "# dataset_path_with_labels= dataset_path_bathym_labels\n",
    "# dataset = SwedishDataset(transform = img_transforms , dataset_path=dataset_path_with_labels ,\n",
    "#                          labels_imgs = True, labels_dems = True, for_imgs = False)\n",
    "\n",
    "\n",
    "#For random split\n",
    "# train_dataset = torch.utils.data.Subset(dataset, train_set_indexes_labels)\n",
    "# test_dataset = torch.utils.data.Subset(dataset, test_set_indexes_labels)\n",
    "\n",
    "#For different lines\n",
    "dim = 4460\n",
    "train_dataset = torch.utils.data.Subset(dataset, np.arange(dim))\n",
    "test_dataset = torch.utils.data.Subset(dataset, np.arange(dim, len(dataset)))\n",
    "\n",
    "print(len(dataset))\n",
    "print(\"Number of training examples:\", len(train_dataset))\n",
    "print(\"Number of test examples:\", len(test_dataset))"
   ]
  },
  {
   "cell_type": "code",
   "execution_count": 101,
   "id": "4875579c",
   "metadata": {},
   "outputs": [
    {
     "name": "stdout",
     "output_type": "stream",
     "text": [
      "torch.Size([3, 100, 100])\n"
     ]
    },
    {
     "data": {
      "text/plain": [
       "[tensor([[[0.2462, 0.2646, 0.3423,  ..., 0.3147, 0.4934, 0.4655],\n",
       "          [0.3103, 0.3967, 0.3745,  ..., 0.3151, 0.3342, 0.3506],\n",
       "          [0.2069, 0.2951, 0.3273,  ..., 0.2816, 0.2925, 0.3296],\n",
       "          ...,\n",
       "          [0.3655, 0.1879, 0.2014,  ..., 0.5598, 0.5736, 0.4611],\n",
       "          [0.6016, 0.2690, 0.2383,  ..., 0.4003, 0.4338, 0.4097],\n",
       "          [0.4672, 0.3732, 0.2518,  ..., 0.4552, 0.3008, 0.4429]],\n",
       " \n",
       "         [[0.2104, 0.3320, 0.3733,  ..., 0.2900, 0.3732, 0.4455],\n",
       "          [0.2328, 0.3484, 0.3784,  ..., 0.2823, 0.2949, 0.3461],\n",
       "          [0.2502, 0.2576, 0.3933,  ..., 0.2700, 0.2817, 0.2966],\n",
       "          ...,\n",
       "          [0.3226, 0.1523, 0.2386,  ..., 0.5000, 0.5247, 0.4576],\n",
       "          [0.4837, 0.2003, 0.2504,  ..., 0.4135, 0.4105, 0.3797],\n",
       "          [0.5093, 0.2888, 0.2569,  ..., 0.4413, 0.2753, 0.3335]],\n",
       " \n",
       "         [[0.2716, 0.3508, 0.3524,  ..., 0.3022, 0.2838, 0.3703],\n",
       "          [0.2713, 0.3741, 0.3129,  ..., 0.2569, 0.2354, 0.3208],\n",
       "          [0.2493, 0.2753, 0.3684,  ..., 0.2851, 0.2455, 0.2770],\n",
       "          ...,\n",
       "          [0.2216, 0.1576, 0.2680,  ..., 0.4816, 0.4815, 0.4340],\n",
       "          [0.3712, 0.2105, 0.2700,  ..., 0.4655, 0.3994, 0.4353],\n",
       "          [0.4296, 0.1883, 0.2179,  ..., 0.4107, 0.2835, 0.3019]]]),\n",
       " 1]"
      ]
     },
     "execution_count": 101,
     "metadata": {},
     "output_type": "execute_result"
    }
   ],
   "source": [
    "print(dataset[0][0].shape)\n",
    "dataset[999]"
   ]
  },
  {
   "cell_type": "code",
   "execution_count": 102,
   "id": "468d2ac4",
   "metadata": {},
   "outputs": [
    {
     "data": {
      "text/plain": [
       "<matplotlib.image.AxesImage at 0x7fc011dec5b0>"
      ]
     },
     "execution_count": 102,
     "metadata": {},
     "output_type": "execute_result"
    },
    {
     "data": {
      "image/png": "[encoded data removed]",
      "text/plain": [
       "<Figure size 640x480 with 1 Axes>"
      ]
     },
     "metadata": {},
     "output_type": "display_data"
    }
   ],
   "source": [
    "plt.imshow(dataset[0][0].permute(1,2,0))"
   ]
  },
  {
   "cell_type": "code",
   "execution_count": 9,
   "id": "30cca8c0",
   "metadata": {},
   "outputs": [],
   "source": [
    "@torch.no_grad()\n",
    "def prepare_data_features(model, dataset):\n",
    "    # Prepare model\n",
    "    network = deepcopy(model.convnet)\n",
    "    network.fc = nn.Identity()  # Removing projection head g(.)\n",
    "    network.eval()\n",
    "    network.to(device)\n",
    "\n",
    "    # Encode all images\n",
    "    data_loader = data.DataLoader(dataset, batch_size=32, num_workers=NUM_WORKERS, shuffle=False, drop_last=False)\n",
    "    feats, labels = [], []\n",
    "    for batch_imgs, batch_labels in tqdm(data_loader):\n",
    "        batch_imgs = batch_imgs.to(device)\n",
    "        batch_feats = network(batch_imgs)\n",
    "        feats.append(batch_feats.detach().cpu())\n",
    "        labels.append(batch_labels)\n",
    "\n",
    "    feats = torch.cat(feats, dim=0)\n",
    "    labels = torch.cat(labels, dim=0)\n",
    "\n",
    "    # Sort images by labels\n",
    "    #labels, idxs = labels.sort()\n",
    "    #feats = feats[idxs]\n",
    "    #mycode\n",
    "    feats = torch.squeeze(feats)\n",
    "    labels = torch.squeeze(labels)\n",
    "\n",
    "    return data.TensorDataset(feats, labels)"
   ]
  },
  {
   "cell_type": "code",
   "execution_count": 25,
   "id": "c1bdea8c",
   "metadata": {},
   "outputs": [],
   "source": [
    "class SimCLR(pl.LightningModule):\n",
    "\n",
    "    def __init__(self, hidden_dim, lr, temperature, weight_decay, max_epochs=500):\n",
    "        super().__init__()\n",
    "        self.save_hyperparameters()\n",
    "        assert self.hparams.temperature > 0.0, 'The temperature must be a positive float!'\n",
    "        # Base model f(.)\n",
    "        self.convnet = torchvision.models.resnet18(num_classes=4*hidden_dim)  # Output of last linear layer\n",
    "        #model = torchvision.models.resnet18()\n",
    "        num_input_channel = 1\n",
    "        self.convnet.conv1 = nn.Conv2d(num_input_channel, 64, kernel_size=7, stride=2, padding=3,bias=False)\n",
    "        # The MLP for g(.) consists of Linear->ReLU->Linear\n",
    "        self.convnet.fc = nn.Sequential(\n",
    "            self.convnet.fc,  # Linear(ResNet output, 4*hidden_dim)\n",
    "            nn.ReLU(inplace=True),\n",
    "            nn.Linear(4*hidden_dim, hidden_dim)\n",
    "        )\n",
    "\n",
    "    def configure_optimizers(self):\n",
    "        optimizer = optim.AdamW(self.parameters(),\n",
    "                                lr=self.hparams.lr,\n",
    "                                weight_decay=self.hparams.weight_decay)\n",
    "        lr_scheduler = optim.lr_scheduler.CosineAnnealingLR(optimizer,\n",
    "                                                            T_max=self.hparams.max_epochs,\n",
    "                                                            eta_min=self.hparams.lr/50)\n",
    "        return [optimizer], [lr_scheduler]\n",
    "\n",
    "    def info_nce_loss(self, batch, mode='train'):\n",
    "        imgs, _ = batch\n",
    "        imgs = torch.cat(imgs, dim=0)\n",
    "\n",
    "        # Encode all images\n",
    "        feats = self.convnet(imgs)\n",
    "        # Calculate cosine similarity\n",
    "        cos_sim = F.cosine_similarity(feats[:,None,:], feats[None,:,:], dim=-1)\n",
    "        # Mask out cosine similarity to itself\n",
    "        self_mask = torch.eye(cos_sim.shape[0], dtype=torch.bool, device=cos_sim.device)\n",
    "        cos_sim.masked_fill_(self_mask, -9e15)\n",
    "        # Find positive example -> batch_size//2 away from the original example\n",
    "        pos_mask = self_mask.roll(shifts=cos_sim.shape[0]//2, dims=0)\n",
    "        # InfoNCE loss\n",
    "        cos_sim = cos_sim / self.hparams.temperature\n",
    "        nll = -cos_sim[pos_mask] + torch.logsumexp(cos_sim, dim=-1)\n",
    "        nll = nll.mean()\n",
    "\n",
    "        # Logging loss\n",
    "        self.log(mode+'_loss', nll)\n",
    "        # Get ranking position of positive example\n",
    "        comb_sim = torch.cat([cos_sim[pos_mask][:,None],  # First position positive example\n",
    "                              cos_sim.masked_fill(pos_mask, -9e15)],\n",
    "                             dim=-1)\n",
    "        sim_argsort = comb_sim.argsort(dim=-1, descending=True).argmin(dim=-1)\n",
    "        # Logging ranking metrics\n",
    "     \n",
    "        self.log(mode+'_acc_top1', (sim_argsort == 0).float().mean())\n",
    "        self.log(mode+'_acc_top5', (sim_argsort < 5).float().mean())\n",
    "        self.log(mode+'_acc_mean_pos', 1+sim_argsort.float().mean())\n",
    "\n",
    "        return nll\n",
    "\n",
    "    def training_step(self, batch, batch_idx):\n",
    "        return self.info_nce_loss(batch, mode='train')\n",
    "\n",
    "    def validation_step(self, batch, batch_idx):\n",
    "        self.info_nce_loss(batch, mode='val')\n",
    "        \n",
    "    def forward(self, x):\n",
    "        return self.convnet(x)\n",
    "        \n",
    "    "
   ]
  },
  {
   "cell_type": "code",
   "execution_count": 11,
   "id": "adef05c6",
   "metadata": {},
   "outputs": [
    {
     "name": "stdout",
     "output_type": "stream",
     "text": [
      "'epoch=25-step=7150.ckpt'\r\n"
     ]
    }
   ],
   "source": [
    "#DEM16\n",
    "!ls Tasmania_ohara_labels/checkpoints_Ohara_images_and_bathym16_pairs_and_nonpairs/SimCLR/lightning_logs/version_1379899/checkpoints/epoch=25-step=7150.ckpt\n",
    "#!stat Tasmania_ohara_labels/checkpoints_Ohara_images_and_bathym16_only_pairs/SimCLR/lightning_logs/version_1379899/checkpoints/epoch=25-step=7150.ckpt"
   ]
  },
  {
   "cell_type": "code",
   "execution_count": 15,
   "id": "1fe5b56f",
   "metadata": {},
   "outputs": [
    {
     "name": "stdout",
     "output_type": "stream",
     "text": [
      "'epoch=33-step=9180.ckpt'\r\n"
     ]
    }
   ],
   "source": [
    "#DEM32\n",
    "!ls Tasmania_ohara_labels/checkpoints_Ohara_images_and_bathym32_pairs_and_nonpairs/SimCLR/lightning_logs/version_1379898/checkpoints/\n",
    "#!stat Tasmania_ohara_labels/checkpoints_Ohara_images_and_bathym32_only_pairs/SimCLR/lightning_logs/version_1373056/checkpoints/epoch=16-step=3978.ckpt"
   ]
  },
  {
   "cell_type": "code",
   "execution_count": 26,
   "id": "02602701",
   "metadata": {
    "scrolled": true
   },
   "outputs": [
    {
     "data": {
      "text/plain": [
       "SimCLR(\n",
       "  (convnet): ResNet(\n",
       "    (conv1): Conv2d(1, 64, kernel_size=(7, 7), stride=(2, 2), padding=(3, 3), bias=False)\n",
       "    (bn1): BatchNorm2d(64, eps=1e-05, momentum=0.1, affine=True, track_running_stats=True)\n",
       "    (relu): ReLU(inplace=True)\n",
       "    (maxpool): MaxPool2d(kernel_size=3, stride=2, padding=1, dilation=1, ceil_mode=False)\n",
       "    (layer1): Sequential(\n",
       "      (0): BasicBlock(\n",
       "        (conv1): Conv2d(64, 64, kernel_size=(3, 3), stride=(1, 1), padding=(1, 1), bias=False)\n",
       "        (bn1): BatchNorm2d(64, eps=1e-05, momentum=0.1, affine=True, track_running_stats=True)\n",
       "        (relu): ReLU(inplace=True)\n",
       "        (conv2): Conv2d(64, 64, kernel_size=(3, 3), stride=(1, 1), padding=(1, 1), bias=False)\n",
       "        (bn2): BatchNorm2d(64, eps=1e-05, momentum=0.1, affine=True, track_running_stats=True)\n",
       "      )\n",
       "      (1): BasicBlock(\n",
       "        (conv1): Conv2d(64, 64, kernel_size=(3, 3), stride=(1, 1), padding=(1, 1), bias=False)\n",
       "        (bn1): BatchNorm2d(64, eps=1e-05, momentum=0.1, affine=True, track_running_stats=True)\n",
       "        (relu): ReLU(inplace=True)\n",
       "        (conv2): Conv2d(64, 64, kernel_size=(3, 3), stride=(1, 1), padding=(1, 1), bias=False)\n",
       "        (bn2): BatchNorm2d(64, eps=1e-05, momentum=0.1, affine=True, track_running_stats=True)\n",
       "      )\n",
       "    )\n",
       "    (layer2): Sequential(\n",
       "      (0): BasicBlock(\n",
       "        (conv1): Conv2d(64, 128, kernel_size=(3, 3), stride=(2, 2), padding=(1, 1), bias=False)\n",
       "        (bn1): BatchNorm2d(128, eps=1e-05, momentum=0.1, affine=True, track_running_stats=True)\n",
       "        (relu): ReLU(inplace=True)\n",
       "        (conv2): Conv2d(128, 128, kernel_size=(3, 3), stride=(1, 1), padding=(1, 1), bias=False)\n",
       "        (bn2): BatchNorm2d(128, eps=1e-05, momentum=0.1, affine=True, track_running_stats=True)\n",
       "        (downsample): Sequential(\n",
       "          (0): Conv2d(64, 128, kernel_size=(1, 1), stride=(2, 2), bias=False)\n",
       "          (1): BatchNorm2d(128, eps=1e-05, momentum=0.1, affine=True, track_running_stats=True)\n",
       "        )\n",
       "      )\n",
       "      (1): BasicBlock(\n",
       "        (conv1): Conv2d(128, 128, kernel_size=(3, 3), stride=(1, 1), padding=(1, 1), bias=False)\n",
       "        (bn1): BatchNorm2d(128, eps=1e-05, momentum=0.1, affine=True, track_running_stats=True)\n",
       "        (relu): ReLU(inplace=True)\n",
       "        (conv2): Conv2d(128, 128, kernel_size=(3, 3), stride=(1, 1), padding=(1, 1), bias=False)\n",
       "        (bn2): BatchNorm2d(128, eps=1e-05, momentum=0.1, affine=True, track_running_stats=True)\n",
       "      )\n",
       "    )\n",
       "    (layer3): Sequential(\n",
       "      (0): BasicBlock(\n",
       "        (conv1): Conv2d(128, 256, kernel_size=(3, 3), stride=(2, 2), padding=(1, 1), bias=False)\n",
       "        (bn1): BatchNorm2d(256, eps=1e-05, momentum=0.1, affine=True, track_running_stats=True)\n",
       "        (relu): ReLU(inplace=True)\n",
       "        (conv2): Conv2d(256, 256, kernel_size=(3, 3), stride=(1, 1), padding=(1, 1), bias=False)\n",
       "        (bn2): BatchNorm2d(256, eps=1e-05, momentum=0.1, affine=True, track_running_stats=True)\n",
       "        (downsample): Sequential(\n",
       "          (0): Conv2d(128, 256, kernel_size=(1, 1), stride=(2, 2), bias=False)\n",
       "          (1): BatchNorm2d(256, eps=1e-05, momentum=0.1, affine=True, track_running_stats=True)\n",
       "        )\n",
       "      )\n",
       "      (1): BasicBlock(\n",
       "        (conv1): Conv2d(256, 256, kernel_size=(3, 3), stride=(1, 1), padding=(1, 1), bias=False)\n",
       "        (bn1): BatchNorm2d(256, eps=1e-05, momentum=0.1, affine=True, track_running_stats=True)\n",
       "        (relu): ReLU(inplace=True)\n",
       "        (conv2): Conv2d(256, 256, kernel_size=(3, 3), stride=(1, 1), padding=(1, 1), bias=False)\n",
       "        (bn2): BatchNorm2d(256, eps=1e-05, momentum=0.1, affine=True, track_running_stats=True)\n",
       "      )\n",
       "    )\n",
       "    (layer4): Sequential(\n",
       "      (0): BasicBlock(\n",
       "        (conv1): Conv2d(256, 512, kernel_size=(3, 3), stride=(2, 2), padding=(1, 1), bias=False)\n",
       "        (bn1): BatchNorm2d(512, eps=1e-05, momentum=0.1, affine=True, track_running_stats=True)\n",
       "        (relu): ReLU(inplace=True)\n",
       "        (conv2): Conv2d(512, 512, kernel_size=(3, 3), stride=(1, 1), padding=(1, 1), bias=False)\n",
       "        (bn2): BatchNorm2d(512, eps=1e-05, momentum=0.1, affine=True, track_running_stats=True)\n",
       "        (downsample): Sequential(\n",
       "          (0): Conv2d(256, 512, kernel_size=(1, 1), stride=(2, 2), bias=False)\n",
       "          (1): BatchNorm2d(512, eps=1e-05, momentum=0.1, affine=True, track_running_stats=True)\n",
       "        )\n",
       "      )\n",
       "      (1): BasicBlock(\n",
       "        (conv1): Conv2d(512, 512, kernel_size=(3, 3), stride=(1, 1), padding=(1, 1), bias=False)\n",
       "        (bn1): BatchNorm2d(512, eps=1e-05, momentum=0.1, affine=True, track_running_stats=True)\n",
       "        (relu): ReLU(inplace=True)\n",
       "        (conv2): Conv2d(512, 512, kernel_size=(3, 3), stride=(1, 1), padding=(1, 1), bias=False)\n",
       "        (bn2): BatchNorm2d(512, eps=1e-05, momentum=0.1, affine=True, track_running_stats=True)\n",
       "      )\n",
       "    )\n",
       "    (avgpool): AdaptiveAvgPool2d(output_size=(1, 1))\n",
       "    (fc): Sequential(\n",
       "      (0): Linear(in_features=512, out_features=512, bias=True)\n",
       "      (1): ReLU(inplace=True)\n",
       "      (2): Linear(in_features=512, out_features=128, bias=True)\n",
       "    )\n",
       "  )\n",
       ")"
      ]
     },
     "execution_count": 26,
     "metadata": {},
     "output_type": "execute_result"
    }
   ],
   "source": [
    "\n",
    "chkpnt = 'checkpoints_Ohara_images_and_bathym32_pairs_and_nonpairs/SimCLR/lightning_logs/version_1379898/checkpoints/epoch=33-step=9180.ckpt'\n",
    "best_checkpoint = '/home/azamat.kaibaldiyev/Tasmania_ohara_labels/' +chkpnt\n",
    "simclr_model = SimCLR.load_from_checkpoint(best_checkpoint)\n",
    "\n",
    "# disable randomness, dropout, etc...\n",
    "simclr_model.eval()\n",
    "simclr_model.to(device)"
   ]
  },
  {
   "cell_type": "markdown",
   "id": "96f070c3",
   "metadata": {},
   "source": [
    "# DoubleNET"
   ]
  },
  {
   "cell_type": "code",
   "execution_count": 92,
   "id": "0e09b193",
   "metadata": {},
   "outputs": [
    {
     "data": {
      "text/plain": [
       "SimCLR(\n",
       "  (convnet_dem): ResNet(\n",
       "    (conv1): Conv2d(1, 64, kernel_size=(7, 7), stride=(2, 2), padding=(3, 3), bias=False)\n",
       "    (bn1): BatchNorm2d(64, eps=1e-05, momentum=0.1, affine=True, track_running_stats=True)\n",
       "    (relu): ReLU(inplace=True)\n",
       "    (maxpool): MaxPool2d(kernel_size=3, stride=2, padding=1, dilation=1, ceil_mode=False)\n",
       "    (layer1): Sequential(\n",
       "      (0): BasicBlock(\n",
       "        (conv1): Conv2d(64, 64, kernel_size=(3, 3), stride=(1, 1), padding=(1, 1), bias=False)\n",
       "        (bn1): BatchNorm2d(64, eps=1e-05, momentum=0.1, affine=True, track_running_stats=True)\n",
       "        (relu): ReLU(inplace=True)\n",
       "        (conv2): Conv2d(64, 64, kernel_size=(3, 3), stride=(1, 1), padding=(1, 1), bias=False)\n",
       "        (bn2): BatchNorm2d(64, eps=1e-05, momentum=0.1, affine=True, track_running_stats=True)\n",
       "      )\n",
       "      (1): BasicBlock(\n",
       "        (conv1): Conv2d(64, 64, kernel_size=(3, 3), stride=(1, 1), padding=(1, 1), bias=False)\n",
       "        (bn1): BatchNorm2d(64, eps=1e-05, momentum=0.1, affine=True, track_running_stats=True)\n",
       "        (relu): ReLU(inplace=True)\n",
       "        (conv2): Conv2d(64, 64, kernel_size=(3, 3), stride=(1, 1), padding=(1, 1), bias=False)\n",
       "        (bn2): BatchNorm2d(64, eps=1e-05, momentum=0.1, affine=True, track_running_stats=True)\n",
       "      )\n",
       "    )\n",
       "    (layer2): Sequential(\n",
       "      (0): BasicBlock(\n",
       "        (conv1): Conv2d(64, 128, kernel_size=(3, 3), stride=(2, 2), padding=(1, 1), bias=False)\n",
       "        (bn1): BatchNorm2d(128, eps=1e-05, momentum=0.1, affine=True, track_running_stats=True)\n",
       "        (relu): ReLU(inplace=True)\n",
       "        (conv2): Conv2d(128, 128, kernel_size=(3, 3), stride=(1, 1), padding=(1, 1), bias=False)\n",
       "        (bn2): BatchNorm2d(128, eps=1e-05, momentum=0.1, affine=True, track_running_stats=True)\n",
       "        (downsample): Sequential(\n",
       "          (0): Conv2d(64, 128, kernel_size=(1, 1), stride=(2, 2), bias=False)\n",
       "          (1): BatchNorm2d(128, eps=1e-05, momentum=0.1, affine=True, track_running_stats=True)\n",
       "        )\n",
       "      )\n",
       "      (1): BasicBlock(\n",
       "        (conv1): Conv2d(128, 128, kernel_size=(3, 3), stride=(1, 1), padding=(1, 1), bias=False)\n",
       "        (bn1): BatchNorm2d(128, eps=1e-05, momentum=0.1, affine=True, track_running_stats=True)\n",
       "        (relu): ReLU(inplace=True)\n",
       "        (conv2): Conv2d(128, 128, kernel_size=(3, 3), stride=(1, 1), padding=(1, 1), bias=False)\n",
       "        (bn2): BatchNorm2d(128, eps=1e-05, momentum=0.1, affine=True, track_running_stats=True)\n",
       "      )\n",
       "    )\n",
       "    (layer3): Sequential(\n",
       "      (0): BasicBlock(\n",
       "        (conv1): Conv2d(128, 256, kernel_size=(3, 3), stride=(2, 2), padding=(1, 1), bias=False)\n",
       "        (bn1): BatchNorm2d(256, eps=1e-05, momentum=0.1, affine=True, track_running_stats=True)\n",
       "        (relu): ReLU(inplace=True)\n",
       "        (conv2): Conv2d(256, 256, kernel_size=(3, 3), stride=(1, 1), padding=(1, 1), bias=False)\n",
       "        (bn2): BatchNorm2d(256, eps=1e-05, momentum=0.1, affine=True, track_running_stats=True)\n",
       "        (downsample): Sequential(\n",
       "          (0): Conv2d(128, 256, kernel_size=(1, 1), stride=(2, 2), bias=False)\n",
       "          (1): BatchNorm2d(256, eps=1e-05, momentum=0.1, affine=True, track_running_stats=True)\n",
       "        )\n",
       "      )\n",
       "      (1): BasicBlock(\n",
       "        (conv1): Conv2d(256, 256, kernel_size=(3, 3), stride=(1, 1), padding=(1, 1), bias=False)\n",
       "        (bn1): BatchNorm2d(256, eps=1e-05, momentum=0.1, affine=True, track_running_stats=True)\n",
       "        (relu): ReLU(inplace=True)\n",
       "        (conv2): Conv2d(256, 256, kernel_size=(3, 3), stride=(1, 1), padding=(1, 1), bias=False)\n",
       "        (bn2): BatchNorm2d(256, eps=1e-05, momentum=0.1, affine=True, track_running_stats=True)\n",
       "      )\n",
       "    )\n",
       "    (layer4): Sequential(\n",
       "      (0): BasicBlock(\n",
       "        (conv1): Conv2d(256, 512, kernel_size=(3, 3), stride=(2, 2), padding=(1, 1), bias=False)\n",
       "        (bn1): BatchNorm2d(512, eps=1e-05, momentum=0.1, affine=True, track_running_stats=True)\n",
       "        (relu): ReLU(inplace=True)\n",
       "        (conv2): Conv2d(512, 512, kernel_size=(3, 3), stride=(1, 1), padding=(1, 1), bias=False)\n",
       "        (bn2): BatchNorm2d(512, eps=1e-05, momentum=0.1, affine=True, track_running_stats=True)\n",
       "        (downsample): Sequential(\n",
       "          (0): Conv2d(256, 512, kernel_size=(1, 1), stride=(2, 2), bias=False)\n",
       "          (1): BatchNorm2d(512, eps=1e-05, momentum=0.1, affine=True, track_running_stats=True)\n",
       "        )\n",
       "      )\n",
       "      (1): BasicBlock(\n",
       "        (conv1): Conv2d(512, 512, kernel_size=(3, 3), stride=(1, 1), padding=(1, 1), bias=False)\n",
       "        (bn1): BatchNorm2d(512, eps=1e-05, momentum=0.1, affine=True, track_running_stats=True)\n",
       "        (relu): ReLU(inplace=True)\n",
       "        (conv2): Conv2d(512, 512, kernel_size=(3, 3), stride=(1, 1), padding=(1, 1), bias=False)\n",
       "        (bn2): BatchNorm2d(512, eps=1e-05, momentum=0.1, affine=True, track_running_stats=True)\n",
       "      )\n",
       "    )\n",
       "    (avgpool): AdaptiveAvgPool2d(output_size=(1, 1))\n",
       "    (fc): Sequential(\n",
       "      (0): Linear(in_features=512, out_features=512, bias=True)\n",
       "      (1): ReLU(inplace=True)\n",
       "      (2): Linear(in_features=512, out_features=128, bias=True)\n",
       "    )\n",
       "  )\n",
       "  (convnet_img): ResNet(\n",
       "    (conv1): Conv2d(3, 64, kernel_size=(7, 7), stride=(2, 2), padding=(3, 3), bias=False)\n",
       "    (bn1): BatchNorm2d(64, eps=1e-05, momentum=0.1, affine=True, track_running_stats=True)\n",
       "    (relu): ReLU(inplace=True)\n",
       "    (maxpool): MaxPool2d(kernel_size=3, stride=2, padding=1, dilation=1, ceil_mode=False)\n",
       "    (layer1): Sequential(\n",
       "      (0): BasicBlock(\n",
       "        (conv1): Conv2d(64, 64, kernel_size=(3, 3), stride=(1, 1), padding=(1, 1), bias=False)\n",
       "        (bn1): BatchNorm2d(64, eps=1e-05, momentum=0.1, affine=True, track_running_stats=True)\n",
       "        (relu): ReLU(inplace=True)\n",
       "        (conv2): Conv2d(64, 64, kernel_size=(3, 3), stride=(1, 1), padding=(1, 1), bias=False)\n",
       "        (bn2): BatchNorm2d(64, eps=1e-05, momentum=0.1, affine=True, track_running_stats=True)\n",
       "      )\n",
       "      (1): BasicBlock(\n",
       "        (conv1): Conv2d(64, 64, kernel_size=(3, 3), stride=(1, 1), padding=(1, 1), bias=False)\n",
       "        (bn1): BatchNorm2d(64, eps=1e-05, momentum=0.1, affine=True, track_running_stats=True)\n",
       "        (relu): ReLU(inplace=True)\n",
       "        (conv2): Conv2d(64, 64, kernel_size=(3, 3), stride=(1, 1), padding=(1, 1), bias=False)\n",
       "        (bn2): BatchNorm2d(64, eps=1e-05, momentum=0.1, affine=True, track_running_stats=True)\n",
       "      )\n",
       "    )\n",
       "    (layer2): Sequential(\n",
       "      (0): BasicBlock(\n",
       "        (conv1): Conv2d(64, 128, kernel_size=(3, 3), stride=(2, 2), padding=(1, 1), bias=False)\n",
       "        (bn1): BatchNorm2d(128, eps=1e-05, momentum=0.1, affine=True, track_running_stats=True)\n",
       "        (relu): ReLU(inplace=True)\n",
       "        (conv2): Conv2d(128, 128, kernel_size=(3, 3), stride=(1, 1), padding=(1, 1), bias=False)\n",
       "        (bn2): BatchNorm2d(128, eps=1e-05, momentum=0.1, affine=True, track_running_stats=True)\n",
       "        (downsample): Sequential(\n",
       "          (0): Conv2d(64, 128, kernel_size=(1, 1), stride=(2, 2), bias=False)\n",
       "          (1): BatchNorm2d(128, eps=1e-05, momentum=0.1, affine=True, track_running_stats=True)\n",
       "        )\n",
       "      )\n",
       "      (1): BasicBlock(\n",
       "        (conv1): Conv2d(128, 128, kernel_size=(3, 3), stride=(1, 1), padding=(1, 1), bias=False)\n",
       "        (bn1): BatchNorm2d(128, eps=1e-05, momentum=0.1, affine=True, track_running_stats=True)\n",
       "        (relu): ReLU(inplace=True)\n",
       "        (conv2): Conv2d(128, 128, kernel_size=(3, 3), stride=(1, 1), padding=(1, 1), bias=False)\n",
       "        (bn2): BatchNorm2d(128, eps=1e-05, momentum=0.1, affine=True, track_running_stats=True)\n",
       "      )\n",
       "    )\n",
       "    (layer3): Sequential(\n",
       "      (0): BasicBlock(\n",
       "        (conv1): Conv2d(128, 256, kernel_size=(3, 3), stride=(2, 2), padding=(1, 1), bias=False)\n",
       "        (bn1): BatchNorm2d(256, eps=1e-05, momentum=0.1, affine=True, track_running_stats=True)\n",
       "        (relu): ReLU(inplace=True)\n",
       "        (conv2): Conv2d(256, 256, kernel_size=(3, 3), stride=(1, 1), padding=(1, 1), bias=False)\n",
       "        (bn2): BatchNorm2d(256, eps=1e-05, momentum=0.1, affine=True, track_running_stats=True)\n",
       "        (downsample): Sequential(\n",
       "          (0): Conv2d(128, 256, kernel_size=(1, 1), stride=(2, 2), bias=False)\n",
       "          (1): BatchNorm2d(256, eps=1e-05, momentum=0.1, affine=True, track_running_stats=True)\n",
       "        )\n",
       "      )\n",
       "      (1): BasicBlock(\n",
       "        (conv1): Conv2d(256, 256, kernel_size=(3, 3), stride=(1, 1), padding=(1, 1), bias=False)\n",
       "        (bn1): BatchNorm2d(256, eps=1e-05, momentum=0.1, affine=True, track_running_stats=True)\n",
       "        (relu): ReLU(inplace=True)\n",
       "        (conv2): Conv2d(256, 256, kernel_size=(3, 3), stride=(1, 1), padding=(1, 1), bias=False)\n",
       "        (bn2): BatchNorm2d(256, eps=1e-05, momentum=0.1, affine=True, track_running_stats=True)\n",
       "      )\n",
       "    )\n",
       "    (layer4): Sequential(\n",
       "      (0): BasicBlock(\n",
       "        (conv1): Conv2d(256, 512, kernel_size=(3, 3), stride=(2, 2), padding=(1, 1), bias=False)\n",
       "        (bn1): BatchNorm2d(512, eps=1e-05, momentum=0.1, affine=True, track_running_stats=True)\n",
       "        (relu): ReLU(inplace=True)\n",
       "        (conv2): Conv2d(512, 512, kernel_size=(3, 3), stride=(1, 1), padding=(1, 1), bias=False)\n",
       "        (bn2): BatchNorm2d(512, eps=1e-05, momentum=0.1, affine=True, track_running_stats=True)\n",
       "        (downsample): Sequential(\n",
       "          (0): Conv2d(256, 512, kernel_size=(1, 1), stride=(2, 2), bias=False)\n",
       "          (1): BatchNorm2d(512, eps=1e-05, momentum=0.1, affine=True, track_running_stats=True)\n",
       "        )\n",
       "      )\n",
       "      (1): BasicBlock(\n",
       "        (conv1): Conv2d(512, 512, kernel_size=(3, 3), stride=(1, 1), padding=(1, 1), bias=False)\n",
       "        (bn1): BatchNorm2d(512, eps=1e-05, momentum=0.1, affine=True, track_running_stats=True)\n",
       "        (relu): ReLU(inplace=True)\n",
       "        (conv2): Conv2d(512, 512, kernel_size=(3, 3), stride=(1, 1), padding=(1, 1), bias=False)\n",
       "        (bn2): BatchNorm2d(512, eps=1e-05, momentum=0.1, affine=True, track_running_stats=True)\n",
       "      )\n",
       "    )\n",
       "    (avgpool): AdaptiveAvgPool2d(output_size=(1, 1))\n",
       "    (fc): Sequential(\n",
       "      (0): Linear(in_features=512, out_features=512, bias=True)\n",
       "      (1): ReLU(inplace=True)\n",
       "      (2): Linear(in_features=512, out_features=128, bias=True)\n",
       "    )\n",
       "  )\n",
       ")"
      ]
     },
     "execution_count": 92,
     "metadata": {},
     "output_type": "execute_result"
    }
   ],
   "source": [
    "class SimCLR(pl.LightningModule):\n",
    "\n",
    "    def __init__(self, hidden_dim, lr, temperature, weight_decay, max_epochs=500):\n",
    "        super().__init__()\n",
    "        self.save_hyperparameters()\n",
    "        assert self.hparams.temperature > 0.0, 'The temperature must be a positive float!'\n",
    "        \n",
    "        \n",
    "        # Base model1 f(.)\n",
    "        self.convnet_dem = torchvision.models.resnet18(num_classes=4*hidden_dim)  # Output of last linear layer\n",
    "        #model = torchvision.models.resnet18()\n",
    "        num_input_channel_dem = 1\n",
    "        self.convnet_dem.conv1 = nn.Conv2d(num_input_channel_dem, 64, kernel_size=7, stride=2, padding=3,bias=False)\n",
    "        # The MLP for g(.) consists of Linear->ReLU->Linear\n",
    "        self.convnet_dem.fc = nn.Sequential(\n",
    "            self.convnet_dem.fc,  # Linear(ResNet output, 4*hidden_dim)\n",
    "            nn.ReLU(inplace=True),\n",
    "            nn.Linear(4*hidden_dim, hidden_dim)\n",
    "        )\n",
    "        \n",
    "        # Base model2 f(.)\n",
    "        self.convnet_img = torchvision.models.resnet18(num_classes=4*hidden_dim)  # Output of last linear layer\n",
    "        #model = torchvision.models.resnet18()\n",
    "        num_input_channel_img = 3\n",
    "        self.convnet_img.conv1 = nn.Conv2d(num_input_channel_img, 64, kernel_size=7, stride=2, padding=3,bias=False)\n",
    "        # The MLP for g(.) consists of Linear->ReLU->Linear\n",
    "        self.convnet_img.fc = nn.Sequential(\n",
    "            self.convnet_img.fc,  # Linear(ResNet output, 4*hidden_dim)\n",
    "            nn.ReLU(inplace=True),\n",
    "            nn.Linear(4*hidden_dim, hidden_dim)\n",
    "        )\n",
    "        \n",
    "        \n",
    "\n",
    "    def configure_optimizers(self):\n",
    "        optimizer_dem = optim.AdamW(self.convnet_dem.parameters(),\n",
    "                                lr=self.hparams.lr,\n",
    "                                weight_decay=self.hparams.weight_decay)\n",
    "        \n",
    "        optimizer_img = optim.AdamW(self.convnet_dem.parameters(),\n",
    "                                lr=self.hparams.lr,\n",
    "                                weight_decay=self.hparams.weight_decay)\n",
    "        \n",
    "        lr_scheduler_dem = optim.lr_scheduler.CosineAnnealingLR(optimizer_dem,\n",
    "                                                            T_max=self.hparams.max_epochs,\n",
    "                                                            eta_min=self.hparams.lr/50)\n",
    "        lr_scheduler_img = optim.lr_scheduler.CosineAnnealingLR(optimizer_img,\n",
    "                                                            T_max=self.hparams.max_epochs,\n",
    "                                                            eta_min=self.hparams.lr/50)\n",
    "        \n",
    "        return [optimizer_dem, optimizer_img], [lr_scheduler_dem,lr_scheduler_img]\n",
    "\n",
    "    def info_nce_loss(self, model, model_type, batch, mode='train'):\n",
    "        imgs= batch\n",
    "        imgs = torch.cat(imgs, dim=0)\n",
    "\n",
    "        # Encode all images\n",
    "        feats = model(imgs)\n",
    "        # Calculate cosine similarity\n",
    "        cos_sim = F.cosine_similarity(feats[:,None,:], feats[None,:,:], dim=-1)\n",
    "        # Mask out cosine similarity to itself\n",
    "        self_mask = torch.eye(cos_sim.shape[0], dtype=torch.bool, device=cos_sim.device)\n",
    "        cos_sim.masked_fill_(self_mask, -9e15)\n",
    "        # Find positive example -> batch_size//2 away from the original example\n",
    "        pos_mask = self_mask.roll(shifts=cos_sim.shape[0]//2, dims=0)\n",
    "        # InfoNCE loss\n",
    "        cos_sim = cos_sim / self.hparams.temperature\n",
    "        nll = -cos_sim[pos_mask] + torch.logsumexp(cos_sim, dim=-1)\n",
    "        nll = nll.mean()\n",
    "\n",
    "        # Logging loss\n",
    "        self.log(model_type+mode+'_loss', nll)\n",
    "        wandb.log({model_type+'SimCLR_'+mode+'_loss':nll})\n",
    "        # Get ranking position of positive example\n",
    "        comb_sim = torch.cat([cos_sim[pos_mask][:,None],  # First position positive example\n",
    "                              cos_sim.masked_fill(pos_mask, -9e15)],\n",
    "                             dim=-1)\n",
    "        sim_argsort = comb_sim.argsort(dim=-1, descending=True).argmin(dim=-1)\n",
    "        # Logging ranking metrics\n",
    "        wandb.log({model_type+'SimCLR_'+mode+'_acc_top1':(sim_argsort == 0).float().mean()})\n",
    "        wandb.log({model_type+'SimCLR_'+mode+'_acc_top5':(sim_argsort < 5).float().mean()})\n",
    "        wandb.log({model_type+'SimCLR_'+mode+'_acc_mean_pos': 1+sim_argsort.float().mean()})\n",
    "        \n",
    "        self.log(model_type+mode+'_acc_top1', (sim_argsort == 0).float().mean())\n",
    "        self.log(model_type+mode+'_acc_top5', (sim_argsort < 5).float().mean())\n",
    "        self.log(model_type+mode+'_acc_mean_pos', 1+sim_argsort.float().mean())\n",
    "\n",
    "        return nll\n",
    "\n",
    "    def training_step(self, batch, batch_idx, optimizer_idx):\n",
    "\n",
    "        if optimizer_idx == 0:\n",
    "            dems, imgs = batch\n",
    "            loss_dem = self.info_nce_loss(self.convnet_dem,'dem_', dems, mode='train')\n",
    "            loss_img = self.info_nce_loss(self.convnet_img,'img_', imgs, mode='train')\n",
    "            total_loss = loss_dem+loss_img\n",
    "            return total_loss\n",
    "        \n",
    "        elif optimizer_idx == 1:\n",
    "            dems, imgs = batch\n",
    "            loss_dem = self.info_nce_loss(self.convnet_dem,'dem_', dems, mode='train')\n",
    "            loss_img = self.info_nce_loss(self.convnet_img,'img_', imgs, mode='train')\n",
    "            total_loss = loss_dem+loss_img\n",
    "            return total_loss\n",
    "\n",
    "    def validation_step(self, batch, batch_idx):\n",
    "        dems, imgs = batch\n",
    "        self.info_nce_loss(self.convnet_dem,'dem_', dems, mode='val')\n",
    "        self.info_nce_loss(self.convnet_img,'img_', imgs, mode='val')\n",
    "#         self.info_nce_loss(batch, mode='val')\n",
    "        \n",
    "    def forward(self, x):\n",
    "        if x[0].shape[0]==1:\n",
    "            return self.convnet_dem(x)\n",
    "        else:\n",
    "            return self.convnet_img(x)\n",
    "        \n",
    "    \n",
    "chkpnt = 'checkpoints_Ohara_images_and_bathym_doublenet_16/SimCLR/lightning_logs/version_1382021/checkpoints/epoch=15-step=6016.ckpt'\n",
    "best_checkpoint = '/home/azamat.kaibaldiyev/Tasmania_ohara_labels/' +chkpnt\n",
    "simclr_model = SimCLR.load_from_checkpoint(best_checkpoint)\n",
    "\n",
    "# disable randomness, dropout, etc...\n",
    "simclr_model.eval()\n",
    "# simclr_model.to(device)"
   ]
  },
  {
   "cell_type": "code",
   "execution_count": 15,
   "id": "b8e0733b",
   "metadata": {},
   "outputs": [
    {
     "name": "stdout",
     "output_type": "stream",
     "text": [
      "'epoch=16-step=6324.ckpt'\r\n"
     ]
    }
   ],
   "source": [
    "#DEM32\n",
    "!ls Tasmania_ohara_labels/checkpoints_Ohara_images_and_bathym_doublenet_32/SimCLR/lightning_logs/version_1382020/checkpoints/epoch=16-step=6324.ckpt\n",
    "#!stat Tasmania_ohara_labels/checkpoints_Ohara_images_and_bathym32_only_pairs/SimCLR/lightning_logs/version_1373056/checkpoints/epoch=16-step=3978.ckpt\n"
   ]
  },
  {
   "cell_type": "code",
   "execution_count": 35,
   "id": "019d640a",
   "metadata": {},
   "outputs": [
    {
     "name": "stdout",
     "output_type": "stream",
     "text": [
      "'epoch=15-step=6016.ckpt'\r\n"
     ]
    }
   ],
   "source": [
    "#DEM16\n",
    "!ls Tasmania_ohara_labels/checkpoints_Ohara_images_and_bathym_doublenet_16/SimCLR/lightning_logs/version_1382021/checkpoints/epoch=15-step=6016.ckpt\n",
    "#!stat Tasmania_ohara_labels/checkpoints_Ohara_images_and_bathym32_only_pairs/SimCLR/lightning_logs/version_1373056/checkpoints/epoch=16-step=3978.ckpt\n"
   ]
  },
  {
   "cell_type": "code",
   "execution_count": 103,
   "id": "e6c3df20",
   "metadata": {},
   "outputs": [],
   "source": [
    "@torch.no_grad()\n",
    "def prepare_data_features(model, dataset):\n",
    "    # Prepare model\n",
    "    network = deepcopy(model.convnet_img)\n",
    "    network.fc = nn.Identity()  # Removing projection head g(.)\n",
    "    network.eval()\n",
    "    network.to(device)\n",
    "\n",
    "    # Encode all images\n",
    "    data_loader = data.DataLoader(dataset, batch_size=32, num_workers=NUM_WORKERS, shuffle=False, drop_last=False)\n",
    "    feats, labels = [], []\n",
    "    for batch_imgs, batch_labels in tqdm(data_loader):\n",
    "        batch_imgs = batch_imgs.to(device)\n",
    "        batch_feats = network(batch_imgs)\n",
    "        feats.append(batch_feats.detach().cpu())\n",
    "        labels.append(batch_labels)\n",
    "\n",
    "    feats = torch.cat(feats, dim=0)\n",
    "    labels = torch.cat(labels, dim=0)\n",
    "\n",
    "    # Sort images by labels\n",
    "    #labels, idxs = labels.sort()\n",
    "    #feats = feats[idxs]\n",
    "    #mycode\n",
    "    feats = torch.squeeze(feats)\n",
    "    labels = torch.squeeze(labels)\n",
    "\n",
    "    return data.TensorDataset(feats, labels)"
   ]
  },
  {
   "cell_type": "markdown",
   "id": "9c82ebe8",
   "metadata": {},
   "source": [
    "# Doublenet end"
   ]
  },
  {
   "cell_type": "code",
   "execution_count": 104,
   "id": "3a061a63",
   "metadata": {},
   "outputs": [
    {
     "data": {
      "application/vnd.jupyter.widget-view+json": {
       "model_id": "a6785165cc5d4845938805b4645ecc76",
       "version_major": 2,
       "version_minor": 0
      },
      "text/plain": [
       "  0%|          | 0/140 [00:00<?, ?it/s]"
      ]
     },
     "metadata": {},
     "output_type": "display_data"
    },
    {
     "data": {
      "application/vnd.jupyter.widget-view+json": {
       "model_id": "83f29d5072a244e9abc90cbc60b573d2",
       "version_major": 2,
       "version_minor": 0
      },
      "text/plain": [
       "  0%|          | 0/204 [00:00<?, ?it/s]"
      ]
     },
     "metadata": {},
     "output_type": "display_data"
    }
   ],
   "source": [
    "train_feats_simclr = prepare_data_features(simclr_model, train_dataset)\n",
    "test_feats_simclr = prepare_data_features(simclr_model, test_dataset)"
   ]
  },
  {
   "cell_type": "code",
   "execution_count": 105,
   "id": "8e2e3828",
   "metadata": {},
   "outputs": [
    {
     "data": {
      "text/plain": [
       "torch.Size([512])"
      ]
     },
     "execution_count": 105,
     "metadata": {},
     "output_type": "execute_result"
    }
   ],
   "source": [
    "test_feats_simclr[0][0].shape"
   ]
  },
  {
   "cell_type": "code",
   "execution_count": 106,
   "id": "6852bc4d",
   "metadata": {},
   "outputs": [],
   "source": [
    "def train_logreg(batch_size, train_feats_data, test_feats_data, model_suffix, max_epochs=200, **kwargs):\n",
    "    trainer = pl.Trainer(log_every_n_steps=10, default_root_dir=os.path.join(CHECKPOINT_PATH, \"LogisticRegression\"),\n",
    "                         accelerator=\"gpu\" if str(device).startswith(\"cuda\") else \"cpu\",\n",
    "                         devices=1,\n",
    "                         max_epochs=max_epochs,\n",
    "                         callbacks=[ModelCheckpoint(save_weights_only=True, mode='max', monitor='val_acc'),\n",
    "                                    LearningRateMonitor(\"epoch\")],\n",
    "                         enable_progress_bar=False,\n",
    "                         check_val_every_n_epoch=10)\n",
    "    trainer.logger._default_hp_metric = None\n",
    "\n",
    "    # Data loaders\n",
    "    train_loader = data.DataLoader(train_feats_data, batch_size=batch_size, shuffle=True,\n",
    "                                   drop_last=False, pin_memory=True, num_workers=0)\n",
    "    test_loader = data.DataLoader(test_feats_data, batch_size=batch_size, shuffle=False,\n",
    "                                  drop_last=False, pin_memory=True, num_workers=0)\n",
    "\n",
    "    # Check whether pretrained model exists. If yes, load it and skip training\n",
    "    pretrained_filename = os.path.join(CHECKPOINT_PATH, f\"LogisticRegression_{model_suffix}.ckpt\")\n",
    "    if os.path.isfile(pretrained_filename):\n",
    "        print(f\"Found pretrained model at {pretrained_filename}, loading...\")\n",
    "        model = LogisticRegression.load_from_checkpoint(pretrained_filename)\n",
    "    else:\n",
    "        pl.seed_everything(42)  # To be reproducable\n",
    "        model = LogisticRegression(**kwargs)\n",
    "        trainer.fit(model, train_loader, test_loader)\n",
    "        \n",
    "        print(11111)\n",
    "        print(trainer.checkpoint_callback.best_model_path)\n",
    "        model = LogisticRegression.load_from_checkpoint(trainer.checkpoint_callback.best_model_path)\n",
    "\n",
    "    # Test best model on train and validation set\n",
    "    train_result = trainer.test(model, train_loader, verbose=False)\n",
    "    test_result = trainer.test(model, test_loader, verbose=False)\n",
    "    result = {\"train\": train_result[0][\"test_acc\"], \"test\": test_result[0][\"test_acc\"]}\n",
    "\n",
    "    return model, result"
   ]
  },
  {
   "cell_type": "code",
   "execution_count": 107,
   "id": "cd5d9c81",
   "metadata": {},
   "outputs": [
    {
     "name": "stderr",
     "output_type": "stream",
     "text": [
      "GPU available: True (cuda), used: True\n",
      "TPU available: False, using: 0 TPU cores\n",
      "IPU available: False, using: 0 IPUs\n",
      "HPU available: False, using: 0 HPUs\n",
      "[rank: 0] Global seed set to 42\n",
      "You are using a CUDA device ('NVIDIA A100-PCIE-40GB MIG 2g.10gb') that has Tensor Cores. To properly utilize them, you should set `torch.set_float32_matmul_precision('medium' | 'high')` which will trade-off precision for performance. For more details, read https://pytorch.org/docs/stable/generated/torch.set_float32_matmul_precision.html#torch.set_float32_matmul_precision\n",
      "LOCAL_RANK: 0 - CUDA_VISIBLE_DEVICES: [0]\n",
      "\n",
      "  | Name  | Type       | Params\n",
      "-------------------------------------\n",
      "0 | model | Sequential | 4.1 K \n",
      "-------------------------------------\n",
      "4.1 K     Trainable params\n",
      "0         Non-trainable params\n",
      "4.1 K     Total params\n",
      "0.016     Total estimated model params size (MB)\n",
      "`Trainer.fit` stopped: `max_epochs=200` reached.\n",
      "You are using a CUDA device ('NVIDIA A100-PCIE-40GB MIG 2g.10gb') that has Tensor Cores. To properly utilize them, you should set `torch.set_float32_matmul_precision('medium' | 'high')` which will trade-off precision for performance. For more details, read https://pytorch.org/docs/stable/generated/torch.set_float32_matmul_precision.html#torch.set_float32_matmul_precision\n",
      "LOCAL_RANK: 0 - CUDA_VISIBLE_DEVICES: [0]\n",
      "You are using a CUDA device ('NVIDIA A100-PCIE-40GB MIG 2g.10gb') that has Tensor Cores. To properly utilize them, you should set `torch.set_float32_matmul_precision('medium' | 'high')` which will trade-off precision for performance. For more details, read https://pytorch.org/docs/stable/generated/torch.set_float32_matmul_precision.html#torch.set_float32_matmul_precision\n",
      "LOCAL_RANK: 0 - CUDA_VISIBLE_DEVICES: [0]\n"
     ]
    },
    {
     "name": "stdout",
     "output_type": "stream",
     "text": [
      "11111\n",
      "/home/azamat.kaibaldiyev/Tasmania_ohara_labels/checkpoints_Ohara_images_and_bathym/LogisticRegression/lightning_logs/version_20/checkpoints/epoch=199-step=14000.ckpt\n"
     ]
    }
   ],
   "source": [
    "num_imgs_per_label = 200\n",
    "logreg_model, small_set_results = train_logreg(max_epochs=200,batch_size=64,\n",
    "                                    train_feats_data=train_feats_simclr,\n",
    "                                    test_feats_data=test_feats_simclr,\n",
    "                                    model_suffix=num_imgs_per_label,\n",
    "                                    feature_dim=train_feats_simclr.tensors[0].shape[1],\n",
    "                                    num_classes=8,\n",
    "                                    lr=1e-5,\n",
    "                                    weight_decay=1e-3,)"
   ]
  },
  {
   "cell_type": "code",
   "execution_count": null,
   "id": "d55741fd",
   "metadata": {},
   "outputs": [],
   "source": [
    "#STOP"
   ]
  },
  {
   "cell_type": "markdown",
   "id": "85de6ccc",
   "metadata": {},
   "source": [
    "# Doublenet only pairs 53000"
   ]
  },
  {
   "cell_type": "code",
   "execution_count": 24,
   "id": "0544fe32",
   "metadata": {},
   "outputs": [
    {
     "data": {
      "text/plain": [
       "{'train': 0.7625560760498047, 'test': 0.7123098373413086}"
      ]
     },
     "execution_count": 24,
     "metadata": {},
     "output_type": "execute_result"
    }
   ],
   "source": [
    "#SimCLR dem32_bs256_lr_bath_and_imgs_53000 on 11000_dems32, bs 64, 200 epochs, line set\n",
    "small_set_results"
   ]
  },
  {
   "cell_type": "code",
   "execution_count": 32,
   "id": "b3083fd6",
   "metadata": {},
   "outputs": [
    {
     "data": {
      "text/plain": [
       "{'train': 0.7573221921920776, 'test': 0.7618468999862671}"
      ]
     },
     "execution_count": 32,
     "metadata": {},
     "output_type": "execute_result"
    }
   ],
   "source": [
    "#SimCLR dem32_bs256_lr_bath_and_imgs_53000 on 11000_dems32, bs 64, 200 epochs, random set\n",
    "small_set_results"
   ]
  },
  {
   "cell_type": "code",
   "execution_count": 47,
   "id": "3bcca316",
   "metadata": {},
   "outputs": [
    {
     "data": {
      "text/plain": [
       "{'train': 0.7636771202087402, 'test': 0.7159981727600098}"
      ]
     },
     "execution_count": 47,
     "metadata": {},
     "output_type": "execute_result"
    }
   ],
   "source": [
    "#SimCLR dem16_bs256_lr_bath_and_imgs_53000 on 11000_dems16, bs 64, 200 epochs, line set\n",
    "small_set_results"
   ]
  },
  {
   "cell_type": "code",
   "execution_count": 55,
   "id": "8fbe8b55",
   "metadata": {},
   "outputs": [
    {
     "data": {
      "text/plain": [
       "{'train': 0.7665486335754395, 'test': 0.7727825045585632}"
      ]
     },
     "execution_count": 55,
     "metadata": {},
     "output_type": "execute_result"
    }
   ],
   "source": [
    "#SimCLR dem16_bs256_lr_bath_and_imgs_53000 on 11000_dems16, bs 64, 200 epochs, random set\n",
    "small_set_results"
   ]
  },
  {
   "cell_type": "code",
   "execution_count": 109,
   "id": "a055901c",
   "metadata": {},
   "outputs": [],
   "source": [
    "#on Images"
   ]
  },
  {
   "cell_type": "code",
   "execution_count": 108,
   "id": "93296ff6",
   "metadata": {},
   "outputs": [
    {
     "data": {
      "text/plain": [
       "{'train': 0.7204036116600037, 'test': 0.7408944368362427}"
      ]
     },
     "execution_count": 108,
     "metadata": {},
     "output_type": "execute_result"
    }
   ],
   "source": [
    "#mode16\n",
    "#Images SimCLR _bs256_lr_bath_and_imgs_53000 on 11000_acoustic, bs 64, 200 epochs, line set\n",
    "small_set_results"
   ]
  },
  {
   "cell_type": "code",
   "execution_count": 98,
   "id": "25fd3b03",
   "metadata": {},
   "outputs": [
    {
     "data": {
      "text/plain": [
       "{'train': 0.7709473371505737, 'test': 0.7660996317863464}"
      ]
     },
     "execution_count": 98,
     "metadata": {},
     "output_type": "execute_result"
    }
   ],
   "source": [
    "#model16\n",
    "#Images SimCLR _bs256_lr_bath_and_imgs_53000 on 11000_acoustic, bs 64, 200 epochs, random set\n",
    "small_set_results"
   ]
  },
  {
   "cell_type": "code",
   "execution_count": null,
   "id": "a6a9635b",
   "metadata": {},
   "outputs": [],
   "source": [
    "#32\n",
    "#Images SimCLR _bs256_lr_bath_and_imgs_53000 on 11000_acoustic, bs 64, 200 epochs, line set\n",
    "small_set_results"
   ]
  },
  {
   "cell_type": "code",
   "execution_count": null,
   "id": "73d39ddc",
   "metadata": {},
   "outputs": [],
   "source": [
    "#32\n",
    "#Images SimCLR _bs256_lr_bath_and_imgs_53000 on 11000_acoustic, bs 64, 200 epochs, random set\n",
    "small_set_results"
   ]
  },
  {
   "cell_type": "markdown",
   "id": "d01e11cf",
   "metadata": {},
   "source": [
    "# All bath and PAIRS 53000"
   ]
  },
  {
   "cell_type": "code",
   "execution_count": 16,
   "id": "40b64b25",
   "metadata": {},
   "outputs": [
    {
     "data": {
      "text/plain": [
       "{'train': 0.768385648727417, 'test': 0.7112340331077576}"
      ]
     },
     "execution_count": 16,
     "metadata": {},
     "output_type": "execute_result"
    }
   ],
   "source": [
    "#SimCLR dem16_bs512_lr_allbath_and_imgs_53000 on 11000_dems16, bs 64, 200 epochs, line set\n",
    "small_set_results"
   ]
  },
  {
   "cell_type": "code",
   "execution_count": 27,
   "id": "831419b2",
   "metadata": {},
   "outputs": [
    {
     "data": {
      "text/plain": [
       "{'train': 0.7830705046653748, 'test': 0.7788578271865845}"
      ]
     },
     "execution_count": 27,
     "metadata": {},
     "output_type": "execute_result"
    }
   ],
   "source": [
    "#SimCLR dem16_bs512_lr_allbath_and_imgs_53000 on 11000_dems16, bs 64, 200 epochs, random set\n",
    "small_set_results"
   ]
  },
  {
   "cell_type": "code",
   "execution_count": null,
   "id": "4656eaf5",
   "metadata": {},
   "outputs": [],
   "source": [
    "#SimCLR dem16_bs512_lr_allbath_and_imgs_53000 on 11000_dems16, bs 64, 200 epochs, random set, try lr smaller (e-6)\n",
    "small_set_results"
   ]
  },
  {
   "cell_type": "code",
   "execution_count": 31,
   "id": "a0a3a33e",
   "metadata": {},
   "outputs": [
    {
     "data": {
      "text/plain": [
       "{'train': 0.7784753441810608, 'test': 0.6930997371673584}"
      ]
     },
     "execution_count": 31,
     "metadata": {},
     "output_type": "execute_result"
    }
   ],
   "source": [
    "#SimCLR dem32_bs512_lr_allbath_and_imgs_53000 on 11000_dems32, bs 64, 200 epochs, line set\n",
    "small_set_results"
   ]
  },
  {
   "cell_type": "code",
   "execution_count": 20,
   "id": "5cd61060",
   "metadata": {},
   "outputs": [
    {
     "data": {
      "text/plain": [
       "{'train': 0.7173050045967102, 'test': 0.7284325361251831}"
      ]
     },
     "execution_count": 20,
     "metadata": {},
     "output_type": "execute_result"
    }
   ],
   "source": [
    "#SimCLR dem32_bs512_lr_allbath_and_imgs_53000 on 11000_dems32, bs 64, 200 epochs, random set, smaller lr e-6\n",
    "small_set_results"
   ]
  },
  {
   "cell_type": "markdown",
   "id": "0e71aa68",
   "metadata": {},
   "source": [
    "### ONLY PAIRS 53000"
   ]
  },
  {
   "cell_type": "code",
   "execution_count": 83,
   "id": "df9d3f25",
   "metadata": {},
   "outputs": [
    {
     "data": {
      "text/plain": [
       "{'train': 0.7797446846961975, 'test': 0.7849331498146057}"
      ]
     },
     "execution_count": 83,
     "metadata": {},
     "output_type": "execute_result"
    }
   ],
   "source": [
    "\n",
    "#SimCLR dem32_bs512_lr_e-5_bath_and_imgs_53000 on 11000_dems32, bs 64, 200 epochs, random set\n",
    "small_set_results"
   ]
  },
  {
   "cell_type": "code",
   "execution_count": 26,
   "id": "8183ec6e",
   "metadata": {},
   "outputs": [
    {
     "data": {
      "text/plain": [
       "{'train': 0.7578475475311279, 'test': 0.7189180850982666}"
      ]
     },
     "execution_count": 26,
     "metadata": {},
     "output_type": "execute_result"
    }
   ],
   "source": [
    "#SimCLR dem32_bs512_lr_e-5_bath_and_imgs_53000 on 11000_dems32, bs 64, 200 epochs, line set\n",
    "small_set_results"
   ]
  },
  {
   "cell_type": "code",
   "execution_count": 27,
   "id": "ea877ce8",
   "metadata": {},
   "outputs": [],
   "source": [
    "#SimCLR dem32_bs512_lr_e-5_bath_and_imgs_53000 on 11000_optical_images, bs 64, 200 epochs, random set"
   ]
  },
  {
   "cell_type": "code",
   "execution_count": 28,
   "id": "31de6c7c",
   "metadata": {},
   "outputs": [],
   "source": [
    "#SimCLR dem32_bs512_lr_e-5_bath_and_imgs_53000 on 11000_optical_images, bs 64, 200 epochs, line set"
   ]
  },
  {
   "cell_type": "code",
   "execution_count": null,
   "id": "9e7662e9",
   "metadata": {},
   "outputs": [],
   "source": [
    "#DEMS16"
   ]
  },
  {
   "cell_type": "code",
   "execution_count": 31,
   "id": "5196fecd",
   "metadata": {},
   "outputs": [
    {
     "data": {
      "text/plain": [
       "{'train': 0.7932625412940979, 'test': 0.7928311228752136}"
      ]
     },
     "execution_count": 31,
     "metadata": {},
     "output_type": "execute_result"
    }
   ],
   "source": [
    "#SimCLR dem16_bs512_lr_bath_and_imgs_53000 on 11000_dems16, bs 64, 200 epochs, random set\n",
    "small_set_results"
   ]
  },
  {
   "cell_type": "code",
   "execution_count": 16,
   "id": "9dd6ba8d",
   "metadata": {},
   "outputs": [
    {
     "data": {
      "text/plain": [
       "{'train': 0.800000011920929, 'test': 0.694790244102478}"
      ]
     },
     "execution_count": 16,
     "metadata": {},
     "output_type": "execute_result"
    }
   ],
   "source": [
    "#SimCLR dem16_bs512_lr_bath_and_imgs_53000 on 11000_dems16, bs 64, 200 epochs, line set\n",
    "small_set_results"
   ]
  },
  {
   "cell_type": "markdown",
   "id": "d7776cd6",
   "metadata": {},
   "source": [
    "### All bath and PAIRS 36000"
   ]
  },
  {
   "cell_type": "code",
   "execution_count": 40,
   "id": "59af6640",
   "metadata": {},
   "outputs": [
    {
     "data": {
      "text/plain": [
       "{'train': 0.5163677334785461, 'test': 0.47456586360931396}"
      ]
     },
     "execution_count": 40,
     "metadata": {},
     "output_type": "execute_result"
    }
   ],
   "source": [
    "#SimCLR dem32_bs512_lr_e-5_bath_and_imgs on 11000_optical_images, bs 64, 100 epochs, line set\n",
    "small_set_results"
   ]
  },
  {
   "cell_type": "code",
   "execution_count": null,
   "id": "abaebb6e",
   "metadata": {},
   "outputs": [],
   "source": [
    "#SimCLR dem32_bs512_lr_e-5_bath_and_imgs on 11000_optical_images, bs 64, 100 epochs, random set\n",
    "small_set_results"
   ]
  },
  {
   "cell_type": "code",
   "execution_count": 50,
   "id": "c396e574",
   "metadata": {},
   "outputs": [
    {
     "data": {
      "text/plain": [
       "{'train': 0.7766816020011902, 'test': 0.6828031539916992}"
      ]
     },
     "execution_count": 50,
     "metadata": {},
     "output_type": "execute_result"
    }
   ],
   "source": [
    "#SimCLR dem32_bs512_lr_e-5_bath_and_imgs on 11000_dems32, bs 64, 200 epochs, line set\n",
    "small_set_results"
   ]
  },
  {
   "cell_type": "code",
   "execution_count": 65,
   "id": "36e8b004",
   "metadata": {},
   "outputs": [
    {
     "data": {
      "text/plain": [
       "{'train': 0.7796373963356018, 'test': 0.7752126455307007}"
      ]
     },
     "execution_count": 65,
     "metadata": {},
     "output_type": "execute_result"
    }
   ],
   "source": [
    "#SimCLR dem32_bs512_lr_e-5_bath_and_imgs on 11000_dems32, bs 64, 200 epochs, random set\n",
    "small_set_results"
   ]
  },
  {
   "cell_type": "code",
   "execution_count": null,
   "id": "8caebf10",
   "metadata": {},
   "outputs": [],
   "source": [
    "#DEMS16"
   ]
  },
  {
   "cell_type": "code",
   "execution_count": null,
   "id": "4a49e687",
   "metadata": {},
   "outputs": [],
   "source": [
    "#SimCLR dem16_bs512_lr_e-4_bath_and_imgs on 11000_optical_images, bs 64, 200 epochs, line set\n",
    "small_set_results"
   ]
  },
  {
   "cell_type": "code",
   "execution_count": null,
   "id": "f35aca80",
   "metadata": {},
   "outputs": [],
   "source": [
    "#SimCLR dem16_bs512_lr_e-4_bath_and_imgs on 11000_optical_images, bs 64, 200 epochs,random set\n",
    "small_set_results"
   ]
  },
  {
   "cell_type": "code",
   "execution_count": null,
   "id": "3a401474",
   "metadata": {},
   "outputs": [],
   "source": [
    "#SimCLR dem16_bs512_lr_e-5_bath_and_imgs on 11000_dems16, bs 64, 200 epochs, line set\n",
    "small_set_results"
   ]
  },
  {
   "cell_type": "code",
   "execution_count": null,
   "id": "d2e3326a",
   "metadata": {},
   "outputs": [],
   "source": [
    "#SimCLR dem16_bs512_lr_e-5_bath_and_imgs on 11000_dems16, bs 64, 200 epochs, random  set\n",
    "small_set_results"
   ]
  },
  {
   "cell_type": "markdown",
   "id": "09d5e9e2",
   "metadata": {},
   "source": [
    "# Test set report\n"
   ]
  },
  {
   "cell_type": "markdown",
   "id": "717b4b55",
   "metadata": {},
   "source": [
    "### DEMS32 ONLY PAIRS 53000"
   ]
  },
  {
   "cell_type": "code",
   "execution_count": 33,
   "id": "1c547cff",
   "metadata": {},
   "outputs": [
    {
     "name": "stdout",
     "output_type": "stream",
     "text": [
      "1646\n",
      "26\n",
      "              precision    recall  f1-score   support\n",
      "\n",
      "     class 1       0.97      0.98      0.98       345\n",
      "     class 2       0.75      0.92      0.83       658\n",
      "     class 3       0.00      0.00      0.00         0\n",
      "     class 4       0.00      0.00      0.00        12\n",
      "     class 5       0.81      0.62      0.71       194\n",
      "     class 6       0.84      0.95      0.89       177\n",
      "     class 7       0.47      0.30      0.37       194\n",
      "     class 8       0.75      0.14      0.23        66\n",
      "\n",
      "   micro avg       0.79      0.79      0.79      1646\n",
      "   macro avg       0.57      0.49      0.50      1646\n",
      "weighted avg       0.78      0.79      0.77      1646\n",
      "\n"
     ]
    },
    {
     "name": "stderr",
     "output_type": "stream",
     "text": [
      "/home/azamat.kaibaldiyev/miniconda3/envs/contrastive_env/lib/python3.10/site-packages/sklearn/metrics/_classification.py:1344: UndefinedMetricWarning: Precision and F-score are ill-defined and being set to 0.0 in labels with no predicted samples. Use `zero_division` parameter to control this behavior.\n",
      "  _warn_prf(average, modifier, msg_start, len(result))\n",
      "/home/azamat.kaibaldiyev/miniconda3/envs/contrastive_env/lib/python3.10/site-packages/sklearn/metrics/_classification.py:1344: UndefinedMetricWarning: Recall and F-score are ill-defined and being set to 0.0 in labels with no true samples. Use `zero_division` parameter to control this behavior.\n",
      "  _warn_prf(average, modifier, msg_start, len(result))\n",
      "/home/azamat.kaibaldiyev/miniconda3/envs/contrastive_env/lib/python3.10/site-packages/sklearn/metrics/_classification.py:1344: UndefinedMetricWarning: Precision and F-score are ill-defined and being set to 0.0 in labels with no predicted samples. Use `zero_division` parameter to control this behavior.\n",
      "  _warn_prf(average, modifier, msg_start, len(result))\n",
      "/home/azamat.kaibaldiyev/miniconda3/envs/contrastive_env/lib/python3.10/site-packages/sklearn/metrics/_classification.py:1344: UndefinedMetricWarning: Recall and F-score are ill-defined and being set to 0.0 in labels with no true samples. Use `zero_division` parameter to control this behavior.\n",
      "  _warn_prf(average, modifier, msg_start, len(result))\n",
      "/home/azamat.kaibaldiyev/miniconda3/envs/contrastive_env/lib/python3.10/site-packages/sklearn/metrics/_classification.py:1344: UndefinedMetricWarning: Precision and F-score are ill-defined and being set to 0.0 in labels with no predicted samples. Use `zero_division` parameter to control this behavior.\n",
      "  _warn_prf(average, modifier, msg_start, len(result))\n",
      "/home/azamat.kaibaldiyev/miniconda3/envs/contrastive_env/lib/python3.10/site-packages/sklearn/metrics/_classification.py:1344: UndefinedMetricWarning: Recall and F-score are ill-defined and being set to 0.0 in labels with no true samples. Use `zero_division` parameter to control this behavior.\n",
      "  _warn_prf(average, modifier, msg_start, len(result))\n"
     ]
    }
   ],
   "source": [
    "print(len(test_feats_simclr))\n",
    "test_loader = data.DataLoader(test_feats_simclr, batch_size=64, shuffle=False,\n",
    "                                  drop_last=False, pin_memory=True, num_workers=0)\n",
    "print(len(test_loader))\n",
    "preds_list = []\n",
    "lbl_list = []\n",
    "for batch, lbls in test_loader:\n",
    "    preds = logreg_model(batch)\n",
    "    preds = preds.argmax(dim = -1)\n",
    "    preds_list.append(preds)\n",
    "    lbl_list.append(lbls)\n",
    "from sklearn.metrics import classification_report\n",
    "y_true = torch.hstack(lbl_list)\n",
    "y_pred = torch.hstack(preds_list)\n",
    "labels = [0,1,2,3,4,5,6,7]\n",
    "target_names = ['class 1', 'class 2', 'class 3' , 'class 4', 'class 5', 'class 6' ,'class 7', 'class 8']\n",
    "print(classification_report(y_true, y_pred,  labels=labels, target_names=target_names))"
   ]
  },
  {
   "cell_type": "code",
   "execution_count": null,
   "id": "ee83420b",
   "metadata": {},
   "outputs": [],
   "source": []
  },
  {
   "cell_type": "code",
   "execution_count": null,
   "id": "2b10e78c",
   "metadata": {},
   "outputs": [],
   "source": []
  },
  {
   "cell_type": "code",
   "execution_count": null,
   "id": "fd49902e",
   "metadata": {},
   "outputs": [],
   "source": []
  },
  {
   "cell_type": "code",
   "execution_count": 68,
   "id": "08c18310",
   "metadata": {},
   "outputs": [
    {
     "name": "stdout",
     "output_type": "stream",
     "text": [
      "6507\n",
      "102\n"
     ]
    }
   ],
   "source": [
    "print(len(test_feats_simclr))\n",
    "test_loader = data.DataLoader(test_feats_simclr, batch_size=64, shuffle=False,\n",
    "                                  drop_last=False, pin_memory=True, num_workers=0)\n",
    "print(len(test_loader))"
   ]
  },
  {
   "cell_type": "code",
   "execution_count": 75,
   "id": "66e4d20f",
   "metadata": {},
   "outputs": [],
   "source": [
    "preds_list = []\n",
    "lbl_list = []\n",
    "for batch, lbls in test_loader:\n",
    "    preds = logreg_model(batch)\n",
    "    preds = preds.argmax(dim = -1)\n",
    "    preds_list.append(preds)\n",
    "    lbl_list.append(lbls)"
   ]
  },
  {
   "cell_type": "code",
   "execution_count": 81,
   "id": "20b96ada",
   "metadata": {},
   "outputs": [
    {
     "name": "stdout",
     "output_type": "stream",
     "text": [
      "              precision    recall  f1-score   support\n",
      "\n",
      "     class 1       0.99      0.98      0.98      1560\n",
      "     class 2       0.85      0.94      0.89      2363\n",
      "     class 3       0.00      0.00      0.00         2\n",
      "     class 4       0.67      0.33      0.44        49\n",
      "     class 5       0.84      0.78      0.81       610\n",
      "     class 6       0.87      0.98      0.92       753\n",
      "     class 7       0.70      0.65      0.68       886\n",
      "     class 8       0.58      0.20      0.29       284\n",
      "\n",
      "    accuracy                           0.86      6507\n",
      "   macro avg       0.69      0.61      0.63      6507\n",
      "weighted avg       0.85      0.86      0.85      6507\n",
      "\n"
     ]
    },
    {
     "name": "stderr",
     "output_type": "stream",
     "text": [
      "/home/azamat.kaibaldiyev/miniconda3/envs/contrastive_env/lib/python3.10/site-packages/sklearn/metrics/_classification.py:1344: UndefinedMetricWarning: Precision and F-score are ill-defined and being set to 0.0 in labels with no predicted samples. Use `zero_division` parameter to control this behavior.\n",
      "  _warn_prf(average, modifier, msg_start, len(result))\n",
      "/home/azamat.kaibaldiyev/miniconda3/envs/contrastive_env/lib/python3.10/site-packages/sklearn/metrics/_classification.py:1344: UndefinedMetricWarning: Precision and F-score are ill-defined and being set to 0.0 in labels with no predicted samples. Use `zero_division` parameter to control this behavior.\n",
      "  _warn_prf(average, modifier, msg_start, len(result))\n",
      "/home/azamat.kaibaldiyev/miniconda3/envs/contrastive_env/lib/python3.10/site-packages/sklearn/metrics/_classification.py:1344: UndefinedMetricWarning: Precision and F-score are ill-defined and being set to 0.0 in labels with no predicted samples. Use `zero_division` parameter to control this behavior.\n",
      "  _warn_prf(average, modifier, msg_start, len(result))\n"
     ]
    }
   ],
   "source": [
    "from sklearn.metrics import classification_report\n",
    "y_true = torch.hstack(lbl_list)\n",
    "y_pred = torch.hstack(preds_list)\n",
    "target_names = ['class 1', 'class 2', 'class 3' , 'class 4', 'class 5', 'class 6' ,'class 7', 'class 8']\n",
    "print(classification_report(y_true, y_pred, target_names=target_names))"
   ]
  },
  {
   "cell_type": "markdown",
   "id": "50d0890f",
   "metadata": {},
   "source": [
    "# Retrieving images from aws"
   ]
  },
  {
   "cell_type": "code",
   "execution_count": 9,
   "id": "e732ebf3",
   "metadata": {},
   "outputs": [
    {
     "data": {
      "text/html": [
       "<div>\n",
       "<style scoped>\n",
       "    .dataframe tbody tr th:only-of-type {\n",
       "        vertical-align: middle;\n",
       "    }\n",
       "\n",
       "    .dataframe tbody tr th {\n",
       "        vertical-align: top;\n",
       "    }\n",
       "\n",
       "    .dataframe thead th {\n",
       "        text-align: right;\n",
       "    }\n",
       "</style>\n",
       "<table border=\"1\" class=\"dataframe\">\n",
       "  <thead>\n",
       "    <tr style=\"text-align: right;\">\n",
       "      <th></th>\n",
       "      <th>Unnamed: 0</th>\n",
       "      <th>id</th>\n",
       "      <th>key</th>\n",
       "      <th>path_best</th>\n",
       "      <th>deployment.key</th>\n",
       "      <th>deployment.campaign.key</th>\n",
       "      <th>pose.lon</th>\n",
       "      <th>pose.lat</th>\n",
       "      <th>pose.dep</th>\n",
       "      <th>pose.alt</th>\n",
       "      <th>pose.timestamp</th>\n",
       "    </tr>\n",
       "  </thead>\n",
       "  <tbody>\n",
       "    <tr>\n",
       "      <th>0</th>\n",
       "      <td>0</td>\n",
       "      <td>2203941</td>\n",
       "      <td>PR_20081007_230307_118_LC16</td>\n",
       "      <td>https://s3-ap-southeast-2.amazonaws.com/imos-d...</td>\n",
       "      <td>r20081007_224547_ohara_07_transect</td>\n",
       "      <td>Tasmania200810</td>\n",
       "      <td>147.974697</td>\n",
       "      <td>-43.084549</td>\n",
       "      <td>31.978271</td>\n",
       "      <td>2.235</td>\n",
       "      <td>2008-10-07 23:03:07</td>\n",
       "    </tr>\n",
       "    <tr>\n",
       "      <th>1</th>\n",
       "      <td>1</td>\n",
       "      <td>2203942</td>\n",
       "      <td>PR_20081007_230308_119_LC16</td>\n",
       "      <td>https://s3-ap-southeast-2.amazonaws.com/imos-d...</td>\n",
       "      <td>r20081007_224547_ohara_07_transect</td>\n",
       "      <td>Tasmania200810</td>\n",
       "      <td>147.974697</td>\n",
       "      <td>-43.084551</td>\n",
       "      <td>31.942675</td>\n",
       "      <td>2.268</td>\n",
       "      <td>2008-10-07 23:03:08</td>\n",
       "    </tr>\n",
       "    <tr>\n",
       "      <th>2</th>\n",
       "      <td>2</td>\n",
       "      <td>2203943</td>\n",
       "      <td>PR_20081007_230309_117_LC16</td>\n",
       "      <td>https://s3-ap-southeast-2.amazonaws.com/imos-d...</td>\n",
       "      <td>r20081007_224547_ohara_07_transect</td>\n",
       "      <td>Tasmania200810</td>\n",
       "      <td>147.974698</td>\n",
       "      <td>-43.084551</td>\n",
       "      <td>31.956715</td>\n",
       "      <td>2.190</td>\n",
       "      <td>2008-10-07 23:03:09</td>\n",
       "    </tr>\n",
       "  </tbody>\n",
       "</table>\n",
       "</div>"
      ],
      "text/plain": [
       "   Unnamed: 0       id                          key  \\\n",
       "0           0  2203941  PR_20081007_230307_118_LC16   \n",
       "1           1  2203942  PR_20081007_230308_119_LC16   \n",
       "2           2  2203943  PR_20081007_230309_117_LC16   \n",
       "\n",
       "                                           path_best  \\\n",
       "0  https://s3-ap-southeast-2.amazonaws.com/imos-d...   \n",
       "1  https://s3-ap-southeast-2.amazonaws.com/imos-d...   \n",
       "2  https://s3-ap-southeast-2.amazonaws.com/imos-d...   \n",
       "\n",
       "                       deployment.key deployment.campaign.key    pose.lon  \\\n",
       "0  r20081007_224547_ohara_07_transect          Tasmania200810  147.974697   \n",
       "1  r20081007_224547_ohara_07_transect          Tasmania200810  147.974697   \n",
       "2  r20081007_224547_ohara_07_transect          Tasmania200810  147.974698   \n",
       "\n",
       "    pose.lat   pose.dep  pose.alt       pose.timestamp  \n",
       "0 -43.084549  31.978271     2.235  2008-10-07 23:03:07  \n",
       "1 -43.084551  31.942675     2.268  2008-10-07 23:03:08  \n",
       "2 -43.084551  31.956715     2.190  2008-10-07 23:03:09  "
      ]
     },
     "execution_count": 9,
     "metadata": {},
     "output_type": "execute_result"
    }
   ],
   "source": [
    "df_urls = pd.read_csv('Tasmania_ohara_labels/Ohara_all_images_labels/collection-u1578-Ohara_transect_07_dataset-9702-1987c9e43fa3c96d4373-dataframe.csv')\n",
    "df_urls[:3]"
   ]
  },
  {
   "cell_type": "code",
   "execution_count": 10,
   "id": "7c675cb1",
   "metadata": {},
   "outputs": [
    {
     "data": {
      "text/plain": [
       "'https://s3-ap-southeast-2.amazonaws.com/imos-data/IMOS/AUV/auv_viewer_data/images/Tasmania200810/r20081007_224547_ohara_07_transect/full_res/PR_20081007_230307_118_LC16.jpg'"
      ]
     },
     "execution_count": 10,
     "metadata": {},
     "output_type": "execute_result"
    }
   ],
   "source": [
    "df_urls['path_best'][0]"
   ]
  },
  {
   "cell_type": "code",
   "execution_count": 11,
   "id": "d1bd5118",
   "metadata": {},
   "outputs": [
    {
     "data": {
      "text/plain": [
       "'PR_20081007_230307_118_LC16'"
      ]
     },
     "execution_count": 11,
     "metadata": {},
     "output_type": "execute_result"
    }
   ],
   "source": [
    "df_urls['key'][0]"
   ]
  },
  {
   "cell_type": "code",
   "execution_count": 15,
   "id": "0d7d09cf",
   "metadata": {},
   "outputs": [
    {
     "data": {
      "text/html": [
       "<div>\n",
       "<style scoped>\n",
       "    .dataframe tbody tr th:only-of-type {\n",
       "        vertical-align: middle;\n",
       "    }\n",
       "\n",
       "    .dataframe tbody tr th {\n",
       "        vertical-align: top;\n",
       "    }\n",
       "\n",
       "    .dataframe thead th {\n",
       "        text-align: right;\n",
       "    }\n",
       "</style>\n",
       "<table border=\"1\" class=\"dataframe\">\n",
       "  <thead>\n",
       "    <tr style=\"text-align: right;\">\n",
       "      <th></th>\n",
       "      <th>Unnamed: 0</th>\n",
       "      <th>id</th>\n",
       "      <th>key</th>\n",
       "      <th>path_best</th>\n",
       "      <th>deployment.key</th>\n",
       "      <th>deployment.campaign.key</th>\n",
       "      <th>pose.lon</th>\n",
       "      <th>pose.lat</th>\n",
       "      <th>pose.dep</th>\n",
       "      <th>pose.alt</th>\n",
       "      <th>pose.timestamp</th>\n",
       "    </tr>\n",
       "  </thead>\n",
       "  <tbody>\n",
       "  </tbody>\n",
       "</table>\n",
       "</div>"
      ],
      "text/plain": [
       "Empty DataFrame\n",
       "Columns: [Unnamed: 0, id, key, path_best, deployment.key, deployment.campaign.key, pose.lon, pose.lat, pose.dep, pose.alt, pose.timestamp]\n",
       "Index: []"
      ]
     },
     "execution_count": 15,
     "metadata": {},
     "output_type": "execute_result"
    }
   ],
   "source": [
    "pd.merge(df_in, df_exist, on = 'key')"
   ]
  },
  {
   "cell_type": "code",
   "execution_count": 20,
   "id": "4da48b79",
   "metadata": {},
   "outputs": [
    {
     "data": {
      "text/html": [
       "<div>\n",
       "<style scoped>\n",
       "    .dataframe tbody tr th:only-of-type {\n",
       "        vertical-align: middle;\n",
       "    }\n",
       "\n",
       "    .dataframe tbody tr th {\n",
       "        vertical-align: top;\n",
       "    }\n",
       "\n",
       "    .dataframe thead th {\n",
       "        text-align: right;\n",
       "    }\n",
       "</style>\n",
       "<table border=\"1\" class=\"dataframe\">\n",
       "  <thead>\n",
       "    <tr style=\"text-align: right;\">\n",
       "      <th></th>\n",
       "      <th>index</th>\n",
       "      <th>Unnamed: 0</th>\n",
       "      <th>id</th>\n",
       "      <th>key</th>\n",
       "      <th>path_best</th>\n",
       "      <th>deployment.key</th>\n",
       "      <th>deployment.campaign.key</th>\n",
       "      <th>pose.lon</th>\n",
       "      <th>pose.lat</th>\n",
       "      <th>pose.dep</th>\n",
       "      <th>pose.alt</th>\n",
       "      <th>pose.timestamp</th>\n",
       "    </tr>\n",
       "  </thead>\n",
       "  <tbody>\n",
       "    <tr>\n",
       "      <th>0</th>\n",
       "      <td>6139</td>\n",
       "      <td>6139</td>\n",
       "      <td>2210211</td>\n",
       "      <td>PR_20081008_004737_977_LC16</td>\n",
       "      <td>https://s3-ap-southeast-2.amazonaws.com/imos-d...</td>\n",
       "      <td>r20081007_224547_ohara_07_transect</td>\n",
       "      <td>Tasmania200810</td>\n",
       "      <td>147.991450</td>\n",
       "      <td>-43.078151</td>\n",
       "      <td>66.466946</td>\n",
       "      <td>2.04</td>\n",
       "      <td>2008-10-08 00:47:37</td>\n",
       "    </tr>\n",
       "    <tr>\n",
       "      <th>1</th>\n",
       "      <td>6140</td>\n",
       "      <td>6140</td>\n",
       "      <td>2210212</td>\n",
       "      <td>PR_20081008_004738_978_LC16</td>\n",
       "      <td>https://s3-ap-southeast-2.amazonaws.com/imos-d...</td>\n",
       "      <td>r20081007_224547_ohara_07_transect</td>\n",
       "      <td>Tasmania200810</td>\n",
       "      <td>147.991444</td>\n",
       "      <td>-43.078149</td>\n",
       "      <td>66.458645</td>\n",
       "      <td>2.00</td>\n",
       "      <td>2008-10-08 00:47:38</td>\n",
       "    </tr>\n",
       "    <tr>\n",
       "      <th>2</th>\n",
       "      <td>6141</td>\n",
       "      <td>6141</td>\n",
       "      <td>2210213</td>\n",
       "      <td>PR_20081008_004739_978_LC16</td>\n",
       "      <td>https://s3-ap-southeast-2.amazonaws.com/imos-d...</td>\n",
       "      <td>r20081007_224547_ohara_07_transect</td>\n",
       "      <td>Tasmania200810</td>\n",
       "      <td>147.991442</td>\n",
       "      <td>-43.078147</td>\n",
       "      <td>66.464300</td>\n",
       "      <td>1.96</td>\n",
       "      <td>2008-10-08 00:47:39</td>\n",
       "    </tr>\n",
       "    <tr>\n",
       "      <th>3</th>\n",
       "      <td>6142</td>\n",
       "      <td>6142</td>\n",
       "      <td>2210214</td>\n",
       "      <td>PR_20081008_004740_975_LC16</td>\n",
       "      <td>https://s3-ap-southeast-2.amazonaws.com/imos-d...</td>\n",
       "      <td>r20081007_224547_ohara_07_transect</td>\n",
       "      <td>Tasmania200810</td>\n",
       "      <td>147.991437</td>\n",
       "      <td>-43.078144</td>\n",
       "      <td>66.478516</td>\n",
       "      <td>1.99</td>\n",
       "      <td>2008-10-08 00:47:40</td>\n",
       "    </tr>\n",
       "    <tr>\n",
       "      <th>4</th>\n",
       "      <td>6143</td>\n",
       "      <td>6143</td>\n",
       "      <td>2210215</td>\n",
       "      <td>PR_20081008_004741_975_LC16</td>\n",
       "      <td>https://s3-ap-southeast-2.amazonaws.com/imos-d...</td>\n",
       "      <td>r20081007_224547_ohara_07_transect</td>\n",
       "      <td>Tasmania200810</td>\n",
       "      <td>147.991434</td>\n",
       "      <td>-43.078143</td>\n",
       "      <td>66.481395</td>\n",
       "      <td>1.99</td>\n",
       "      <td>2008-10-08 00:47:41</td>\n",
       "    </tr>\n",
       "    <tr>\n",
       "      <th>...</th>\n",
       "      <td>...</td>\n",
       "      <td>...</td>\n",
       "      <td>...</td>\n",
       "      <td>...</td>\n",
       "      <td>...</td>\n",
       "      <td>...</td>\n",
       "      <td>...</td>\n",
       "      <td>...</td>\n",
       "      <td>...</td>\n",
       "      <td>...</td>\n",
       "      <td>...</td>\n",
       "      <td>...</td>\n",
       "    </tr>\n",
       "    <tr>\n",
       "      <th>5134</th>\n",
       "      <td>11273</td>\n",
       "      <td>11273</td>\n",
       "      <td>2209727</td>\n",
       "      <td>PR_20081008_003933_912_LC16</td>\n",
       "      <td>https://s3-ap-southeast-2.amazonaws.com/imos-d...</td>\n",
       "      <td>r20081007_224547_ohara_07_transect</td>\n",
       "      <td>Tasmania200810</td>\n",
       "      <td>147.994138</td>\n",
       "      <td>-43.078671</td>\n",
       "      <td>72.823555</td>\n",
       "      <td>2.02</td>\n",
       "      <td>2008-10-08 00:39:33</td>\n",
       "    </tr>\n",
       "    <tr>\n",
       "      <th>5135</th>\n",
       "      <td>11274</td>\n",
       "      <td>11274</td>\n",
       "      <td>2209728</td>\n",
       "      <td>PR_20081008_003934_912_LC16</td>\n",
       "      <td>https://s3-ap-southeast-2.amazonaws.com/imos-d...</td>\n",
       "      <td>r20081007_224547_ohara_07_transect</td>\n",
       "      <td>Tasmania200810</td>\n",
       "      <td>147.994133</td>\n",
       "      <td>-43.078671</td>\n",
       "      <td>72.758541</td>\n",
       "      <td>1.98</td>\n",
       "      <td>2008-10-08 00:39:34</td>\n",
       "    </tr>\n",
       "    <tr>\n",
       "      <th>5136</th>\n",
       "      <td>11275</td>\n",
       "      <td>11275</td>\n",
       "      <td>2209729</td>\n",
       "      <td>PR_20081008_003935_910_LC16</td>\n",
       "      <td>https://s3-ap-southeast-2.amazonaws.com/imos-d...</td>\n",
       "      <td>r20081007_224547_ohara_07_transect</td>\n",
       "      <td>Tasmania200810</td>\n",
       "      <td>147.994127</td>\n",
       "      <td>-43.078671</td>\n",
       "      <td>72.685300</td>\n",
       "      <td>2.01</td>\n",
       "      <td>2008-10-08 00:39:35</td>\n",
       "    </tr>\n",
       "    <tr>\n",
       "      <th>5137</th>\n",
       "      <td>11276</td>\n",
       "      <td>11276</td>\n",
       "      <td>2209730</td>\n",
       "      <td>PR_20081008_003936_912_LC16</td>\n",
       "      <td>https://s3-ap-southeast-2.amazonaws.com/imos-d...</td>\n",
       "      <td>r20081007_224547_ohara_07_transect</td>\n",
       "      <td>Tasmania200810</td>\n",
       "      <td>147.994121</td>\n",
       "      <td>-43.078671</td>\n",
       "      <td>72.645459</td>\n",
       "      <td>2.01</td>\n",
       "      <td>2008-10-08 00:39:36</td>\n",
       "    </tr>\n",
       "    <tr>\n",
       "      <th>5138</th>\n",
       "      <td>11277</td>\n",
       "      <td>11277</td>\n",
       "      <td>2209731</td>\n",
       "      <td>PR_20081008_003937_908_LC16</td>\n",
       "      <td>https://s3-ap-southeast-2.amazonaws.com/imos-d...</td>\n",
       "      <td>r20081007_224547_ohara_07_transect</td>\n",
       "      <td>Tasmania200810</td>\n",
       "      <td>147.994115</td>\n",
       "      <td>-43.078671</td>\n",
       "      <td>72.628637</td>\n",
       "      <td>1.98</td>\n",
       "      <td>2008-10-08 00:39:37</td>\n",
       "    </tr>\n",
       "  </tbody>\n",
       "</table>\n",
       "<p>5139 rows × 12 columns</p>\n",
       "</div>"
      ],
      "text/plain": [
       "      index  Unnamed: 0       id                          key  \\\n",
       "0      6139        6139  2210211  PR_20081008_004737_977_LC16   \n",
       "1      6140        6140  2210212  PR_20081008_004738_978_LC16   \n",
       "2      6141        6141  2210213  PR_20081008_004739_978_LC16   \n",
       "3      6142        6142  2210214  PR_20081008_004740_975_LC16   \n",
       "4      6143        6143  2210215  PR_20081008_004741_975_LC16   \n",
       "...     ...         ...      ...                          ...   \n",
       "5134  11273       11273  2209727  PR_20081008_003933_912_LC16   \n",
       "5135  11274       11274  2209728  PR_20081008_003934_912_LC16   \n",
       "5136  11275       11275  2209729  PR_20081008_003935_910_LC16   \n",
       "5137  11276       11276  2209730  PR_20081008_003936_912_LC16   \n",
       "5138  11277       11277  2209731  PR_20081008_003937_908_LC16   \n",
       "\n",
       "                                              path_best  \\\n",
       "0     https://s3-ap-southeast-2.amazonaws.com/imos-d...   \n",
       "1     https://s3-ap-southeast-2.amazonaws.com/imos-d...   \n",
       "2     https://s3-ap-southeast-2.amazonaws.com/imos-d...   \n",
       "3     https://s3-ap-southeast-2.amazonaws.com/imos-d...   \n",
       "4     https://s3-ap-southeast-2.amazonaws.com/imos-d...   \n",
       "...                                                 ...   \n",
       "5134  https://s3-ap-southeast-2.amazonaws.com/imos-d...   \n",
       "5135  https://s3-ap-southeast-2.amazonaws.com/imos-d...   \n",
       "5136  https://s3-ap-southeast-2.amazonaws.com/imos-d...   \n",
       "5137  https://s3-ap-southeast-2.amazonaws.com/imos-d...   \n",
       "5138  https://s3-ap-southeast-2.amazonaws.com/imos-d...   \n",
       "\n",
       "                          deployment.key deployment.campaign.key    pose.lon  \\\n",
       "0     r20081007_224547_ohara_07_transect          Tasmania200810  147.991450   \n",
       "1     r20081007_224547_ohara_07_transect          Tasmania200810  147.991444   \n",
       "2     r20081007_224547_ohara_07_transect          Tasmania200810  147.991442   \n",
       "3     r20081007_224547_ohara_07_transect          Tasmania200810  147.991437   \n",
       "4     r20081007_224547_ohara_07_transect          Tasmania200810  147.991434   \n",
       "...                                  ...                     ...         ...   \n",
       "5134  r20081007_224547_ohara_07_transect          Tasmania200810  147.994138   \n",
       "5135  r20081007_224547_ohara_07_transect          Tasmania200810  147.994133   \n",
       "5136  r20081007_224547_ohara_07_transect          Tasmania200810  147.994127   \n",
       "5137  r20081007_224547_ohara_07_transect          Tasmania200810  147.994121   \n",
       "5138  r20081007_224547_ohara_07_transect          Tasmania200810  147.994115   \n",
       "\n",
       "       pose.lat   pose.dep  pose.alt       pose.timestamp  \n",
       "0    -43.078151  66.466946      2.04  2008-10-08 00:47:37  \n",
       "1    -43.078149  66.458645      2.00  2008-10-08 00:47:38  \n",
       "2    -43.078147  66.464300      1.96  2008-10-08 00:47:39  \n",
       "3    -43.078144  66.478516      1.99  2008-10-08 00:47:40  \n",
       "4    -43.078143  66.481395      1.99  2008-10-08 00:47:41  \n",
       "...         ...        ...       ...                  ...  \n",
       "5134 -43.078671  72.823555      2.02  2008-10-08 00:39:33  \n",
       "5135 -43.078671  72.758541      1.98  2008-10-08 00:39:34  \n",
       "5136 -43.078671  72.685300      2.01  2008-10-08 00:39:35  \n",
       "5137 -43.078671  72.645459      2.01  2008-10-08 00:39:36  \n",
       "5138 -43.078671  72.628637      1.98  2008-10-08 00:39:37  \n",
       "\n",
       "[5139 rows x 12 columns]"
      ]
     },
     "execution_count": 20,
     "metadata": {},
     "output_type": "execute_result"
    }
   ],
   "source": [
    "exist_images = glob.glob('Tasmania_ohara_labels/Ohara_all_images_labels/image_labels/*')\n",
    "df_exist = pd.DataFrame(exist_images, columns =['key'])\n",
    "df_exist['key'] = df_exist['key'].str.split('/').str[-1]\n",
    "#perform outer join\n",
    "outer = df_urls.merge(df_exist, how='outer', indicator=True)\n",
    "#perform anti-join\n",
    "anti_join = outer[(outer._merge=='left_only')].drop('_merge', axis=1)\n",
    "\n",
    "df_in = anti_join.reset_index()\n",
    "df_in"
   ]
  },
  {
   "cell_type": "code",
   "execution_count": 21,
   "id": "cac585e7",
   "metadata": {},
   "outputs": [
    {
     "name": "stdout",
     "output_type": "stream",
     "text": [
      "0\n",
      "0\n",
      "1\n",
      "2\n",
      "3\n",
      "4\n"
     ]
    },
    {
     "ename": "KeyboardInterrupt",
     "evalue": "",
     "output_type": "error",
     "traceback": [
      "\u001b[0;31m---------------------------------------------------------------------------\u001b[0m",
      "\u001b[0;31mKeyboardInterrupt\u001b[0m                         Traceback (most recent call last)",
      "Cell \u001b[0;32mIn[21], line 19\u001b[0m\n\u001b[1;32m     17\u001b[0m \u001b[38;5;28;01mfor\u001b[39;00m i \u001b[38;5;129;01min\u001b[39;00m \u001b[38;5;28mrange\u001b[39m(\u001b[38;5;28mlen\u001b[39m(df_in)):  \n\u001b[1;32m     18\u001b[0m     \u001b[38;5;28mprint\u001b[39m(i)\n\u001b[0;32m---> 19\u001b[0m     \u001b[43msave_image_from_url\u001b[49m\u001b[43m(\u001b[49m\u001b[43mdf_in\u001b[49m\u001b[43m,\u001b[49m\u001b[43m \u001b[49m\u001b[43mi\u001b[49m\u001b[43m)\u001b[49m\n\u001b[1;32m     20\u001b[0m     \u001b[38;5;28;01mif\u001b[39;00m i\u001b[38;5;241m%\u001b[39m\u001b[38;5;241m400\u001b[39m\u001b[38;5;241m==\u001b[39m\u001b[38;5;241m0\u001b[39m:\n\u001b[1;32m     21\u001b[0m         \u001b[38;5;28mprint\u001b[39m(i)\n",
      "Cell \u001b[0;32mIn[21], line 8\u001b[0m, in \u001b[0;36msave_image_from_url\u001b[0;34m(df, idx)\u001b[0m\n\u001b[1;32m      5\u001b[0m path \u001b[38;5;241m=\u001b[39m \u001b[38;5;124m'\u001b[39m\u001b[38;5;124mTasmania_ohara_labels/Ohara_all_images_labels/image_labels/\u001b[39m\u001b[38;5;124m'\u001b[39m\n\u001b[1;32m      6\u001b[0m file_name \u001b[38;5;241m=\u001b[39m path \u001b[38;5;241m+\u001b[39m df[\u001b[38;5;124m'\u001b[39m\u001b[38;5;124mkey\u001b[39m\u001b[38;5;124m'\u001b[39m][idx]\n\u001b[0;32m----> 8\u001b[0m res \u001b[38;5;241m=\u001b[39m \u001b[43mrequests\u001b[49m\u001b[38;5;241;43m.\u001b[39;49m\u001b[43mget\u001b[49m\u001b[43m(\u001b[49m\u001b[43murl\u001b[49m\u001b[43m,\u001b[49m\u001b[43m \u001b[49m\u001b[43mstream\u001b[49m\u001b[43m \u001b[49m\u001b[38;5;241;43m=\u001b[39;49m\u001b[43m \u001b[49m\u001b[38;5;28;43;01mTrue\u001b[39;49;00m\u001b[43m)\u001b[49m\n\u001b[1;32m     10\u001b[0m \u001b[38;5;28;01mif\u001b[39;00m res\u001b[38;5;241m.\u001b[39mstatus_code \u001b[38;5;241m==\u001b[39m \u001b[38;5;241m200\u001b[39m:\n\u001b[1;32m     11\u001b[0m     \u001b[38;5;28;01mwith\u001b[39;00m \u001b[38;5;28mopen\u001b[39m(file_name,\u001b[38;5;124m'\u001b[39m\u001b[38;5;124mwb\u001b[39m\u001b[38;5;124m'\u001b[39m) \u001b[38;5;28;01mas\u001b[39;00m f:\n",
      "File \u001b[0;32m~/miniconda3/envs/contrastive_env/lib/python3.10/site-packages/requests/api.py:73\u001b[0m, in \u001b[0;36mget\u001b[0;34m(url, params, **kwargs)\u001b[0m\n\u001b[1;32m     62\u001b[0m \u001b[38;5;28;01mdef\u001b[39;00m \u001b[38;5;21mget\u001b[39m(url, params\u001b[38;5;241m=\u001b[39m\u001b[38;5;28;01mNone\u001b[39;00m, \u001b[38;5;241m*\u001b[39m\u001b[38;5;241m*\u001b[39mkwargs):\n\u001b[1;32m     63\u001b[0m     \u001b[38;5;124mr\u001b[39m\u001b[38;5;124;03m\"\"\"Sends a GET request.\u001b[39;00m\n\u001b[1;32m     64\u001b[0m \n\u001b[1;32m     65\u001b[0m \u001b[38;5;124;03m    :param url: URL for the new :class:`Request` object.\u001b[39;00m\n\u001b[0;32m   (...)\u001b[0m\n\u001b[1;32m     70\u001b[0m \u001b[38;5;124;03m    :rtype: requests.Response\u001b[39;00m\n\u001b[1;32m     71\u001b[0m \u001b[38;5;124;03m    \"\"\"\u001b[39;00m\n\u001b[0;32m---> 73\u001b[0m     \u001b[38;5;28;01mreturn\u001b[39;00m \u001b[43mrequest\u001b[49m\u001b[43m(\u001b[49m\u001b[38;5;124;43m\"\u001b[39;49m\u001b[38;5;124;43mget\u001b[39;49m\u001b[38;5;124;43m\"\u001b[39;49m\u001b[43m,\u001b[49m\u001b[43m \u001b[49m\u001b[43murl\u001b[49m\u001b[43m,\u001b[49m\u001b[43m \u001b[49m\u001b[43mparams\u001b[49m\u001b[38;5;241;43m=\u001b[39;49m\u001b[43mparams\u001b[49m\u001b[43m,\u001b[49m\u001b[43m \u001b[49m\u001b[38;5;241;43m*\u001b[39;49m\u001b[38;5;241;43m*\u001b[39;49m\u001b[43mkwargs\u001b[49m\u001b[43m)\u001b[49m\n",
      "File \u001b[0;32m~/miniconda3/envs/contrastive_env/lib/python3.10/site-packages/requests/api.py:59\u001b[0m, in \u001b[0;36mrequest\u001b[0;34m(method, url, **kwargs)\u001b[0m\n\u001b[1;32m     55\u001b[0m \u001b[38;5;66;03m# By using the 'with' statement we are sure the session is closed, thus we\u001b[39;00m\n\u001b[1;32m     56\u001b[0m \u001b[38;5;66;03m# avoid leaving sockets open which can trigger a ResourceWarning in some\u001b[39;00m\n\u001b[1;32m     57\u001b[0m \u001b[38;5;66;03m# cases, and look like a memory leak in others.\u001b[39;00m\n\u001b[1;32m     58\u001b[0m \u001b[38;5;28;01mwith\u001b[39;00m sessions\u001b[38;5;241m.\u001b[39mSession() \u001b[38;5;28;01mas\u001b[39;00m session:\n\u001b[0;32m---> 59\u001b[0m     \u001b[38;5;28;01mreturn\u001b[39;00m \u001b[43msession\u001b[49m\u001b[38;5;241;43m.\u001b[39;49m\u001b[43mrequest\u001b[49m\u001b[43m(\u001b[49m\u001b[43mmethod\u001b[49m\u001b[38;5;241;43m=\u001b[39;49m\u001b[43mmethod\u001b[49m\u001b[43m,\u001b[49m\u001b[43m \u001b[49m\u001b[43murl\u001b[49m\u001b[38;5;241;43m=\u001b[39;49m\u001b[43murl\u001b[49m\u001b[43m,\u001b[49m\u001b[43m \u001b[49m\u001b[38;5;241;43m*\u001b[39;49m\u001b[38;5;241;43m*\u001b[39;49m\u001b[43mkwargs\u001b[49m\u001b[43m)\u001b[49m\n",
      "File \u001b[0;32m~/miniconda3/envs/contrastive_env/lib/python3.10/site-packages/requests/sessions.py:587\u001b[0m, in \u001b[0;36mSession.request\u001b[0;34m(self, method, url, params, data, headers, cookies, files, auth, timeout, allow_redirects, proxies, hooks, stream, verify, cert, json)\u001b[0m\n\u001b[1;32m    582\u001b[0m send_kwargs \u001b[38;5;241m=\u001b[39m {\n\u001b[1;32m    583\u001b[0m     \u001b[38;5;124m\"\u001b[39m\u001b[38;5;124mtimeout\u001b[39m\u001b[38;5;124m\"\u001b[39m: timeout,\n\u001b[1;32m    584\u001b[0m     \u001b[38;5;124m\"\u001b[39m\u001b[38;5;124mallow_redirects\u001b[39m\u001b[38;5;124m\"\u001b[39m: allow_redirects,\n\u001b[1;32m    585\u001b[0m }\n\u001b[1;32m    586\u001b[0m send_kwargs\u001b[38;5;241m.\u001b[39mupdate(settings)\n\u001b[0;32m--> 587\u001b[0m resp \u001b[38;5;241m=\u001b[39m \u001b[38;5;28;43mself\u001b[39;49m\u001b[38;5;241;43m.\u001b[39;49m\u001b[43msend\u001b[49m\u001b[43m(\u001b[49m\u001b[43mprep\u001b[49m\u001b[43m,\u001b[49m\u001b[43m \u001b[49m\u001b[38;5;241;43m*\u001b[39;49m\u001b[38;5;241;43m*\u001b[39;49m\u001b[43msend_kwargs\u001b[49m\u001b[43m)\u001b[49m\n\u001b[1;32m    589\u001b[0m \u001b[38;5;28;01mreturn\u001b[39;00m resp\n",
      "File \u001b[0;32m~/miniconda3/envs/contrastive_env/lib/python3.10/site-packages/requests/sessions.py:701\u001b[0m, in \u001b[0;36mSession.send\u001b[0;34m(self, request, **kwargs)\u001b[0m\n\u001b[1;32m    698\u001b[0m start \u001b[38;5;241m=\u001b[39m preferred_clock()\n\u001b[1;32m    700\u001b[0m \u001b[38;5;66;03m# Send the request\u001b[39;00m\n\u001b[0;32m--> 701\u001b[0m r \u001b[38;5;241m=\u001b[39m \u001b[43madapter\u001b[49m\u001b[38;5;241;43m.\u001b[39;49m\u001b[43msend\u001b[49m\u001b[43m(\u001b[49m\u001b[43mrequest\u001b[49m\u001b[43m,\u001b[49m\u001b[43m \u001b[49m\u001b[38;5;241;43m*\u001b[39;49m\u001b[38;5;241;43m*\u001b[39;49m\u001b[43mkwargs\u001b[49m\u001b[43m)\u001b[49m\n\u001b[1;32m    703\u001b[0m \u001b[38;5;66;03m# Total elapsed time of the request (approximately)\u001b[39;00m\n\u001b[1;32m    704\u001b[0m elapsed \u001b[38;5;241m=\u001b[39m preferred_clock() \u001b[38;5;241m-\u001b[39m start\n",
      "File \u001b[0;32m~/miniconda3/envs/contrastive_env/lib/python3.10/site-packages/requests/adapters.py:489\u001b[0m, in \u001b[0;36mHTTPAdapter.send\u001b[0;34m(self, request, stream, timeout, verify, cert, proxies)\u001b[0m\n\u001b[1;32m    487\u001b[0m \u001b[38;5;28;01mtry\u001b[39;00m:\n\u001b[1;32m    488\u001b[0m     \u001b[38;5;28;01mif\u001b[39;00m \u001b[38;5;129;01mnot\u001b[39;00m chunked:\n\u001b[0;32m--> 489\u001b[0m         resp \u001b[38;5;241m=\u001b[39m \u001b[43mconn\u001b[49m\u001b[38;5;241;43m.\u001b[39;49m\u001b[43murlopen\u001b[49m\u001b[43m(\u001b[49m\n\u001b[1;32m    490\u001b[0m \u001b[43m            \u001b[49m\u001b[43mmethod\u001b[49m\u001b[38;5;241;43m=\u001b[39;49m\u001b[43mrequest\u001b[49m\u001b[38;5;241;43m.\u001b[39;49m\u001b[43mmethod\u001b[49m\u001b[43m,\u001b[49m\n\u001b[1;32m    491\u001b[0m \u001b[43m            \u001b[49m\u001b[43murl\u001b[49m\u001b[38;5;241;43m=\u001b[39;49m\u001b[43murl\u001b[49m\u001b[43m,\u001b[49m\n\u001b[1;32m    492\u001b[0m \u001b[43m            \u001b[49m\u001b[43mbody\u001b[49m\u001b[38;5;241;43m=\u001b[39;49m\u001b[43mrequest\u001b[49m\u001b[38;5;241;43m.\u001b[39;49m\u001b[43mbody\u001b[49m\u001b[43m,\u001b[49m\n\u001b[1;32m    493\u001b[0m \u001b[43m            \u001b[49m\u001b[43mheaders\u001b[49m\u001b[38;5;241;43m=\u001b[39;49m\u001b[43mrequest\u001b[49m\u001b[38;5;241;43m.\u001b[39;49m\u001b[43mheaders\u001b[49m\u001b[43m,\u001b[49m\n\u001b[1;32m    494\u001b[0m \u001b[43m            \u001b[49m\u001b[43mredirect\u001b[49m\u001b[38;5;241;43m=\u001b[39;49m\u001b[38;5;28;43;01mFalse\u001b[39;49;00m\u001b[43m,\u001b[49m\n\u001b[1;32m    495\u001b[0m \u001b[43m            \u001b[49m\u001b[43massert_same_host\u001b[49m\u001b[38;5;241;43m=\u001b[39;49m\u001b[38;5;28;43;01mFalse\u001b[39;49;00m\u001b[43m,\u001b[49m\n\u001b[1;32m    496\u001b[0m \u001b[43m            \u001b[49m\u001b[43mpreload_content\u001b[49m\u001b[38;5;241;43m=\u001b[39;49m\u001b[38;5;28;43;01mFalse\u001b[39;49;00m\u001b[43m,\u001b[49m\n\u001b[1;32m    497\u001b[0m \u001b[43m            \u001b[49m\u001b[43mdecode_content\u001b[49m\u001b[38;5;241;43m=\u001b[39;49m\u001b[38;5;28;43;01mFalse\u001b[39;49;00m\u001b[43m,\u001b[49m\n\u001b[1;32m    498\u001b[0m \u001b[43m            \u001b[49m\u001b[43mretries\u001b[49m\u001b[38;5;241;43m=\u001b[39;49m\u001b[38;5;28;43mself\u001b[39;49m\u001b[38;5;241;43m.\u001b[39;49m\u001b[43mmax_retries\u001b[49m\u001b[43m,\u001b[49m\n\u001b[1;32m    499\u001b[0m \u001b[43m            \u001b[49m\u001b[43mtimeout\u001b[49m\u001b[38;5;241;43m=\u001b[39;49m\u001b[43mtimeout\u001b[49m\u001b[43m,\u001b[49m\n\u001b[1;32m    500\u001b[0m \u001b[43m        \u001b[49m\u001b[43m)\u001b[49m\n\u001b[1;32m    502\u001b[0m     \u001b[38;5;66;03m# Send the request.\u001b[39;00m\n\u001b[1;32m    503\u001b[0m     \u001b[38;5;28;01melse\u001b[39;00m:\n\u001b[1;32m    504\u001b[0m         \u001b[38;5;28;01mif\u001b[39;00m \u001b[38;5;28mhasattr\u001b[39m(conn, \u001b[38;5;124m\"\u001b[39m\u001b[38;5;124mproxy_pool\u001b[39m\u001b[38;5;124m\"\u001b[39m):\n",
      "File \u001b[0;32m~/miniconda3/envs/contrastive_env/lib/python3.10/site-packages/urllib3/connectionpool.py:703\u001b[0m, in \u001b[0;36mHTTPConnectionPool.urlopen\u001b[0;34m(self, method, url, body, headers, retries, redirect, assert_same_host, timeout, pool_timeout, release_conn, chunked, body_pos, **response_kw)\u001b[0m\n\u001b[1;32m    700\u001b[0m     \u001b[38;5;28mself\u001b[39m\u001b[38;5;241m.\u001b[39m_prepare_proxy(conn)\n\u001b[1;32m    702\u001b[0m \u001b[38;5;66;03m# Make the request on the httplib connection object.\u001b[39;00m\n\u001b[0;32m--> 703\u001b[0m httplib_response \u001b[38;5;241m=\u001b[39m \u001b[38;5;28;43mself\u001b[39;49m\u001b[38;5;241;43m.\u001b[39;49m\u001b[43m_make_request\u001b[49m\u001b[43m(\u001b[49m\n\u001b[1;32m    704\u001b[0m \u001b[43m    \u001b[49m\u001b[43mconn\u001b[49m\u001b[43m,\u001b[49m\n\u001b[1;32m    705\u001b[0m \u001b[43m    \u001b[49m\u001b[43mmethod\u001b[49m\u001b[43m,\u001b[49m\n\u001b[1;32m    706\u001b[0m \u001b[43m    \u001b[49m\u001b[43murl\u001b[49m\u001b[43m,\u001b[49m\n\u001b[1;32m    707\u001b[0m \u001b[43m    \u001b[49m\u001b[43mtimeout\u001b[49m\u001b[38;5;241;43m=\u001b[39;49m\u001b[43mtimeout_obj\u001b[49m\u001b[43m,\u001b[49m\n\u001b[1;32m    708\u001b[0m \u001b[43m    \u001b[49m\u001b[43mbody\u001b[49m\u001b[38;5;241;43m=\u001b[39;49m\u001b[43mbody\u001b[49m\u001b[43m,\u001b[49m\n\u001b[1;32m    709\u001b[0m \u001b[43m    \u001b[49m\u001b[43mheaders\u001b[49m\u001b[38;5;241;43m=\u001b[39;49m\u001b[43mheaders\u001b[49m\u001b[43m,\u001b[49m\n\u001b[1;32m    710\u001b[0m \u001b[43m    \u001b[49m\u001b[43mchunked\u001b[49m\u001b[38;5;241;43m=\u001b[39;49m\u001b[43mchunked\u001b[49m\u001b[43m,\u001b[49m\n\u001b[1;32m    711\u001b[0m \u001b[43m\u001b[49m\u001b[43m)\u001b[49m\n\u001b[1;32m    713\u001b[0m \u001b[38;5;66;03m# If we're going to release the connection in ``finally:``, then\u001b[39;00m\n\u001b[1;32m    714\u001b[0m \u001b[38;5;66;03m# the response doesn't need to know about the connection. Otherwise\u001b[39;00m\n\u001b[1;32m    715\u001b[0m \u001b[38;5;66;03m# it will also try to release it and we'll have a double-release\u001b[39;00m\n\u001b[1;32m    716\u001b[0m \u001b[38;5;66;03m# mess.\u001b[39;00m\n\u001b[1;32m    717\u001b[0m response_conn \u001b[38;5;241m=\u001b[39m conn \u001b[38;5;28;01mif\u001b[39;00m \u001b[38;5;129;01mnot\u001b[39;00m release_conn \u001b[38;5;28;01melse\u001b[39;00m \u001b[38;5;28;01mNone\u001b[39;00m\n",
      "File \u001b[0;32m~/miniconda3/envs/contrastive_env/lib/python3.10/site-packages/urllib3/connectionpool.py:449\u001b[0m, in \u001b[0;36mHTTPConnectionPool._make_request\u001b[0;34m(self, conn, method, url, timeout, chunked, **httplib_request_kw)\u001b[0m\n\u001b[1;32m    444\u001b[0m             httplib_response \u001b[38;5;241m=\u001b[39m conn\u001b[38;5;241m.\u001b[39mgetresponse()\n\u001b[1;32m    445\u001b[0m         \u001b[38;5;28;01mexcept\u001b[39;00m \u001b[38;5;167;01mBaseException\u001b[39;00m \u001b[38;5;28;01mas\u001b[39;00m e:\n\u001b[1;32m    446\u001b[0m             \u001b[38;5;66;03m# Remove the TypeError from the exception chain in\u001b[39;00m\n\u001b[1;32m    447\u001b[0m             \u001b[38;5;66;03m# Python 3 (including for exceptions like SystemExit).\u001b[39;00m\n\u001b[1;32m    448\u001b[0m             \u001b[38;5;66;03m# Otherwise it looks like a bug in the code.\u001b[39;00m\n\u001b[0;32m--> 449\u001b[0m             \u001b[43msix\u001b[49m\u001b[38;5;241;43m.\u001b[39;49m\u001b[43mraise_from\u001b[49m\u001b[43m(\u001b[49m\u001b[43me\u001b[49m\u001b[43m,\u001b[49m\u001b[43m \u001b[49m\u001b[38;5;28;43;01mNone\u001b[39;49;00m\u001b[43m)\u001b[49m\n\u001b[1;32m    450\u001b[0m \u001b[38;5;28;01mexcept\u001b[39;00m (SocketTimeout, BaseSSLError, SocketError) \u001b[38;5;28;01mas\u001b[39;00m e:\n\u001b[1;32m    451\u001b[0m     \u001b[38;5;28mself\u001b[39m\u001b[38;5;241m.\u001b[39m_raise_timeout(err\u001b[38;5;241m=\u001b[39me, url\u001b[38;5;241m=\u001b[39murl, timeout_value\u001b[38;5;241m=\u001b[39mread_timeout)\n",
      "File \u001b[0;32m<string>:3\u001b[0m, in \u001b[0;36mraise_from\u001b[0;34m(value, from_value)\u001b[0m\n",
      "File \u001b[0;32m~/miniconda3/envs/contrastive_env/lib/python3.10/site-packages/urllib3/connectionpool.py:444\u001b[0m, in \u001b[0;36mHTTPConnectionPool._make_request\u001b[0;34m(self, conn, method, url, timeout, chunked, **httplib_request_kw)\u001b[0m\n\u001b[1;32m    441\u001b[0m \u001b[38;5;28;01mexcept\u001b[39;00m \u001b[38;5;167;01mTypeError\u001b[39;00m:\n\u001b[1;32m    442\u001b[0m     \u001b[38;5;66;03m# Python 3\u001b[39;00m\n\u001b[1;32m    443\u001b[0m     \u001b[38;5;28;01mtry\u001b[39;00m:\n\u001b[0;32m--> 444\u001b[0m         httplib_response \u001b[38;5;241m=\u001b[39m \u001b[43mconn\u001b[49m\u001b[38;5;241;43m.\u001b[39;49m\u001b[43mgetresponse\u001b[49m\u001b[43m(\u001b[49m\u001b[43m)\u001b[49m\n\u001b[1;32m    445\u001b[0m     \u001b[38;5;28;01mexcept\u001b[39;00m \u001b[38;5;167;01mBaseException\u001b[39;00m \u001b[38;5;28;01mas\u001b[39;00m e:\n\u001b[1;32m    446\u001b[0m         \u001b[38;5;66;03m# Remove the TypeError from the exception chain in\u001b[39;00m\n\u001b[1;32m    447\u001b[0m         \u001b[38;5;66;03m# Python 3 (including for exceptions like SystemExit).\u001b[39;00m\n\u001b[1;32m    448\u001b[0m         \u001b[38;5;66;03m# Otherwise it looks like a bug in the code.\u001b[39;00m\n\u001b[1;32m    449\u001b[0m         six\u001b[38;5;241m.\u001b[39mraise_from(e, \u001b[38;5;28;01mNone\u001b[39;00m)\n",
      "File \u001b[0;32m~/miniconda3/envs/contrastive_env/lib/python3.10/http/client.py:1374\u001b[0m, in \u001b[0;36mHTTPConnection.getresponse\u001b[0;34m(self)\u001b[0m\n\u001b[1;32m   1372\u001b[0m \u001b[38;5;28;01mtry\u001b[39;00m:\n\u001b[1;32m   1373\u001b[0m     \u001b[38;5;28;01mtry\u001b[39;00m:\n\u001b[0;32m-> 1374\u001b[0m         \u001b[43mresponse\u001b[49m\u001b[38;5;241;43m.\u001b[39;49m\u001b[43mbegin\u001b[49m\u001b[43m(\u001b[49m\u001b[43m)\u001b[49m\n\u001b[1;32m   1375\u001b[0m     \u001b[38;5;28;01mexcept\u001b[39;00m \u001b[38;5;167;01mConnectionError\u001b[39;00m:\n\u001b[1;32m   1376\u001b[0m         \u001b[38;5;28mself\u001b[39m\u001b[38;5;241m.\u001b[39mclose()\n",
      "File \u001b[0;32m~/miniconda3/envs/contrastive_env/lib/python3.10/http/client.py:318\u001b[0m, in \u001b[0;36mHTTPResponse.begin\u001b[0;34m(self)\u001b[0m\n\u001b[1;32m    316\u001b[0m \u001b[38;5;66;03m# read until we get a non-100 response\u001b[39;00m\n\u001b[1;32m    317\u001b[0m \u001b[38;5;28;01mwhile\u001b[39;00m \u001b[38;5;28;01mTrue\u001b[39;00m:\n\u001b[0;32m--> 318\u001b[0m     version, status, reason \u001b[38;5;241m=\u001b[39m \u001b[38;5;28;43mself\u001b[39;49m\u001b[38;5;241;43m.\u001b[39;49m\u001b[43m_read_status\u001b[49m\u001b[43m(\u001b[49m\u001b[43m)\u001b[49m\n\u001b[1;32m    319\u001b[0m     \u001b[38;5;28;01mif\u001b[39;00m status \u001b[38;5;241m!=\u001b[39m CONTINUE:\n\u001b[1;32m    320\u001b[0m         \u001b[38;5;28;01mbreak\u001b[39;00m\n",
      "File \u001b[0;32m~/miniconda3/envs/contrastive_env/lib/python3.10/http/client.py:279\u001b[0m, in \u001b[0;36mHTTPResponse._read_status\u001b[0;34m(self)\u001b[0m\n\u001b[1;32m    278\u001b[0m \u001b[38;5;28;01mdef\u001b[39;00m \u001b[38;5;21m_read_status\u001b[39m(\u001b[38;5;28mself\u001b[39m):\n\u001b[0;32m--> 279\u001b[0m     line \u001b[38;5;241m=\u001b[39m \u001b[38;5;28mstr\u001b[39m(\u001b[38;5;28;43mself\u001b[39;49m\u001b[38;5;241;43m.\u001b[39;49m\u001b[43mfp\u001b[49m\u001b[38;5;241;43m.\u001b[39;49m\u001b[43mreadline\u001b[49m\u001b[43m(\u001b[49m\u001b[43m_MAXLINE\u001b[49m\u001b[43m \u001b[49m\u001b[38;5;241;43m+\u001b[39;49m\u001b[43m \u001b[49m\u001b[38;5;241;43m1\u001b[39;49m\u001b[43m)\u001b[49m, \u001b[38;5;124m\"\u001b[39m\u001b[38;5;124miso-8859-1\u001b[39m\u001b[38;5;124m\"\u001b[39m)\n\u001b[1;32m    280\u001b[0m     \u001b[38;5;28;01mif\u001b[39;00m \u001b[38;5;28mlen\u001b[39m(line) \u001b[38;5;241m>\u001b[39m _MAXLINE:\n\u001b[1;32m    281\u001b[0m         \u001b[38;5;28;01mraise\u001b[39;00m LineTooLong(\u001b[38;5;124m\"\u001b[39m\u001b[38;5;124mstatus line\u001b[39m\u001b[38;5;124m\"\u001b[39m)\n",
      "File \u001b[0;32m~/miniconda3/envs/contrastive_env/lib/python3.10/socket.py:705\u001b[0m, in \u001b[0;36mSocketIO.readinto\u001b[0;34m(self, b)\u001b[0m\n\u001b[1;32m    703\u001b[0m \u001b[38;5;28;01mwhile\u001b[39;00m \u001b[38;5;28;01mTrue\u001b[39;00m:\n\u001b[1;32m    704\u001b[0m     \u001b[38;5;28;01mtry\u001b[39;00m:\n\u001b[0;32m--> 705\u001b[0m         \u001b[38;5;28;01mreturn\u001b[39;00m \u001b[38;5;28;43mself\u001b[39;49m\u001b[38;5;241;43m.\u001b[39;49m\u001b[43m_sock\u001b[49m\u001b[38;5;241;43m.\u001b[39;49m\u001b[43mrecv_into\u001b[49m\u001b[43m(\u001b[49m\u001b[43mb\u001b[49m\u001b[43m)\u001b[49m\n\u001b[1;32m    706\u001b[0m     \u001b[38;5;28;01mexcept\u001b[39;00m timeout:\n\u001b[1;32m    707\u001b[0m         \u001b[38;5;28mself\u001b[39m\u001b[38;5;241m.\u001b[39m_timeout_occurred \u001b[38;5;241m=\u001b[39m \u001b[38;5;28;01mTrue\u001b[39;00m\n",
      "File \u001b[0;32m~/miniconda3/envs/contrastive_env/lib/python3.10/ssl.py:1274\u001b[0m, in \u001b[0;36mSSLSocket.recv_into\u001b[0;34m(self, buffer, nbytes, flags)\u001b[0m\n\u001b[1;32m   1270\u001b[0m     \u001b[38;5;28;01mif\u001b[39;00m flags \u001b[38;5;241m!=\u001b[39m \u001b[38;5;241m0\u001b[39m:\n\u001b[1;32m   1271\u001b[0m         \u001b[38;5;28;01mraise\u001b[39;00m \u001b[38;5;167;01mValueError\u001b[39;00m(\n\u001b[1;32m   1272\u001b[0m           \u001b[38;5;124m\"\u001b[39m\u001b[38;5;124mnon-zero flags not allowed in calls to recv_into() on \u001b[39m\u001b[38;5;132;01m%s\u001b[39;00m\u001b[38;5;124m\"\u001b[39m \u001b[38;5;241m%\u001b[39m\n\u001b[1;32m   1273\u001b[0m           \u001b[38;5;28mself\u001b[39m\u001b[38;5;241m.\u001b[39m\u001b[38;5;18m__class__\u001b[39m)\n\u001b[0;32m-> 1274\u001b[0m     \u001b[38;5;28;01mreturn\u001b[39;00m \u001b[38;5;28;43mself\u001b[39;49m\u001b[38;5;241;43m.\u001b[39;49m\u001b[43mread\u001b[49m\u001b[43m(\u001b[49m\u001b[43mnbytes\u001b[49m\u001b[43m,\u001b[49m\u001b[43m \u001b[49m\u001b[43mbuffer\u001b[49m\u001b[43m)\u001b[49m\n\u001b[1;32m   1275\u001b[0m \u001b[38;5;28;01melse\u001b[39;00m:\n\u001b[1;32m   1276\u001b[0m     \u001b[38;5;28;01mreturn\u001b[39;00m \u001b[38;5;28msuper\u001b[39m()\u001b[38;5;241m.\u001b[39mrecv_into(buffer, nbytes, flags)\n",
      "File \u001b[0;32m~/miniconda3/envs/contrastive_env/lib/python3.10/ssl.py:1130\u001b[0m, in \u001b[0;36mSSLSocket.read\u001b[0;34m(self, len, buffer)\u001b[0m\n\u001b[1;32m   1128\u001b[0m \u001b[38;5;28;01mtry\u001b[39;00m:\n\u001b[1;32m   1129\u001b[0m     \u001b[38;5;28;01mif\u001b[39;00m buffer \u001b[38;5;129;01mis\u001b[39;00m \u001b[38;5;129;01mnot\u001b[39;00m \u001b[38;5;28;01mNone\u001b[39;00m:\n\u001b[0;32m-> 1130\u001b[0m         \u001b[38;5;28;01mreturn\u001b[39;00m \u001b[38;5;28;43mself\u001b[39;49m\u001b[38;5;241;43m.\u001b[39;49m\u001b[43m_sslobj\u001b[49m\u001b[38;5;241;43m.\u001b[39;49m\u001b[43mread\u001b[49m\u001b[43m(\u001b[49m\u001b[38;5;28;43mlen\u001b[39;49m\u001b[43m,\u001b[49m\u001b[43m \u001b[49m\u001b[43mbuffer\u001b[49m\u001b[43m)\u001b[49m\n\u001b[1;32m   1131\u001b[0m     \u001b[38;5;28;01melse\u001b[39;00m:\n\u001b[1;32m   1132\u001b[0m         \u001b[38;5;28;01mreturn\u001b[39;00m \u001b[38;5;28mself\u001b[39m\u001b[38;5;241m.\u001b[39m_sslobj\u001b[38;5;241m.\u001b[39mread(\u001b[38;5;28mlen\u001b[39m)\n",
      "\u001b[0;31mKeyboardInterrupt\u001b[0m: "
     ]
    }
   ],
   "source": [
    "import requests # request img from web\n",
    "import shutil # save img locally\n",
    "def save_image_from_url(df, idx):\n",
    "    url = df['path_best'][idx] \n",
    "    path = 'Tasmania_ohara_labels/Ohara_all_images_labels/image_labels/'\n",
    "    file_name = path + df['key'][idx]\n",
    "\n",
    "    res = requests.get(url, stream = True)\n",
    "\n",
    "    if res.status_code == 200:\n",
    "        with open(file_name,'wb') as f:\n",
    "            shutil.copyfileobj(res.raw, f)\n",
    "        #print('Image sucessfully Downloaded: ',file_name)\n",
    "    else:\n",
    "        print('Image Couldn\\'t be retrieved')\n",
    "        \n",
    "for i in range(len(df_in)):  \n",
    "    save_image_from_url(df_in, i)\n",
    "    if i%400==0:\n",
    "        print(i)"
   ]
  },
  {
   "cell_type": "raw",
   "id": "d1a48d0e",
   "metadata": {},
   "source": [
    "from PIL import Image\n",
    "  \n",
    "# open method used to open different extension image file\n",
    "im = Image.open(r'Tasmania_ohara_labels/Ohara_all_images_labels/image_labels/PR_20081007_230307_118_LC16')\n",
    "# This method will show image in any image viewer \n",
    "im"
   ]
  },
  {
   "cell_type": "code",
   "execution_count": null,
   "id": "6614bf6e",
   "metadata": {},
   "outputs": [],
   "source": []
  }
 ],
 "metadata": {
  "kernelspec": {
   "display_name": "Python 3 (ipykernel)",
   "language": "python",
   "name": "python3"
  },
  "language_info": {
   "codemirror_mode": {
    "name": "ipython",
    "version": 3
   },
   "file_extension": ".py",
   "mimetype": "text/x-python",
   "name": "python",
   "nbconvert_exporter": "python",
   "pygments_lexer": "ipython3",
   "version": "3.10.9"
  }
 },
 "nbformat": 4,
 "nbformat_minor": 5
}
