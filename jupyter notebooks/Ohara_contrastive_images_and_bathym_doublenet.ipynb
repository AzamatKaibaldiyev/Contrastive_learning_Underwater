{
 "cells": [
  {
   "cell_type": "code",
   "execution_count": 1,
   "id": "f4f34fd9",
   "metadata": {},
   "outputs": [
    {
     "name": "stderr",
     "output_type": "stream",
     "text": [
      "[rank: 0] Global seed set to 42\n"
     ]
    },
    {
     "name": "stdout",
     "output_type": "stream",
     "text": [
      "Device: cuda:0\n",
      "Number of workers: 64\n"
     ]
    },
    {
     "data": {
      "text/plain": [
       "<Figure size 640x480 with 0 Axes>"
      ]
     },
     "metadata": {},
     "output_type": "display_data"
    }
   ],
   "source": [
    "#import os\n",
    "#os.environ['CUDA_LAUNCH_BLOCKING'] = 1\n",
    "\n",
    "\n",
    "## Standard libraries\n",
    "import os\n",
    "from copy import deepcopy\n",
    "\n",
    "## Imports for plotting\n",
    "import matplotlib.pyplot as plt\n",
    "plt.set_cmap('viridis')\n",
    "%matplotlib inline\n",
    "#from IPython.display import set_matplotlib_formats\n",
    "#set_matplotlib_formats('svg', 'pdf') # For export\n",
    "import matplotlib\n",
    "matplotlib.rcParams['lines.linewidth'] = 0 #2.0\n",
    "#import seaborn as sns\n",
    "#sns.set()\n",
    "\n",
    "## tqdm for loading bars\n",
    "from tqdm.notebook import tqdm\n",
    "\n",
    "## PyTorch\n",
    "import torch\n",
    "import torch.nn as nn\n",
    "import torch.nn.functional as F\n",
    "import torch.utils.data as data\n",
    "import torch.optim as optim\n",
    "\n",
    "## Torchvision\n",
    "import torchvision\n",
    "from torchvision import transforms\n",
    "import numpy as np\n",
    "from PIL import Image\n",
    "\n",
    "# PyTorch Lightning\n",
    "import pytorch_lightning as pl\n",
    "#try:\n",
    "#    import pytorch_lightning as pl\n",
    "#except ModuleNotFoundError: # Google Colab does not have PyTorch Lightning installed by default. Hence, we do it here if necessary\n",
    "#    !pip install --quiet pytorch-lightning>=1.4\n",
    "#    import pytorch_lightning as pl\n",
    "from pytorch_lightning.callbacks import LearningRateMonitor, ModelCheckpoint\n",
    "\n",
    "# Import tensorboard\n",
    "%load_ext tensorboard\n",
    "\n",
    "# Path to the folder where the datasets are/should be downloaded (e.g. CIFAR10)\n",
    "#DATASET_PATH = \"../data\"\n",
    "# Path to the folder where the pretrained models are saved\n",
    "#CHECKPOINT_PATH = '/home/azamat.kaibaldiyev/Tasmania_ohara_labels/checkpoints_images/'\n",
    "CHECKPOINT_PATH = '/home/azamat.kaibaldiyev/Tasmania_ohara_labels/checkpoints_Ohara_images_and_bathym_doublenet/'\n",
    "\n",
    "# In this notebook, we use data loaders with heavier computational processing. It is recommended to use as many\n",
    "# workers as possible in a data loader, which corresponds to the number of CPU cores\n",
    "NUM_WORKERS = os.cpu_count()\n",
    "\n",
    "# Setting the seed\n",
    "pl.seed_everything(42)\n",
    "\n",
    "# Ensure that all operations are deterministic on GPU (if used) for reproducibility\n",
    "torch.backends.cudnn.deterministic = True\n",
    "torch.backends.cudnn.benchmark = False\n",
    "\n",
    "device = torch.device(\"cuda:0\") if torch.cuda.is_available() else torch.device(\"cpu\")\n",
    "print(\"Device:\", device)\n",
    "print(\"Number of workers:\", NUM_WORKERS)"
   ]
  },
  {
   "cell_type": "code",
   "execution_count": 2,
   "id": "7f7a7ab6",
   "metadata": {},
   "outputs": [
    {
     "name": "stdout",
     "output_type": "stream",
     "text": [
      "36663\n",
      "100652\n",
      "57210\n",
      "20547\n",
      "57210\n",
      "4238\n",
      "52972\n",
      "52972\n",
      "52972\n",
      "Bathym and images len:  52972\n"
     ]
    }
   ],
   "source": [
    "\n",
    "#all images: from professor\n",
    "import glob\n",
    "imgs = sorted(glob.glob('Tasmania_ohara_labels/Ohara_images_from_prof/*/*'))\n",
    "print(len(imgs))\n",
    "\n",
    "# In[3]:\n",
    "\n",
    "\n",
    "bathym =  sorted(glob.glob('Tasmania_ohara_labels/cropped_dems_32/*'))\n",
    "print(len(bathym))\n",
    "\n",
    "\n",
    "bathym_imgs =  sorted(glob.glob('Tasmania_ohara_labels/cropped_dems_32_imgs_100/*'))\n",
    "print(len(bathym_imgs))\n",
    "\n",
    "\n",
    "########################################################################################################################\n",
    "\n",
    "imgs_new = sorted(glob.glob('Tasmania_ohara_labels/Ohara_images_from_prof_2/*/*'))\n",
    "print(len(imgs_new))\n",
    "\n",
    "imgs = imgs+imgs_new\n",
    "print(len(imgs))\n",
    "\n",
    "\n",
    "# Python program to store list to JSON file\n",
    "import json\n",
    "\n",
    "# def write_list(a_list):\n",
    "#     print(\"Started writing list data into a json file\")\n",
    "#     with open(\"files_remove_indices/Remove_paths_with_nan_dem16.json\", \"w\") as fp:\n",
    "#         json.dump(a_list, fp)\n",
    "#         print(\"Done writing JSON data into .json file\")\n",
    "#write_list(remove_bath_paths)\n",
    "\n",
    "# Read list to memory\n",
    "def read_list():\n",
    "    # for reading also binary mode is important\n",
    "    with open('files_remove_indices/Remove_paths_with_nan_dem32.json', 'rb') as fp:\n",
    "        n_list = json.load(fp)\n",
    "        return n_list\n",
    "\n",
    "# assume you have the following list\n",
    "remove_bath_paths = read_list()\n",
    "print(len(remove_bath_paths))\n",
    "\n",
    "\n",
    "bathym_imgs_stay = [ele for ele in bathym_imgs if ele not in remove_bath_paths]\n",
    "print(len(bathym_imgs_stay))\n",
    "stay_idxs_imgs = [i for i,ele in enumerate(bathym_imgs) if ele not in remove_bath_paths]\n",
    "print(len(stay_idxs_imgs ))\n",
    "imgs_to_stay= [ele for i, ele in enumerate(imgs) if i in stay_idxs_imgs]\n",
    "print(len(imgs_to_stay))\n",
    "\n",
    "bathym_and_imgs_path = list(zip(bathym_imgs_stay,imgs_to_stay[:len(bathym_imgs_stay)]))\n",
    "\n",
    "print('Bathym and images len: ', len(bathym_and_imgs_path))\n",
    "\n",
    "########################################################################################################################\n",
    "\n",
    "\n"
   ]
  },
  {
   "cell_type": "code",
   "execution_count": 3,
   "id": "58eb83a6",
   "metadata": {},
   "outputs": [
    {
     "name": "stdout",
     "output_type": "stream",
     "text": [
      "             JOBID PARTITION     NAME     USER ST       TIME  NODES NODELIST(REASON)\r\n",
      "           1379898    mundus Ohara_co azamat.k  R 4-06:21:40      1 mundus-mir-3\r\n",
      "           1379899    mundus Ohara_co azamat.k  R 4-06:21:19      1 mundus-mir-1\r\n",
      "           1382007    mundus     bash azamat.k  R       1:16      1 mundus-mir-1\r\n"
     ]
    }
   ],
   "source": [
    "!squeue --me"
   ]
  },
  {
   "cell_type": "code",
   "execution_count": 51,
   "id": "7d9d1590",
   "metadata": {},
   "outputs": [
    {
     "name": "stdout",
     "output_type": "stream",
     "text": [
      "52972\n",
      "Fold 0:\n",
      "  Train: index=[17863 10083 40819 ... 42613 43567  2732]\n",
      "  Test:  index=[32244 50779 14547 ...   882 28679 18848]\n",
      "47674\n",
      "5298\n"
     ]
    }
   ],
   "source": [
    "from PIL import Image\n",
    "from torch.utils.data import Dataset, DataLoader\n",
    "import glob\n",
    "import rasterio\n",
    "\n",
    "dem_size = 32\n",
    "img_size = 100\n",
    "\n",
    "class SwedishDataset(Dataset):\n",
    "    def __init__(self,  transform_dem  = None, transform_img = None, dataset_path = None, labels = False):\n",
    "        self.imgs_path = dataset_path\n",
    "        \n",
    "        if labels:\n",
    "            self.file_list_dem = df_merged_images['Left image name']\n",
    "\n",
    "        self.transform_img = transform_img\n",
    "        self.transform_dem = transform_dem\n",
    "        self.labels = labels\n",
    "        \n",
    "    def __len__(self):\n",
    "        return len(self.imgs_path)\n",
    "\n",
    "          \n",
    "    def __getitem__(self, idx):\n",
    "        img_path_dem = self.imgs_path[idx]\n",
    "        \n",
    "        dem_raster = Image.open(img_path_dem[0])\n",
    "        #img_raster = torch.from_numpy(np.array(Image.open(img_path_dem[1])))\n",
    "        img_raster = Image.open(img_path_dem[1])\n",
    "        dem_raster = self.transform_dem(dem_raster)\n",
    "        img_raster = self.transform_img(img_raster)\n",
    "        \n",
    "#         if len(img_path_dem)==2:\n",
    "#             dem_raster = Image.open(img_path_dem[0])\n",
    "#             img_raster = np.array(Image.open(img_path_dem[1]))[:,:,0]\n",
    "#             dem_raster = dem_transforms(dem_raster)\n",
    "#             img_raster = img_transforms(img_raster)\n",
    "#             img_raster_dem = [dem_raster, img_raster]\n",
    "#         else:\n",
    "#             img_raster_dem = Image.open(img_path_dem)\n",
    "#             img_raster_dem = self.transform(img_raster_dem)\n",
    "        \n",
    "#         if self.labels:\n",
    "#             label = int(df_merged_images['cluster_id'][idx])\n",
    "#         else:\n",
    "#             label = 'no_label'\n",
    "        \n",
    "        return [dem_raster,img_raster]\n",
    "    \n",
    "\n",
    "def normalize_input_for_dem(test_iter):\n",
    "    #test_iter = torch.from_numpy(test_iter)\n",
    "    input_images = test_iter.float()\n",
    "    maxv = 104\n",
    "    minv = 5\n",
    "#     batch_size = input_images.shape[0]\n",
    "#     cmin = torch.amin(input_images,(1,2)).reshape((batch_size,1,1))\n",
    "#     cmax = torch.amax(input_images,(1,2)).reshape((batch_size,1,1))\n",
    "    return (input_images-minv)/(maxv-minv) #(input_images-cmin)/(cmax-cmin)\n",
    "\n",
    "class Normalize_range01:\n",
    "    #bring to range 0 to 1\n",
    "\n",
    "    def __init__(self, p=1):\n",
    "        self.p = 1\n",
    "\n",
    "    def __call__(self, x):\n",
    "        result = normalize_input_for_dem(x)\n",
    "        return result\n",
    "\n",
    "    def __repr__(self):\n",
    "        return \"custom augmentation\"\n",
    "\n",
    "    \n",
    "class ContrastiveTransformations(object):\n",
    "\n",
    "    def __init__(self, base_transforms, n_views=2):\n",
    "        self.base_transforms = base_transforms\n",
    "        self.n_views = n_views\n",
    "\n",
    "    def __call__(self, x):\n",
    "        return [self.base_transforms(x) for i in range(self.n_views)]\n",
    "    \n",
    "    \n",
    "\n",
    "\n",
    "contrast_transforms_dem = transforms.Compose([transforms.ToTensor(),\n",
    "                                          Normalize_range01(),\n",
    "                                          transforms.Resize(size = dem_size),\n",
    "                                          #Normalize_range01(),\n",
    "                                          #transforms.ToPILImage(), \n",
    "                                          #transforms.RandomHorizontalFlip(),\n",
    "                                          transforms.RandomResizedCrop(size=dem_size),\n",
    "                                          #transforms.RandomApply([transforms.ColorJitter(brightness=0.5, contrast=0.5, saturation=0.5, hue=0.1)], p=0.8),\n",
    "                                          #transforms.RandomGrayscale(p=0.2),\n",
    "                                          #transforms.GaussianBlur(kernel_size=9),\n",
    "                                          #transforms.ToTensor(),\n",
    "                                          #transforms.Normalize((0.5,), (0.5,))                                         \n",
    "                                         ])\n",
    "\n",
    "contrast_transforms_img = transforms.Compose([transforms.ToTensor(),\n",
    "#                                           Normalize_range01(),\n",
    "                                          transforms.Resize(size = img_size),\n",
    "                                          #Normalize_range01(),\n",
    "                                          #transforms.ToPILImage(), \n",
    "                                          #transforms.RandomHorizontalFlip(),\n",
    "                                          transforms.RandomResizedCrop(size=img_size),\n",
    "                                          #transforms.RandomApply([transforms.ColorJitter(brightness=0.5, contrast=0.5, saturation=0.5, hue=0.1)], p=0.8),\n",
    "                                          #transforms.RandomGrayscale(p=0.2),\n",
    "                                          #transforms.GaussianBlur(kernel_size=9),\n",
    "                                          #transforms.ToTensor(),\n",
    "                                          #transforms.Normalize((0.5,), (0.5,))                                         \n",
    "                                         ])\n",
    "\n",
    "# dem_transforms = transforms.Compose([transforms.ToTensor(),\n",
    "#                                     Normalize_range01(),\n",
    "#                                     transforms.Resize(size = dem_size),\n",
    "#                                     transforms.RandomResizedCrop(size=dem_size),\n",
    "#                                     #transforms.Normalize((0.5,), (0.5,))\n",
    "#                                     ])\n",
    "\n",
    "# img_transforms = transforms.Compose([transforms.ToTensor(),\n",
    "#                                      transforms.Resize(size = 100),\n",
    "#                                      transforms.RandomResizedCrop(size=dem_size),\n",
    "#                                      #transforms.Normalize((0.5,), (0.5,))\n",
    "#                                      ])\n",
    "\n",
    "from torch.utils.data import random_split\n",
    "import math\n",
    "dataset_path = bathym_and_imgs_path\n",
    "dataset = SwedishDataset(transform_dem = ContrastiveTransformations(contrast_transforms_dem, n_views = 2),\n",
    "                         transform_img = ContrastiveTransformations(contrast_transforms_img, n_views = 2),\n",
    "                         dataset_path = dataset_path)\n",
    "\n",
    "print(len(dataset))\n",
    "dataset_len =len(dataset)\n",
    "\n",
    "from sklearn.model_selection import ShuffleSplit\n",
    "rs = ShuffleSplit(n_splits=1, test_size=.1, random_state=0)\n",
    "for i, (train_index, test_index) in enumerate(rs.split(dataset)):\n",
    "    print(f\"Fold {i}:\")\n",
    "    print(f\"  Train: index={train_index}\")\n",
    "    print(f\"  Test:  index={test_index}\")\n",
    "\n",
    "train_set_indexes = train_index\n",
    "test_set_indexes = test_index\n",
    "\n",
    "# train_set_indexes = np.arange(200)\n",
    "# test_set_indexes = np.arange(200)\n",
    "\n",
    "train_dataset = torch.utils.data.Subset(dataset, train_set_indexes)\n",
    "test_dataset = torch.utils.data.Subset(dataset, test_set_indexes)\n",
    "\n",
    "print(len(train_dataset))\n",
    "print(len(test_dataset))"
   ]
  },
  {
   "cell_type": "code",
   "execution_count": 204,
   "id": "ff93ef8e",
   "metadata": {},
   "outputs": [
    {
     "name": "stderr",
     "output_type": "stream",
     "text": [
      "/home/azamat.kaibaldiyev/miniconda3/envs/contrastive_env/lib/python3.10/site-packages/torchvision/transforms/functional.py:1603: UserWarning: The default value of the antialias parameter of all the resizing transforms (Resize(), RandomResizedCrop(), etc.) will change from None to True in v0.17, in order to be consistent across the PIL and Tensor backends. To suppress this warning, directly pass antialias=True (recommended, future default), antialias=None (current default, which means False for Tensors and True for PIL), or antialias=False (only works on Tensors - PIL will still use antialiasing). This also applies if you are using the inference transforms from the models weights: update the call to weights.transforms(antialias=True).\n",
      "  warnings.warn(\n"
     ]
    },
    {
     "data": {
      "text/plain": [
       "[tensor([[[0.3330, 0.3335, 0.3337,  ..., 0.3412, 0.3418, 0.3416],\n",
       "          [0.3325, 0.3326, 0.3330,  ..., 0.3409, 0.3413, 0.3414],\n",
       "          [0.3316, 0.3318, 0.3323,  ..., 0.3406, 0.3414, 0.3413],\n",
       "          ...,\n",
       "          [0.3269, 0.3276, 0.3279,  ..., 0.3283, 0.3277, 0.3238],\n",
       "          [0.3271, 0.3278, 0.3282,  ..., 0.3299, 0.3282, 0.3241],\n",
       "          [0.3269, 0.3274, 0.3276,  ..., 0.3243, 0.3254, 0.3228]]]),\n",
       " tensor([[[0.3320, 0.3326, 0.3328,  ..., 0.3407, 0.3412, 0.3416],\n",
       "          [0.3315, 0.3324, 0.3326,  ..., 0.3407, 0.3412, 0.3414],\n",
       "          [0.3314, 0.3321, 0.3325,  ..., 0.3407, 0.3411, 0.3414],\n",
       "          ...,\n",
       "          [0.3290, 0.3295, 0.3301,  ..., 0.3343, 0.3357, 0.3354],\n",
       "          [0.3289, 0.3293, 0.3297,  ..., 0.3339, 0.3347, 0.3346],\n",
       "          [0.3290, 0.3293, 0.3295,  ..., 0.3344, 0.3336, 0.3336]]])]"
      ]
     },
     "execution_count": 204,
     "metadata": {},
     "output_type": "execute_result"
    }
   ],
   "source": [
    "dataset[0][0]"
   ]
  },
  {
   "cell_type": "code",
   "execution_count": 205,
   "id": "775a3004",
   "metadata": {},
   "outputs": [
    {
     "data": {
      "text/plain": [
       "torch.Size([3, 100, 100])"
      ]
     },
     "execution_count": 205,
     "metadata": {},
     "output_type": "execute_result"
    }
   ],
   "source": [
    "dataset[0][1][1].shape"
   ]
  },
  {
   "cell_type": "code",
   "execution_count": 4,
   "id": "1d735e20",
   "metadata": {},
   "outputs": [
    {
     "name": "stderr",
     "output_type": "stream",
     "text": [
      "/home/azamat.kaibaldiyev/miniconda3/envs/contrastive_env/lib/python3.10/site-packages/torchvision/transforms/functional.py:1603: UserWarning: The default value of the antialias parameter of all the resizing transforms (Resize(), RandomResizedCrop(), etc.) will change from None to True in v0.17, in order to be consistent across the PIL and Tensor backends. To suppress this warning, directly pass antialias=True (recommended, future default), antialias=None (current default, which means False for Tensors and True for PIL), or antialias=False (only works on Tensors - PIL will still use antialiasing). This also applies if you are using the inference transforms from the models weights: update the call to weights.transforms(antialias=True).\n",
      "  warnings.warn(\n"
     ]
    },
    {
     "data": {
      "image/png": "[encoded data removed]",
      "text/plain": [
       "<Figure size 640x480 with 4 Axes>"
      ]
     },
     "metadata": {},
     "output_type": "display_data"
    }
   ],
   "source": [
    "idx = 22000\n",
    "#plot 1:\n",
    "plt.subplot(2, 2, 1)\n",
    "plt.imshow(dataset[idx][0][0][0])\n",
    "\n",
    "#plot 2:\n",
    "plt.subplot(2, 2, 2)\n",
    "plt.imshow(dataset[idx][0][1][0])\n",
    "#######################################################\n",
    "#plot 1:\n",
    "plt.subplot(2, 2, 3)\n",
    "plt.imshow(dataset[idx][1][0].permute(1, 2, 0))\n",
    "\n",
    "#plot 2:\n",
    "plt.subplot(2, 2, 4)\n",
    "plt.imshow(dataset[idx][1][1].permute(1, 2, 0))\n",
    "\n",
    "plt.show()\n"
   ]
  },
  {
   "cell_type": "markdown",
   "id": "9b63d012",
   "metadata": {},
   "source": [
    "# Model"
   ]
  },
  {
   "cell_type": "raw",
   "id": "7e1d3859",
   "metadata": {},
   "source": [
    "!wandb login --relogin \"40706c6c21e200af3bdb3840883f22e665e74441\""
   ]
  },
  {
   "cell_type": "code",
   "execution_count": 5,
   "id": "f960c12c",
   "metadata": {},
   "outputs": [
    {
     "name": "stderr",
     "output_type": "stream",
     "text": [
      "Failed to detect the name of this notebook, you can set it manually with the WANDB_NOTEBOOK_NAME environment variable to enable code saving.\n",
      "\u001b[34m\u001b[1mwandb\u001b[0m: Currently logged in as: \u001b[33mkaibaldiyev\u001b[0m (\u001b[33mself-sup-segm\u001b[0m). Use \u001b[1m`wandb login --relogin`\u001b[0m to force relogin\n"
     ]
    },
    {
     "data": {
      "text/html": [
       "wandb version 0.15.3 is available!  To upgrade, please run:\n",
       " $ pip install wandb --upgrade"
      ],
      "text/plain": [
       "<IPython.core.display.HTML object>"
      ]
     },
     "metadata": {},
     "output_type": "display_data"
    },
    {
     "data": {
      "text/html": [
       "Tracking run with wandb version 0.14.2"
      ],
      "text/plain": [
       "<IPython.core.display.HTML object>"
      ]
     },
     "metadata": {},
     "output_type": "display_data"
    },
    {
     "data": {
      "text/html": [
       "Run data is saved locally in <code>/baie/nfs-cluster-1/data2/home/azamat.kaibaldiyev/wandb/run-20230528_025138-z3w7y843</code>"
      ],
      "text/plain": [
       "<IPython.core.display.HTML object>"
      ]
     },
     "metadata": {},
     "output_type": "display_data"
    },
    {
     "data": {
      "text/html": [
       "Syncing run <strong><a href='https://wandb.ai/self-sup-segm/Contrastive_SimCLR_Ohara_doublenet/runs/z3w7y843' target=\"_blank\">ruby-voice-1</a></strong> to <a href='https://wandb.ai/self-sup-segm/Contrastive_SimCLR_Ohara_doublenet' target=\"_blank\">Weights & Biases</a> (<a href='https://wandb.me/run' target=\"_blank\">docs</a>)<br/>"
      ],
      "text/plain": [
       "<IPython.core.display.HTML object>"
      ]
     },
     "metadata": {},
     "output_type": "display_data"
    },
    {
     "data": {
      "text/html": [
       " View project at <a href='https://wandb.ai/self-sup-segm/Contrastive_SimCLR_Ohara_doublenet' target=\"_blank\">https://wandb.ai/self-sup-segm/Contrastive_SimCLR_Ohara_doublenet</a>"
      ],
      "text/plain": [
       "<IPython.core.display.HTML object>"
      ]
     },
     "metadata": {},
     "output_type": "display_data"
    },
    {
     "data": {
      "text/html": [
       " View run at <a href='https://wandb.ai/self-sup-segm/Contrastive_SimCLR_Ohara_doublenet/runs/z3w7y843' target=\"_blank\">https://wandb.ai/self-sup-segm/Contrastive_SimCLR_Ohara_doublenet/runs/z3w7y843</a>"
      ],
      "text/plain": [
       "<IPython.core.display.HTML object>"
      ]
     },
     "metadata": {},
     "output_type": "display_data"
    },
    {
     "data": {
      "text/html": [
       "<button onClick=\"this.nextSibling.style.display='block';this.style.display='none';\">Display W&B run</button><iframe src='https://wandb.ai/self-sup-segm/Contrastive_SimCLR_Ohara_doublenet/runs/z3w7y843?jupyter=true' style='border:none;width:100%;height:420px;display:none;'></iframe>"
      ],
      "text/plain": [
       "<wandb.sdk.wandb_run.Run at 0x7fa8582bcee0>"
      ]
     },
     "execution_count": 5,
     "metadata": {},
     "output_type": "execute_result"
    }
   ],
   "source": [
    "import wandb\n",
    "import random\n",
    "from sklearn.metrics import classification_report\n",
    "\n",
    "epochs = 300\n",
    "lr = 1e-5\n",
    "#wandb.init(settings=wandb.Settings(start_method=\"fork\"))\n",
    "# start a new wandb run to track this script\n",
    "wandb.init(\n",
    "    # set the wandb project where this run will be logged\n",
    "    project=\"Contrastive_SimCLR_Ohara_doublenet\",\n",
    "    \n",
    "    # track hyperparameters and run metadata\n",
    "    config={\n",
    "    \"learning_rate\": lr,\n",
    "    \"architecture\": \"SimCLR\",\n",
    "    \"dataset\": \"Ohara_dataset_dems_and_images_56000\",\n",
    "    \"epochs\": epochs,\n",
    "    }\n",
    ")"
   ]
  },
  {
   "cell_type": "code",
   "execution_count": 47,
   "id": "4a3781b2",
   "metadata": {},
   "outputs": [],
   "source": [
    "class SimCLR(pl.LightningModule):\n",
    "\n",
    "    def __init__(self, hidden_dim, lr, temperature, weight_decay, max_epochs=500):\n",
    "        super().__init__()\n",
    "        self.save_hyperparameters()\n",
    "        assert self.hparams.temperature > 0.0, 'The temperature must be a positive float!'\n",
    "        \n",
    "        \n",
    "        # Base model1 f(.)\n",
    "        self.convnet_dem = torchvision.models.resnet18(num_classes=4*hidden_dim)  # Output of last linear layer\n",
    "        #model = torchvision.models.resnet18()\n",
    "        num_input_channel_dem = 1\n",
    "        self.convnet_dem.conv1 = nn.Conv2d(num_input_channel_dem, 64, kernel_size=7, stride=2, padding=3,bias=False)\n",
    "        # The MLP for g(.) consists of Linear->ReLU->Linear\n",
    "        self.convnet_dem.fc = nn.Sequential(\n",
    "            self.convnet_dem.fc,  # Linear(ResNet output, 4*hidden_dim)\n",
    "            nn.ReLU(inplace=True),\n",
    "            nn.Linear(4*hidden_dim, hidden_dim)\n",
    "        )\n",
    "        \n",
    "        # Base model2 f(.)\n",
    "        self.convnet_img = torchvision.models.resnet18(num_classes=4*hidden_dim)  # Output of last linear layer\n",
    "        #model = torchvision.models.resnet18()\n",
    "        num_input_channel_img = 3\n",
    "        self.convnet_img.conv1 = nn.Conv2d(num_input_channel_img, 64, kernel_size=7, stride=2, padding=3,bias=False)\n",
    "        # The MLP for g(.) consists of Linear->ReLU->Linear\n",
    "        self.convnet_img.fc = nn.Sequential(\n",
    "            self.convnet_img.fc,  # Linear(ResNet output, 4*hidden_dim)\n",
    "            nn.ReLU(inplace=True),\n",
    "            nn.Linear(4*hidden_dim, hidden_dim)\n",
    "        )\n",
    "        \n",
    "        \n",
    "\n",
    "    def configure_optimizers(self):\n",
    "        optimizer_dem = optim.AdamW(self.convnet_dem.parameters(),\n",
    "                                lr=self.hparams.lr,\n",
    "                                weight_decay=self.hparams.weight_decay)\n",
    "        \n",
    "        optimizer_img = optim.AdamW(self.convnet_dem.parameters(),\n",
    "                                lr=self.hparams.lr,\n",
    "                                weight_decay=self.hparams.weight_decay)\n",
    "        \n",
    "        lr_scheduler_dem = optim.lr_scheduler.CosineAnnealingLR(optimizer_dem,\n",
    "                                                            T_max=self.hparams.max_epochs,\n",
    "                                                            eta_min=self.hparams.lr/50)\n",
    "        lr_scheduler_img = optim.lr_scheduler.CosineAnnealingLR(optimizer_img,\n",
    "                                                            T_max=self.hparams.max_epochs,\n",
    "                                                            eta_min=self.hparams.lr/50)\n",
    "        \n",
    "        return [optimizer_dem, optimizer_img], [lr_scheduler_dem,lr_scheduler_img]\n",
    "\n",
    "    def info_nce_loss(self, model, model_type, batch, mode='train'):\n",
    "        imgs= batch\n",
    "        imgs = torch.cat(imgs, dim=0)\n",
    "\n",
    "        # Encode all images\n",
    "        feats = model(imgs)\n",
    "        # Calculate cosine similarity\n",
    "        cos_sim = F.cosine_similarity(feats[:,None,:], feats[None,:,:], dim=-1)\n",
    "        # Mask out cosine similarity to itself\n",
    "        self_mask = torch.eye(cos_sim.shape[0], dtype=torch.bool, device=cos_sim.device)\n",
    "        cos_sim.masked_fill_(self_mask, -9e15)\n",
    "        # Find positive example -> batch_size//2 away from the original example\n",
    "        pos_mask = self_mask.roll(shifts=cos_sim.shape[0]//2, dims=0)\n",
    "        # InfoNCE loss\n",
    "        cos_sim = cos_sim / self.hparams.temperature\n",
    "        nll = -cos_sim[pos_mask] + torch.logsumexp(cos_sim, dim=-1)\n",
    "        nll = nll.mean()\n",
    "\n",
    "        # Logging loss\n",
    "        self.log(model_type+mode+'_loss', nll)\n",
    "        wandb.log({model_type+'SimCLR_'+mode+'_loss':nll})\n",
    "        # Get ranking position of positive example\n",
    "        comb_sim = torch.cat([cos_sim[pos_mask][:,None],  # First position positive example\n",
    "                              cos_sim.masked_fill(pos_mask, -9e15)],\n",
    "                             dim=-1)\n",
    "        sim_argsort = comb_sim.argsort(dim=-1, descending=True).argmin(dim=-1)\n",
    "        # Logging ranking metrics\n",
    "        wandb.log({model_type+'SimCLR_'+mode+'_acc_top1':(sim_argsort == 0).float().mean()})\n",
    "        wandb.log({model_type+'SimCLR_'+mode+'_acc_top5':(sim_argsort < 5).float().mean()})\n",
    "        wandb.log({model_type+'SimCLR_'+mode+'_acc_mean_pos': 1+sim_argsort.float().mean()})\n",
    "        \n",
    "        self.log(model_type+mode+'_acc_top1', (sim_argsort == 0).float().mean())\n",
    "        self.log(model_type+mode+'_acc_top5', (sim_argsort < 5).float().mean())\n",
    "        self.log(model_type+mode+'_acc_mean_pos', 1+sim_argsort.float().mean())\n",
    "\n",
    "        return nll\n",
    "\n",
    "    def training_step(self, batch, batch_idx, optimizer_idx):\n",
    "\n",
    "        if optimizer_idx == 0:\n",
    "            dems, imgs = batch\n",
    "            loss_dem = self.info_nce_loss(self.convnet_dem,'dem_', dems, mode='train')\n",
    "            loss_img = self.info_nce_loss(self.convnet_img,'img_', imgs, mode='train')\n",
    "            total_loss = loss_dem+loss_img\n",
    "            return total_loss\n",
    "        \n",
    "        elif optimizer_idx == 1:\n",
    "            dems, imgs = batch\n",
    "            loss_dem = self.info_nce_loss(self.convnet_dem,'dem_', dems, mode='train')\n",
    "            loss_img = self.info_nce_loss(self.convnet_img,'img_', imgs, mode='train')\n",
    "            total_loss = loss_dem+loss_img\n",
    "            return total_loss\n",
    "\n",
    "    def validation_step(self, batch, batch_idx):\n",
    "        dems, imgs = batch\n",
    "        self.info_nce_loss(self.convnet_dem,'dem_', dems, mode='val')\n",
    "        self.info_nce_loss(self.convnet_img,'img_', imgs, mode='val')\n",
    "#         self.info_nce_loss(batch, mode='val')\n",
    "        \n",
    "    def forward(self, x):\n",
    "        if x[0].shape[0]==1:\n",
    "            return self.convnet_dem(x)\n",
    "        else:\n",
    "            return self.convnet_img(x)\n",
    "        \n",
    "    "
   ]
  },
  {
   "cell_type": "code",
   "execution_count": 10,
   "id": "3bc27b1a",
   "metadata": {},
   "outputs": [],
   "source": [
    "def train_simclr(batch_size, max_epochs=500, **kwargs):\n",
    "    trainer = pl.Trainer(log_every_n_steps=10, default_root_dir=os.path.join(CHECKPOINT_PATH, 'SimCLR'),\n",
    "                         accelerator=\"gpu\" if str(device).startswith(\"cuda\") else \"cpu\",\n",
    "                         devices=1,\n",
    "                         max_epochs=max_epochs,\n",
    "                         callbacks=[ModelCheckpoint(save_weights_only=True, mode='max', monitor='dem_val_acc_top5'),\n",
    "                                    LearningRateMonitor('epoch')])\n",
    "    trainer.logger._default_hp_metric = None # Optional logging argument that we don't need\n",
    "\n",
    "    # Check whether pretrained model exists. If yes, load it and skip training\n",
    "    pretrained_filename = os.path.join(CHECKPOINT_PATH, 'SimCLR.ckpt')\n",
    "    if os.path.isfile(pretrained_filename):\n",
    "        print(f'Found pretrained model at {pretrained_filename}, loading...')\n",
    "        model = SimCLR.load_from_checkpoint(pretrained_filename) # Automatically loads the model with the saved hyperparameters\n",
    "    else:\n",
    "        train_loader = data.DataLoader(train_dataset, batch_size=batch_size, shuffle=True,\n",
    "                                       drop_last=True, pin_memory=True, num_workers=2)\n",
    "        val_loader = data.DataLoader(test_dataset, batch_size=batch_size, shuffle=False,\n",
    "                                     drop_last=False, pin_memory=True, num_workers=2)\n",
    "        pl.seed_everything(42) # To be reproducable\n",
    "        model = SimCLR(max_epochs=max_epochs, **kwargs)\n",
    "        trainer.fit(model, train_loader, val_loader)\n",
    "        model = SimCLR.load_from_checkpoint(trainer.checkpoint_callback.best_model_path) # Load best checkpoint after training\n",
    "\n",
    "    return model"
   ]
  },
  {
   "cell_type": "code",
   "execution_count": 11,
   "id": "87ec1e20",
   "metadata": {},
   "outputs": [
    {
     "name": "stderr",
     "output_type": "stream",
     "text": [
      "GPU available: True (cuda), used: True\n",
      "TPU available: False, using: 0 TPU cores\n",
      "IPU available: False, using: 0 IPUs\n",
      "HPU available: False, using: 0 HPUs\n",
      "[rank: 0] Global seed set to 42\n",
      "You are using a CUDA device ('NVIDIA A100-PCIE-40GB MIG 2g.10gb') that has Tensor Cores. To properly utilize them, you should set `torch.set_float32_matmul_precision('medium' | 'high')` which will trade-off precision for performance. For more details, read https://pytorch.org/docs/stable/generated/torch.set_float32_matmul_precision.html#torch.set_float32_matmul_precision\n",
      "LOCAL_RANK: 0 - CUDA_VISIBLE_DEVICES: [0]\n",
      "\n",
      "  | Name        | Type   | Params\n",
      "---------------------------------------\n",
      "0 | convnet_dem | ResNet | 11.5 M\n",
      "1 | convnet_img | ResNet | 11.5 M\n",
      "---------------------------------------\n",
      "23.0 M    Trainable params\n",
      "0         Non-trainable params\n",
      "23.0 M    Total params\n",
      "92.014    Total estimated model params size (MB)\n"
     ]
    },
    {
     "data": {
      "application/vnd.jupyter.widget-view+json": {
       "model_id": "",
       "version_major": 2,
       "version_minor": 0
      },
      "text/plain": [
       "Sanity Checking: 0it [00:00, ?it/s]"
      ]
     },
     "metadata": {},
     "output_type": "display_data"
    },
    {
     "name": "stderr",
     "output_type": "stream",
     "text": [
      "/home/azamat.kaibaldiyev/miniconda3/envs/contrastive_env/lib/python3.10/site-packages/torchvision/transforms/functional.py:1603: UserWarning: The default value of the antialias parameter of all the resizing transforms (Resize(), RandomResizedCrop(), etc.) will change from None to True in v0.17, in order to be consistent across the PIL and Tensor backends. To suppress this warning, directly pass antialias=True (recommended, future default), antialias=None (current default, which means False for Tensors and True for PIL), or antialias=False (only works on Tensors - PIL will still use antialiasing). This also applies if you are using the inference transforms from the models weights: update the call to weights.transforms(antialias=True).\n",
      "  warnings.warn(\n",
      "/home/azamat.kaibaldiyev/miniconda3/envs/contrastive_env/lib/python3.10/site-packages/torchvision/transforms/functional.py:1603: UserWarning: The default value of the antialias parameter of all the resizing transforms (Resize(), RandomResizedCrop(), etc.) will change from None to True in v0.17, in order to be consistent across the PIL and Tensor backends. To suppress this warning, directly pass antialias=True (recommended, future default), antialias=None (current default, which means False for Tensors and True for PIL), or antialias=False (only works on Tensors - PIL will still use antialiasing). This also applies if you are using the inference transforms from the models weights: update the call to weights.transforms(antialias=True).\n",
      "  warnings.warn(\n"
     ]
    },
    {
     "data": {
      "application/vnd.jupyter.widget-view+json": {
       "model_id": "110ee1637d4d45b3909f8f492a2bc483",
       "version_major": 2,
       "version_minor": 0
      },
      "text/plain": [
       "Training: 0it [00:00, ?it/s]"
      ]
     },
     "metadata": {},
     "output_type": "display_data"
    },
    {
     "name": "stderr",
     "output_type": "stream",
     "text": [
      "/home/azamat.kaibaldiyev/miniconda3/envs/contrastive_env/lib/python3.10/site-packages/torchvision/transforms/functional.py:1603: UserWarning: The default value of the antialias parameter of all the resizing transforms (Resize(), RandomResizedCrop(), etc.) will change from None to True in v0.17, in order to be consistent across the PIL and Tensor backends. To suppress this warning, directly pass antialias=True (recommended, future default), antialias=None (current default, which means False for Tensors and True for PIL), or antialias=False (only works on Tensors - PIL will still use antialiasing). This also applies if you are using the inference transforms from the models weights: update the call to weights.transforms(antialias=True).\n",
      "  warnings.warn(\n",
      "/home/azamat.kaibaldiyev/miniconda3/envs/contrastive_env/lib/python3.10/site-packages/torchvision/transforms/functional.py:1603: UserWarning: The default value of the antialias parameter of all the resizing transforms (Resize(), RandomResizedCrop(), etc.) will change from None to True in v0.17, in order to be consistent across the PIL and Tensor backends. To suppress this warning, directly pass antialias=True (recommended, future default), antialias=None (current default, which means False for Tensors and True for PIL), or antialias=False (only works on Tensors - PIL will still use antialiasing). This also applies if you are using the inference transforms from the models weights: update the call to weights.transforms(antialias=True).\n",
      "  warnings.warn(\n"
     ]
    },
    {
     "data": {
      "application/vnd.jupyter.widget-view+json": {
       "model_id": "",
       "version_major": 2,
       "version_minor": 0
      },
      "text/plain": [
       "Validation: 0it [00:00, ?it/s]"
      ]
     },
     "metadata": {},
     "output_type": "display_data"
    },
    {
     "name": "stderr",
     "output_type": "stream",
     "text": [
      "/home/azamat.kaibaldiyev/miniconda3/envs/contrastive_env/lib/python3.10/site-packages/torchvision/transforms/functional.py:1603: UserWarning: The default value of the antialias parameter of all the resizing transforms (Resize(), RandomResizedCrop(), etc.) will change from None to True in v0.17, in order to be consistent across the PIL and Tensor backends. To suppress this warning, directly pass antialias=True (recommended, future default), antialias=None (current default, which means False for Tensors and True for PIL), or antialias=False (only works on Tensors - PIL will still use antialiasing). This also applies if you are using the inference transforms from the models weights: update the call to weights.transforms(antialias=True).\n",
      "  warnings.warn(\n",
      "/home/azamat.kaibaldiyev/miniconda3/envs/contrastive_env/lib/python3.10/site-packages/torchvision/transforms/functional.py:1603: UserWarning: The default value of the antialias parameter of all the resizing transforms (Resize(), RandomResizedCrop(), etc.) will change from None to True in v0.17, in order to be consistent across the PIL and Tensor backends. To suppress this warning, directly pass antialias=True (recommended, future default), antialias=None (current default, which means False for Tensors and True for PIL), or antialias=False (only works on Tensors - PIL will still use antialiasing). This also applies if you are using the inference transforms from the models weights: update the call to weights.transforms(antialias=True).\n",
      "  warnings.warn(\n",
      "`Trainer.fit` stopped: `max_epochs=1` reached.\n"
     ]
    }
   ],
   "source": [
    "simclr_model = train_simclr(batch_size=512,\n",
    "                            hidden_dim=128,\n",
    "                            lr=5e-4,\n",
    "                            temperature=0.07,\n",
    "                            weight_decay=1e-4,\n",
    "                            max_epochs=300)"
   ]
  },
  {
   "cell_type": "code",
   "execution_count": 16,
   "id": "ab05ae5a",
   "metadata": {},
   "outputs": [
    {
     "name": "stdout",
     "output_type": "stream",
     "text": [
      "'epoch=0-step=8.ckpt'\r\n"
     ]
    }
   ],
   "source": [
    "#DEM32\n",
    "!ls Tasmania_ohara_labels/checkpoints_Ohara_images_and_bathym_doublenet/SimCLR/lightning_logs/version_14/checkpoints \n",
    "#!stat Tasmania_ohara_labels/checkpoints_Ohara_images_and_bathym32_only_pairs/SimCLR/lightning_logs/version_1373056/checkpoints/epoch=16-step=3978.ckpt\n"
   ]
  },
  {
   "cell_type": "code",
   "execution_count": 48,
   "id": "8e79bdff",
   "metadata": {},
   "outputs": [
    {
     "data": {
      "text/plain": [
       "SimCLR(\n",
       "  (convnet_dem): ResNet(\n",
       "    (conv1): Conv2d(1, 64, kernel_size=(7, 7), stride=(2, 2), padding=(3, 3), bias=False)\n",
       "    (bn1): BatchNorm2d(64, eps=1e-05, momentum=0.1, affine=True, track_running_stats=True)\n",
       "    (relu): ReLU(inplace=True)\n",
       "    (maxpool): MaxPool2d(kernel_size=3, stride=2, padding=1, dilation=1, ceil_mode=False)\n",
       "    (layer1): Sequential(\n",
       "      (0): BasicBlock(\n",
       "        (conv1): Conv2d(64, 64, kernel_size=(3, 3), stride=(1, 1), padding=(1, 1), bias=False)\n",
       "        (bn1): BatchNorm2d(64, eps=1e-05, momentum=0.1, affine=True, track_running_stats=True)\n",
       "        (relu): ReLU(inplace=True)\n",
       "        (conv2): Conv2d(64, 64, kernel_size=(3, 3), stride=(1, 1), padding=(1, 1), bias=False)\n",
       "        (bn2): BatchNorm2d(64, eps=1e-05, momentum=0.1, affine=True, track_running_stats=True)\n",
       "      )\n",
       "      (1): BasicBlock(\n",
       "        (conv1): Conv2d(64, 64, kernel_size=(3, 3), stride=(1, 1), padding=(1, 1), bias=False)\n",
       "        (bn1): BatchNorm2d(64, eps=1e-05, momentum=0.1, affine=True, track_running_stats=True)\n",
       "        (relu): ReLU(inplace=True)\n",
       "        (conv2): Conv2d(64, 64, kernel_size=(3, 3), stride=(1, 1), padding=(1, 1), bias=False)\n",
       "        (bn2): BatchNorm2d(64, eps=1e-05, momentum=0.1, affine=True, track_running_stats=True)\n",
       "      )\n",
       "    )\n",
       "    (layer2): Sequential(\n",
       "      (0): BasicBlock(\n",
       "        (conv1): Conv2d(64, 128, kernel_size=(3, 3), stride=(2, 2), padding=(1, 1), bias=False)\n",
       "        (bn1): BatchNorm2d(128, eps=1e-05, momentum=0.1, affine=True, track_running_stats=True)\n",
       "        (relu): ReLU(inplace=True)\n",
       "        (conv2): Conv2d(128, 128, kernel_size=(3, 3), stride=(1, 1), padding=(1, 1), bias=False)\n",
       "        (bn2): BatchNorm2d(128, eps=1e-05, momentum=0.1, affine=True, track_running_stats=True)\n",
       "        (downsample): Sequential(\n",
       "          (0): Conv2d(64, 128, kernel_size=(1, 1), stride=(2, 2), bias=False)\n",
       "          (1): BatchNorm2d(128, eps=1e-05, momentum=0.1, affine=True, track_running_stats=True)\n",
       "        )\n",
       "      )\n",
       "      (1): BasicBlock(\n",
       "        (conv1): Conv2d(128, 128, kernel_size=(3, 3), stride=(1, 1), padding=(1, 1), bias=False)\n",
       "        (bn1): BatchNorm2d(128, eps=1e-05, momentum=0.1, affine=True, track_running_stats=True)\n",
       "        (relu): ReLU(inplace=True)\n",
       "        (conv2): Conv2d(128, 128, kernel_size=(3, 3), stride=(1, 1), padding=(1, 1), bias=False)\n",
       "        (bn2): BatchNorm2d(128, eps=1e-05, momentum=0.1, affine=True, track_running_stats=True)\n",
       "      )\n",
       "    )\n",
       "    (layer3): Sequential(\n",
       "      (0): BasicBlock(\n",
       "        (conv1): Conv2d(128, 256, kernel_size=(3, 3), stride=(2, 2), padding=(1, 1), bias=False)\n",
       "        (bn1): BatchNorm2d(256, eps=1e-05, momentum=0.1, affine=True, track_running_stats=True)\n",
       "        (relu): ReLU(inplace=True)\n",
       "        (conv2): Conv2d(256, 256, kernel_size=(3, 3), stride=(1, 1), padding=(1, 1), bias=False)\n",
       "        (bn2): BatchNorm2d(256, eps=1e-05, momentum=0.1, affine=True, track_running_stats=True)\n",
       "        (downsample): Sequential(\n",
       "          (0): Conv2d(128, 256, kernel_size=(1, 1), stride=(2, 2), bias=False)\n",
       "          (1): BatchNorm2d(256, eps=1e-05, momentum=0.1, affine=True, track_running_stats=True)\n",
       "        )\n",
       "      )\n",
       "      (1): BasicBlock(\n",
       "        (conv1): Conv2d(256, 256, kernel_size=(3, 3), stride=(1, 1), padding=(1, 1), bias=False)\n",
       "        (bn1): BatchNorm2d(256, eps=1e-05, momentum=0.1, affine=True, track_running_stats=True)\n",
       "        (relu): ReLU(inplace=True)\n",
       "        (conv2): Conv2d(256, 256, kernel_size=(3, 3), stride=(1, 1), padding=(1, 1), bias=False)\n",
       "        (bn2): BatchNorm2d(256, eps=1e-05, momentum=0.1, affine=True, track_running_stats=True)\n",
       "      )\n",
       "    )\n",
       "    (layer4): Sequential(\n",
       "      (0): BasicBlock(\n",
       "        (conv1): Conv2d(256, 512, kernel_size=(3, 3), stride=(2, 2), padding=(1, 1), bias=False)\n",
       "        (bn1): BatchNorm2d(512, eps=1e-05, momentum=0.1, affine=True, track_running_stats=True)\n",
       "        (relu): ReLU(inplace=True)\n",
       "        (conv2): Conv2d(512, 512, kernel_size=(3, 3), stride=(1, 1), padding=(1, 1), bias=False)\n",
       "        (bn2): BatchNorm2d(512, eps=1e-05, momentum=0.1, affine=True, track_running_stats=True)\n",
       "        (downsample): Sequential(\n",
       "          (0): Conv2d(256, 512, kernel_size=(1, 1), stride=(2, 2), bias=False)\n",
       "          (1): BatchNorm2d(512, eps=1e-05, momentum=0.1, affine=True, track_running_stats=True)\n",
       "        )\n",
       "      )\n",
       "      (1): BasicBlock(\n",
       "        (conv1): Conv2d(512, 512, kernel_size=(3, 3), stride=(1, 1), padding=(1, 1), bias=False)\n",
       "        (bn1): BatchNorm2d(512, eps=1e-05, momentum=0.1, affine=True, track_running_stats=True)\n",
       "        (relu): ReLU(inplace=True)\n",
       "        (conv2): Conv2d(512, 512, kernel_size=(3, 3), stride=(1, 1), padding=(1, 1), bias=False)\n",
       "        (bn2): BatchNorm2d(512, eps=1e-05, momentum=0.1, affine=True, track_running_stats=True)\n",
       "      )\n",
       "    )\n",
       "    (avgpool): AdaptiveAvgPool2d(output_size=(1, 1))\n",
       "    (fc): Sequential(\n",
       "      (0): Linear(in_features=512, out_features=512, bias=True)\n",
       "      (1): ReLU(inplace=True)\n",
       "      (2): Linear(in_features=512, out_features=128, bias=True)\n",
       "    )\n",
       "  )\n",
       "  (convnet_img): ResNet(\n",
       "    (conv1): Conv2d(3, 64, kernel_size=(7, 7), stride=(2, 2), padding=(3, 3), bias=False)\n",
       "    (bn1): BatchNorm2d(64, eps=1e-05, momentum=0.1, affine=True, track_running_stats=True)\n",
       "    (relu): ReLU(inplace=True)\n",
       "    (maxpool): MaxPool2d(kernel_size=3, stride=2, padding=1, dilation=1, ceil_mode=False)\n",
       "    (layer1): Sequential(\n",
       "      (0): BasicBlock(\n",
       "        (conv1): Conv2d(64, 64, kernel_size=(3, 3), stride=(1, 1), padding=(1, 1), bias=False)\n",
       "        (bn1): BatchNorm2d(64, eps=1e-05, momentum=0.1, affine=True, track_running_stats=True)\n",
       "        (relu): ReLU(inplace=True)\n",
       "        (conv2): Conv2d(64, 64, kernel_size=(3, 3), stride=(1, 1), padding=(1, 1), bias=False)\n",
       "        (bn2): BatchNorm2d(64, eps=1e-05, momentum=0.1, affine=True, track_running_stats=True)\n",
       "      )\n",
       "      (1): BasicBlock(\n",
       "        (conv1): Conv2d(64, 64, kernel_size=(3, 3), stride=(1, 1), padding=(1, 1), bias=False)\n",
       "        (bn1): BatchNorm2d(64, eps=1e-05, momentum=0.1, affine=True, track_running_stats=True)\n",
       "        (relu): ReLU(inplace=True)\n",
       "        (conv2): Conv2d(64, 64, kernel_size=(3, 3), stride=(1, 1), padding=(1, 1), bias=False)\n",
       "        (bn2): BatchNorm2d(64, eps=1e-05, momentum=0.1, affine=True, track_running_stats=True)\n",
       "      )\n",
       "    )\n",
       "    (layer2): Sequential(\n",
       "      (0): BasicBlock(\n",
       "        (conv1): Conv2d(64, 128, kernel_size=(3, 3), stride=(2, 2), padding=(1, 1), bias=False)\n",
       "        (bn1): BatchNorm2d(128, eps=1e-05, momentum=0.1, affine=True, track_running_stats=True)\n",
       "        (relu): ReLU(inplace=True)\n",
       "        (conv2): Conv2d(128, 128, kernel_size=(3, 3), stride=(1, 1), padding=(1, 1), bias=False)\n",
       "        (bn2): BatchNorm2d(128, eps=1e-05, momentum=0.1, affine=True, track_running_stats=True)\n",
       "        (downsample): Sequential(\n",
       "          (0): Conv2d(64, 128, kernel_size=(1, 1), stride=(2, 2), bias=False)\n",
       "          (1): BatchNorm2d(128, eps=1e-05, momentum=0.1, affine=True, track_running_stats=True)\n",
       "        )\n",
       "      )\n",
       "      (1): BasicBlock(\n",
       "        (conv1): Conv2d(128, 128, kernel_size=(3, 3), stride=(1, 1), padding=(1, 1), bias=False)\n",
       "        (bn1): BatchNorm2d(128, eps=1e-05, momentum=0.1, affine=True, track_running_stats=True)\n",
       "        (relu): ReLU(inplace=True)\n",
       "        (conv2): Conv2d(128, 128, kernel_size=(3, 3), stride=(1, 1), padding=(1, 1), bias=False)\n",
       "        (bn2): BatchNorm2d(128, eps=1e-05, momentum=0.1, affine=True, track_running_stats=True)\n",
       "      )\n",
       "    )\n",
       "    (layer3): Sequential(\n",
       "      (0): BasicBlock(\n",
       "        (conv1): Conv2d(128, 256, kernel_size=(3, 3), stride=(2, 2), padding=(1, 1), bias=False)\n",
       "        (bn1): BatchNorm2d(256, eps=1e-05, momentum=0.1, affine=True, track_running_stats=True)\n",
       "        (relu): ReLU(inplace=True)\n",
       "        (conv2): Conv2d(256, 256, kernel_size=(3, 3), stride=(1, 1), padding=(1, 1), bias=False)\n",
       "        (bn2): BatchNorm2d(256, eps=1e-05, momentum=0.1, affine=True, track_running_stats=True)\n",
       "        (downsample): Sequential(\n",
       "          (0): Conv2d(128, 256, kernel_size=(1, 1), stride=(2, 2), bias=False)\n",
       "          (1): BatchNorm2d(256, eps=1e-05, momentum=0.1, affine=True, track_running_stats=True)\n",
       "        )\n",
       "      )\n",
       "      (1): BasicBlock(\n",
       "        (conv1): Conv2d(256, 256, kernel_size=(3, 3), stride=(1, 1), padding=(1, 1), bias=False)\n",
       "        (bn1): BatchNorm2d(256, eps=1e-05, momentum=0.1, affine=True, track_running_stats=True)\n",
       "        (relu): ReLU(inplace=True)\n",
       "        (conv2): Conv2d(256, 256, kernel_size=(3, 3), stride=(1, 1), padding=(1, 1), bias=False)\n",
       "        (bn2): BatchNorm2d(256, eps=1e-05, momentum=0.1, affine=True, track_running_stats=True)\n",
       "      )\n",
       "    )\n",
       "    (layer4): Sequential(\n",
       "      (0): BasicBlock(\n",
       "        (conv1): Conv2d(256, 512, kernel_size=(3, 3), stride=(2, 2), padding=(1, 1), bias=False)\n",
       "        (bn1): BatchNorm2d(512, eps=1e-05, momentum=0.1, affine=True, track_running_stats=True)\n",
       "        (relu): ReLU(inplace=True)\n",
       "        (conv2): Conv2d(512, 512, kernel_size=(3, 3), stride=(1, 1), padding=(1, 1), bias=False)\n",
       "        (bn2): BatchNorm2d(512, eps=1e-05, momentum=0.1, affine=True, track_running_stats=True)\n",
       "        (downsample): Sequential(\n",
       "          (0): Conv2d(256, 512, kernel_size=(1, 1), stride=(2, 2), bias=False)\n",
       "          (1): BatchNorm2d(512, eps=1e-05, momentum=0.1, affine=True, track_running_stats=True)\n",
       "        )\n",
       "      )\n",
       "      (1): BasicBlock(\n",
       "        (conv1): Conv2d(512, 512, kernel_size=(3, 3), stride=(1, 1), padding=(1, 1), bias=False)\n",
       "        (bn1): BatchNorm2d(512, eps=1e-05, momentum=0.1, affine=True, track_running_stats=True)\n",
       "        (relu): ReLU(inplace=True)\n",
       "        (conv2): Conv2d(512, 512, kernel_size=(3, 3), stride=(1, 1), padding=(1, 1), bias=False)\n",
       "        (bn2): BatchNorm2d(512, eps=1e-05, momentum=0.1, affine=True, track_running_stats=True)\n",
       "      )\n",
       "    )\n",
       "    (avgpool): AdaptiveAvgPool2d(output_size=(1, 1))\n",
       "    (fc): Sequential(\n",
       "      (0): Linear(in_features=512, out_features=512, bias=True)\n",
       "      (1): ReLU(inplace=True)\n",
       "      (2): Linear(in_features=512, out_features=128, bias=True)\n",
       "    )\n",
       "  )\n",
       ")"
      ]
     },
     "execution_count": 48,
     "metadata": {},
     "output_type": "execute_result"
    }
   ],
   "source": [
    "chkpnt = 'checkpoints_Ohara_images_and_bathym_doublenet/SimCLR/lightning_logs/version_14/checkpoints/epoch=0-step=8.ckpt'\n",
    "best_checkpoint = '/home/azamat.kaibaldiyev/Tasmania_ohara_labels/' +chkpnt\n",
    "simclr_model = SimCLR.load_from_checkpoint(best_checkpoint)\n",
    "\n",
    "# disable randomness, dropout, etc...\n",
    "simclr_model.eval()\n",
    "# simclr_model.to(device)"
   ]
  },
  {
   "cell_type": "code",
   "execution_count": 40,
   "id": "b99a2f3f",
   "metadata": {},
   "outputs": [
    {
     "name": "stdout",
     "output_type": "stream",
     "text": [
      "2\n"
     ]
    },
    {
     "data": {
      "text/plain": [
       "torch.Size([5, 3, 100, 100])"
      ]
     },
     "execution_count": 40,
     "metadata": {},
     "output_type": "execute_result"
    }
   ],
   "source": [
    "ss_loader = data.DataLoader(train_dataset, batch_size=5, shuffle=True,\n",
    "                                       drop_last=True, pin_memory=True, num_workers=2)\n",
    "bat,_ = next(iter(ss_loader))\n",
    "print(len(bat))\n",
    "_[0].shape"
   ]
  },
  {
   "cell_type": "code",
   "execution_count": 49,
   "id": "91443225",
   "metadata": {},
   "outputs": [
    {
     "data": {
      "text/plain": [
       "torch.Size([5, 128])"
      ]
     },
     "execution_count": 49,
     "metadata": {},
     "output_type": "execute_result"
    }
   ],
   "source": [
    "simclr_model(_[0]).shape"
   ]
  },
  {
   "cell_type": "code",
   "execution_count": 50,
   "id": "1c170034",
   "metadata": {},
   "outputs": [
    {
     "data": {
      "text/plain": [
       "torch.Size([5, 128])"
      ]
     },
     "execution_count": 50,
     "metadata": {},
     "output_type": "execute_result"
    }
   ],
   "source": [
    "simclr_model(bat[0]).shape"
   ]
  },
  {
   "cell_type": "markdown",
   "id": "0de77727",
   "metadata": {},
   "source": [
    "# Downstream Task"
   ]
  },
  {
   "cell_type": "code",
   "execution_count": 12,
   "id": "914260b5",
   "metadata": {},
   "outputs": [
    {
     "name": "stdout",
     "output_type": "stream",
     "text": [
      "\u001b[34m\u001b[1mwandb\u001b[0m: Appending key for api.wandb.ai to your netrc file: /home/azamat.kaibaldiyev/.netrc\r\n"
     ]
    }
   ],
   "source": [
    "!wandb login --relogin \"40706c6c21e200af3bdb3840883f22e665e74441\""
   ]
  },
  {
   "cell_type": "code",
   "execution_count": 21,
   "id": "25d2f4a8",
   "metadata": {},
   "outputs": [
    {
     "data": {
      "text/html": [
       "Finishing last run (ID:3wtzn7xz) before initializing another..."
      ],
      "text/plain": [
       "<IPython.core.display.HTML object>"
      ]
     },
     "metadata": {},
     "output_type": "display_data"
    },
    {
     "data": {
      "text/html": [
       "Waiting for W&B process to finish... <strong style=\"color:green\">(success).</strong>"
      ],
      "text/plain": [
       "<IPython.core.display.HTML object>"
      ]
     },
     "metadata": {},
     "output_type": "display_data"
    },
    {
     "data": {
      "text/html": [
       "<style>\n",
       "    table.wandb td:nth-child(1) { padding: 0 10px; text-align: left ; width: auto;} td:nth-child(2) {text-align: left ; width: 100%}\n",
       "    .wandb-row { display: flex; flex-direction: row; flex-wrap: wrap; justify-content: flex-start; width: 100% }\n",
       "    .wandb-col { display: flex; flex-direction: column; flex-basis: 100%; flex: 1; padding: 10px; }\n",
       "    </style>\n",
       "<div class=\"wandb-row\"><div class=\"wandb-col\"><h3>Run history:</h3><br/><table class=\"wandb\"><tr><td>Downstream_test_acc</td><td>▆▄█▇▄▄▃▅█▆▅▄▅▅▅▄▅▂▅▆▄▅▆▂▅▃▇▆▆▂▆▄▃▁▅▄▄▁▅▄</td></tr><tr><td>Downstream_test_learningrate</td><td>▁▁▁▁▁▁▁▁▁▁▁▁▁▁▁▁▁▁▁▁▁▁▁▁▁▁▁▁▁▁▁▁▁▁▁▁▁▁▁▁</td></tr><tr><td>Downstream_test_loss</td><td>▃▅▂▁▅▆▅▃▃▂▄▅▆▃▄▅▄▆▄▄▄▄▄█▅▆▃▄▃▇▃▅▆█▆▆▅▇▅▆</td></tr><tr><td>Downstream_train_acc</td><td>▁▃▃▅▅▅▇▇▆▆▆▇▇▆▄█▆▇▇▇▇▇█▇▆██▆▇▇█▇▇██▇█▇▇▅</td></tr><tr><td>Downstream_train_learningrate</td><td>██████████████████▂▂▂▂▂▂▂▂▂▂▂▂▂▂▂▂▂▂▁▁▁▁</td></tr><tr><td>Downstream_train_loss</td><td>█▇▇▆▅▅▄▄▄▃▄▃▃▄▄▂▂▂▂▂▃▂▂▃▃▂▁▃▃▂▁▂▂▁▂▂▁▂▂▃</td></tr><tr><td>Downstream_val_acc</td><td>▁▃▄▃▆▃▅▃▆▇▆▆█▅▆▃▇█▆▆█▅▅▃▇▇▆▆█▅▅▃▇▇▆▆▇▅▅▅</td></tr><tr><td>Downstream_val_learningrate</td><td>████████████████▂▂▂▂▂▂▂▂▂▂▂▂▂▂▂▂▂▂▁▁▁▁▁▁</td></tr><tr><td>Downstream_val_loss</td><td>█▇▆▇▄▆▆▅▄▃▄▃▂▄▃▄▂▁▃▃▁▃▃▃▂▂▃▃▁▃▃▃▂▂▃▂▂▃▃▃</td></tr></table><br/></div><div class=\"wandb-col\"><h3>Run summary:</h3><br/><table class=\"wandb\"><tr><td>Downstream_test_acc</td><td>0.73913</td></tr><tr><td>Downstream_test_learningrate</td><td>0.0</td></tr><tr><td>Downstream_test_loss</td><td>0.84381</td></tr><tr><td>Downstream_train_acc</td><td>0.70732</td></tr><tr><td>Downstream_train_learningrate</td><td>0.0</td></tr><tr><td>Downstream_train_loss</td><td>0.79453</td></tr><tr><td>Downstream_val_acc</td><td>0.73913</td></tr><tr><td>Downstream_val_learningrate</td><td>0.0</td></tr><tr><td>Downstream_val_loss</td><td>0.843</td></tr></table><br/></div></div>"
      ],
      "text/plain": [
       "<IPython.core.display.HTML object>"
      ]
     },
     "metadata": {},
     "output_type": "display_data"
    },
    {
     "data": {
      "text/html": [
       " View run <strong style=\"color:#cdcd00\">major-grass-69</strong> at: <a href='https://wandb.ai/self-sup-segm/Contrastive_SimCLR_Ohara/runs/3wtzn7xz' target=\"_blank\">https://wandb.ai/self-sup-segm/Contrastive_SimCLR_Ohara/runs/3wtzn7xz</a><br/>Synced 6 W&B file(s), 0 media file(s), 0 artifact file(s) and 0 other file(s)"
      ],
      "text/plain": [
       "<IPython.core.display.HTML object>"
      ]
     },
     "metadata": {},
     "output_type": "display_data"
    },
    {
     "data": {
      "text/html": [
       "Find logs at: <code>./wandb/run-20230524_130541-3wtzn7xz/logs</code>"
      ],
      "text/plain": [
       "<IPython.core.display.HTML object>"
      ]
     },
     "metadata": {},
     "output_type": "display_data"
    },
    {
     "data": {
      "text/html": [
       "Successfully finished last run (ID:3wtzn7xz). Initializing new run:<br/>"
      ],
      "text/plain": [
       "<IPython.core.display.HTML object>"
      ]
     },
     "metadata": {},
     "output_type": "display_data"
    },
    {
     "data": {
      "application/vnd.jupyter.widget-view+json": {
       "model_id": "7cc2f63bcf724eb28a3043bbcf9355c4",
       "version_major": 2,
       "version_minor": 0
      },
      "text/plain": [
       "VBox(children=(Label(value='Waiting for wandb.init()...\\r'), FloatProgress(value=0.01666932851852228, max=1.0)…"
      ]
     },
     "metadata": {},
     "output_type": "display_data"
    },
    {
     "data": {
      "text/html": [
       "wandb version 0.15.3 is available!  To upgrade, please run:\n",
       " $ pip install wandb --upgrade"
      ],
      "text/plain": [
       "<IPython.core.display.HTML object>"
      ]
     },
     "metadata": {},
     "output_type": "display_data"
    },
    {
     "data": {
      "text/html": [
       "Tracking run with wandb version 0.14.2"
      ],
      "text/plain": [
       "<IPython.core.display.HTML object>"
      ]
     },
     "metadata": {},
     "output_type": "display_data"
    },
    {
     "data": {
      "text/html": [
       "Run data is saved locally in <code>/baie/nfs-cluster-1/data2/home/azamat.kaibaldiyev/wandb/run-20230524_131930-f46jfbz3</code>"
      ],
      "text/plain": [
       "<IPython.core.display.HTML object>"
      ]
     },
     "metadata": {},
     "output_type": "display_data"
    },
    {
     "data": {
      "text/html": [
       "Syncing run <strong><a href='https://wandb.ai/self-sup-segm/Contrastive_SimCLR_Ohara/runs/f46jfbz3' target=\"_blank\">misty-capybara-70</a></strong> to <a href='https://wandb.ai/self-sup-segm/Contrastive_SimCLR_Ohara' target=\"_blank\">Weights & Biases</a> (<a href='https://wandb.me/run' target=\"_blank\">docs</a>)<br/>"
      ],
      "text/plain": [
       "<IPython.core.display.HTML object>"
      ]
     },
     "metadata": {},
     "output_type": "display_data"
    },
    {
     "data": {
      "text/html": [
       " View project at <a href='https://wandb.ai/self-sup-segm/Contrastive_SimCLR_Ohara' target=\"_blank\">https://wandb.ai/self-sup-segm/Contrastive_SimCLR_Ohara</a>"
      ],
      "text/plain": [
       "<IPython.core.display.HTML object>"
      ]
     },
     "metadata": {},
     "output_type": "display_data"
    },
    {
     "data": {
      "text/html": [
       " View run at <a href='https://wandb.ai/self-sup-segm/Contrastive_SimCLR_Ohara/runs/f46jfbz3' target=\"_blank\">https://wandb.ai/self-sup-segm/Contrastive_SimCLR_Ohara/runs/f46jfbz3</a>"
      ],
      "text/plain": [
       "<IPython.core.display.HTML object>"
      ]
     },
     "metadata": {},
     "output_type": "display_data"
    },
    {
     "data": {
      "text/html": [
       "<button onClick=\"this.nextSibling.style.display='block';this.style.display='none';\">Display W&B run</button><iframe src='https://wandb.ai/self-sup-segm/Contrastive_SimCLR_Ohara/runs/f46jfbz3?jupyter=true' style='border:none;width:100%;height:420px;display:none;'></iframe>"
      ],
      "text/plain": [
       "<wandb.sdk.wandb_run.Run at 0x7f8b40742770>"
      ]
     },
     "execution_count": 21,
     "metadata": {},
     "output_type": "execute_result"
    }
   ],
   "source": [
    "import wandb\n",
    "import random\n",
    "from sklearn.metrics import classification_report\n",
    "\n",
    "epochs = 300\n",
    "lr = 1e-5\n",
    "#wandb.init(settings=wandb.Settings(start_method=\"fork\"))\n",
    "# start a new wandb run to track this script\n",
    "wandb.init(\n",
    "    # set the wandb project where this run will be logged\n",
    "    project=\"Contrastive_SimCLR_Ohara\",\n",
    "    \n",
    "    # track hyperparameters and run metadata\n",
    "    config={\n",
    "    \"learning_rate\": lr,\n",
    "    \"architecture\": \"Downstream_Logreg\",\n",
    "    \"dataset\": \"Ohara_dataset_images_53000_bath_and_imgs\",\n",
    "    \"epochs\": epochs,\n",
    "    }\n",
    ")"
   ]
  },
  {
   "cell_type": "code",
   "execution_count": 22,
   "id": "05a949a6",
   "metadata": {},
   "outputs": [],
   "source": [
    "class LogisticRegression(pl.LightningModule):\n",
    "\n",
    "    def __init__(self, feature_dim, num_classes, lr, weight_decay, max_epochs=300):\n",
    "        super().__init__()\n",
    "        self.save_hyperparameters()\n",
    "        # Mapping from representation h to classes\n",
    "        #self.model = nn.Linear(feature_dim, num_classes)\n",
    "        self.model = nn.Sequential(\n",
    "                        nn.Linear(feature_dim, num_classes),\n",
    "                      )\n",
    "        \n",
    "\n",
    "    def forward(self, x):\n",
    "        return self.model(x)\n",
    "\n",
    "    def configure_optimizers(self):\n",
    "        optimizer = optim.AdamW(self.parameters(),\n",
    "                                lr=self.hparams.lr,\n",
    "                                weight_decay=self.hparams.weight_decay)\n",
    "        lr_scheduler = optim.lr_scheduler.MultiStepLR(optimizer,\n",
    "                                                      milestones=[int(self.hparams.max_epochs*0.3),\n",
    "                                                                  int(self.hparams.max_epochs*0.6),\n",
    "                                                                  int(self.hparams.max_epochs*0.8)],\n",
    "                                                      gamma=0.1)\n",
    "        return [optimizer], [lr_scheduler]\n",
    "\n",
    "    def _calculate_loss(self, batch, mode='train'):\n",
    "        #criterion = F.cross_entropy()\n",
    "        \n",
    "        feats, labels = batch\n",
    "        preds = self.model(feats)\n",
    "        #print('preds', preds)\n",
    "        #print('labels:', labels)\n",
    "        loss = F.cross_entropy(preds, labels)\n",
    "        acc = (preds.argmax(dim=-1) == labels).float().mean()\n",
    "        wandb.log({'Downstream_' + mode+'_loss': loss})\n",
    "        wandb.log({'Downstream_' + mode+'_acc': acc})\n",
    "        \n",
    "        lightning_optimizer = self.optimizers()  # self = your model\n",
    "        current_lr = lightning_optimizer.optimizer.param_groups[0]['lr']\n",
    "        wandb.log({'Downstream_' + mode+'_learningrate': current_lr})\n",
    "\n",
    "        self.log(mode + '_loss', loss)\n",
    "        self.log(mode + '_acc', acc)\n",
    "        return loss\n",
    "\n",
    "    def training_step(self, batch, batch_idx):\n",
    "        return self._calculate_loss(batch, mode='train')\n",
    "\n",
    "    def validation_step(self, batch, batch_idx):\n",
    "        self._calculate_loss(batch, mode='val')\n",
    "\n",
    "    def test_step(self, batch, batch_idx):\n",
    "        self._calculate_loss(batch, mode='test')"
   ]
  },
  {
   "cell_type": "code",
   "execution_count": 5,
   "id": "2ac59279",
   "metadata": {},
   "outputs": [
    {
     "name": "stdout",
     "output_type": "stream",
     "text": [
      "9321\n",
      "1646\n"
     ]
    }
   ],
   "source": [
    "\n",
    "# with open('files_remove_indices/Ohara_images_11000_labels_train_set_indexes.npy', 'rb') as f:\n",
    "#     train_set_indexes_labels = np.load(f)\n",
    "\n",
    "# with open('files_remove_indices/Ohara_images_11000_labels_test_set_indexes.npy', 'rb') as f:\n",
    "#     test_set_indexes_labels = np.load(f)\n",
    "    \n",
    "    \n",
    "with open('files_remove_indices/Ohara_labels_train_set_indexes.npy', 'rb') as f:\n",
    "    train_set_indexes_labels = np.load(f)\n",
    "\n",
    "with open('files_remove_indices/Ohara_labels_test_set_indexes.npy', 'rb') as f:\n",
    "    test_set_indexes_labels = np.load(f)\n",
    "    \n",
    "\n",
    "    \n",
    "print(len(train_set_indexes_labels))\n",
    "print(len(test_set_indexes_labels))"
   ]
  },
  {
   "cell_type": "code",
   "execution_count": 23,
   "id": "461c6c28",
   "metadata": {},
   "outputs": [
    {
     "name": "stdout",
     "output_type": "stream",
     "text": [
      "10967\n",
      "Number of training examples: 4460\n",
      "Number of test examples: 6507\n"
     ]
    }
   ],
   "source": [
    "#for optical imgages\n",
    "img_transforms = transforms.Compose([transforms.ToTensor(),\n",
    "                                     transforms.Resize(size = (100,100)),\n",
    "                                     #Normalize_range01(),\n",
    "                                     transforms.Normalize((0.5,), (0.5,))])\n",
    "\n",
    "#for dem\n",
    "img_transforms = transforms.Compose([transforms.ToTensor(),\n",
    "                                     Normalize_range01(),\n",
    "                                     #transforms.Normalize((0.5,), (0.5,))\n",
    "                                     ])\n",
    "\n",
    "dataset_path_images_labels = 'Tasmania_ohara_labels/Ohara_all_images_labels/image_labels/'\n",
    "#dataset_path_bathym_labels = 'Tasmania_ohara_labels/cropped_dems_16_with_labels_correct/'\n",
    "dataset_path_bathym_labels = 'Tasmania_ohara_labels/cropped_dems_32_with_labels/'\n",
    "\n",
    "dataset_path_with_labels= dataset_path_bathym_labels\n",
    "\n",
    "dataset = SwedishDataset(transform = img_transforms , dataset_path=dataset_path_with_labels ,\n",
    "                         labels_imgs = False, labels_dems = True, for_imgs = False)\n",
    "\n",
    "#For random split\n",
    "# train_dataset = torch.utils.data.Subset(dataset, train_set_indexes_labels)\n",
    "# test_dataset = torch.utils.data.Subset(dataset, test_set_indexes_labels)\n",
    "\n",
    "#For different lines\n",
    "dim = 4460\n",
    "train_dataset = torch.utils.data.Subset(dataset, np.arange(dim))\n",
    "test_dataset = torch.utils.data.Subset(dataset, np.arange(dim, len(dataset)))\n",
    "\n",
    "print(len(dataset))\n",
    "print(\"Number of training examples:\", len(train_dataset))\n",
    "print(\"Number of test examples:\", len(test_dataset))"
   ]
  },
  {
   "cell_type": "code",
   "execution_count": 24,
   "id": "30cca8c0",
   "metadata": {},
   "outputs": [],
   "source": [
    "@torch.no_grad()\n",
    "def prepare_data_features(model, dataset):\n",
    "    # Prepare model\n",
    "    network = deepcopy(model.convnet)\n",
    "    network.fc = nn.Identity()  # Removing projection head g(.)\n",
    "    network.eval()\n",
    "    network.to(device)\n",
    "\n",
    "    # Encode all images\n",
    "    data_loader = data.DataLoader(dataset, batch_size=32, num_workers=NUM_WORKERS, shuffle=False, drop_last=False)\n",
    "    feats, labels = [], []\n",
    "    for batch_imgs, batch_labels in tqdm(data_loader):\n",
    "        batch_imgs = batch_imgs.to(device)\n",
    "        batch_feats = network(batch_imgs)\n",
    "        feats.append(batch_feats.detach().cpu())\n",
    "        labels.append(batch_labels)\n",
    "\n",
    "    feats = torch.cat(feats, dim=0)\n",
    "    labels = torch.cat(labels, dim=0)\n",
    "\n",
    "    # Sort images by labels\n",
    "    #labels, idxs = labels.sort()\n",
    "    #feats = feats[idxs]\n",
    "    #mycode\n",
    "    feats = torch.squeeze(feats)\n",
    "    labels = torch.squeeze(labels)\n",
    "\n",
    "    return data.TensorDataset(feats, labels)"
   ]
  },
  {
   "cell_type": "code",
   "execution_count": 25,
   "id": "c1bdea8c",
   "metadata": {},
   "outputs": [],
   "source": [
    "class SimCLR(pl.LightningModule):\n",
    "\n",
    "    def __init__(self, hidden_dim, lr, temperature, weight_decay, max_epochs=500):\n",
    "        super().__init__()\n",
    "        self.save_hyperparameters()\n",
    "        assert self.hparams.temperature > 0.0, 'The temperature must be a positive float!'\n",
    "        # Base model f(.)\n",
    "        self.convnet = torchvision.models.resnet18(num_classes=4*hidden_dim)  # Output of last linear layer\n",
    "        #model = torchvision.models.resnet18()\n",
    "        num_input_channel = 1\n",
    "        self.convnet.conv1 = nn.Conv2d(num_input_channel, 64, kernel_size=7, stride=2, padding=3,bias=False)\n",
    "        # The MLP for g(.) consists of Linear->ReLU->Linear\n",
    "        self.convnet.fc = nn.Sequential(\n",
    "            self.convnet.fc,  # Linear(ResNet output, 4*hidden_dim)\n",
    "            nn.ReLU(inplace=True),\n",
    "            nn.Linear(4*hidden_dim, hidden_dim)\n",
    "        )\n",
    "\n",
    "    def configure_optimizers(self):\n",
    "        optimizer = optim.AdamW(self.parameters(),\n",
    "                                lr=self.hparams.lr,\n",
    "                                weight_decay=self.hparams.weight_decay)\n",
    "        lr_scheduler = optim.lr_scheduler.CosineAnnealingLR(optimizer,\n",
    "                                                            T_max=self.hparams.max_epochs,\n",
    "                                                            eta_min=self.hparams.lr/50)\n",
    "        return [optimizer], [lr_scheduler]\n",
    "\n",
    "    def info_nce_loss(self, batch, mode='train'):\n",
    "        imgs, _ = batch\n",
    "        imgs = torch.cat(imgs, dim=0)\n",
    "\n",
    "        # Encode all images\n",
    "        feats = self.convnet(imgs)\n",
    "        # Calculate cosine similarity\n",
    "        cos_sim = F.cosine_similarity(feats[:,None,:], feats[None,:,:], dim=-1)\n",
    "        # Mask out cosine similarity to itself\n",
    "        self_mask = torch.eye(cos_sim.shape[0], dtype=torch.bool, device=cos_sim.device)\n",
    "        cos_sim.masked_fill_(self_mask, -9e15)\n",
    "        # Find positive example -> batch_size//2 away from the original example\n",
    "        pos_mask = self_mask.roll(shifts=cos_sim.shape[0]//2, dims=0)\n",
    "        # InfoNCE loss\n",
    "        cos_sim = cos_sim / self.hparams.temperature\n",
    "        nll = -cos_sim[pos_mask] + torch.logsumexp(cos_sim, dim=-1)\n",
    "        nll = nll.mean()\n",
    "\n",
    "        # Logging loss\n",
    "        self.log(mode+'_loss', nll)\n",
    "        # Get ranking position of positive example\n",
    "        comb_sim = torch.cat([cos_sim[pos_mask][:,None],  # First position positive example\n",
    "                              cos_sim.masked_fill(pos_mask, -9e15)],\n",
    "                             dim=-1)\n",
    "        sim_argsort = comb_sim.argsort(dim=-1, descending=True).argmin(dim=-1)\n",
    "        # Logging ranking metrics\n",
    "     \n",
    "        self.log(mode+'_acc_top1', (sim_argsort == 0).float().mean())\n",
    "        self.log(mode+'_acc_top5', (sim_argsort < 5).float().mean())\n",
    "        self.log(mode+'_acc_mean_pos', 1+sim_argsort.float().mean())\n",
    "\n",
    "        return nll\n",
    "\n",
    "    def training_step(self, batch, batch_idx):\n",
    "        return self.info_nce_loss(batch, mode='train')\n",
    "\n",
    "    def validation_step(self, batch, batch_idx):\n",
    "        self.info_nce_loss(batch, mode='val')\n",
    "        \n",
    "    def forward(self, x):\n",
    "        return self.convnet(x)\n",
    "        \n",
    "    "
   ]
  },
  {
   "cell_type": "code",
   "execution_count": 11,
   "id": "adef05c6",
   "metadata": {},
   "outputs": [
    {
     "name": "stdout",
     "output_type": "stream",
     "text": [
      "'epoch=25-step=7150.ckpt'\r\n"
     ]
    }
   ],
   "source": [
    "#DEM16\n",
    "!ls Tasmania_ohara_labels/checkpoints_Ohara_images_and_bathym16_pairs_and_nonpairs/SimCLR/lightning_logs/version_1379899/checkpoints/epoch=25-step=7150.ckpt\n",
    "#!stat Tasmania_ohara_labels/checkpoints_Ohara_images_and_bathym16_only_pairs/SimCLR/lightning_logs/version_1379899/checkpoints/epoch=25-step=7150.ckpt"
   ]
  },
  {
   "cell_type": "code",
   "execution_count": 15,
   "id": "1fe5b56f",
   "metadata": {},
   "outputs": [
    {
     "name": "stdout",
     "output_type": "stream",
     "text": [
      "'epoch=33-step=9180.ckpt'\r\n"
     ]
    }
   ],
   "source": [
    "#DEM32\n",
    "!ls Tasmania_ohara_labels/checkpoints_Ohara_images_and_bathym32_pairs_and_nonpairs/SimCLR/lightning_logs/version_1379898/checkpoints/\n",
    "#!stat Tasmania_ohara_labels/checkpoints_Ohara_images_and_bathym32_only_pairs/SimCLR/lightning_logs/version_1373056/checkpoints/epoch=16-step=3978.ckpt"
   ]
  },
  {
   "cell_type": "code",
   "execution_count": 26,
   "id": "02602701",
   "metadata": {
    "scrolled": true
   },
   "outputs": [
    {
     "data": {
      "text/plain": [
       "SimCLR(\n",
       "  (convnet): ResNet(\n",
       "    (conv1): Conv2d(1, 64, kernel_size=(7, 7), stride=(2, 2), padding=(3, 3), bias=False)\n",
       "    (bn1): BatchNorm2d(64, eps=1e-05, momentum=0.1, affine=True, track_running_stats=True)\n",
       "    (relu): ReLU(inplace=True)\n",
       "    (maxpool): MaxPool2d(kernel_size=3, stride=2, padding=1, dilation=1, ceil_mode=False)\n",
       "    (layer1): Sequential(\n",
       "      (0): BasicBlock(\n",
       "        (conv1): Conv2d(64, 64, kernel_size=(3, 3), stride=(1, 1), padding=(1, 1), bias=False)\n",
       "        (bn1): BatchNorm2d(64, eps=1e-05, momentum=0.1, affine=True, track_running_stats=True)\n",
       "        (relu): ReLU(inplace=True)\n",
       "        (conv2): Conv2d(64, 64, kernel_size=(3, 3), stride=(1, 1), padding=(1, 1), bias=False)\n",
       "        (bn2): BatchNorm2d(64, eps=1e-05, momentum=0.1, affine=True, track_running_stats=True)\n",
       "      )\n",
       "      (1): BasicBlock(\n",
       "        (conv1): Conv2d(64, 64, kernel_size=(3, 3), stride=(1, 1), padding=(1, 1), bias=False)\n",
       "        (bn1): BatchNorm2d(64, eps=1e-05, momentum=0.1, affine=True, track_running_stats=True)\n",
       "        (relu): ReLU(inplace=True)\n",
       "        (conv2): Conv2d(64, 64, kernel_size=(3, 3), stride=(1, 1), padding=(1, 1), bias=False)\n",
       "        (bn2): BatchNorm2d(64, eps=1e-05, momentum=0.1, affine=True, track_running_stats=True)\n",
       "      )\n",
       "    )\n",
       "    (layer2): Sequential(\n",
       "      (0): BasicBlock(\n",
       "        (conv1): Conv2d(64, 128, kernel_size=(3, 3), stride=(2, 2), padding=(1, 1), bias=False)\n",
       "        (bn1): BatchNorm2d(128, eps=1e-05, momentum=0.1, affine=True, track_running_stats=True)\n",
       "        (relu): ReLU(inplace=True)\n",
       "        (conv2): Conv2d(128, 128, kernel_size=(3, 3), stride=(1, 1), padding=(1, 1), bias=False)\n",
       "        (bn2): BatchNorm2d(128, eps=1e-05, momentum=0.1, affine=True, track_running_stats=True)\n",
       "        (downsample): Sequential(\n",
       "          (0): Conv2d(64, 128, kernel_size=(1, 1), stride=(2, 2), bias=False)\n",
       "          (1): BatchNorm2d(128, eps=1e-05, momentum=0.1, affine=True, track_running_stats=True)\n",
       "        )\n",
       "      )\n",
       "      (1): BasicBlock(\n",
       "        (conv1): Conv2d(128, 128, kernel_size=(3, 3), stride=(1, 1), padding=(1, 1), bias=False)\n",
       "        (bn1): BatchNorm2d(128, eps=1e-05, momentum=0.1, affine=True, track_running_stats=True)\n",
       "        (relu): ReLU(inplace=True)\n",
       "        (conv2): Conv2d(128, 128, kernel_size=(3, 3), stride=(1, 1), padding=(1, 1), bias=False)\n",
       "        (bn2): BatchNorm2d(128, eps=1e-05, momentum=0.1, affine=True, track_running_stats=True)\n",
       "      )\n",
       "    )\n",
       "    (layer3): Sequential(\n",
       "      (0): BasicBlock(\n",
       "        (conv1): Conv2d(128, 256, kernel_size=(3, 3), stride=(2, 2), padding=(1, 1), bias=False)\n",
       "        (bn1): BatchNorm2d(256, eps=1e-05, momentum=0.1, affine=True, track_running_stats=True)\n",
       "        (relu): ReLU(inplace=True)\n",
       "        (conv2): Conv2d(256, 256, kernel_size=(3, 3), stride=(1, 1), padding=(1, 1), bias=False)\n",
       "        (bn2): BatchNorm2d(256, eps=1e-05, momentum=0.1, affine=True, track_running_stats=True)\n",
       "        (downsample): Sequential(\n",
       "          (0): Conv2d(128, 256, kernel_size=(1, 1), stride=(2, 2), bias=False)\n",
       "          (1): BatchNorm2d(256, eps=1e-05, momentum=0.1, affine=True, track_running_stats=True)\n",
       "        )\n",
       "      )\n",
       "      (1): BasicBlock(\n",
       "        (conv1): Conv2d(256, 256, kernel_size=(3, 3), stride=(1, 1), padding=(1, 1), bias=False)\n",
       "        (bn1): BatchNorm2d(256, eps=1e-05, momentum=0.1, affine=True, track_running_stats=True)\n",
       "        (relu): ReLU(inplace=True)\n",
       "        (conv2): Conv2d(256, 256, kernel_size=(3, 3), stride=(1, 1), padding=(1, 1), bias=False)\n",
       "        (bn2): BatchNorm2d(256, eps=1e-05, momentum=0.1, affine=True, track_running_stats=True)\n",
       "      )\n",
       "    )\n",
       "    (layer4): Sequential(\n",
       "      (0): BasicBlock(\n",
       "        (conv1): Conv2d(256, 512, kernel_size=(3, 3), stride=(2, 2), padding=(1, 1), bias=False)\n",
       "        (bn1): BatchNorm2d(512, eps=1e-05, momentum=0.1, affine=True, track_running_stats=True)\n",
       "        (relu): ReLU(inplace=True)\n",
       "        (conv2): Conv2d(512, 512, kernel_size=(3, 3), stride=(1, 1), padding=(1, 1), bias=False)\n",
       "        (bn2): BatchNorm2d(512, eps=1e-05, momentum=0.1, affine=True, track_running_stats=True)\n",
       "        (downsample): Sequential(\n",
       "          (0): Conv2d(256, 512, kernel_size=(1, 1), stride=(2, 2), bias=False)\n",
       "          (1): BatchNorm2d(512, eps=1e-05, momentum=0.1, affine=True, track_running_stats=True)\n",
       "        )\n",
       "      )\n",
       "      (1): BasicBlock(\n",
       "        (conv1): Conv2d(512, 512, kernel_size=(3, 3), stride=(1, 1), padding=(1, 1), bias=False)\n",
       "        (bn1): BatchNorm2d(512, eps=1e-05, momentum=0.1, affine=True, track_running_stats=True)\n",
       "        (relu): ReLU(inplace=True)\n",
       "        (conv2): Conv2d(512, 512, kernel_size=(3, 3), stride=(1, 1), padding=(1, 1), bias=False)\n",
       "        (bn2): BatchNorm2d(512, eps=1e-05, momentum=0.1, affine=True, track_running_stats=True)\n",
       "      )\n",
       "    )\n",
       "    (avgpool): AdaptiveAvgPool2d(output_size=(1, 1))\n",
       "    (fc): Sequential(\n",
       "      (0): Linear(in_features=512, out_features=512, bias=True)\n",
       "      (1): ReLU(inplace=True)\n",
       "      (2): Linear(in_features=512, out_features=128, bias=True)\n",
       "    )\n",
       "  )\n",
       ")"
      ]
     },
     "execution_count": 26,
     "metadata": {},
     "output_type": "execute_result"
    }
   ],
   "source": [
    "chkpnt = 'checkpoints_Ohara_images_and_bathym32_pairs_and_nonpairs/SimCLR/lightning_logs/version_1379898/checkpoints/epoch=33-step=9180.ckpt'\n",
    "best_checkpoint = '/home/azamat.kaibaldiyev/Tasmania_ohara_labels/' +chkpnt\n",
    "simclr_model = SimCLR.load_from_checkpoint(best_checkpoint)\n",
    "\n",
    "# disable randomness, dropout, etc...\n",
    "simclr_model.eval()\n",
    "simclr_model.to(device)"
   ]
  },
  {
   "cell_type": "code",
   "execution_count": 27,
   "id": "3a061a63",
   "metadata": {},
   "outputs": [
    {
     "name": "stderr",
     "output_type": "stream",
     "text": [
      "/home/azamat.kaibaldiyev/miniconda3/envs/contrastive_env/lib/python3.10/site-packages/torch/utils/data/dataloader.py:561: UserWarning: This DataLoader will create 40 worker processes in total. Our suggested max number of worker in current system is 2, which is smaller than what this DataLoader is going to create. Please be aware that excessive worker creation might get DataLoader running slow or even freeze, lower the worker number to avoid potential slowness/freeze if necessary.\n",
      "  warnings.warn(_create_warning_msg(\n"
     ]
    },
    {
     "data": {
      "application/vnd.jupyter.widget-view+json": {
       "model_id": "1af2cebb5d4a406eaf86f72eb597917b",
       "version_major": 2,
       "version_minor": 0
      },
      "text/plain": [
       "  0%|          | 0/140 [00:00<?, ?it/s]"
      ]
     },
     "metadata": {},
     "output_type": "display_data"
    },
    {
     "data": {
      "application/vnd.jupyter.widget-view+json": {
       "model_id": "542a0840081d465fa63884704bf350b1",
       "version_major": 2,
       "version_minor": 0
      },
      "text/plain": [
       "  0%|          | 0/204 [00:00<?, ?it/s]"
      ]
     },
     "metadata": {},
     "output_type": "display_data"
    }
   ],
   "source": [
    "train_feats_simclr = prepare_data_features(simclr_model, train_dataset)\n",
    "test_feats_simclr = prepare_data_features(simclr_model, test_dataset)"
   ]
  },
  {
   "cell_type": "code",
   "execution_count": 28,
   "id": "8e2e3828",
   "metadata": {},
   "outputs": [
    {
     "data": {
      "text/plain": [
       "torch.Size([512])"
      ]
     },
     "execution_count": 28,
     "metadata": {},
     "output_type": "execute_result"
    }
   ],
   "source": [
    "test_feats_simclr[0][0].shape"
   ]
  },
  {
   "cell_type": "code",
   "execution_count": 29,
   "id": "6852bc4d",
   "metadata": {},
   "outputs": [],
   "source": [
    "def train_logreg(batch_size, train_feats_data, test_feats_data, model_suffix, max_epochs=200, **kwargs):\n",
    "    trainer = pl.Trainer(log_every_n_steps=10, default_root_dir=os.path.join(CHECKPOINT_PATH, \"LogisticRegression\"),\n",
    "                         accelerator=\"gpu\" if str(device).startswith(\"cuda\") else \"cpu\",\n",
    "                         devices=1,\n",
    "                         max_epochs=max_epochs,\n",
    "                         callbacks=[ModelCheckpoint(save_weights_only=True, mode='max', monitor='val_acc'),\n",
    "                                    LearningRateMonitor(\"epoch\")],\n",
    "                         enable_progress_bar=False,\n",
    "                         check_val_every_n_epoch=10)\n",
    "    trainer.logger._default_hp_metric = None\n",
    "\n",
    "    # Data loaders\n",
    "    train_loader = data.DataLoader(train_feats_data, batch_size=batch_size, shuffle=True,\n",
    "                                   drop_last=False, pin_memory=True, num_workers=0)\n",
    "    test_loader = data.DataLoader(test_feats_data, batch_size=batch_size, shuffle=False,\n",
    "                                  drop_last=False, pin_memory=True, num_workers=0)\n",
    "\n",
    "    # Check whether pretrained model exists. If yes, load it and skip training\n",
    "    pretrained_filename = os.path.join(CHECKPOINT_PATH, f\"LogisticRegression_{model_suffix}.ckpt\")\n",
    "    if os.path.isfile(pretrained_filename):\n",
    "        print(f\"Found pretrained model at {pretrained_filename}, loading...\")\n",
    "        model = LogisticRegression.load_from_checkpoint(pretrained_filename)\n",
    "    else:\n",
    "        pl.seed_everything(42)  # To be reproducable\n",
    "        model = LogisticRegression(**kwargs)\n",
    "        trainer.fit(model, train_loader, test_loader)\n",
    "        \n",
    "        print(11111)\n",
    "        print(trainer.checkpoint_callback.best_model_path)\n",
    "        model = LogisticRegression.load_from_checkpoint(trainer.checkpoint_callback.best_model_path)\n",
    "\n",
    "    # Test best model on train and validation set\n",
    "    train_result = trainer.test(model, train_loader, verbose=False)\n",
    "    test_result = trainer.test(model, test_loader, verbose=False)\n",
    "    result = {\"train\": train_result[0][\"test_acc\"], \"test\": test_result[0][\"test_acc\"]}\n",
    "\n",
    "    return model, result"
   ]
  },
  {
   "cell_type": "code",
   "execution_count": 30,
   "id": "cd5d9c81",
   "metadata": {},
   "outputs": [
    {
     "name": "stderr",
     "output_type": "stream",
     "text": [
      "GPU available: True (cuda), used: True\n",
      "TPU available: False, using: 0 TPU cores\n",
      "IPU available: False, using: 0 IPUs\n",
      "HPU available: False, using: 0 HPUs\n",
      "[rank: 0] Global seed set to 42\n",
      "You are using a CUDA device ('NVIDIA GeForce RTX 4090') that has Tensor Cores. To properly utilize them, you should set `torch.set_float32_matmul_precision('medium' | 'high')` which will trade-off precision for performance. For more details, read https://pytorch.org/docs/stable/generated/torch.set_float32_matmul_precision.html#torch.set_float32_matmul_precision\n",
      "LOCAL_RANK: 0 - CUDA_VISIBLE_DEVICES: [0]\n",
      "\n",
      "  | Name  | Type       | Params\n",
      "-------------------------------------\n",
      "0 | model | Sequential | 4.1 K \n",
      "-------------------------------------\n",
      "4.1 K     Trainable params\n",
      "0         Non-trainable params\n",
      "4.1 K     Total params\n",
      "0.016     Total estimated model params size (MB)\n",
      "`Trainer.fit` stopped: `max_epochs=200` reached.\n",
      "You are using a CUDA device ('NVIDIA GeForce RTX 4090') that has Tensor Cores. To properly utilize them, you should set `torch.set_float32_matmul_precision('medium' | 'high')` which will trade-off precision for performance. For more details, read https://pytorch.org/docs/stable/generated/torch.set_float32_matmul_precision.html#torch.set_float32_matmul_precision\n",
      "LOCAL_RANK: 0 - CUDA_VISIBLE_DEVICES: [0]\n"
     ]
    },
    {
     "name": "stdout",
     "output_type": "stream",
     "text": [
      "11111\n",
      "/home/azamat.kaibaldiyev/Tasmania_ohara_labels/checkpoints_Ohara_images_and_bathym/LogisticRegression/lightning_logs/version_14/checkpoints/epoch=49-step=3500.ckpt\n"
     ]
    },
    {
     "name": "stderr",
     "output_type": "stream",
     "text": [
      "You are using a CUDA device ('NVIDIA GeForce RTX 4090') that has Tensor Cores. To properly utilize them, you should set `torch.set_float32_matmul_precision('medium' | 'high')` which will trade-off precision for performance. For more details, read https://pytorch.org/docs/stable/generated/torch.set_float32_matmul_precision.html#torch.set_float32_matmul_precision\n",
      "LOCAL_RANK: 0 - CUDA_VISIBLE_DEVICES: [0]\n"
     ]
    }
   ],
   "source": [
    "num_imgs_per_label = 200\n",
    "logreg_model, small_set_results = train_logreg(max_epochs=200,batch_size=64,\n",
    "                                    train_feats_data=train_feats_simclr,\n",
    "                                    test_feats_data=test_feats_simclr,\n",
    "                                    model_suffix=num_imgs_per_label,\n",
    "                                    feature_dim=train_feats_simclr.tensors[0].shape[1],\n",
    "                                    num_classes=8,\n",
    "                                    lr=1e-5,\n",
    "                                    weight_decay=1e-3,)"
   ]
  },
  {
   "cell_type": "code",
   "execution_count": null,
   "id": "d55741fd",
   "metadata": {},
   "outputs": [],
   "source": [
    "#STOP"
   ]
  },
  {
   "cell_type": "markdown",
   "id": "d01e11cf",
   "metadata": {},
   "source": [
    "# All bath and PAIRS 53000"
   ]
  },
  {
   "cell_type": "code",
   "execution_count": 16,
   "id": "40b64b25",
   "metadata": {},
   "outputs": [
    {
     "data": {
      "text/plain": [
       "{'train': 0.768385648727417, 'test': 0.7112340331077576}"
      ]
     },
     "execution_count": 16,
     "metadata": {},
     "output_type": "execute_result"
    }
   ],
   "source": [
    "#SimCLR dem16_bs512_lr_allbath_and_imgs_53000 on 11000_dems16, bs 64, 200 epochs, line set\n",
    "small_set_results"
   ]
  },
  {
   "cell_type": "code",
   "execution_count": 27,
   "id": "831419b2",
   "metadata": {},
   "outputs": [
    {
     "data": {
      "text/plain": [
       "{'train': 0.7830705046653748, 'test': 0.7788578271865845}"
      ]
     },
     "execution_count": 27,
     "metadata": {},
     "output_type": "execute_result"
    }
   ],
   "source": [
    "#SimCLR dem16_bs512_lr_allbath_and_imgs_53000 on 11000_dems16, bs 64, 200 epochs, random set\n",
    "small_set_results"
   ]
  },
  {
   "cell_type": "code",
   "execution_count": null,
   "id": "4656eaf5",
   "metadata": {},
   "outputs": [],
   "source": [
    "#SimCLR dem16_bs512_lr_allbath_and_imgs_53000 on 11000_dems16, bs 64, 200 epochs, random set, try lr smaller (e-6)\n",
    "small_set_results"
   ]
  },
  {
   "cell_type": "code",
   "execution_count": 31,
   "id": "a0a3a33e",
   "metadata": {},
   "outputs": [
    {
     "data": {
      "text/plain": [
       "{'train': 0.7784753441810608, 'test': 0.6930997371673584}"
      ]
     },
     "execution_count": 31,
     "metadata": {},
     "output_type": "execute_result"
    }
   ],
   "source": [
    "#SimCLR dem32_bs512_lr_allbath_and_imgs_53000 on 11000_dems32, bs 64, 200 epochs, line set\n",
    "small_set_results"
   ]
  },
  {
   "cell_type": "code",
   "execution_count": 20,
   "id": "5cd61060",
   "metadata": {},
   "outputs": [
    {
     "data": {
      "text/plain": [
       "{'train': 0.7173050045967102, 'test': 0.7284325361251831}"
      ]
     },
     "execution_count": 20,
     "metadata": {},
     "output_type": "execute_result"
    }
   ],
   "source": [
    "#SimCLR dem32_bs512_lr_allbath_and_imgs_53000 on 11000_dems32, bs 64, 200 epochs, random set, smaller lr e-6\n",
    "small_set_results"
   ]
  },
  {
   "cell_type": "markdown",
   "id": "0e71aa68",
   "metadata": {},
   "source": [
    "### ONLY PAIRS 53000"
   ]
  },
  {
   "cell_type": "code",
   "execution_count": 83,
   "id": "df9d3f25",
   "metadata": {},
   "outputs": [
    {
     "data": {
      "text/plain": [
       "{'train': 0.7797446846961975, 'test': 0.7849331498146057}"
      ]
     },
     "execution_count": 83,
     "metadata": {},
     "output_type": "execute_result"
    }
   ],
   "source": [
    "\n",
    "#SimCLR dem32_bs512_lr_e-5_bath_and_imgs_53000 on 11000_dems32, bs 64, 200 epochs, random set\n",
    "small_set_results"
   ]
  },
  {
   "cell_type": "code",
   "execution_count": 26,
   "id": "8183ec6e",
   "metadata": {},
   "outputs": [
    {
     "data": {
      "text/plain": [
       "{'train': 0.7578475475311279, 'test': 0.7189180850982666}"
      ]
     },
     "execution_count": 26,
     "metadata": {},
     "output_type": "execute_result"
    }
   ],
   "source": [
    "#SimCLR dem32_bs512_lr_e-5_bath_and_imgs_53000 on 11000_dems32, bs 64, 200 epochs, line set\n",
    "small_set_results"
   ]
  },
  {
   "cell_type": "code",
   "execution_count": 27,
   "id": "ea877ce8",
   "metadata": {},
   "outputs": [],
   "source": [
    "#SimCLR dem32_bs512_lr_e-5_bath_and_imgs_53000 on 11000_optical_images, bs 64, 200 epochs, random set"
   ]
  },
  {
   "cell_type": "code",
   "execution_count": 28,
   "id": "31de6c7c",
   "metadata": {},
   "outputs": [],
   "source": [
    "#SimCLR dem32_bs512_lr_e-5_bath_and_imgs_53000 on 11000_optical_images, bs 64, 200 epochs, line set"
   ]
  },
  {
   "cell_type": "code",
   "execution_count": null,
   "id": "9e7662e9",
   "metadata": {},
   "outputs": [],
   "source": [
    "#DEMS16"
   ]
  },
  {
   "cell_type": "code",
   "execution_count": 31,
   "id": "5196fecd",
   "metadata": {},
   "outputs": [
    {
     "data": {
      "text/plain": [
       "{'train': 0.7932625412940979, 'test': 0.7928311228752136}"
      ]
     },
     "execution_count": 31,
     "metadata": {},
     "output_type": "execute_result"
    }
   ],
   "source": [
    "#SimCLR dem16_bs512_lr_bath_and_imgs_53000 on 11000_dems16, bs 64, 200 epochs, random set\n",
    "small_set_results"
   ]
  },
  {
   "cell_type": "code",
   "execution_count": 16,
   "id": "9dd6ba8d",
   "metadata": {},
   "outputs": [
    {
     "data": {
      "text/plain": [
       "{'train': 0.800000011920929, 'test': 0.694790244102478}"
      ]
     },
     "execution_count": 16,
     "metadata": {},
     "output_type": "execute_result"
    }
   ],
   "source": [
    "#SimCLR dem16_bs512_lr_bath_and_imgs_53000 on 11000_dems16, bs 64, 200 epochs, line set\n",
    "small_set_results"
   ]
  },
  {
   "cell_type": "markdown",
   "id": "d7776cd6",
   "metadata": {},
   "source": [
    "### All bath and PAIRS 36000"
   ]
  },
  {
   "cell_type": "code",
   "execution_count": 40,
   "id": "59af6640",
   "metadata": {},
   "outputs": [
    {
     "data": {
      "text/plain": [
       "{'train': 0.5163677334785461, 'test': 0.47456586360931396}"
      ]
     },
     "execution_count": 40,
     "metadata": {},
     "output_type": "execute_result"
    }
   ],
   "source": [
    "#SimCLR dem32_bs512_lr_e-5_bath_and_imgs on 11000_optical_images, bs 64, 100 epochs, line set\n",
    "small_set_results"
   ]
  },
  {
   "cell_type": "code",
   "execution_count": null,
   "id": "abaebb6e",
   "metadata": {},
   "outputs": [],
   "source": [
    "#SimCLR dem32_bs512_lr_e-5_bath_and_imgs on 11000_optical_images, bs 64, 100 epochs, random set\n",
    "small_set_results"
   ]
  },
  {
   "cell_type": "code",
   "execution_count": 50,
   "id": "c396e574",
   "metadata": {},
   "outputs": [
    {
     "data": {
      "text/plain": [
       "{'train': 0.7766816020011902, 'test': 0.6828031539916992}"
      ]
     },
     "execution_count": 50,
     "metadata": {},
     "output_type": "execute_result"
    }
   ],
   "source": [
    "#SimCLR dem32_bs512_lr_e-5_bath_and_imgs on 11000_dems32, bs 64, 200 epochs, line set\n",
    "small_set_results"
   ]
  },
  {
   "cell_type": "code",
   "execution_count": 65,
   "id": "36e8b004",
   "metadata": {},
   "outputs": [
    {
     "data": {
      "text/plain": [
       "{'train': 0.7796373963356018, 'test': 0.7752126455307007}"
      ]
     },
     "execution_count": 65,
     "metadata": {},
     "output_type": "execute_result"
    }
   ],
   "source": [
    "#SimCLR dem32_bs512_lr_e-5_bath_and_imgs on 11000_dems32, bs 64, 200 epochs, random set\n",
    "small_set_results"
   ]
  },
  {
   "cell_type": "code",
   "execution_count": null,
   "id": "8caebf10",
   "metadata": {},
   "outputs": [],
   "source": [
    "#DEMS16"
   ]
  },
  {
   "cell_type": "code",
   "execution_count": null,
   "id": "4a49e687",
   "metadata": {},
   "outputs": [],
   "source": [
    "#SimCLR dem16_bs512_lr_e-4_bath_and_imgs on 11000_optical_images, bs 64, 200 epochs, line set\n",
    "small_set_results"
   ]
  },
  {
   "cell_type": "code",
   "execution_count": null,
   "id": "f35aca80",
   "metadata": {},
   "outputs": [],
   "source": [
    "#SimCLR dem16_bs512_lr_e-4_bath_and_imgs on 11000_optical_images, bs 64, 200 epochs,random set\n",
    "small_set_results"
   ]
  },
  {
   "cell_type": "code",
   "execution_count": null,
   "id": "3a401474",
   "metadata": {},
   "outputs": [],
   "source": [
    "#SimCLR dem16_bs512_lr_e-5_bath_and_imgs on 11000_dems16, bs 64, 200 epochs, line set\n",
    "small_set_results"
   ]
  },
  {
   "cell_type": "code",
   "execution_count": null,
   "id": "d2e3326a",
   "metadata": {},
   "outputs": [],
   "source": [
    "#SimCLR dem16_bs512_lr_e-5_bath_and_imgs on 11000_dems16, bs 64, 200 epochs, random  set\n",
    "small_set_results"
   ]
  },
  {
   "cell_type": "markdown",
   "id": "09d5e9e2",
   "metadata": {},
   "source": [
    "# Test set report\n"
   ]
  },
  {
   "cell_type": "markdown",
   "id": "717b4b55",
   "metadata": {},
   "source": [
    "### DEMS32 ONLY PAIRS 53000"
   ]
  },
  {
   "cell_type": "code",
   "execution_count": 33,
   "id": "1c547cff",
   "metadata": {},
   "outputs": [
    {
     "name": "stdout",
     "output_type": "stream",
     "text": [
      "1646\n",
      "26\n",
      "              precision    recall  f1-score   support\n",
      "\n",
      "     class 1       0.97      0.98      0.98       345\n",
      "     class 2       0.75      0.92      0.83       658\n",
      "     class 3       0.00      0.00      0.00         0\n",
      "     class 4       0.00      0.00      0.00        12\n",
      "     class 5       0.81      0.62      0.71       194\n",
      "     class 6       0.84      0.95      0.89       177\n",
      "     class 7       0.47      0.30      0.37       194\n",
      "     class 8       0.75      0.14      0.23        66\n",
      "\n",
      "   micro avg       0.79      0.79      0.79      1646\n",
      "   macro avg       0.57      0.49      0.50      1646\n",
      "weighted avg       0.78      0.79      0.77      1646\n",
      "\n"
     ]
    },
    {
     "name": "stderr",
     "output_type": "stream",
     "text": [
      "/home/azamat.kaibaldiyev/miniconda3/envs/contrastive_env/lib/python3.10/site-packages/sklearn/metrics/_classification.py:1344: UndefinedMetricWarning: Precision and F-score are ill-defined and being set to 0.0 in labels with no predicted samples. Use `zero_division` parameter to control this behavior.\n",
      "  _warn_prf(average, modifier, msg_start, len(result))\n",
      "/home/azamat.kaibaldiyev/miniconda3/envs/contrastive_env/lib/python3.10/site-packages/sklearn/metrics/_classification.py:1344: UndefinedMetricWarning: Recall and F-score are ill-defined and being set to 0.0 in labels with no true samples. Use `zero_division` parameter to control this behavior.\n",
      "  _warn_prf(average, modifier, msg_start, len(result))\n",
      "/home/azamat.kaibaldiyev/miniconda3/envs/contrastive_env/lib/python3.10/site-packages/sklearn/metrics/_classification.py:1344: UndefinedMetricWarning: Precision and F-score are ill-defined and being set to 0.0 in labels with no predicted samples. Use `zero_division` parameter to control this behavior.\n",
      "  _warn_prf(average, modifier, msg_start, len(result))\n",
      "/home/azamat.kaibaldiyev/miniconda3/envs/contrastive_env/lib/python3.10/site-packages/sklearn/metrics/_classification.py:1344: UndefinedMetricWarning: Recall and F-score are ill-defined and being set to 0.0 in labels with no true samples. Use `zero_division` parameter to control this behavior.\n",
      "  _warn_prf(average, modifier, msg_start, len(result))\n",
      "/home/azamat.kaibaldiyev/miniconda3/envs/contrastive_env/lib/python3.10/site-packages/sklearn/metrics/_classification.py:1344: UndefinedMetricWarning: Precision and F-score are ill-defined and being set to 0.0 in labels with no predicted samples. Use `zero_division` parameter to control this behavior.\n",
      "  _warn_prf(average, modifier, msg_start, len(result))\n",
      "/home/azamat.kaibaldiyev/miniconda3/envs/contrastive_env/lib/python3.10/site-packages/sklearn/metrics/_classification.py:1344: UndefinedMetricWarning: Recall and F-score are ill-defined and being set to 0.0 in labels with no true samples. Use `zero_division` parameter to control this behavior.\n",
      "  _warn_prf(average, modifier, msg_start, len(result))\n"
     ]
    }
   ],
   "source": [
    "print(len(test_feats_simclr))\n",
    "test_loader = data.DataLoader(test_feats_simclr, batch_size=64, shuffle=False,\n",
    "                                  drop_last=False, pin_memory=True, num_workers=0)\n",
    "print(len(test_loader))\n",
    "preds_list = []\n",
    "lbl_list = []\n",
    "for batch, lbls in test_loader:\n",
    "    preds = logreg_model(batch)\n",
    "    preds = preds.argmax(dim = -1)\n",
    "    preds_list.append(preds)\n",
    "    lbl_list.append(lbls)\n",
    "from sklearn.metrics import classification_report\n",
    "y_true = torch.hstack(lbl_list)\n",
    "y_pred = torch.hstack(preds_list)\n",
    "labels = [0,1,2,3,4,5,6,7]\n",
    "target_names = ['class 1', 'class 2', 'class 3' , 'class 4', 'class 5', 'class 6' ,'class 7', 'class 8']\n",
    "print(classification_report(y_true, y_pred,  labels=labels, target_names=target_names))"
   ]
  },
  {
   "cell_type": "code",
   "execution_count": null,
   "id": "ee83420b",
   "metadata": {},
   "outputs": [],
   "source": []
  },
  {
   "cell_type": "code",
   "execution_count": null,
   "id": "2b10e78c",
   "metadata": {},
   "outputs": [],
   "source": []
  },
  {
   "cell_type": "code",
   "execution_count": null,
   "id": "fd49902e",
   "metadata": {},
   "outputs": [],
   "source": []
  },
  {
   "cell_type": "code",
   "execution_count": 68,
   "id": "08c18310",
   "metadata": {},
   "outputs": [
    {
     "name": "stdout",
     "output_type": "stream",
     "text": [
      "6507\n",
      "102\n"
     ]
    }
   ],
   "source": [
    "print(len(test_feats_simclr))\n",
    "test_loader = data.DataLoader(test_feats_simclr, batch_size=64, shuffle=False,\n",
    "                                  drop_last=False, pin_memory=True, num_workers=0)\n",
    "print(len(test_loader))"
   ]
  },
  {
   "cell_type": "code",
   "execution_count": 75,
   "id": "66e4d20f",
   "metadata": {},
   "outputs": [],
   "source": [
    "preds_list = []\n",
    "lbl_list = []\n",
    "for batch, lbls in test_loader:\n",
    "    preds = logreg_model(batch)\n",
    "    preds = preds.argmax(dim = -1)\n",
    "    preds_list.append(preds)\n",
    "    lbl_list.append(lbls)"
   ]
  },
  {
   "cell_type": "code",
   "execution_count": 81,
   "id": "20b96ada",
   "metadata": {},
   "outputs": [
    {
     "name": "stdout",
     "output_type": "stream",
     "text": [
      "              precision    recall  f1-score   support\n",
      "\n",
      "     class 1       0.99      0.98      0.98      1560\n",
      "     class 2       0.85      0.94      0.89      2363\n",
      "     class 3       0.00      0.00      0.00         2\n",
      "     class 4       0.67      0.33      0.44        49\n",
      "     class 5       0.84      0.78      0.81       610\n",
      "     class 6       0.87      0.98      0.92       753\n",
      "     class 7       0.70      0.65      0.68       886\n",
      "     class 8       0.58      0.20      0.29       284\n",
      "\n",
      "    accuracy                           0.86      6507\n",
      "   macro avg       0.69      0.61      0.63      6507\n",
      "weighted avg       0.85      0.86      0.85      6507\n",
      "\n"
     ]
    },
    {
     "name": "stderr",
     "output_type": "stream",
     "text": [
      "/home/azamat.kaibaldiyev/miniconda3/envs/contrastive_env/lib/python3.10/site-packages/sklearn/metrics/_classification.py:1344: UndefinedMetricWarning: Precision and F-score are ill-defined and being set to 0.0 in labels with no predicted samples. Use `zero_division` parameter to control this behavior.\n",
      "  _warn_prf(average, modifier, msg_start, len(result))\n",
      "/home/azamat.kaibaldiyev/miniconda3/envs/contrastive_env/lib/python3.10/site-packages/sklearn/metrics/_classification.py:1344: UndefinedMetricWarning: Precision and F-score are ill-defined and being set to 0.0 in labels with no predicted samples. Use `zero_division` parameter to control this behavior.\n",
      "  _warn_prf(average, modifier, msg_start, len(result))\n",
      "/home/azamat.kaibaldiyev/miniconda3/envs/contrastive_env/lib/python3.10/site-packages/sklearn/metrics/_classification.py:1344: UndefinedMetricWarning: Precision and F-score are ill-defined and being set to 0.0 in labels with no predicted samples. Use `zero_division` parameter to control this behavior.\n",
      "  _warn_prf(average, modifier, msg_start, len(result))\n"
     ]
    }
   ],
   "source": [
    "from sklearn.metrics import classification_report\n",
    "y_true = torch.hstack(lbl_list)\n",
    "y_pred = torch.hstack(preds_list)\n",
    "target_names = ['class 1', 'class 2', 'class 3' , 'class 4', 'class 5', 'class 6' ,'class 7', 'class 8']\n",
    "print(classification_report(y_true, y_pred, target_names=target_names))"
   ]
  },
  {
   "cell_type": "markdown",
   "id": "50d0890f",
   "metadata": {},
   "source": [
    "# Retrieving images from aws"
   ]
  },
  {
   "cell_type": "code",
   "execution_count": 9,
   "id": "e732ebf3",
   "metadata": {},
   "outputs": [
    {
     "data": {
      "text/html": [
       "<div>\n",
       "<style scoped>\n",
       "    .dataframe tbody tr th:only-of-type {\n",
       "        vertical-align: middle;\n",
       "    }\n",
       "\n",
       "    .dataframe tbody tr th {\n",
       "        vertical-align: top;\n",
       "    }\n",
       "\n",
       "    .dataframe thead th {\n",
       "        text-align: right;\n",
       "    }\n",
       "</style>\n",
       "<table border=\"1\" class=\"dataframe\">\n",
       "  <thead>\n",
       "    <tr style=\"text-align: right;\">\n",
       "      <th></th>\n",
       "      <th>Unnamed: 0</th>\n",
       "      <th>id</th>\n",
       "      <th>key</th>\n",
       "      <th>path_best</th>\n",
       "      <th>deployment.key</th>\n",
       "      <th>deployment.campaign.key</th>\n",
       "      <th>pose.lon</th>\n",
       "      <th>pose.lat</th>\n",
       "      <th>pose.dep</th>\n",
       "      <th>pose.alt</th>\n",
       "      <th>pose.timestamp</th>\n",
       "    </tr>\n",
       "  </thead>\n",
       "  <tbody>\n",
       "    <tr>\n",
       "      <th>0</th>\n",
       "      <td>0</td>\n",
       "      <td>2203941</td>\n",
       "      <td>PR_20081007_230307_118_LC16</td>\n",
       "      <td>https://s3-ap-southeast-2.amazonaws.com/imos-d...</td>\n",
       "      <td>r20081007_224547_ohara_07_transect</td>\n",
       "      <td>Tasmania200810</td>\n",
       "      <td>147.974697</td>\n",
       "      <td>-43.084549</td>\n",
       "      <td>31.978271</td>\n",
       "      <td>2.235</td>\n",
       "      <td>2008-10-07 23:03:07</td>\n",
       "    </tr>\n",
       "    <tr>\n",
       "      <th>1</th>\n",
       "      <td>1</td>\n",
       "      <td>2203942</td>\n",
       "      <td>PR_20081007_230308_119_LC16</td>\n",
       "      <td>https://s3-ap-southeast-2.amazonaws.com/imos-d...</td>\n",
       "      <td>r20081007_224547_ohara_07_transect</td>\n",
       "      <td>Tasmania200810</td>\n",
       "      <td>147.974697</td>\n",
       "      <td>-43.084551</td>\n",
       "      <td>31.942675</td>\n",
       "      <td>2.268</td>\n",
       "      <td>2008-10-07 23:03:08</td>\n",
       "    </tr>\n",
       "    <tr>\n",
       "      <th>2</th>\n",
       "      <td>2</td>\n",
       "      <td>2203943</td>\n",
       "      <td>PR_20081007_230309_117_LC16</td>\n",
       "      <td>https://s3-ap-southeast-2.amazonaws.com/imos-d...</td>\n",
       "      <td>r20081007_224547_ohara_07_transect</td>\n",
       "      <td>Tasmania200810</td>\n",
       "      <td>147.974698</td>\n",
       "      <td>-43.084551</td>\n",
       "      <td>31.956715</td>\n",
       "      <td>2.190</td>\n",
       "      <td>2008-10-07 23:03:09</td>\n",
       "    </tr>\n",
       "  </tbody>\n",
       "</table>\n",
       "</div>"
      ],
      "text/plain": [
       "   Unnamed: 0       id                          key  \\\n",
       "0           0  2203941  PR_20081007_230307_118_LC16   \n",
       "1           1  2203942  PR_20081007_230308_119_LC16   \n",
       "2           2  2203943  PR_20081007_230309_117_LC16   \n",
       "\n",
       "                                           path_best  \\\n",
       "0  https://s3-ap-southeast-2.amazonaws.com/imos-d...   \n",
       "1  https://s3-ap-southeast-2.amazonaws.com/imos-d...   \n",
       "2  https://s3-ap-southeast-2.amazonaws.com/imos-d...   \n",
       "\n",
       "                       deployment.key deployment.campaign.key    pose.lon  \\\n",
       "0  r20081007_224547_ohara_07_transect          Tasmania200810  147.974697   \n",
       "1  r20081007_224547_ohara_07_transect          Tasmania200810  147.974697   \n",
       "2  r20081007_224547_ohara_07_transect          Tasmania200810  147.974698   \n",
       "\n",
       "    pose.lat   pose.dep  pose.alt       pose.timestamp  \n",
       "0 -43.084549  31.978271     2.235  2008-10-07 23:03:07  \n",
       "1 -43.084551  31.942675     2.268  2008-10-07 23:03:08  \n",
       "2 -43.084551  31.956715     2.190  2008-10-07 23:03:09  "
      ]
     },
     "execution_count": 9,
     "metadata": {},
     "output_type": "execute_result"
    }
   ],
   "source": [
    "df_urls = pd.read_csv('Tasmania_ohara_labels/Ohara_all_images_labels/collection-u1578-Ohara_transect_07_dataset-9702-1987c9e43fa3c96d4373-dataframe.csv')\n",
    "df_urls[:3]"
   ]
  },
  {
   "cell_type": "code",
   "execution_count": 10,
   "id": "7c675cb1",
   "metadata": {},
   "outputs": [
    {
     "data": {
      "text/plain": [
       "'https://s3-ap-southeast-2.amazonaws.com/imos-data/IMOS/AUV/auv_viewer_data/images/Tasmania200810/r20081007_224547_ohara_07_transect/full_res/PR_20081007_230307_118_LC16.jpg'"
      ]
     },
     "execution_count": 10,
     "metadata": {},
     "output_type": "execute_result"
    }
   ],
   "source": [
    "df_urls['path_best'][0]"
   ]
  },
  {
   "cell_type": "code",
   "execution_count": 11,
   "id": "d1bd5118",
   "metadata": {},
   "outputs": [
    {
     "data": {
      "text/plain": [
       "'PR_20081007_230307_118_LC16'"
      ]
     },
     "execution_count": 11,
     "metadata": {},
     "output_type": "execute_result"
    }
   ],
   "source": [
    "df_urls['key'][0]"
   ]
  },
  {
   "cell_type": "code",
   "execution_count": 15,
   "id": "0d7d09cf",
   "metadata": {},
   "outputs": [
    {
     "data": {
      "text/html": [
       "<div>\n",
       "<style scoped>\n",
       "    .dataframe tbody tr th:only-of-type {\n",
       "        vertical-align: middle;\n",
       "    }\n",
       "\n",
       "    .dataframe tbody tr th {\n",
       "        vertical-align: top;\n",
       "    }\n",
       "\n",
       "    .dataframe thead th {\n",
       "        text-align: right;\n",
       "    }\n",
       "</style>\n",
       "<table border=\"1\" class=\"dataframe\">\n",
       "  <thead>\n",
       "    <tr style=\"text-align: right;\">\n",
       "      <th></th>\n",
       "      <th>Unnamed: 0</th>\n",
       "      <th>id</th>\n",
       "      <th>key</th>\n",
       "      <th>path_best</th>\n",
       "      <th>deployment.key</th>\n",
       "      <th>deployment.campaign.key</th>\n",
       "      <th>pose.lon</th>\n",
       "      <th>pose.lat</th>\n",
       "      <th>pose.dep</th>\n",
       "      <th>pose.alt</th>\n",
       "      <th>pose.timestamp</th>\n",
       "    </tr>\n",
       "  </thead>\n",
       "  <tbody>\n",
       "  </tbody>\n",
       "</table>\n",
       "</div>"
      ],
      "text/plain": [
       "Empty DataFrame\n",
       "Columns: [Unnamed: 0, id, key, path_best, deployment.key, deployment.campaign.key, pose.lon, pose.lat, pose.dep, pose.alt, pose.timestamp]\n",
       "Index: []"
      ]
     },
     "execution_count": 15,
     "metadata": {},
     "output_type": "execute_result"
    }
   ],
   "source": [
    "pd.merge(df_in, df_exist, on = 'key')"
   ]
  },
  {
   "cell_type": "code",
   "execution_count": 20,
   "id": "4da48b79",
   "metadata": {},
   "outputs": [
    {
     "data": {
      "text/html": [
       "<div>\n",
       "<style scoped>\n",
       "    .dataframe tbody tr th:only-of-type {\n",
       "        vertical-align: middle;\n",
       "    }\n",
       "\n",
       "    .dataframe tbody tr th {\n",
       "        vertical-align: top;\n",
       "    }\n",
       "\n",
       "    .dataframe thead th {\n",
       "        text-align: right;\n",
       "    }\n",
       "</style>\n",
       "<table border=\"1\" class=\"dataframe\">\n",
       "  <thead>\n",
       "    <tr style=\"text-align: right;\">\n",
       "      <th></th>\n",
       "      <th>index</th>\n",
       "      <th>Unnamed: 0</th>\n",
       "      <th>id</th>\n",
       "      <th>key</th>\n",
       "      <th>path_best</th>\n",
       "      <th>deployment.key</th>\n",
       "      <th>deployment.campaign.key</th>\n",
       "      <th>pose.lon</th>\n",
       "      <th>pose.lat</th>\n",
       "      <th>pose.dep</th>\n",
       "      <th>pose.alt</th>\n",
       "      <th>pose.timestamp</th>\n",
       "    </tr>\n",
       "  </thead>\n",
       "  <tbody>\n",
       "    <tr>\n",
       "      <th>0</th>\n",
       "      <td>6139</td>\n",
       "      <td>6139</td>\n",
       "      <td>2210211</td>\n",
       "      <td>PR_20081008_004737_977_LC16</td>\n",
       "      <td>https://s3-ap-southeast-2.amazonaws.com/imos-d...</td>\n",
       "      <td>r20081007_224547_ohara_07_transect</td>\n",
       "      <td>Tasmania200810</td>\n",
       "      <td>147.991450</td>\n",
       "      <td>-43.078151</td>\n",
       "      <td>66.466946</td>\n",
       "      <td>2.04</td>\n",
       "      <td>2008-10-08 00:47:37</td>\n",
       "    </tr>\n",
       "    <tr>\n",
       "      <th>1</th>\n",
       "      <td>6140</td>\n",
       "      <td>6140</td>\n",
       "      <td>2210212</td>\n",
       "      <td>PR_20081008_004738_978_LC16</td>\n",
       "      <td>https://s3-ap-southeast-2.amazonaws.com/imos-d...</td>\n",
       "      <td>r20081007_224547_ohara_07_transect</td>\n",
       "      <td>Tasmania200810</td>\n",
       "      <td>147.991444</td>\n",
       "      <td>-43.078149</td>\n",
       "      <td>66.458645</td>\n",
       "      <td>2.00</td>\n",
       "      <td>2008-10-08 00:47:38</td>\n",
       "    </tr>\n",
       "    <tr>\n",
       "      <th>2</th>\n",
       "      <td>6141</td>\n",
       "      <td>6141</td>\n",
       "      <td>2210213</td>\n",
       "      <td>PR_20081008_004739_978_LC16</td>\n",
       "      <td>https://s3-ap-southeast-2.amazonaws.com/imos-d...</td>\n",
       "      <td>r20081007_224547_ohara_07_transect</td>\n",
       "      <td>Tasmania200810</td>\n",
       "      <td>147.991442</td>\n",
       "      <td>-43.078147</td>\n",
       "      <td>66.464300</td>\n",
       "      <td>1.96</td>\n",
       "      <td>2008-10-08 00:47:39</td>\n",
       "    </tr>\n",
       "    <tr>\n",
       "      <th>3</th>\n",
       "      <td>6142</td>\n",
       "      <td>6142</td>\n",
       "      <td>2210214</td>\n",
       "      <td>PR_20081008_004740_975_LC16</td>\n",
       "      <td>https://s3-ap-southeast-2.amazonaws.com/imos-d...</td>\n",
       "      <td>r20081007_224547_ohara_07_transect</td>\n",
       "      <td>Tasmania200810</td>\n",
       "      <td>147.991437</td>\n",
       "      <td>-43.078144</td>\n",
       "      <td>66.478516</td>\n",
       "      <td>1.99</td>\n",
       "      <td>2008-10-08 00:47:40</td>\n",
       "    </tr>\n",
       "    <tr>\n",
       "      <th>4</th>\n",
       "      <td>6143</td>\n",
       "      <td>6143</td>\n",
       "      <td>2210215</td>\n",
       "      <td>PR_20081008_004741_975_LC16</td>\n",
       "      <td>https://s3-ap-southeast-2.amazonaws.com/imos-d...</td>\n",
       "      <td>r20081007_224547_ohara_07_transect</td>\n",
       "      <td>Tasmania200810</td>\n",
       "      <td>147.991434</td>\n",
       "      <td>-43.078143</td>\n",
       "      <td>66.481395</td>\n",
       "      <td>1.99</td>\n",
       "      <td>2008-10-08 00:47:41</td>\n",
       "    </tr>\n",
       "    <tr>\n",
       "      <th>...</th>\n",
       "      <td>...</td>\n",
       "      <td>...</td>\n",
       "      <td>...</td>\n",
       "      <td>...</td>\n",
       "      <td>...</td>\n",
       "      <td>...</td>\n",
       "      <td>...</td>\n",
       "      <td>...</td>\n",
       "      <td>...</td>\n",
       "      <td>...</td>\n",
       "      <td>...</td>\n",
       "      <td>...</td>\n",
       "    </tr>\n",
       "    <tr>\n",
       "      <th>5134</th>\n",
       "      <td>11273</td>\n",
       "      <td>11273</td>\n",
       "      <td>2209727</td>\n",
       "      <td>PR_20081008_003933_912_LC16</td>\n",
       "      <td>https://s3-ap-southeast-2.amazonaws.com/imos-d...</td>\n",
       "      <td>r20081007_224547_ohara_07_transect</td>\n",
       "      <td>Tasmania200810</td>\n",
       "      <td>147.994138</td>\n",
       "      <td>-43.078671</td>\n",
       "      <td>72.823555</td>\n",
       "      <td>2.02</td>\n",
       "      <td>2008-10-08 00:39:33</td>\n",
       "    </tr>\n",
       "    <tr>\n",
       "      <th>5135</th>\n",
       "      <td>11274</td>\n",
       "      <td>11274</td>\n",
       "      <td>2209728</td>\n",
       "      <td>PR_20081008_003934_912_LC16</td>\n",
       "      <td>https://s3-ap-southeast-2.amazonaws.com/imos-d...</td>\n",
       "      <td>r20081007_224547_ohara_07_transect</td>\n",
       "      <td>Tasmania200810</td>\n",
       "      <td>147.994133</td>\n",
       "      <td>-43.078671</td>\n",
       "      <td>72.758541</td>\n",
       "      <td>1.98</td>\n",
       "      <td>2008-10-08 00:39:34</td>\n",
       "    </tr>\n",
       "    <tr>\n",
       "      <th>5136</th>\n",
       "      <td>11275</td>\n",
       "      <td>11275</td>\n",
       "      <td>2209729</td>\n",
       "      <td>PR_20081008_003935_910_LC16</td>\n",
       "      <td>https://s3-ap-southeast-2.amazonaws.com/imos-d...</td>\n",
       "      <td>r20081007_224547_ohara_07_transect</td>\n",
       "      <td>Tasmania200810</td>\n",
       "      <td>147.994127</td>\n",
       "      <td>-43.078671</td>\n",
       "      <td>72.685300</td>\n",
       "      <td>2.01</td>\n",
       "      <td>2008-10-08 00:39:35</td>\n",
       "    </tr>\n",
       "    <tr>\n",
       "      <th>5137</th>\n",
       "      <td>11276</td>\n",
       "      <td>11276</td>\n",
       "      <td>2209730</td>\n",
       "      <td>PR_20081008_003936_912_LC16</td>\n",
       "      <td>https://s3-ap-southeast-2.amazonaws.com/imos-d...</td>\n",
       "      <td>r20081007_224547_ohara_07_transect</td>\n",
       "      <td>Tasmania200810</td>\n",
       "      <td>147.994121</td>\n",
       "      <td>-43.078671</td>\n",
       "      <td>72.645459</td>\n",
       "      <td>2.01</td>\n",
       "      <td>2008-10-08 00:39:36</td>\n",
       "    </tr>\n",
       "    <tr>\n",
       "      <th>5138</th>\n",
       "      <td>11277</td>\n",
       "      <td>11277</td>\n",
       "      <td>2209731</td>\n",
       "      <td>PR_20081008_003937_908_LC16</td>\n",
       "      <td>https://s3-ap-southeast-2.amazonaws.com/imos-d...</td>\n",
       "      <td>r20081007_224547_ohara_07_transect</td>\n",
       "      <td>Tasmania200810</td>\n",
       "      <td>147.994115</td>\n",
       "      <td>-43.078671</td>\n",
       "      <td>72.628637</td>\n",
       "      <td>1.98</td>\n",
       "      <td>2008-10-08 00:39:37</td>\n",
       "    </tr>\n",
       "  </tbody>\n",
       "</table>\n",
       "<p>5139 rows × 12 columns</p>\n",
       "</div>"
      ],
      "text/plain": [
       "      index  Unnamed: 0       id                          key  \\\n",
       "0      6139        6139  2210211  PR_20081008_004737_977_LC16   \n",
       "1      6140        6140  2210212  PR_20081008_004738_978_LC16   \n",
       "2      6141        6141  2210213  PR_20081008_004739_978_LC16   \n",
       "3      6142        6142  2210214  PR_20081008_004740_975_LC16   \n",
       "4      6143        6143  2210215  PR_20081008_004741_975_LC16   \n",
       "...     ...         ...      ...                          ...   \n",
       "5134  11273       11273  2209727  PR_20081008_003933_912_LC16   \n",
       "5135  11274       11274  2209728  PR_20081008_003934_912_LC16   \n",
       "5136  11275       11275  2209729  PR_20081008_003935_910_LC16   \n",
       "5137  11276       11276  2209730  PR_20081008_003936_912_LC16   \n",
       "5138  11277       11277  2209731  PR_20081008_003937_908_LC16   \n",
       "\n",
       "                                              path_best  \\\n",
       "0     https://s3-ap-southeast-2.amazonaws.com/imos-d...   \n",
       "1     https://s3-ap-southeast-2.amazonaws.com/imos-d...   \n",
       "2     https://s3-ap-southeast-2.amazonaws.com/imos-d...   \n",
       "3     https://s3-ap-southeast-2.amazonaws.com/imos-d...   \n",
       "4     https://s3-ap-southeast-2.amazonaws.com/imos-d...   \n",
       "...                                                 ...   \n",
       "5134  https://s3-ap-southeast-2.amazonaws.com/imos-d...   \n",
       "5135  https://s3-ap-southeast-2.amazonaws.com/imos-d...   \n",
       "5136  https://s3-ap-southeast-2.amazonaws.com/imos-d...   \n",
       "5137  https://s3-ap-southeast-2.amazonaws.com/imos-d...   \n",
       "5138  https://s3-ap-southeast-2.amazonaws.com/imos-d...   \n",
       "\n",
       "                          deployment.key deployment.campaign.key    pose.lon  \\\n",
       "0     r20081007_224547_ohara_07_transect          Tasmania200810  147.991450   \n",
       "1     r20081007_224547_ohara_07_transect          Tasmania200810  147.991444   \n",
       "2     r20081007_224547_ohara_07_transect          Tasmania200810  147.991442   \n",
       "3     r20081007_224547_ohara_07_transect          Tasmania200810  147.991437   \n",
       "4     r20081007_224547_ohara_07_transect          Tasmania200810  147.991434   \n",
       "...                                  ...                     ...         ...   \n",
       "5134  r20081007_224547_ohara_07_transect          Tasmania200810  147.994138   \n",
       "5135  r20081007_224547_ohara_07_transect          Tasmania200810  147.994133   \n",
       "5136  r20081007_224547_ohara_07_transect          Tasmania200810  147.994127   \n",
       "5137  r20081007_224547_ohara_07_transect          Tasmania200810  147.994121   \n",
       "5138  r20081007_224547_ohara_07_transect          Tasmania200810  147.994115   \n",
       "\n",
       "       pose.lat   pose.dep  pose.alt       pose.timestamp  \n",
       "0    -43.078151  66.466946      2.04  2008-10-08 00:47:37  \n",
       "1    -43.078149  66.458645      2.00  2008-10-08 00:47:38  \n",
       "2    -43.078147  66.464300      1.96  2008-10-08 00:47:39  \n",
       "3    -43.078144  66.478516      1.99  2008-10-08 00:47:40  \n",
       "4    -43.078143  66.481395      1.99  2008-10-08 00:47:41  \n",
       "...         ...        ...       ...                  ...  \n",
       "5134 -43.078671  72.823555      2.02  2008-10-08 00:39:33  \n",
       "5135 -43.078671  72.758541      1.98  2008-10-08 00:39:34  \n",
       "5136 -43.078671  72.685300      2.01  2008-10-08 00:39:35  \n",
       "5137 -43.078671  72.645459      2.01  2008-10-08 00:39:36  \n",
       "5138 -43.078671  72.628637      1.98  2008-10-08 00:39:37  \n",
       "\n",
       "[5139 rows x 12 columns]"
      ]
     },
     "execution_count": 20,
     "metadata": {},
     "output_type": "execute_result"
    }
   ],
   "source": [
    "exist_images = glob.glob('Tasmania_ohara_labels/Ohara_all_images_labels/image_labels/*')\n",
    "df_exist = pd.DataFrame(exist_images, columns =['key'])\n",
    "df_exist['key'] = df_exist['key'].str.split('/').str[-1]\n",
    "#perform outer join\n",
    "outer = df_urls.merge(df_exist, how='outer', indicator=True)\n",
    "#perform anti-join\n",
    "anti_join = outer[(outer._merge=='left_only')].drop('_merge', axis=1)\n",
    "\n",
    "df_in = anti_join.reset_index()\n",
    "df_in"
   ]
  },
  {
   "cell_type": "code",
   "execution_count": 21,
   "id": "cac585e7",
   "metadata": {},
   "outputs": [
    {
     "name": "stdout",
     "output_type": "stream",
     "text": [
      "0\n",
      "0\n",
      "1\n",
      "2\n",
      "3\n",
      "4\n"
     ]
    },
    {
     "ename": "KeyboardInterrupt",
     "evalue": "",
     "output_type": "error",
     "traceback": [
      "\u001b[0;31m---------------------------------------------------------------------------\u001b[0m",
      "\u001b[0;31mKeyboardInterrupt\u001b[0m                         Traceback (most recent call last)",
      "Cell \u001b[0;32mIn[21], line 19\u001b[0m\n\u001b[1;32m     17\u001b[0m \u001b[38;5;28;01mfor\u001b[39;00m i \u001b[38;5;129;01min\u001b[39;00m \u001b[38;5;28mrange\u001b[39m(\u001b[38;5;28mlen\u001b[39m(df_in)):  \n\u001b[1;32m     18\u001b[0m     \u001b[38;5;28mprint\u001b[39m(i)\n\u001b[0;32m---> 19\u001b[0m     \u001b[43msave_image_from_url\u001b[49m\u001b[43m(\u001b[49m\u001b[43mdf_in\u001b[49m\u001b[43m,\u001b[49m\u001b[43m \u001b[49m\u001b[43mi\u001b[49m\u001b[43m)\u001b[49m\n\u001b[1;32m     20\u001b[0m     \u001b[38;5;28;01mif\u001b[39;00m i\u001b[38;5;241m%\u001b[39m\u001b[38;5;241m400\u001b[39m\u001b[38;5;241m==\u001b[39m\u001b[38;5;241m0\u001b[39m:\n\u001b[1;32m     21\u001b[0m         \u001b[38;5;28mprint\u001b[39m(i)\n",
      "Cell \u001b[0;32mIn[21], line 8\u001b[0m, in \u001b[0;36msave_image_from_url\u001b[0;34m(df, idx)\u001b[0m\n\u001b[1;32m      5\u001b[0m path \u001b[38;5;241m=\u001b[39m \u001b[38;5;124m'\u001b[39m\u001b[38;5;124mTasmania_ohara_labels/Ohara_all_images_labels/image_labels/\u001b[39m\u001b[38;5;124m'\u001b[39m\n\u001b[1;32m      6\u001b[0m file_name \u001b[38;5;241m=\u001b[39m path \u001b[38;5;241m+\u001b[39m df[\u001b[38;5;124m'\u001b[39m\u001b[38;5;124mkey\u001b[39m\u001b[38;5;124m'\u001b[39m][idx]\n\u001b[0;32m----> 8\u001b[0m res \u001b[38;5;241m=\u001b[39m \u001b[43mrequests\u001b[49m\u001b[38;5;241;43m.\u001b[39;49m\u001b[43mget\u001b[49m\u001b[43m(\u001b[49m\u001b[43murl\u001b[49m\u001b[43m,\u001b[49m\u001b[43m \u001b[49m\u001b[43mstream\u001b[49m\u001b[43m \u001b[49m\u001b[38;5;241;43m=\u001b[39;49m\u001b[43m \u001b[49m\u001b[38;5;28;43;01mTrue\u001b[39;49;00m\u001b[43m)\u001b[49m\n\u001b[1;32m     10\u001b[0m \u001b[38;5;28;01mif\u001b[39;00m res\u001b[38;5;241m.\u001b[39mstatus_code \u001b[38;5;241m==\u001b[39m \u001b[38;5;241m200\u001b[39m:\n\u001b[1;32m     11\u001b[0m     \u001b[38;5;28;01mwith\u001b[39;00m \u001b[38;5;28mopen\u001b[39m(file_name,\u001b[38;5;124m'\u001b[39m\u001b[38;5;124mwb\u001b[39m\u001b[38;5;124m'\u001b[39m) \u001b[38;5;28;01mas\u001b[39;00m f:\n",
      "File \u001b[0;32m~/miniconda3/envs/contrastive_env/lib/python3.10/site-packages/requests/api.py:73\u001b[0m, in \u001b[0;36mget\u001b[0;34m(url, params, **kwargs)\u001b[0m\n\u001b[1;32m     62\u001b[0m \u001b[38;5;28;01mdef\u001b[39;00m \u001b[38;5;21mget\u001b[39m(url, params\u001b[38;5;241m=\u001b[39m\u001b[38;5;28;01mNone\u001b[39;00m, \u001b[38;5;241m*\u001b[39m\u001b[38;5;241m*\u001b[39mkwargs):\n\u001b[1;32m     63\u001b[0m     \u001b[38;5;124mr\u001b[39m\u001b[38;5;124;03m\"\"\"Sends a GET request.\u001b[39;00m\n\u001b[1;32m     64\u001b[0m \n\u001b[1;32m     65\u001b[0m \u001b[38;5;124;03m    :param url: URL for the new :class:`Request` object.\u001b[39;00m\n\u001b[0;32m   (...)\u001b[0m\n\u001b[1;32m     70\u001b[0m \u001b[38;5;124;03m    :rtype: requests.Response\u001b[39;00m\n\u001b[1;32m     71\u001b[0m \u001b[38;5;124;03m    \"\"\"\u001b[39;00m\n\u001b[0;32m---> 73\u001b[0m     \u001b[38;5;28;01mreturn\u001b[39;00m \u001b[43mrequest\u001b[49m\u001b[43m(\u001b[49m\u001b[38;5;124;43m\"\u001b[39;49m\u001b[38;5;124;43mget\u001b[39;49m\u001b[38;5;124;43m\"\u001b[39;49m\u001b[43m,\u001b[49m\u001b[43m \u001b[49m\u001b[43murl\u001b[49m\u001b[43m,\u001b[49m\u001b[43m \u001b[49m\u001b[43mparams\u001b[49m\u001b[38;5;241;43m=\u001b[39;49m\u001b[43mparams\u001b[49m\u001b[43m,\u001b[49m\u001b[43m \u001b[49m\u001b[38;5;241;43m*\u001b[39;49m\u001b[38;5;241;43m*\u001b[39;49m\u001b[43mkwargs\u001b[49m\u001b[43m)\u001b[49m\n",
      "File \u001b[0;32m~/miniconda3/envs/contrastive_env/lib/python3.10/site-packages/requests/api.py:59\u001b[0m, in \u001b[0;36mrequest\u001b[0;34m(method, url, **kwargs)\u001b[0m\n\u001b[1;32m     55\u001b[0m \u001b[38;5;66;03m# By using the 'with' statement we are sure the session is closed, thus we\u001b[39;00m\n\u001b[1;32m     56\u001b[0m \u001b[38;5;66;03m# avoid leaving sockets open which can trigger a ResourceWarning in some\u001b[39;00m\n\u001b[1;32m     57\u001b[0m \u001b[38;5;66;03m# cases, and look like a memory leak in others.\u001b[39;00m\n\u001b[1;32m     58\u001b[0m \u001b[38;5;28;01mwith\u001b[39;00m sessions\u001b[38;5;241m.\u001b[39mSession() \u001b[38;5;28;01mas\u001b[39;00m session:\n\u001b[0;32m---> 59\u001b[0m     \u001b[38;5;28;01mreturn\u001b[39;00m \u001b[43msession\u001b[49m\u001b[38;5;241;43m.\u001b[39;49m\u001b[43mrequest\u001b[49m\u001b[43m(\u001b[49m\u001b[43mmethod\u001b[49m\u001b[38;5;241;43m=\u001b[39;49m\u001b[43mmethod\u001b[49m\u001b[43m,\u001b[49m\u001b[43m \u001b[49m\u001b[43murl\u001b[49m\u001b[38;5;241;43m=\u001b[39;49m\u001b[43murl\u001b[49m\u001b[43m,\u001b[49m\u001b[43m \u001b[49m\u001b[38;5;241;43m*\u001b[39;49m\u001b[38;5;241;43m*\u001b[39;49m\u001b[43mkwargs\u001b[49m\u001b[43m)\u001b[49m\n",
      "File \u001b[0;32m~/miniconda3/envs/contrastive_env/lib/python3.10/site-packages/requests/sessions.py:587\u001b[0m, in \u001b[0;36mSession.request\u001b[0;34m(self, method, url, params, data, headers, cookies, files, auth, timeout, allow_redirects, proxies, hooks, stream, verify, cert, json)\u001b[0m\n\u001b[1;32m    582\u001b[0m send_kwargs \u001b[38;5;241m=\u001b[39m {\n\u001b[1;32m    583\u001b[0m     \u001b[38;5;124m\"\u001b[39m\u001b[38;5;124mtimeout\u001b[39m\u001b[38;5;124m\"\u001b[39m: timeout,\n\u001b[1;32m    584\u001b[0m     \u001b[38;5;124m\"\u001b[39m\u001b[38;5;124mallow_redirects\u001b[39m\u001b[38;5;124m\"\u001b[39m: allow_redirects,\n\u001b[1;32m    585\u001b[0m }\n\u001b[1;32m    586\u001b[0m send_kwargs\u001b[38;5;241m.\u001b[39mupdate(settings)\n\u001b[0;32m--> 587\u001b[0m resp \u001b[38;5;241m=\u001b[39m \u001b[38;5;28;43mself\u001b[39;49m\u001b[38;5;241;43m.\u001b[39;49m\u001b[43msend\u001b[49m\u001b[43m(\u001b[49m\u001b[43mprep\u001b[49m\u001b[43m,\u001b[49m\u001b[43m \u001b[49m\u001b[38;5;241;43m*\u001b[39;49m\u001b[38;5;241;43m*\u001b[39;49m\u001b[43msend_kwargs\u001b[49m\u001b[43m)\u001b[49m\n\u001b[1;32m    589\u001b[0m \u001b[38;5;28;01mreturn\u001b[39;00m resp\n",
      "File \u001b[0;32m~/miniconda3/envs/contrastive_env/lib/python3.10/site-packages/requests/sessions.py:701\u001b[0m, in \u001b[0;36mSession.send\u001b[0;34m(self, request, **kwargs)\u001b[0m\n\u001b[1;32m    698\u001b[0m start \u001b[38;5;241m=\u001b[39m preferred_clock()\n\u001b[1;32m    700\u001b[0m \u001b[38;5;66;03m# Send the request\u001b[39;00m\n\u001b[0;32m--> 701\u001b[0m r \u001b[38;5;241m=\u001b[39m \u001b[43madapter\u001b[49m\u001b[38;5;241;43m.\u001b[39;49m\u001b[43msend\u001b[49m\u001b[43m(\u001b[49m\u001b[43mrequest\u001b[49m\u001b[43m,\u001b[49m\u001b[43m \u001b[49m\u001b[38;5;241;43m*\u001b[39;49m\u001b[38;5;241;43m*\u001b[39;49m\u001b[43mkwargs\u001b[49m\u001b[43m)\u001b[49m\n\u001b[1;32m    703\u001b[0m \u001b[38;5;66;03m# Total elapsed time of the request (approximately)\u001b[39;00m\n\u001b[1;32m    704\u001b[0m elapsed \u001b[38;5;241m=\u001b[39m preferred_clock() \u001b[38;5;241m-\u001b[39m start\n",
      "File \u001b[0;32m~/miniconda3/envs/contrastive_env/lib/python3.10/site-packages/requests/adapters.py:489\u001b[0m, in \u001b[0;36mHTTPAdapter.send\u001b[0;34m(self, request, stream, timeout, verify, cert, proxies)\u001b[0m\n\u001b[1;32m    487\u001b[0m \u001b[38;5;28;01mtry\u001b[39;00m:\n\u001b[1;32m    488\u001b[0m     \u001b[38;5;28;01mif\u001b[39;00m \u001b[38;5;129;01mnot\u001b[39;00m chunked:\n\u001b[0;32m--> 489\u001b[0m         resp \u001b[38;5;241m=\u001b[39m \u001b[43mconn\u001b[49m\u001b[38;5;241;43m.\u001b[39;49m\u001b[43murlopen\u001b[49m\u001b[43m(\u001b[49m\n\u001b[1;32m    490\u001b[0m \u001b[43m            \u001b[49m\u001b[43mmethod\u001b[49m\u001b[38;5;241;43m=\u001b[39;49m\u001b[43mrequest\u001b[49m\u001b[38;5;241;43m.\u001b[39;49m\u001b[43mmethod\u001b[49m\u001b[43m,\u001b[49m\n\u001b[1;32m    491\u001b[0m \u001b[43m            \u001b[49m\u001b[43murl\u001b[49m\u001b[38;5;241;43m=\u001b[39;49m\u001b[43murl\u001b[49m\u001b[43m,\u001b[49m\n\u001b[1;32m    492\u001b[0m \u001b[43m            \u001b[49m\u001b[43mbody\u001b[49m\u001b[38;5;241;43m=\u001b[39;49m\u001b[43mrequest\u001b[49m\u001b[38;5;241;43m.\u001b[39;49m\u001b[43mbody\u001b[49m\u001b[43m,\u001b[49m\n\u001b[1;32m    493\u001b[0m \u001b[43m            \u001b[49m\u001b[43mheaders\u001b[49m\u001b[38;5;241;43m=\u001b[39;49m\u001b[43mrequest\u001b[49m\u001b[38;5;241;43m.\u001b[39;49m\u001b[43mheaders\u001b[49m\u001b[43m,\u001b[49m\n\u001b[1;32m    494\u001b[0m \u001b[43m            \u001b[49m\u001b[43mredirect\u001b[49m\u001b[38;5;241;43m=\u001b[39;49m\u001b[38;5;28;43;01mFalse\u001b[39;49;00m\u001b[43m,\u001b[49m\n\u001b[1;32m    495\u001b[0m \u001b[43m            \u001b[49m\u001b[43massert_same_host\u001b[49m\u001b[38;5;241;43m=\u001b[39;49m\u001b[38;5;28;43;01mFalse\u001b[39;49;00m\u001b[43m,\u001b[49m\n\u001b[1;32m    496\u001b[0m \u001b[43m            \u001b[49m\u001b[43mpreload_content\u001b[49m\u001b[38;5;241;43m=\u001b[39;49m\u001b[38;5;28;43;01mFalse\u001b[39;49;00m\u001b[43m,\u001b[49m\n\u001b[1;32m    497\u001b[0m \u001b[43m            \u001b[49m\u001b[43mdecode_content\u001b[49m\u001b[38;5;241;43m=\u001b[39;49m\u001b[38;5;28;43;01mFalse\u001b[39;49;00m\u001b[43m,\u001b[49m\n\u001b[1;32m    498\u001b[0m \u001b[43m            \u001b[49m\u001b[43mretries\u001b[49m\u001b[38;5;241;43m=\u001b[39;49m\u001b[38;5;28;43mself\u001b[39;49m\u001b[38;5;241;43m.\u001b[39;49m\u001b[43mmax_retries\u001b[49m\u001b[43m,\u001b[49m\n\u001b[1;32m    499\u001b[0m \u001b[43m            \u001b[49m\u001b[43mtimeout\u001b[49m\u001b[38;5;241;43m=\u001b[39;49m\u001b[43mtimeout\u001b[49m\u001b[43m,\u001b[49m\n\u001b[1;32m    500\u001b[0m \u001b[43m        \u001b[49m\u001b[43m)\u001b[49m\n\u001b[1;32m    502\u001b[0m     \u001b[38;5;66;03m# Send the request.\u001b[39;00m\n\u001b[1;32m    503\u001b[0m     \u001b[38;5;28;01melse\u001b[39;00m:\n\u001b[1;32m    504\u001b[0m         \u001b[38;5;28;01mif\u001b[39;00m \u001b[38;5;28mhasattr\u001b[39m(conn, \u001b[38;5;124m\"\u001b[39m\u001b[38;5;124mproxy_pool\u001b[39m\u001b[38;5;124m\"\u001b[39m):\n",
      "File \u001b[0;32m~/miniconda3/envs/contrastive_env/lib/python3.10/site-packages/urllib3/connectionpool.py:703\u001b[0m, in \u001b[0;36mHTTPConnectionPool.urlopen\u001b[0;34m(self, method, url, body, headers, retries, redirect, assert_same_host, timeout, pool_timeout, release_conn, chunked, body_pos, **response_kw)\u001b[0m\n\u001b[1;32m    700\u001b[0m     \u001b[38;5;28mself\u001b[39m\u001b[38;5;241m.\u001b[39m_prepare_proxy(conn)\n\u001b[1;32m    702\u001b[0m \u001b[38;5;66;03m# Make the request on the httplib connection object.\u001b[39;00m\n\u001b[0;32m--> 703\u001b[0m httplib_response \u001b[38;5;241m=\u001b[39m \u001b[38;5;28;43mself\u001b[39;49m\u001b[38;5;241;43m.\u001b[39;49m\u001b[43m_make_request\u001b[49m\u001b[43m(\u001b[49m\n\u001b[1;32m    704\u001b[0m \u001b[43m    \u001b[49m\u001b[43mconn\u001b[49m\u001b[43m,\u001b[49m\n\u001b[1;32m    705\u001b[0m \u001b[43m    \u001b[49m\u001b[43mmethod\u001b[49m\u001b[43m,\u001b[49m\n\u001b[1;32m    706\u001b[0m \u001b[43m    \u001b[49m\u001b[43murl\u001b[49m\u001b[43m,\u001b[49m\n\u001b[1;32m    707\u001b[0m \u001b[43m    \u001b[49m\u001b[43mtimeout\u001b[49m\u001b[38;5;241;43m=\u001b[39;49m\u001b[43mtimeout_obj\u001b[49m\u001b[43m,\u001b[49m\n\u001b[1;32m    708\u001b[0m \u001b[43m    \u001b[49m\u001b[43mbody\u001b[49m\u001b[38;5;241;43m=\u001b[39;49m\u001b[43mbody\u001b[49m\u001b[43m,\u001b[49m\n\u001b[1;32m    709\u001b[0m \u001b[43m    \u001b[49m\u001b[43mheaders\u001b[49m\u001b[38;5;241;43m=\u001b[39;49m\u001b[43mheaders\u001b[49m\u001b[43m,\u001b[49m\n\u001b[1;32m    710\u001b[0m \u001b[43m    \u001b[49m\u001b[43mchunked\u001b[49m\u001b[38;5;241;43m=\u001b[39;49m\u001b[43mchunked\u001b[49m\u001b[43m,\u001b[49m\n\u001b[1;32m    711\u001b[0m \u001b[43m\u001b[49m\u001b[43m)\u001b[49m\n\u001b[1;32m    713\u001b[0m \u001b[38;5;66;03m# If we're going to release the connection in ``finally:``, then\u001b[39;00m\n\u001b[1;32m    714\u001b[0m \u001b[38;5;66;03m# the response doesn't need to know about the connection. Otherwise\u001b[39;00m\n\u001b[1;32m    715\u001b[0m \u001b[38;5;66;03m# it will also try to release it and we'll have a double-release\u001b[39;00m\n\u001b[1;32m    716\u001b[0m \u001b[38;5;66;03m# mess.\u001b[39;00m\n\u001b[1;32m    717\u001b[0m response_conn \u001b[38;5;241m=\u001b[39m conn \u001b[38;5;28;01mif\u001b[39;00m \u001b[38;5;129;01mnot\u001b[39;00m release_conn \u001b[38;5;28;01melse\u001b[39;00m \u001b[38;5;28;01mNone\u001b[39;00m\n",
      "File \u001b[0;32m~/miniconda3/envs/contrastive_env/lib/python3.10/site-packages/urllib3/connectionpool.py:449\u001b[0m, in \u001b[0;36mHTTPConnectionPool._make_request\u001b[0;34m(self, conn, method, url, timeout, chunked, **httplib_request_kw)\u001b[0m\n\u001b[1;32m    444\u001b[0m             httplib_response \u001b[38;5;241m=\u001b[39m conn\u001b[38;5;241m.\u001b[39mgetresponse()\n\u001b[1;32m    445\u001b[0m         \u001b[38;5;28;01mexcept\u001b[39;00m \u001b[38;5;167;01mBaseException\u001b[39;00m \u001b[38;5;28;01mas\u001b[39;00m e:\n\u001b[1;32m    446\u001b[0m             \u001b[38;5;66;03m# Remove the TypeError from the exception chain in\u001b[39;00m\n\u001b[1;32m    447\u001b[0m             \u001b[38;5;66;03m# Python 3 (including for exceptions like SystemExit).\u001b[39;00m\n\u001b[1;32m    448\u001b[0m             \u001b[38;5;66;03m# Otherwise it looks like a bug in the code.\u001b[39;00m\n\u001b[0;32m--> 449\u001b[0m             \u001b[43msix\u001b[49m\u001b[38;5;241;43m.\u001b[39;49m\u001b[43mraise_from\u001b[49m\u001b[43m(\u001b[49m\u001b[43me\u001b[49m\u001b[43m,\u001b[49m\u001b[43m \u001b[49m\u001b[38;5;28;43;01mNone\u001b[39;49;00m\u001b[43m)\u001b[49m\n\u001b[1;32m    450\u001b[0m \u001b[38;5;28;01mexcept\u001b[39;00m (SocketTimeout, BaseSSLError, SocketError) \u001b[38;5;28;01mas\u001b[39;00m e:\n\u001b[1;32m    451\u001b[0m     \u001b[38;5;28mself\u001b[39m\u001b[38;5;241m.\u001b[39m_raise_timeout(err\u001b[38;5;241m=\u001b[39me, url\u001b[38;5;241m=\u001b[39murl, timeout_value\u001b[38;5;241m=\u001b[39mread_timeout)\n",
      "File \u001b[0;32m<string>:3\u001b[0m, in \u001b[0;36mraise_from\u001b[0;34m(value, from_value)\u001b[0m\n",
      "File \u001b[0;32m~/miniconda3/envs/contrastive_env/lib/python3.10/site-packages/urllib3/connectionpool.py:444\u001b[0m, in \u001b[0;36mHTTPConnectionPool._make_request\u001b[0;34m(self, conn, method, url, timeout, chunked, **httplib_request_kw)\u001b[0m\n\u001b[1;32m    441\u001b[0m \u001b[38;5;28;01mexcept\u001b[39;00m \u001b[38;5;167;01mTypeError\u001b[39;00m:\n\u001b[1;32m    442\u001b[0m     \u001b[38;5;66;03m# Python 3\u001b[39;00m\n\u001b[1;32m    443\u001b[0m     \u001b[38;5;28;01mtry\u001b[39;00m:\n\u001b[0;32m--> 444\u001b[0m         httplib_response \u001b[38;5;241m=\u001b[39m \u001b[43mconn\u001b[49m\u001b[38;5;241;43m.\u001b[39;49m\u001b[43mgetresponse\u001b[49m\u001b[43m(\u001b[49m\u001b[43m)\u001b[49m\n\u001b[1;32m    445\u001b[0m     \u001b[38;5;28;01mexcept\u001b[39;00m \u001b[38;5;167;01mBaseException\u001b[39;00m \u001b[38;5;28;01mas\u001b[39;00m e:\n\u001b[1;32m    446\u001b[0m         \u001b[38;5;66;03m# Remove the TypeError from the exception chain in\u001b[39;00m\n\u001b[1;32m    447\u001b[0m         \u001b[38;5;66;03m# Python 3 (including for exceptions like SystemExit).\u001b[39;00m\n\u001b[1;32m    448\u001b[0m         \u001b[38;5;66;03m# Otherwise it looks like a bug in the code.\u001b[39;00m\n\u001b[1;32m    449\u001b[0m         six\u001b[38;5;241m.\u001b[39mraise_from(e, \u001b[38;5;28;01mNone\u001b[39;00m)\n",
      "File \u001b[0;32m~/miniconda3/envs/contrastive_env/lib/python3.10/http/client.py:1374\u001b[0m, in \u001b[0;36mHTTPConnection.getresponse\u001b[0;34m(self)\u001b[0m\n\u001b[1;32m   1372\u001b[0m \u001b[38;5;28;01mtry\u001b[39;00m:\n\u001b[1;32m   1373\u001b[0m     \u001b[38;5;28;01mtry\u001b[39;00m:\n\u001b[0;32m-> 1374\u001b[0m         \u001b[43mresponse\u001b[49m\u001b[38;5;241;43m.\u001b[39;49m\u001b[43mbegin\u001b[49m\u001b[43m(\u001b[49m\u001b[43m)\u001b[49m\n\u001b[1;32m   1375\u001b[0m     \u001b[38;5;28;01mexcept\u001b[39;00m \u001b[38;5;167;01mConnectionError\u001b[39;00m:\n\u001b[1;32m   1376\u001b[0m         \u001b[38;5;28mself\u001b[39m\u001b[38;5;241m.\u001b[39mclose()\n",
      "File \u001b[0;32m~/miniconda3/envs/contrastive_env/lib/python3.10/http/client.py:318\u001b[0m, in \u001b[0;36mHTTPResponse.begin\u001b[0;34m(self)\u001b[0m\n\u001b[1;32m    316\u001b[0m \u001b[38;5;66;03m# read until we get a non-100 response\u001b[39;00m\n\u001b[1;32m    317\u001b[0m \u001b[38;5;28;01mwhile\u001b[39;00m \u001b[38;5;28;01mTrue\u001b[39;00m:\n\u001b[0;32m--> 318\u001b[0m     version, status, reason \u001b[38;5;241m=\u001b[39m \u001b[38;5;28;43mself\u001b[39;49m\u001b[38;5;241;43m.\u001b[39;49m\u001b[43m_read_status\u001b[49m\u001b[43m(\u001b[49m\u001b[43m)\u001b[49m\n\u001b[1;32m    319\u001b[0m     \u001b[38;5;28;01mif\u001b[39;00m status \u001b[38;5;241m!=\u001b[39m CONTINUE:\n\u001b[1;32m    320\u001b[0m         \u001b[38;5;28;01mbreak\u001b[39;00m\n",
      "File \u001b[0;32m~/miniconda3/envs/contrastive_env/lib/python3.10/http/client.py:279\u001b[0m, in \u001b[0;36mHTTPResponse._read_status\u001b[0;34m(self)\u001b[0m\n\u001b[1;32m    278\u001b[0m \u001b[38;5;28;01mdef\u001b[39;00m \u001b[38;5;21m_read_status\u001b[39m(\u001b[38;5;28mself\u001b[39m):\n\u001b[0;32m--> 279\u001b[0m     line \u001b[38;5;241m=\u001b[39m \u001b[38;5;28mstr\u001b[39m(\u001b[38;5;28;43mself\u001b[39;49m\u001b[38;5;241;43m.\u001b[39;49m\u001b[43mfp\u001b[49m\u001b[38;5;241;43m.\u001b[39;49m\u001b[43mreadline\u001b[49m\u001b[43m(\u001b[49m\u001b[43m_MAXLINE\u001b[49m\u001b[43m \u001b[49m\u001b[38;5;241;43m+\u001b[39;49m\u001b[43m \u001b[49m\u001b[38;5;241;43m1\u001b[39;49m\u001b[43m)\u001b[49m, \u001b[38;5;124m\"\u001b[39m\u001b[38;5;124miso-8859-1\u001b[39m\u001b[38;5;124m\"\u001b[39m)\n\u001b[1;32m    280\u001b[0m     \u001b[38;5;28;01mif\u001b[39;00m \u001b[38;5;28mlen\u001b[39m(line) \u001b[38;5;241m>\u001b[39m _MAXLINE:\n\u001b[1;32m    281\u001b[0m         \u001b[38;5;28;01mraise\u001b[39;00m LineTooLong(\u001b[38;5;124m\"\u001b[39m\u001b[38;5;124mstatus line\u001b[39m\u001b[38;5;124m\"\u001b[39m)\n",
      "File \u001b[0;32m~/miniconda3/envs/contrastive_env/lib/python3.10/socket.py:705\u001b[0m, in \u001b[0;36mSocketIO.readinto\u001b[0;34m(self, b)\u001b[0m\n\u001b[1;32m    703\u001b[0m \u001b[38;5;28;01mwhile\u001b[39;00m \u001b[38;5;28;01mTrue\u001b[39;00m:\n\u001b[1;32m    704\u001b[0m     \u001b[38;5;28;01mtry\u001b[39;00m:\n\u001b[0;32m--> 705\u001b[0m         \u001b[38;5;28;01mreturn\u001b[39;00m \u001b[38;5;28;43mself\u001b[39;49m\u001b[38;5;241;43m.\u001b[39;49m\u001b[43m_sock\u001b[49m\u001b[38;5;241;43m.\u001b[39;49m\u001b[43mrecv_into\u001b[49m\u001b[43m(\u001b[49m\u001b[43mb\u001b[49m\u001b[43m)\u001b[49m\n\u001b[1;32m    706\u001b[0m     \u001b[38;5;28;01mexcept\u001b[39;00m timeout:\n\u001b[1;32m    707\u001b[0m         \u001b[38;5;28mself\u001b[39m\u001b[38;5;241m.\u001b[39m_timeout_occurred \u001b[38;5;241m=\u001b[39m \u001b[38;5;28;01mTrue\u001b[39;00m\n",
      "File \u001b[0;32m~/miniconda3/envs/contrastive_env/lib/python3.10/ssl.py:1274\u001b[0m, in \u001b[0;36mSSLSocket.recv_into\u001b[0;34m(self, buffer, nbytes, flags)\u001b[0m\n\u001b[1;32m   1270\u001b[0m     \u001b[38;5;28;01mif\u001b[39;00m flags \u001b[38;5;241m!=\u001b[39m \u001b[38;5;241m0\u001b[39m:\n\u001b[1;32m   1271\u001b[0m         \u001b[38;5;28;01mraise\u001b[39;00m \u001b[38;5;167;01mValueError\u001b[39;00m(\n\u001b[1;32m   1272\u001b[0m           \u001b[38;5;124m\"\u001b[39m\u001b[38;5;124mnon-zero flags not allowed in calls to recv_into() on \u001b[39m\u001b[38;5;132;01m%s\u001b[39;00m\u001b[38;5;124m\"\u001b[39m \u001b[38;5;241m%\u001b[39m\n\u001b[1;32m   1273\u001b[0m           \u001b[38;5;28mself\u001b[39m\u001b[38;5;241m.\u001b[39m\u001b[38;5;18m__class__\u001b[39m)\n\u001b[0;32m-> 1274\u001b[0m     \u001b[38;5;28;01mreturn\u001b[39;00m \u001b[38;5;28;43mself\u001b[39;49m\u001b[38;5;241;43m.\u001b[39;49m\u001b[43mread\u001b[49m\u001b[43m(\u001b[49m\u001b[43mnbytes\u001b[49m\u001b[43m,\u001b[49m\u001b[43m \u001b[49m\u001b[43mbuffer\u001b[49m\u001b[43m)\u001b[49m\n\u001b[1;32m   1275\u001b[0m \u001b[38;5;28;01melse\u001b[39;00m:\n\u001b[1;32m   1276\u001b[0m     \u001b[38;5;28;01mreturn\u001b[39;00m \u001b[38;5;28msuper\u001b[39m()\u001b[38;5;241m.\u001b[39mrecv_into(buffer, nbytes, flags)\n",
      "File \u001b[0;32m~/miniconda3/envs/contrastive_env/lib/python3.10/ssl.py:1130\u001b[0m, in \u001b[0;36mSSLSocket.read\u001b[0;34m(self, len, buffer)\u001b[0m\n\u001b[1;32m   1128\u001b[0m \u001b[38;5;28;01mtry\u001b[39;00m:\n\u001b[1;32m   1129\u001b[0m     \u001b[38;5;28;01mif\u001b[39;00m buffer \u001b[38;5;129;01mis\u001b[39;00m \u001b[38;5;129;01mnot\u001b[39;00m \u001b[38;5;28;01mNone\u001b[39;00m:\n\u001b[0;32m-> 1130\u001b[0m         \u001b[38;5;28;01mreturn\u001b[39;00m \u001b[38;5;28;43mself\u001b[39;49m\u001b[38;5;241;43m.\u001b[39;49m\u001b[43m_sslobj\u001b[49m\u001b[38;5;241;43m.\u001b[39;49m\u001b[43mread\u001b[49m\u001b[43m(\u001b[49m\u001b[38;5;28;43mlen\u001b[39;49m\u001b[43m,\u001b[49m\u001b[43m \u001b[49m\u001b[43mbuffer\u001b[49m\u001b[43m)\u001b[49m\n\u001b[1;32m   1131\u001b[0m     \u001b[38;5;28;01melse\u001b[39;00m:\n\u001b[1;32m   1132\u001b[0m         \u001b[38;5;28;01mreturn\u001b[39;00m \u001b[38;5;28mself\u001b[39m\u001b[38;5;241m.\u001b[39m_sslobj\u001b[38;5;241m.\u001b[39mread(\u001b[38;5;28mlen\u001b[39m)\n",
      "\u001b[0;31mKeyboardInterrupt\u001b[0m: "
     ]
    }
   ],
   "source": [
    "import requests # request img from web\n",
    "import shutil # save img locally\n",
    "def save_image_from_url(df, idx):\n",
    "    url = df['path_best'][idx] \n",
    "    path = 'Tasmania_ohara_labels/Ohara_all_images_labels/image_labels/'\n",
    "    file_name = path + df['key'][idx]\n",
    "\n",
    "    res = requests.get(url, stream = True)\n",
    "\n",
    "    if res.status_code == 200:\n",
    "        with open(file_name,'wb') as f:\n",
    "            shutil.copyfileobj(res.raw, f)\n",
    "        #print('Image sucessfully Downloaded: ',file_name)\n",
    "    else:\n",
    "        print('Image Couldn\\'t be retrieved')\n",
    "        \n",
    "for i in range(len(df_in)):  \n",
    "    save_image_from_url(df_in, i)\n",
    "    if i%400==0:\n",
    "        print(i)"
   ]
  },
  {
   "cell_type": "raw",
   "id": "d1a48d0e",
   "metadata": {},
   "source": [
    "from PIL import Image\n",
    "  \n",
    "# open method used to open different extension image file\n",
    "im = Image.open(r'Tasmania_ohara_labels/Ohara_all_images_labels/image_labels/PR_20081007_230307_118_LC16')\n",
    "# This method will show image in any image viewer \n",
    "im"
   ]
  },
  {
   "cell_type": "code",
   "execution_count": null,
   "id": "6614bf6e",
   "metadata": {},
   "outputs": [],
   "source": []
  }
 ],
 "metadata": {
  "kernelspec": {
   "display_name": "Python 3 (ipykernel)",
   "language": "python",
   "name": "python3"
  },
  "language_info": {
   "codemirror_mode": {
    "name": "ipython",
    "version": 3
   },
   "file_extension": ".py",
   "mimetype": "text/x-python",
   "name": "python",
   "nbconvert_exporter": "python",
   "pygments_lexer": "ipython3",
   "version": "3.10.9"
  }
 },
 "nbformat": 4,
 "nbformat_minor": 5
}
